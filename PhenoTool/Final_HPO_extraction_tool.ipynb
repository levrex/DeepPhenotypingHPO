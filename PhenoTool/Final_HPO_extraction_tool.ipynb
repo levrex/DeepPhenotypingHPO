{
 "cells": [
  {
   "cell_type": "code",
   "execution_count": 3,
   "metadata": {},
   "outputs": [
    {
     "name": "stdout",
     "output_type": "stream",
     "text": [
      "C:\\Users\\levrex\\Desktop\\DeepPhenotypingHPO\\PhenoTool\n",
      "C:\\Users\\levrex\\Anaconda3\\envs\\my_env\\lib\\site-packages\\clinphen_src\\data\\hpo_synonyms.txt\n"
     ]
    },
    {
     "name": "stderr",
     "output_type": "stream",
     "text": [
      "2021-01-04 12:02:05,822 - txt2hpo - INFO - txt2hpo 0.2.2\n",
      "2021-01-04 12:02:05,886 - txt2hpo - INFO - Using configuration file: \\Users\\levrex\\.txt2hpo\\txt2hpo.ini\n",
      "2021-01-04 12:02:06,247 - phenopy - INFO - checking if config file exists: \\Users\\levrex\\.phenopy\n",
      "2021-01-04 12:02:06,258 - phenopy - INFO - phenopy 0.4.2\n",
      "2021-01-04 12:02:06,282 - phenopy - INFO - Using configuration file: \\Users\\levrex\\.phenopy\\phenopy.ini\n",
      "2021-01-04 12:02:29,928 - txt2hpo - INFO - Using scispaCy language model\n",
      "\n"
     ]
    }
   ],
   "source": [
    "import sys\n",
    "sys.path.append('../')\n",
    "sys.path.append('../src/')\n",
    "\n",
    "import pandas as pd\n",
    "import numpy as np\n",
    "import os\n",
    "import DeepPhenotyping_functions as func"
   ]
  },
  {
   "cell_type": "markdown",
   "metadata": {},
   "source": [
    "## Step 1 - Extract Case study"
   ]
  },
  {
   "cell_type": "code",
   "execution_count": 4,
   "metadata": {},
   "outputs": [],
   "source": [
    "d_screen = { \n",
    "'Medical Mycology Case Reports': 'https://www-sciencedirect-com.proxy.library.uu.nl/science/article/pii/S2211753920300397', # science direct\n",
    "'Epilepsy and Behavior Case Reports': 'https://www-sciencedirect-com.proxy.library.uu.nl/science/article/pii/S2213323218301154',\n",
    "'Case Reports in Dermatology': 'https://www-karger-com.proxy.library.uu.nl/Article/FullText/509994',\n",
    "'Journal of Dermatological Case Reports': 'https://www.ncbi.nlm.nih.gov/pmc/articles/PMC5439688/', # indexed NCBI\n",
    "'Case Reports in Neurology': 'https://www-karger-com.proxy.library.uu.nl/Article/FullText/499701',\n",
    "'Respiratory Medicine Case Reports': 'https://www-sciencedirect-com.proxy.library.uu.nl/science/article/pii/S2213007120304482', # indexed science direct\n",
    "'Case Reports in Oncology': 'https://www-karger-com.proxy.library.uu.nl/Article/FullText/487430',\n",
    "'American Journal of Case Reports' : 'https://www.amjcaserep.com/download/index/idArt/928242',\n",
    "'Journal of Medical Case Reports' : 'https://jmedicalcasereports.biomedcentral.com/articles/10.1186/s13256-020-02551-1',\n",
    "'Journal of Radiology Case Reports': 'https://pubmed.ncbi.nlm.nih.gov/31558966/' # indexed in pubmed\n",
    "}\n",
    "\n",
    "\n",
    "d_publications = {\n",
    "'Shimojima  et al 2016' : 'https://www.sciencedirect.com/science/article/abs/pii/S1769721216303147?via%3Dihub',\n",
    "'Cuvertino et al., 2017' :  'https://www.cell.com/ajhg/fulltext/S0002-9297(17)30459-7', # 'https://www.sciencedirect.com/science/article/pii/S0002929717304597',\n",
    "'Baumann et al 2020' : 'https://onlinelibrary.wiley.com/doi/full/10.1002/humu.23970',\n",
    "'Palumbo et al, 2018' : 'https://www.sciencedirect.com/science/article/abs/pii/S1769721217307140?via%3Dihub',\n",
    "'Riviere et al, 2012' : 'https://www.nature.com/articles/ng.1091',\n",
    "'Verloes et al, 2015.' : 'https://www.nature.com/articles/ejhg201495',\n",
    "'Procaccio et al, 2006' : 'https://www.cell.com/ajhg/fulltext/S0002-9297(07)63917-2',\n",
    "'Conboy et al, 2017' : 'https://www.hindawi.com/journals/crig/2017/9184265/',\n",
    "'Latham et al, 2018' : 'https://doi.org/10.1038/s41467-018-06713-0',\n",
    "'Cai et al, 2017' : 'https://doi.org/10.1016/j.jid.2017.03.017',\n",
    "'Nunoi et al, 1999' : 'https://www.ncbi.nlm.nih.gov/pmc/articles/PMC17578/', \n",
    "'Ramer et al 1995' : '',\n",
    "'Bitton et al, 2012' : '',\n",
    "'Donato et al, 2016' : '',\n",
    "'Johnston, 2013' : '',\n",
    "'Sandestig et al, 2018' : '',\n",
    "'Lee et al, 2018' : 'https://www.spandidos-publications.com/10.3892/mmr.2018.8837',\n",
    "'Zhu et al, 2003' : '',\n",
    "'Liu et al, 2008' : '',\n",
    "'Yuan et al, 2016' : '',\n",
    "'Miyajima et al, 2020' : 'https://www.nature.com/articles/s41598-020-63690-5', # in text - entity linking\n",
    "'Miyagawa et al, 2015' : 'https://doi.org/10.1177/0003489415575057',  # paywall\n",
    "'Rendtorff et al, 2006' : 'https://www.nature.com/articles/5201670',\n",
    "'Rainger et al, 2017' : 'https://onlinelibrary.wiley.com/doi/full/10.1002/humu.23246',\n",
    "'Kemerley et al, 2017' : 'https://pubmed.ncbi.nlm.nih.gov/27096712/', # paywall\n",
    "'Chacon-Camachol, O.F. 2020' : 'https://www.sciencedirect.com/science/article/abs/pii/S1769721219304537?via%3Dihub',\n",
    "'Park et al, 2013' : 'https://bmcgenomics.biomedcentral.com/articles/10.1186/1471-2164-14-191',\n",
    "'van Ewijk et al, 2003' : '',\n",
    "'de Heer et al, 2009' : 'https://journals.sagepub.com/doi/10.1177/000348940911800511',\n",
    "'Morin et al, 2009' : '',\n",
    "'Baek et al, 2012' : 'https://ojrd.biomedcentral.com/articles/10.1186/1750-1172-7-60',\n",
    "}\n",
    "\n",
    "d_IARS = {\n",
    "    'Orenstein et al, 2016' : 'https://onlinelibrary.wiley.com/doi/full/10.1111/cge.12930',\n",
    "    'Fagbemi et al, 2020' : 'https://www.wjgnet.com/1007-9327/full/v26/i15/1841.htm',\n",
    "    'Kopajtich et al, 2016' : 'https://www.sciencedirect.com/science/article/pii/S0002929716301987?via%3Dihub',\n",
    "    'Musante et al, 2017' : 'https://onlinelibrary.wiley.com/doi/full/10.1002/humu.23205'\n",
    "}\n",
    "\n",
    "\n"
   ]
  },
  {
   "cell_type": "markdown",
   "metadata": {},
   "source": [
    "## [OLD import]\n",
    "- No javascript support!"
   ]
  },
  {
   "cell_type": "code",
   "execution_count": 3,
   "metadata": {},
   "outputs": [],
   "source": [
    "import urllib.request\n",
    "import nltk\n",
    "\n",
    "\n",
    "user_agent = 'Mozilla/5.0 (Windows; U; Windows NT 5.1; en-US; rv:1.9.0.7) Gecko/2009021910 Firefox/3.0.7'\n",
    "\n",
    "#URL = d_publications['Cuvertino et al., 2017']\n",
    "\n",
    "#URL = '' # 12\n",
    "\n",
    "#cookies = {'required_cookie': required_value}\n",
    "headers={'User-Agent':user_agent,} \n",
    "cookieProcessor = urllib.request.HTTPCookieProcessor()\n",
    "opener = urllib.request.build_opener(cookieProcessor)\n",
    "\n",
    "request=urllib.request.Request(URL,None, headers) #The assembled request\n",
    "response = opener.open(request,timeout=100)\n",
    "data = response.read() # The data u need\n",
    "\n",
    "#soup = BeautifulSoup(data, \"lxml\")"
   ]
  },
  {
   "cell_type": "markdown",
   "metadata": {},
   "source": [
    "### Web scraping Case study - Javascript compatability\n",
    "- Science direct uses javascript to request the paper (we need to consider some loading time)\n",
    "- Selenium  (requires browser like Firefox or Chrome to be installed)\n",
    "- Make sure it’s in your PATH, e. g., place it in /usr/bin or /usr/local/bin.\n",
    "- Automatically gets the latest version of \n",
    "- toDo: check if cookie support actually works!!"
   ]
  },
  {
   "cell_type": "code",
   "execution_count": 98,
   "metadata": {},
   "outputs": [
    {
     "name": "stderr",
     "output_type": "stream",
     "text": [
      "[WDM] - Current google-chrome version is 87.0.4280\n",
      "[WDM] - Get LATEST driver version for 87.0.4280\n"
     ]
    },
    {
     "name": "stdout",
     "output_type": "stream",
     "text": [
      " \n"
     ]
    },
    {
     "name": "stderr",
     "output_type": "stream",
     "text": [
      "[WDM] - Driver [C:\\Users\\levrex\\.wdm\\drivers\\chromedriver\\win32\\87.0.4280.88\\chromedriver.exe] found in cache\n"
     ]
    }
   ],
   "source": [
    "URL = d_IARS['Fagbemi et al, 2020'] # d_screen['Journal of Radiology Case Reports']\n",
    "\n",
    "# With Login\n",
    "d = func.getLoginData(login_file=\"../login_details.txt\")\n",
    "#soup = func.scrapingCaseStudyLOGIN(URL, user=d['USERNAME'], pwd=d['PASSWORD'], LIBRARY='https://login.proxy.library.uu.nl/login?auth=uushibboleth&url=')\n",
    "\n",
    "# Without Login - doesnt work when case study behind paywall!\n",
    "soup = func.scrapingCaseStudy(URL)\n"
   ]
  },
  {
   "cell_type": "markdown",
   "metadata": {},
   "source": [
    "### Scraping provided HTML"
   ]
  },
  {
   "cell_type": "code",
   "execution_count": 5,
   "metadata": {},
   "outputs": [],
   "source": [
    "# Musante_2017_Wiley.html\n",
    "# Orenstein_2017_Wiley.html\n",
    "URL = d_IARS['Orenstein et al, 2016'] # Musante et al, 2017 #  Orenstein et al, 2016\n",
    "soup = func.scrapingCaseStudyHTML('results/downloaded_html/Orenstein_2017_Wiley.html')\n"
   ]
  },
  {
   "cell_type": "code",
   "execution_count": 97,
   "metadata": {},
   "outputs": [
    {
     "name": "stderr",
     "output_type": "stream",
     "text": [
      "[WDM] - Current google-chrome version is 87.0.4280\n",
      "[WDM] - Get LATEST driver version for 87.0.4280\n",
      "[WDM] - Driver [C:\\Users\\levrex\\.wdm\\drivers\\chromedriver\\win32\\87.0.4280.88\\chromedriver.exe] found in cache\n"
     ]
    },
    {
     "name": "stdout",
     "output_type": "stream",
     "text": [
      " \n"
     ]
    }
   ],
   "source": [
    "soup = func.scrapingCaseStudyLOGIN(URL, LIBRARY='https://login.proxy.library.uu.nl/login?auth=uushibboleth&url=')"
   ]
  },
  {
   "cell_type": "markdown",
   "metadata": {},
   "source": [
    "### Import Acronym list  [ NOT USED ]\n",
    "The acronyms were expanded with respect to the following dictionary: https://www.tabers.com/tabersonline/view/Tabers-Dictionary/767492/all/Medical_Abbreviations"
   ]
  },
  {
   "cell_type": "code",
   "execution_count": 67,
   "metadata": {},
   "outputs": [],
   "source": [
    "import pickle\n",
    "\n",
    "a_file = open(\"preprocessing/acronym_list.pkl\", \"rb\")\n",
    "d_acronyms = pickle.load(a_file)\n",
    "a_file.close()\n",
    "\n",
    "l_del = []\n",
    "\n",
    "## remove acronyms that only consist of a single character (too ambgious)\n",
    "for key in d_acronyms.keys():\n",
    "    if len(key) < 2:\n",
    "        l_del.append(key)\n",
    "        \n",
    "def entries_to_remove(entries, the_dict):\n",
    "    for key in entries:\n",
    "        if key in the_dict:\n",
    "            del the_dict[key]\n",
    "    return the_dict\n",
    "            \n",
    "d_acronyms = entries_to_remove(l_del, d_acronyms)"
   ]
  },
  {
   "cell_type": "markdown",
   "metadata": {},
   "source": [
    "## #1 First Product: Save raw extracted file\n",
    "\n",
    "#### Create folder structure"
   ]
  },
  {
   "cell_type": "code",
   "execution_count": 6,
   "metadata": {},
   "outputs": [],
   "source": [
    "title= soup.title.string\n",
    "title = title[:50].strip().replace(' ', '_').replace(':', '').replace(';', '')\n",
    "\n",
    "func.createFolderStructure(title)"
   ]
  },
  {
   "cell_type": "code",
   "execution_count": 7,
   "metadata": {},
   "outputs": [
    {
     "data": {
      "text/plain": [
       "'Bi‐allelic_IARS_mutations_in_a_child_with_intra‐ut'"
      ]
     },
     "execution_count": 7,
     "metadata": {},
     "output_type": "execute_result"
    }
   ],
   "source": [
    "title"
   ]
  },
  {
   "cell_type": "markdown",
   "metadata": {},
   "source": [
    "### Parse entire case study\n",
    "- first attempt at all encompassing function for step 1: __parseCaseStudy()__"
   ]
  },
  {
   "cell_type": "code",
   "execution_count": 8,
   "metadata": {},
   "outputs": [
    {
     "name": "stdout",
     "output_type": "stream",
     "text": [
      "Perserve following custom titles & headers:\n",
      "Domain: https://onlinelibrary.wiley.com/\n",
      "Special elements found: 14\n",
      "The file Table_0_0_downloadSupplement?doi=10.1111%2Fcge.12930&file=cge12930-sup-0001-FigureS1.jpg is not in a regular table format\n",
      "The file Table_0_1_downloadSupplement?doi=10.1111%2Fcge.12930&file=cge12930-sup-0002-AppendixS1.docx is not in a regular table format\n",
      "1: 29729\n",
      "2: 16296\n",
      "3: 16296\n",
      "Saving extracted files in following location:\n",
      "DeepPhenotypingHPO/PhenoTool/results/Bi‐allelic_IARS_mutations_in_a_child_with_intra‐ut/0_raw/\n"
     ]
    }
   ],
   "source": [
    "#imp.reload(func)\n",
    "d = func.getLoginData(login_file=\"../login_details.txt\")\n",
    "func.set_login(d['USERNAME'],d['PASSWORD']) # Connect to Utrecht University\n",
    "\n",
    "new_soup = func.parseCaseStudy(soup, title, URL, screenshots=False, remove_accent=True) # remove_accent = True"
   ]
  },
  {
   "cell_type": "markdown",
   "metadata": {},
   "source": [
    "### 1.4 extract text data from PDF [WIP]\n",
    "Source: https://medium.com/@umerfarooq_26378/python-for-pdf-ef0fac2808b0"
   ]
  },
  {
   "cell_type": "code",
   "execution_count": null,
   "metadata": {},
   "outputs": [],
   "source": [
    "import PyPDF2 \n",
    "# pdf file object\n",
    "# you can find find the pdf file with complete code in below\n",
    "pdfFileObj = open('results/example.pdf', 'rb')\n",
    "# pdf reader object\n",
    "pdfReader = PyPDF2.PdfFileReader(pdfFileObj)\n",
    "# number of pages in pdf\n",
    "print(pdfReader.numPages)\n",
    "# a page object\n",
    "pageObj = pdfReader.getPage(0)\n",
    "# extracting text from page.\n",
    "# this will print the text you can also save that into String\n",
    "print(pageObj.extractText())"
   ]
  },
  {
   "cell_type": "code",
   "execution_count": null,
   "metadata": {},
   "outputs": [],
   "source": [
    "import tabula\n",
    "\n",
    "# readinf the PDF file that contain Table Data\n",
    "# you can find find the pdf file with complete code in below\n",
    "# read_pdf will save the pdf table into Pandas Dataframe\n",
    "df = tabula.read_pdf(\"results/example.pdf\", pages=5)\n",
    "# in order to print first 5 lines of Table\n",
    "df.head()\n",
    "## multiple tables\n",
    "# df = tabula.read_pdf(“offense.pdf”,multiple_tables=True)"
   ]
  },
  {
   "cell_type": "markdown",
   "metadata": {},
   "source": [
    "#### Convert pdf table to excel file (csv)\n",
    "\n",
    "Todo:\n",
    "- remove \\r, \\n and \\t from column names (otherwise they are split over multiple rows)"
   ]
  },
  {
   "cell_type": "code",
   "execution_count": 169,
   "metadata": {},
   "outputs": [],
   "source": [
    "# tabula.read_pdf(\"offense.pdf\", area=(126,149,212,462), pages=1) # select AREA\n",
    "\n",
    "tabula.convert_into(\"results/example.pdf\", \"results/example_table5.csv\", output_format=\"csv\" , pages=5)"
   ]
  },
  {
   "cell_type": "markdown",
   "metadata": {},
   "source": [
    "## #2 Second Product: First screening\n",
    "\n",
    "- get first interceptions \n",
    "- Perform low resolution Clinphen to check locations of phenotypes. (Without typo correction)\n",
    "- extensive = ?? sec (>5 min)\n",
    "- quick ( without typo) 1.7 sec"
   ]
  },
  {
   "cell_type": "code",
   "execution_count": 9,
   "metadata": {},
   "outputs": [
    {
     "name": "stdout",
     "output_type": "stream",
     "text": [
      "Time elapsed on working...\n",
      "Time consumed in working:  1.6756846904754639\n"
     ]
    },
    {
     "data": {
      "text/html": [
       "<div>\n",
       "<style scoped>\n",
       "    .dataframe tbody tr th:only-of-type {\n",
       "        vertical-align: middle;\n",
       "    }\n",
       "\n",
       "    .dataframe tbody tr th {\n",
       "        vertical-align: top;\n",
       "    }\n",
       "\n",
       "    .dataframe thead th {\n",
       "        text-align: right;\n",
       "    }\n",
       "</style>\n",
       "<table border=\"1\" class=\"dataframe\">\n",
       "  <thead>\n",
       "    <tr style=\"text-align: right;\">\n",
       "      <th></th>\n",
       "      <th>HPO ID</th>\n",
       "      <th>Phenotype name</th>\n",
       "      <th>No. occurrences</th>\n",
       "      <th>Earliness (lower = earlier)</th>\n",
       "      <th>Example sentence</th>\n",
       "    </tr>\n",
       "  </thead>\n",
       "  <tbody>\n",
       "    <tr>\n",
       "      <th>1</th>\n",
       "      <td>HP:0001510</td>\n",
       "      <td>Growth delay</td>\n",
       "      <td>17</td>\n",
       "      <td>1</td>\n",
       "      <td>doi https onlinelibrary wiley com doi full 10 ...</td>\n",
       "    </tr>\n",
       "    <tr>\n",
       "      <th>2</th>\n",
       "      <td>HP:0001396</td>\n",
       "      <td>Cholestasis</td>\n",
       "      <td>13</td>\n",
       "      <td>2</td>\n",
       "      <td>our findings support the association between t...</td>\n",
       "    </tr>\n",
       "    <tr>\n",
       "      <th>3</th>\n",
       "      <td>HP:0012825</td>\n",
       "      <td>Mild</td>\n",
       "      <td>11</td>\n",
       "      <td>4</td>\n",
       "      <td>doi https onlinelibrary wiley com doi full 10 ...</td>\n",
       "    </tr>\n",
       "    <tr>\n",
       "      <th>4</th>\n",
       "      <td>HP:0001263</td>\n",
       "      <td>Global developmental delay</td>\n",
       "      <td>10</td>\n",
       "      <td>4</td>\n",
       "      <td>we expand the phenotype to include mild develo...</td>\n",
       "    </tr>\n",
       "    <tr>\n",
       "      <th>5</th>\n",
       "      <td>HP:0001410</td>\n",
       "      <td>Decreased liver function</td>\n",
       "      <td>10</td>\n",
       "      <td>51</td>\n",
       "      <td>liver dysfunction and abnormal liver pathology...</td>\n",
       "    </tr>\n",
       "  </tbody>\n",
       "</table>\n",
       "</div>"
      ],
      "text/plain": [
       "0      HPO ID              Phenotype name No. occurrences  \\\n",
       "1  HP:0001510                Growth delay              17   \n",
       "2  HP:0001396                 Cholestasis              13   \n",
       "3  HP:0012825                        Mild              11   \n",
       "4  HP:0001263  Global developmental delay              10   \n",
       "5  HP:0001410    Decreased liver function              10   \n",
       "\n",
       "0 Earliness (lower = earlier)  \\\n",
       "1                           1   \n",
       "2                           2   \n",
       "3                           4   \n",
       "4                           4   \n",
       "5                          51   \n",
       "\n",
       "0                                   Example sentence  \n",
       "1  doi https onlinelibrary wiley com doi full 10 ...  \n",
       "2  our findings support the association between t...  \n",
       "3  doi https onlinelibrary wiley com doi full 10 ...  \n",
       "4  we expand the phenotype to include mild develo...  \n",
       "5  liver dysfunction and abnormal liver pathology...  "
      ]
     },
     "execution_count": 9,
     "metadata": {},
     "output_type": "execute_result"
    }
   ],
   "source": [
    "#imp.reload(func)\n",
    "import time\n",
    "start = time.time()\n",
    "print(\"Time elapsed on working...\")\n",
    "\n",
    "items, first_intercept, lines = func.clinphen('results/%s/0_raw/Main_text_%s.html' % (title, title),'data', extensive=False)\n",
    "\n",
    "end = time.time()\n",
    "print(\"Time consumed in working: \",end - start)\n",
    "\n",
    "df_hpo = pd.DataFrame([n.split('\\t') for n in items.split('\\n')])\n",
    "df_hpo.columns = df_hpo.iloc[0]\n",
    "df_hpo = df_hpo.reindex(df_hpo.index.drop(0))\n",
    "df_hpo.to_csv('results/%s/2_phenotypes/%s.csv' % (title, title))\n",
    "df_hpo.head()"
   ]
  },
  {
   "cell_type": "markdown",
   "metadata": {},
   "source": [
    "### 2.1 Screening with Reading Frame"
   ]
  },
  {
   "cell_type": "code",
   "execution_count": 21,
   "metadata": {},
   "outputs": [],
   "source": [
    "import numpy as np\n",
    "#imp.reload(func)\n",
    "\n",
    "BIN_SIZE = 3 #10\n",
    "MIN_POWER = 7 #3\n",
    "FRAMES = 5\n",
    "parsed_doc = [item for sublist in lines for item in sublist]\n",
    "#parsed_doc = lines\n",
    "#if pheno == 'clinphen':\n",
    "#    parsed_doc = [item for sublist in lines for item in sublist] # get parsed text\n",
    "\n",
    "\n",
    "txt, d_phenotype = func.first_screening(parsed_doc, first_intercept, BIN_SIZE, MIN_POWER, FRAMES)\n",
    "\n",
    "with open(\"results/%s/1_extractions/Annotated_%s_%s.html\" % (title, 'clinphen', title), \"w\", encoding=\"utf-8\") as file:\n",
    "    file.write(txt)\n",
    "\n",
    "#with open(\"results/%s/1_extractions/Annotated_%s.html\" % (title, title), \"w\", encoding=\"utf-8\") as file:\n",
    "#    file.write(txt)\n",
    "    \n"
   ]
  },
  {
   "cell_type": "code",
   "execution_count": 15,
   "metadata": {},
   "outputs": [
    {
     "data": {
      "image/png": "[encoded data removed]",
      "text/plain": [
       "<Figure size 432x288 with 1 Axes>"
      ]
     },
     "metadata": {
      "needs_background": "light"
     },
     "output_type": "display_data"
    }
   ],
   "source": [
    "import matplotlib.pyplot as plt\n",
    "\n",
    "plt.plot( [i* BIN_SIZE for i in range(len(d_phenotype[4])) ], list(d_phenotype[4]))\n",
    "plt.ylabel('Phenotype mentions')\n",
    "plt.xlabel('Relative position in document (parsed)')\n",
    "plt.show()"
   ]
  },
  {
   "cell_type": "markdown",
   "metadata": {},
   "source": [
    "## #3 Third Product: Phenotyping"
   ]
  },
  {
   "cell_type": "markdown",
   "metadata": {},
   "source": [
    "### 3.1 Choose phenotyper:"
   ]
  },
  {
   "cell_type": "code",
   "execution_count": 114,
   "metadata": {},
   "outputs": [
    {
     "name": "stdout",
     "output_type": "stream",
     "text": [
      "clinphen\n"
     ]
    }
   ],
   "source": [
    "phenotypers = ['clinphen', 'txt2hpo', 'ncr', 'scispacy']\n",
    "\n",
    "pheno = phenotypers[0]\n",
    "print(pheno)"
   ]
  },
  {
   "cell_type": "markdown",
   "metadata": {},
   "source": [
    "### 3.2 Extensive scan Case Study"
   ]
  },
  {
   "cell_type": "code",
   "execution_count": 103,
   "metadata": {},
   "outputs": [],
   "source": [
    "#l_entities = ['V:6', 'V:7', 'V:8', 'III:4', 'III:9', 'III:10', 'III:11']\n",
    "#new_soup"
   ]
  },
  {
   "cell_type": "code",
   "execution_count": 104,
   "metadata": {},
   "outputs": [
    {
     "data": {
      "text/plain": [
       "'Refractory_very_early-onset_inflammatory_bowel_dis'"
      ]
     },
     "execution_count": 104,
     "metadata": {},
     "output_type": "execute_result"
    }
   ],
   "source": [
    "title"
   ]
  },
  {
   "cell_type": "code",
   "execution_count": 115,
   "metadata": {
    "scrolled": true
   },
   "outputs": [
    {
     "name": "stdout",
     "output_type": "stream",
     "text": [
      "Time elapsed on working...\n",
      "Iteration  0 / 133\n",
      "Iteration  10 / 133\n",
      "Iteration  20 / 133\n",
      "Iteration  30 / 133\n",
      "Iteration  40 / 133\n",
      "Iteration  50 / 133\n",
      "Iteration  60 / 133\n",
      "Iteration  70 / 133\n",
      "Iteration  80 / 133\n",
      "Iteration  90 / 133\n",
      "Iteration  100 / 133\n",
      "Iteration  110 / 133\n",
      "Iteration  120 / 133\n",
      "Iteration  130 / 133\n",
      "No patients found in text!\n",
      "No patients found in text!\n",
      "No patients found in text!\n",
      "No patients found in text!\n",
      "No patients found in text!\n",
      "No patients found in text!\n",
      "No patients found in text!\n",
      "No patients found in text!\n",
      "No patients found in text!\n",
      "No patients found in text!\n",
      "No patients found in text!\n",
      "No patients found in text!\n",
      "No patients found in text!\n",
      "No patients found in text!\n",
      "No patients found in text!\n",
      "No patients found in text!\n",
      "No patients found in text!\n",
      "No patients found in text!\n",
      "No patients found in text!\n",
      "No patients found in text!\n",
      "No patients found in text!\n",
      "No patients found in text!\n",
      "No patients found in text!\n",
      "No patients found in text!\n",
      "No patients found in text!\n",
      "No patients found in text!\n",
      "No patients found in text!\n",
      "No patients found in text!\n",
      "No patients found in text!\n",
      "No patients found in text!\n",
      "No patients found in text!\n",
      "No patients found in text!\n",
      "No patients found in text!\n",
      "No patients found in text!\n",
      "No patients found in text!\n",
      "No patients found in text!\n",
      "No patients found in text!\n",
      "No patients found in text!\n",
      "No patients found in text!\n",
      "No patients found in text!\n",
      "No patients found in text!\n",
      "No patients found in text!\n",
      "No patients found in text!\n",
      "No patients found in text!\n",
      "No patients found in text!\n",
      "No patients found in text!\n",
      "No patients found in text!\n",
      "No patients found in text!\n",
      "No patients found in text!\n",
      "No patients found in text!\n",
      "No patients found in text!\n",
      "No patients found in text!\n",
      "No patients found in text!\n",
      "No patients found in text!\n",
      "No patients found in text!\n",
      "No patients found in text!\n",
      "No patients found in text!\n",
      "No patients found in text!\n",
      "Phenotypes in main text: 58\n",
      "Iteration  0 / 29\n",
      "Iteration  10 / 29\n",
      "Iteration  20 / 29\n",
      "Screening Table File 0\n",
      "Iteration  0 / 14\n",
      "Iteration  10 / 14\n",
      "Screening Table File 1\n",
      "Iteration  0 / 5\n",
      "Screening Table File 2\n",
      "Iteration  0 / 5\n",
      "Screening Table File 3\n",
      "Iteration  0 / 16\n",
      "Iteration  10 / 16\n",
      "Screening Table File 4\n",
      "Iteration  0 / 16\n",
      "Iteration  10 / 16\n",
      "No patients found in text!\n",
      "No patients found in text!\n",
      "No patients found in text!\n",
      "No patients found in text!\n",
      "No patients found in text!\n",
      "No patients found in text!\n",
      "No patients found in text!\n",
      "No patients found in text!\n",
      "No patients found in text!\n",
      "No patients found in text!\n",
      "No patients found in text!\n",
      "No patients found in text!\n",
      "No patients found in text!\n",
      "No patients found in text!\n",
      "No patients found in text!\n",
      "No patients found in text!\n",
      "No patients found in text!\n",
      "No patients found in text!\n",
      "No patients found in text!\n",
      "No patients found in text!\n",
      "No patients found in text!\n",
      "No patients found in text!\n",
      "No patients found in text!\n",
      "No patients found in text!\n",
      "Screening Table File 5\n",
      "Iteration  0 / 15\n",
      "Iteration  10 / 15\n",
      "No patients found in text!\n",
      "No patients found in text!\n",
      "No patients found in text!\n",
      "No patients found in text!\n",
      "No patients found in text!\n",
      "No patients found in text!\n",
      "No patients found in text!\n",
      "No patients found in text!\n",
      "No patients found in text!\n",
      "No patients found in text!\n",
      "No patients found in text!\n",
      "No patients found in text!\n",
      "No patients found in text!\n",
      "No patients found in text!\n",
      "Screening Table File 6\n",
      "Iteration  0 / 15\n",
      "Iteration  10 / 15\n",
      "No patients found in text!\n",
      "No patients found in text!\n",
      "No patients found in text!\n",
      "No patients found in text!\n",
      "No patients found in text!\n",
      "No patients found in text!\n",
      "No patients found in text!\n",
      "No patients found in text!\n",
      "Screening Table File 7\n",
      "Iteration  0 / 15\n",
      "Iteration  10 / 15\n",
      "Screening Table File 8\n",
      "Iteration  0 / 15\n",
      "Iteration  10 / 15\n",
      "No patients found in text!\n",
      "No patients found in text!\n",
      "No patients found in text!\n",
      "No patients found in text!\n",
      "No patients found in text!\n",
      "No patients found in text!\n",
      "No patients found in text!\n",
      "No patients found in text!\n",
      "Screening Table File 9\n",
      "Iteration  0 / 15\n",
      "Iteration  10 / 15\n",
      "Screening Table File 10\n",
      "Iteration  0 / 15\n",
      "Iteration  10 / 15\n",
      "Screening Table File 11\n",
      "Iteration  0 / 12\n",
      "Iteration  10 / 12\n",
      "Screening Table File 12\n",
      "Iteration  0 / 16\n",
      "Iteration  10 / 16\n",
      "No patients found in text!\n",
      "No patients found in text!\n",
      "Screening Table File 13\n",
      "Iteration  0 / 16\n",
      "Iteration  10 / 16\n",
      "Screening Table File 14\n",
      "Iteration  0 / 36\n",
      "Iteration  10 / 36\n",
      "Iteration  20 / 36\n",
      "Iteration  30 / 36\n",
      "Screening Table File 15\n",
      "Iteration  0 / 27\n",
      "Iteration  10 / 27\n",
      "Iteration  20 / 27\n",
      "Screening Table File 16\n",
      "Iteration  0 / 5\n",
      "Screening Table File 17\n",
      "Iteration  0 / 5\n",
      "Screening Table File 18\n",
      "Iteration  0 / 5\n",
      "Screening Table File 19\n",
      "Iteration  0 / 28\n",
      "Iteration  10 / 28\n",
      "Iteration  20 / 28\n",
      "Screening Table File 20\n",
      "Iteration  0 / 19\n",
      "Iteration  10 / 19\n",
      "Screening Table File 21\n",
      "Iteration  0 / 5\n",
      "Process Table  0\n",
      "Scan Table (Default)\n",
      "Binary columns: []\n",
      "Process Table  1\n",
      "Scan Table (Default)\n",
      "Binary columns: ['1']\n",
      "Process Table  2\n",
      "Table 2 is not screened due to unconvenient format\n",
      "Process Table  3\n",
      "Scan Table (Default)\n",
      "Binary columns: []\n",
      "Process Table  4\n",
      "Table 4 is not screened due to unconvenient format\n",
      "Process Table  5\n",
      "Scan Table (Default)\n",
      "Binary columns: []\n",
      "Process Table  6\n",
      "Table 6 is not screened due to unconvenient format\n",
      "Process Table  7\n",
      "Scan Table (Default)\n",
      "Binary columns: []\n",
      "Process Table  8\n",
      "Table 8 is not screened due to unconvenient format\n",
      "Process Table  9\n",
      "Scan Table (Default)\n",
      "Binary columns: []\n",
      "Process Table  10\n",
      "Table 10 is not screened due to unconvenient format\n",
      "Process Table  11\n",
      "Scan Table (Default)\n",
      "Binary columns: []\n",
      "Process Table  12\n",
      "Table 12 is not screened due to unconvenient format\n",
      "Process Table  13\n",
      "Scan Table (Default)\n",
      "Binary columns: []\n",
      "Process Table  14\n",
      "Table 14 is not screened due to unconvenient format\n",
      "Process Table  15\n",
      "Scan Table (Default)\n",
      "Binary columns: []\n",
      "Process Table  16\n",
      "Table 16 is not screened due to unconvenient format\n",
      "Process Table  17\n",
      "Scan Table (Default)\n",
      "Binary columns: []\n",
      "Process Table  18\n",
      "Scan Table (Default)\n",
      "Binary columns: []\n",
      "Process Table  19\n",
      "Table 19 is not screened due to unconvenient format\n",
      "Process Table  20\n",
      "Scan Table (Default)\n",
      "Binary columns: []\n",
      "Process Table  21\n",
      "Table 21 is not screened due to unconvenient format\n",
      "Process Table  22\n",
      "Scan Table (Default)\n",
      "Binary columns: []\n",
      "Process Table  23\n",
      "Scan Table (Default)\n",
      "Binary columns: []\n",
      "Process Table  24\n",
      "Scan Table (Default)\n",
      "Binary columns: []\n",
      "Process Table  25\n",
      "Scan Table (Default)\n",
      "Binary columns: ['1']\n",
      "Process Table  26\n",
      "Scan Table (Default)\n",
      "Binary columns: ['1']\n",
      "Process Table  27\n",
      "Scan Table (Default)\n",
      "Binary columns: []\n",
      "Process Table  28\n",
      "Scan Table (Default)\n",
      "Binary columns: []\n",
      "Process Table  29\n",
      "Scan Table (Default)\n",
      "Binary columns: ['1']\n",
      "Phenotypes in captions & table: 86\n",
      "Time consumed in working:  643.2951390743256\n"
     ]
    }
   ],
   "source": [
    "import importlib as imp\n",
    "import time\n",
    "#imp.reload(func)\n",
    "\n",
    "start = time.time()\n",
    "print(\"Time elapsed on working...\")\n",
    "\n",
    "df_hpo, parsed_doc = func.phenotypeCaseStudy(new_soup, title, pheno=pheno, stringent=False) # pheno # , l_patterns=l_entities\n",
    "df_hpo.head()\n",
    "\n",
    "end = time.time()\n",
    "print(\"Time consumed in working: \",end - start)"
   ]
  },
  {
   "cell_type": "code",
   "execution_count": 118,
   "metadata": {},
   "outputs": [
    {
     "data": {
      "text/plain": [
       "'clinphen'"
      ]
     },
     "execution_count": 118,
     "metadata": {},
     "output_type": "execute_result"
    }
   ],
   "source": [
    "pheno"
   ]
  },
  {
   "cell_type": "markdown",
   "metadata": {},
   "source": [
    "## Step 4: Annotations \n",
    "1. Recognize 'patient-id' column in table\n",
    "\n",
    "\n",
    "### Create phenoprofiles based on table"
   ]
  },
  {
   "cell_type": "code",
   "execution_count": 117,
   "metadata": {
    "scrolled": false
   },
   "outputs": [
    {
     "name": "stdout",
     "output_type": "stream",
     "text": [
      "No patients found in text, thus we presume the case study concerns a single patient.\n",
      "No column seems to represent a patient identifier\n",
      "No column seems to represent a patient identifier\n",
      "No column seems to represent a patient identifier\n",
      "No column seems to represent a patient identifier\n",
      "No column seems to represent a patient identifier\n",
      "No column seems to represent a patient identifier\n",
      "No column seems to represent a patient identifier\n",
      "No column seems to represent a patient identifier\n",
      "No column seems to represent a patient identifier\n",
      "No column seems to represent a patient identifier\n",
      "No column seems to represent a patient identifier\n",
      "No column seems to represent a patient identifier\n",
      "No column seems to represent a patient identifier\n",
      "No column seems to represent a patient identifier\n",
      "No column seems to represent a patient identifier\n",
      "No column seems to represent a patient identifier\n",
      "No column seems to represent a patient identifier\n",
      "No column seems to represent a patient identifier\n",
      "No column seems to represent a patient identifier\n",
      "No column seems to represent a patient identifier\n",
      "Table {'None': ['HP:0012393', 'HP:0012393', 'HP:0012838', 'HP:0001399', 'HP:0001396', 'HP:0012838', 'HP:0001941', 'HP:0003128', 'HP:0004902', 'HP:0001298', 'HP:0001508', 'HP:0001263', 'HP:0000252', 'HP:0011451', 'HP:0001263', 'HP:0001396', 'HP:0001290', 'HP:0001319', 'HP:0001249', 'HP:0001510', 'HP:0011968', 'HP:0001824', 'HP:0001399', 'HP:0002329', 'HP:0001396', 'HP:0002014', 'HP:0025085', 'HP:0002240', 'HP:0012825', 'HP:0011010', 'HP:0002583', 'HP:0100279', 'HP:0012115', 'HP:0001510', 'HP:0001511', 'HP:0003577', 'HP:0001249', 'HP:0001252', 'HP:0001290', 'HP:0001319', 'HP:0001510', 'HP:0001396', 'HP:0001263', 'HP:0012825', 'HP:0002721']}\n",
      "dict_values([['HP:0012393', 'HP:0012393', 'HP:0012838', 'HP:0001399', 'HP:0001396', 'HP:0012838', 'HP:0001941', 'HP:0003128', 'HP:0004902', 'HP:0001298', 'HP:0001508', 'HP:0001263', 'HP:0000252', 'HP:0011451', 'HP:0001263', 'HP:0001396', 'HP:0001290', 'HP:0001319', 'HP:0001249', 'HP:0001510', 'HP:0011968', 'HP:0001824', 'HP:0001399', 'HP:0002329', 'HP:0001396', 'HP:0002014', 'HP:0025085', 'HP:0002240', 'HP:0012825', 'HP:0011010', 'HP:0002583', 'HP:0100279', 'HP:0012115', 'HP:0001510', 'HP:0001511', 'HP:0003577', 'HP:0001249', 'HP:0001252', 'HP:0001290', 'HP:0001319', 'HP:0001510', 'HP:0001396', 'HP:0001263', 'HP:0012825', 'HP:0002721']])\n"
     ]
    },
    {
     "data": {
      "text/html": [
       "<div>\n",
       "<style scoped>\n",
       "    .dataframe tbody tr th:only-of-type {\n",
       "        vertical-align: middle;\n",
       "    }\n",
       "\n",
       "    .dataframe tbody tr th {\n",
       "        vertical-align: top;\n",
       "    }\n",
       "\n",
       "    .dataframe thead th {\n",
       "        text-align: right;\n",
       "    }\n",
       "</style>\n",
       "<table border=\"1\" class=\"dataframe\">\n",
       "  <thead>\n",
       "    <tr style=\"text-align: right;\">\n",
       "      <th></th>\n",
       "      <th>HP:0001511</th>\n",
       "      <th>HP:0001319</th>\n",
       "      <th>HP:0002329</th>\n",
       "      <th>HP:0012393</th>\n",
       "      <th>HP:0011010</th>\n",
       "      <th>HP:0025085</th>\n",
       "      <th>HP:0003128</th>\n",
       "      <th>HP:0002240</th>\n",
       "      <th>HP:0001290</th>\n",
       "      <th>HP:0001263</th>\n",
       "      <th>...</th>\n",
       "      <th>HP:0012115</th>\n",
       "      <th>HP:0002583</th>\n",
       "      <th>HP:0001399</th>\n",
       "      <th>HP:0001508</th>\n",
       "      <th>HP:0002014</th>\n",
       "      <th>HP:0001249</th>\n",
       "      <th>HP:0011451</th>\n",
       "      <th>HP:0001252</th>\n",
       "      <th>HP:0001298</th>\n",
       "      <th>HP:0004902</th>\n",
       "    </tr>\n",
       "  </thead>\n",
       "  <tbody>\n",
       "    <tr>\n",
       "      <th>all</th>\n",
       "      <td>1</td>\n",
       "      <td>1</td>\n",
       "      <td>1</td>\n",
       "      <td>1</td>\n",
       "      <td>1</td>\n",
       "      <td>1</td>\n",
       "      <td>1</td>\n",
       "      <td>1</td>\n",
       "      <td>1</td>\n",
       "      <td>1</td>\n",
       "      <td>...</td>\n",
       "      <td>1</td>\n",
       "      <td>1</td>\n",
       "      <td>1</td>\n",
       "      <td>1</td>\n",
       "      <td>1</td>\n",
       "      <td>1</td>\n",
       "      <td>1</td>\n",
       "      <td>1</td>\n",
       "      <td>1</td>\n",
       "      <td>1</td>\n",
       "    </tr>\n",
       "  </tbody>\n",
       "</table>\n",
       "<p>1 rows × 31 columns</p>\n",
       "</div>"
      ],
      "text/plain": [
       "    HP:0001511 HP:0001319 HP:0002329 HP:0012393 HP:0011010 HP:0025085  \\\n",
       "all          1          1          1          1          1          1   \n",
       "\n",
       "    HP:0003128 HP:0002240 HP:0001290 HP:0001263  ... HP:0012115 HP:0002583  \\\n",
       "all          1          1          1          1  ...          1          1   \n",
       "\n",
       "    HP:0001399 HP:0001508 HP:0002014 HP:0001249 HP:0011451 HP:0001252  \\\n",
       "all          1          1          1          1          1          1   \n",
       "\n",
       "    HP:0001298 HP:0004902  \n",
       "all          1          1  \n",
       "\n",
       "[1 rows x 31 columns]"
      ]
     },
     "execution_count": 117,
     "metadata": {},
     "output_type": "execute_result"
    }
   ],
   "source": [
    "import ast\n",
    "import numpy as np\n",
    "import importlib as imp\n",
    "imp.reload(func)\n",
    "\n",
    "\n",
    "df_pheno, d_pat = annotateCaseStudy(title, pheno=pheno, entity_linking=False)\n",
    "df_pheno.head()\n"
   ]
  },
  {
   "cell_type": "markdown",
   "metadata": {},
   "source": [
    "## Generate Performance Report"
   ]
  },
  {
   "cell_type": "code",
   "execution_count": 119,
   "metadata": {},
   "outputs": [
    {
     "data": {
      "text/plain": [
       "'Refractory_very_early-onset_inflammatory_bowel_dis'"
      ]
     },
     "execution_count": 119,
     "metadata": {},
     "output_type": "execute_result"
    }
   ],
   "source": [
    "title"
   ]
  },
  {
   "cell_type": "code",
   "execution_count": 49,
   "metadata": {},
   "outputs": [],
   "source": [
    "#import sys \n",
    "\n",
    "#imp.reload(func)\n",
    "func.write_HTML_report(title, phenotyper='Scraping')"
   ]
  },
  {
   "cell_type": "markdown",
   "metadata": {},
   "source": [
    "# Validation"
   ]
  },
  {
   "cell_type": "markdown",
   "metadata": {},
   "source": [
    "### Evaluate with validation set\n",
    "#### Validation IARS"
   ]
  },
  {
   "cell_type": "code",
   "execution_count": 80,
   "metadata": {},
   "outputs": [],
   "source": [
    "d_IARS_valid = {\n",
    "    'Orenstein et al, 2016' : ['validation/021020_1757_HPODP_proj7_art93_pat68-export.html'],\n",
    "    'Fagbemi et al, 2020' : ['validation/021020_1757_HPODP_proj7_art113_pat67-export.html'], \n",
    "    'Kopajtich et al, 2016' : ['validation/021020_1758_HPODP_proj7_art92_pat69-export.html',\n",
    "        'validation/021020_1758_HPODP_proj7_art92_pat70-export.html',\n",
    "        'validation/021020_1758_HPODP_proj7_art92_pat71-export.html'],\n",
    "    'Musante et al, 2017' : ['validation/021020_1758_HPODP_proj7_art103_pat72-export.html', \n",
    "                             'validation/021020_1758_HPODP_proj7_art103_pat73-export.html', \n",
    "                             'validation/021020_1758_HPODP_proj7_art103_pat74-export.html', \n",
    "                             'validation/021020_1758_HPODP_proj7_art103_pat75-export.html'],\n",
    "}"
   ]
  },
  {
   "cell_type": "markdown",
   "metadata": {},
   "source": [
    "### Interpret validation phenotypic profiles"
   ]
  },
  {
   "cell_type": "code",
   "execution_count": 112,
   "metadata": {},
   "outputs": [
    {
     "name": "stdout",
     "output_type": "stream",
     "text": [
      "Patient  Index patient (ID: 67)  File Name validation/021020_1757_HPODP_proj7_art113_pat67-export.html\n"
     ]
    },
    {
     "data": {
      "text/html": [
       "<div>\n",
       "<style scoped>\n",
       "    .dataframe tbody tr th:only-of-type {\n",
       "        vertical-align: middle;\n",
       "    }\n",
       "\n",
       "    .dataframe tbody tr th {\n",
       "        vertical-align: top;\n",
       "    }\n",
       "\n",
       "    .dataframe thead th {\n",
       "        text-align: right;\n",
       "    }\n",
       "</style>\n",
       "<table border=\"1\" class=\"dataframe\">\n",
       "  <thead>\n",
       "    <tr style=\"text-align: right;\">\n",
       "      <th></th>\n",
       "      <th>Patient</th>\n",
       "      <th>ix</th>\n",
       "      <th>HPO-id</th>\n",
       "      <th>Description</th>\n",
       "      <th>assoc genes</th>\n",
       "    </tr>\n",
       "  </thead>\n",
       "  <tbody>\n",
       "    <tr>\n",
       "      <th>0</th>\n",
       "      <td>all</td>\n",
       "      <td>1</td>\n",
       "      <td>HP:0000152</td>\n",
       "      <td>Abnormality of head or neck</td>\n",
       "      <td>2727</td>\n",
       "    </tr>\n",
       "    <tr>\n",
       "      <th>1</th>\n",
       "      <td>all</td>\n",
       "      <td>2</td>\n",
       "      <td>HP:0000234</td>\n",
       "      <td>Abnormality of the head</td>\n",
       "      <td>2705</td>\n",
       "    </tr>\n",
       "    <tr>\n",
       "      <th>2</th>\n",
       "      <td>all</td>\n",
       "      <td>3</td>\n",
       "      <td>HP:0000929</td>\n",
       "      <td>Abnormality of the skull</td>\n",
       "      <td>1887</td>\n",
       "    </tr>\n",
       "    <tr>\n",
       "      <th>3</th>\n",
       "      <td>all</td>\n",
       "      <td>4</td>\n",
       "      <td>HP:0000240</td>\n",
       "      <td>Abnormality of skull size</td>\n",
       "      <td>1267</td>\n",
       "    </tr>\n",
       "    <tr>\n",
       "      <th>4</th>\n",
       "      <td>all</td>\n",
       "      <td>5</td>\n",
       "      <td>HP:0040195</td>\n",
       "      <td>Decreased head circumference</td>\n",
       "      <td>1026</td>\n",
       "    </tr>\n",
       "  </tbody>\n",
       "</table>\n",
       "</div>"
      ],
      "text/plain": [
       "  Patient ix      HPO-id                   Description assoc genes\n",
       "0     all  1  HP:0000152   Abnormality of head or neck        2727\n",
       "1     all  2  HP:0000234       Abnormality of the head        2705\n",
       "2     all  3  HP:0000929      Abnormality of the skull        1887\n",
       "3     all  4  HP:0000240     Abnormality of skull size        1267\n",
       "4     all  5  HP:0040195  Decreased head circumference        1026"
      ]
     },
     "execution_count": 112,
     "metadata": {},
     "output_type": "execute_result"
    }
   ],
   "source": [
    "from bs4 import BeautifulSoup\n",
    "\n",
    "case_study = 'Fagbemi et al, 2020' #  'Fagbemi et al, 2020' 'Orenstein et al, 2016' 'Musante et al, 2017' 'Kopajtich et al, 2016'\n",
    "\n",
    "columns = ['Patient', 'ix', 'HPO-id', 'Description', 'assoc genes']\n",
    "df_valid = pd.DataFrame(columns=columns)\n",
    "\n",
    "for file_name in d_IARS_valid[case_study]:\n",
    "    \n",
    "    with open(file_name, 'r') as f:\n",
    "        contents = f.read()\n",
    "\n",
    "        soup = BeautifulSoup(contents, 'lxml')\n",
    "\n",
    "        tables = soup.findAll(\"table\")\n",
    "\n",
    "        cnt = 0\n",
    "        for table in tables:\n",
    "            if table.findParent(\"table\") is None:\n",
    "                cnt += 1\n",
    "        ths = soup.find_all('td')\n",
    "        pat_id = ths[4].text\n",
    "        #pat_id = pat_id.split(' ')[0]\n",
    "        df1 = func.parseTable(table)\n",
    "        df1.columns = ['ix', 'HPO-id', 'Description', 'assoc genes']\n",
    "        #print(df1)\n",
    "        print('Patient ', pat_id, ' File Name', file_name)\n",
    "        df1['Patient'] = [pat_id for i in range(len(df1))]\n",
    "        #print(df1)\n",
    "        df_valid = pd.concat([df_valid, df1])\n",
    "\n",
    "## Ignore entity linking for now!! \n",
    "df_valid['Patient'] = df_valid['Patient'].apply(lambda x : 'all')\n",
    "df_valid.head()"
   ]
  },
  {
   "cell_type": "markdown",
   "metadata": {},
   "source": [
    "### Matching - Tables"
   ]
  },
  {
   "cell_type": "code",
   "execution_count": 120,
   "metadata": {},
   "outputs": [
    {
     "data": {
      "text/html": [
       "<div>\n",
       "<style scoped>\n",
       "    .dataframe tbody tr th:only-of-type {\n",
       "        vertical-align: middle;\n",
       "    }\n",
       "\n",
       "    .dataframe tbody tr th {\n",
       "        vertical-align: top;\n",
       "    }\n",
       "\n",
       "    .dataframe thead th {\n",
       "        text-align: right;\n",
       "    }\n",
       "</style>\n",
       "<table border=\"1\" class=\"dataframe\">\n",
       "  <thead>\n",
       "    <tr style=\"text-align: right;\">\n",
       "      <th></th>\n",
       "      <th>Unnamed: 0</th>\n",
       "      <th>HP:0001511</th>\n",
       "      <th>HP:0001319</th>\n",
       "      <th>HP:0002329</th>\n",
       "      <th>HP:0012393</th>\n",
       "      <th>HP:0011010</th>\n",
       "      <th>HP:0025085</th>\n",
       "      <th>HP:0003128</th>\n",
       "      <th>HP:0002240</th>\n",
       "      <th>HP:0001290</th>\n",
       "      <th>...</th>\n",
       "      <th>HP:0012115</th>\n",
       "      <th>HP:0002583</th>\n",
       "      <th>HP:0001399</th>\n",
       "      <th>HP:0001508</th>\n",
       "      <th>HP:0002014</th>\n",
       "      <th>HP:0001249</th>\n",
       "      <th>HP:0011451</th>\n",
       "      <th>HP:0001252</th>\n",
       "      <th>HP:0001298</th>\n",
       "      <th>HP:0004902</th>\n",
       "    </tr>\n",
       "  </thead>\n",
       "  <tbody>\n",
       "    <tr>\n",
       "      <th>0</th>\n",
       "      <td>all</td>\n",
       "      <td>1</td>\n",
       "      <td>1</td>\n",
       "      <td>1</td>\n",
       "      <td>1</td>\n",
       "      <td>1</td>\n",
       "      <td>1</td>\n",
       "      <td>1</td>\n",
       "      <td>1</td>\n",
       "      <td>1</td>\n",
       "      <td>...</td>\n",
       "      <td>1</td>\n",
       "      <td>1</td>\n",
       "      <td>1</td>\n",
       "      <td>1</td>\n",
       "      <td>1</td>\n",
       "      <td>1</td>\n",
       "      <td>1</td>\n",
       "      <td>1</td>\n",
       "      <td>1</td>\n",
       "      <td>1</td>\n",
       "    </tr>\n",
       "  </tbody>\n",
       "</table>\n",
       "<p>1 rows × 32 columns</p>\n",
       "</div>"
      ],
      "text/plain": [
       "  Unnamed: 0  HP:0001511  HP:0001319  HP:0002329  HP:0012393  HP:0011010  \\\n",
       "0        all           1           1           1           1           1   \n",
       "\n",
       "   HP:0025085  HP:0003128  HP:0002240  HP:0001290  ...  HP:0012115  \\\n",
       "0           1           1           1           1  ...           1   \n",
       "\n",
       "   HP:0002583  HP:0001399  HP:0001508  HP:0002014  HP:0001249  HP:0011451  \\\n",
       "0           1           1           1           1           1           1   \n",
       "\n",
       "   HP:0001252  HP:0001298  HP:0004902  \n",
       "0           1           1           1  \n",
       "\n",
       "[1 rows x 32 columns]"
      ]
     },
     "execution_count": 120,
     "metadata": {},
     "output_type": "execute_result"
    }
   ],
   "source": [
    "annotated_table = pd.read_csv(\"results/%s/3_annotations/PhenoProfiles_%s.csv\" % (title, pheno), sep='|')\n",
    "annotated_table.head()"
   ]
  },
  {
   "cell_type": "code",
   "execution_count": 121,
   "metadata": {
    "scrolled": true
   },
   "outputs": [
    {
     "name": "stdout",
     "output_type": "stream",
     "text": [
      "FN:  22\n",
      "FP:  25\n",
      "all 273 121\n",
      "Confusion matrix, without normalization\n",
      "[[57 22]\n",
      " [25  0]]\n",
      "Sensitivity:\t 0.72\n",
      "Specificity:\t 0.0\n",
      "PPV:\t\t 0.7\n",
      "NPV:\t\t 0.0\n",
      "F1:\t\t 0.71\n",
      "Accuracy:\t 0.55\n"
     ]
    },
    {
     "data": {
      "image/png": "[encoded data removed]",
      "text/plain": [
       "<Figure size 432x288 with 2 Axes>"
      ]
     },
     "metadata": {
      "needs_background": "light"
     },
     "output_type": "display_data"
    }
   ],
   "source": [
    "import networkx\n",
    "import obonet\n",
    "imp.reload(func)\n",
    "\n",
    "url = '../phenopy_mod/.phenopy/data/hp.obo'\n",
    "graph = obonet.read_obo(url)\n",
    "\n",
    "d_inferred = func.evaluateDictionaryHPO(annotated_table, graph)\n",
    "cnf_matrix, d_tracker = func.evaluateDictionaryPatients(d_inferred, df_valid, graph)\n",
    "TP, FP, TN, FN = cnf_matrix[0][0], cnf_matrix[1][0], cnf_matrix[1][1], cnf_matrix[0][1]\n",
    "\n",
    "plt = func.print_confusion_matrix(cnf_matrix, classes=['HPO', 'No-HPO'], title='Confusion matrix')\n",
    "func.print_perf(TP, FP, TN, FN)"
   ]
  },
  {
   "cell_type": "markdown",
   "metadata": {},
   "source": [
    "### Save validation - performance - Error analysis"
   ]
  },
  {
   "cell_type": "code",
   "execution_count": 64,
   "metadata": {},
   "outputs": [
    {
     "data": {
      "text/html": [
       "<div>\n",
       "<style scoped>\n",
       "    .dataframe tbody tr th:only-of-type {\n",
       "        vertical-align: middle;\n",
       "    }\n",
       "\n",
       "    .dataframe tbody tr th {\n",
       "        vertical-align: top;\n",
       "    }\n",
       "\n",
       "    .dataframe thead th {\n",
       "        text-align: right;\n",
       "    }\n",
       "</style>\n",
       "<table border=\"1\" class=\"dataframe\">\n",
       "  <thead>\n",
       "    <tr style=\"text-align: right;\">\n",
       "      <th></th>\n",
       "      <th>HPO</th>\n",
       "      <th>LBL</th>\n",
       "      <th>NAME</th>\n",
       "      <th>context</th>\n",
       "      <th>end</th>\n",
       "      <th>flags</th>\n",
       "      <th>hp_id</th>\n",
       "      <th>index</th>\n",
       "      <th>line</th>\n",
       "      <th>negated</th>\n",
       "      <th>pat_id</th>\n",
       "      <th>relevant</th>\n",
       "      <th>score</th>\n",
       "      <th>section</th>\n",
       "      <th>start</th>\n",
       "    </tr>\n",
       "  </thead>\n",
       "  <tbody>\n",
       "    <tr>\n",
       "      <th>0</th>\n",
       "      <td>HP:0000077</td>\n",
       "      <td>TP</td>\n",
       "      <td>Abnormality of the kidney</td>\n",
       "      <td>NaN</td>\n",
       "      <td>NaN</td>\n",
       "      <td>NaN</td>\n",
       "      <td>NaN</td>\n",
       "      <td>NaN</td>\n",
       "      <td>NaN</td>\n",
       "      <td>NaN</td>\n",
       "      <td>NaN</td>\n",
       "      <td>NaN</td>\n",
       "      <td>NaN</td>\n",
       "      <td>NaN</td>\n",
       "      <td>NaN</td>\n",
       "    </tr>\n",
       "    <tr>\n",
       "      <th>1</th>\n",
       "      <td>HP:0000079</td>\n",
       "      <td>TP</td>\n",
       "      <td>Abnormality of the urinary system</td>\n",
       "      <td>NaN</td>\n",
       "      <td>NaN</td>\n",
       "      <td>NaN</td>\n",
       "      <td>NaN</td>\n",
       "      <td>NaN</td>\n",
       "      <td>NaN</td>\n",
       "      <td>NaN</td>\n",
       "      <td>NaN</td>\n",
       "      <td>NaN</td>\n",
       "      <td>NaN</td>\n",
       "      <td>NaN</td>\n",
       "      <td>NaN</td>\n",
       "    </tr>\n",
       "    <tr>\n",
       "      <th>2</th>\n",
       "      <td>HP:0000081</td>\n",
       "      <td>TP</td>\n",
       "      <td>Duplicated collecting system</td>\n",
       "      <td>Treatment with Ursodeoxycholic acid was initia...</td>\n",
       "      <td>40.0</td>\n",
       "      <td>set()</td>\n",
       "      <td>HP:0000081</td>\n",
       "      <td>67.0</td>\n",
       "      <td>There was a duplicated collecting system on th...</td>\n",
       "      <td>0.0</td>\n",
       "      <td>None</td>\n",
       "      <td>1.0</td>\n",
       "      <td>1.0</td>\n",
       "      <td>Case description</td>\n",
       "      <td>12.0</td>\n",
       "    </tr>\n",
       "    <tr>\n",
       "      <th>3</th>\n",
       "      <td>HP:0000119</td>\n",
       "      <td>TP</td>\n",
       "      <td>Abnormality of the genitourinary system</td>\n",
       "      <td>NaN</td>\n",
       "      <td>NaN</td>\n",
       "      <td>NaN</td>\n",
       "      <td>NaN</td>\n",
       "      <td>NaN</td>\n",
       "      <td>NaN</td>\n",
       "      <td>NaN</td>\n",
       "      <td>NaN</td>\n",
       "      <td>NaN</td>\n",
       "      <td>NaN</td>\n",
       "      <td>NaN</td>\n",
       "      <td>NaN</td>\n",
       "    </tr>\n",
       "    <tr>\n",
       "      <th>4</th>\n",
       "      <td>HP:0000126</td>\n",
       "      <td>TP</td>\n",
       "      <td>Hydronephrosis</td>\n",
       "      <td>Treatment with Ursodeoxycholic acid was initia...</td>\n",
       "      <td>86.0</td>\n",
       "      <td>set()</td>\n",
       "      <td>HP:0000126</td>\n",
       "      <td>67.0</td>\n",
       "      <td>There was a duplicated collecting system on th...</td>\n",
       "      <td>0.0</td>\n",
       "      <td>None</td>\n",
       "      <td>1.0</td>\n",
       "      <td>1.0</td>\n",
       "      <td>Case description</td>\n",
       "      <td>72.0</td>\n",
       "    </tr>\n",
       "  </tbody>\n",
       "</table>\n",
       "</div>"
      ],
      "text/plain": [
       "          HPO LBL                                     NAME  \\\n",
       "0  HP:0000077  TP                Abnormality of the kidney   \n",
       "1  HP:0000079  TP        Abnormality of the urinary system   \n",
       "2  HP:0000081  TP             Duplicated collecting system   \n",
       "3  HP:0000119  TP  Abnormality of the genitourinary system   \n",
       "4  HP:0000126  TP                           Hydronephrosis   \n",
       "\n",
       "                                             context   end  flags       hp_id  \\\n",
       "0                                                NaN   NaN    NaN         NaN   \n",
       "1                                                NaN   NaN    NaN         NaN   \n",
       "2  Treatment with Ursodeoxycholic acid was initia...  40.0  set()  HP:0000081   \n",
       "3                                                NaN   NaN    NaN         NaN   \n",
       "4  Treatment with Ursodeoxycholic acid was initia...  86.0  set()  HP:0000126   \n",
       "\n",
       "   index                                               line  negated pat_id  \\\n",
       "0    NaN                                                NaN      NaN    NaN   \n",
       "1    NaN                                                NaN      NaN    NaN   \n",
       "2   67.0  There was a duplicated collecting system on th...      0.0   None   \n",
       "3    NaN                                                NaN      NaN    NaN   \n",
       "4   67.0  There was a duplicated collecting system on th...      0.0   None   \n",
       "\n",
       "   relevant  score            section  start  \n",
       "0       NaN    NaN                NaN    NaN  \n",
       "1       NaN    NaN                NaN    NaN  \n",
       "2       1.0    1.0   Case description   12.0  \n",
       "3       NaN    NaN                NaN    NaN  \n",
       "4       1.0    1.0   Case description   72.0  "
      ]
     },
     "execution_count": 64,
     "metadata": {},
     "output_type": "execute_result"
    }
   ],
   "source": [
    "import obonet\n",
    "\n",
    "url = '../phenopy_mod/.phenopy/data/hp.obo'\n",
    "graph = obonet.read_obo(url)\n",
    "\n",
    "def savePerformanceToCSV(graph, title, pheno):\n",
    "    df_tracker = pd.DataFrame.from_dict(d_tracker, orient='index').reset_index()\n",
    "    df_tracker.columns = ['HPO', 'LBL']\n",
    "    id_to_name = {id_: data.get('name') for id_, data in graph.nodes(data=True)}\n",
    "    df_tracker['NAME'] = df_tracker['HPO'].apply(lambda x: id_to_name[x])\n",
    "    \n",
    "    ## add additional information\n",
    "    df_append = pd.read_csv('results/%s/3_annotations/Overview_Intercepted_Phenotypes_%s.csv' % (title, pheno), sep='|')\n",
    "\n",
    "    df_tracker = df_tracker.merge(df_append, left_on='HPO', right_on='hp_id', how='left')\n",
    "    \n",
    "    df_tracker.to_csv(\"results/%s/3_annotations/Validation_performance_%s.csv\" % (title, pheno), sep='|', index=True)\n",
    "    return df_tracker\n",
    "\n",
    "df_tracker = savePerformanceToCSV(graph, title, pheno)\n",
    "df_tracker.head()"
   ]
  },
  {
   "cell_type": "markdown",
   "metadata": {},
   "source": [
    "## Color Classification performance\n",
    "\n",
    "Color False & True Positives to facilitate error analysis"
   ]
  },
  {
   "cell_type": "code",
   "execution_count": 65,
   "metadata": {},
   "outputs": [
    {
     "name": "stdout",
     "output_type": "stream",
     "text": [
      "Elements found:  ['Main text', 'Captions']\n"
     ]
    }
   ],
   "source": [
    "# start, end, HPO\n",
    "import Validation as val\n",
    "imp.reload(val)\n",
    "\n",
    "df_tracker = pd.read_csv(\"results/%s/3_annotations/Validation_performance_%s.csv\" % (title, pheno), sep='|', index_col=0)\n",
    "df_tracker = df_tracker.fillna('') \n",
    "\n",
    "val.annotate_text_validation(title, parsed_doc, df_tracker, pheno)\n",
    "\n"
   ]
  },
  {
   "cell_type": "markdown",
   "metadata": {},
   "source": [
    "## scispacy [OLD function]"
   ]
  },
  {
   "cell_type": "code",
   "execution_count": 94,
   "metadata": {},
   "outputs": [
    {
     "name": "stderr",
     "output_type": "stream",
     "text": [
      "C:\\Users\\levrex\\Anaconda3\\envs\\my_env\\lib\\site-packages\\sklearn\\base.py:334: UserWarning: Trying to unpickle estimator TfidfTransformer from version 0.22.2.post1 when using version 0.23.1. This might lead to breaking code or invalid results. Use at your own risk.\n",
      "  UserWarning)\n",
      "C:\\Users\\levrex\\Anaconda3\\envs\\my_env\\lib\\site-packages\\sklearn\\base.py:334: UserWarning: Trying to unpickle estimator TfidfVectorizer from version 0.22.2.post1 when using version 0.23.1. This might lead to breaking code or invalid results. Use at your own risk.\n",
      "  UserWarning)\n"
     ]
    }
   ],
   "source": [
    "import spacy\n",
    "from scispacy import linking\n",
    "from scispacy.linking import EntityLinker\n",
    "\n",
    "pheno = 'scispacy'\n",
    "\n",
    "if pheno == 'scispacy':\n",
    "    nlp = spacy.load(\"en_core_sci_sm\")\n",
    "\n",
    "    hpo = linking.EntityLinker(resolve_abbreviations=True, name='hpo') # , name='hpo'\n",
    "\n",
    "    nlp.add_pipe(hpo)\n",
    "    \n",
    "    hpo_to_umls, umls_to_hpo = func.HPO_to_UMLS(graph)\n",
    "    \n",
    "# inferred = func.scispacy_str(nlp, hpo, umls_to_hpo, lines)"
   ]
  },
  {
   "cell_type": "markdown",
   "metadata": {},
   "source": [
    "## Visualize overall results"
   ]
  },
  {
   "cell_type": "code",
   "execution_count": 30,
   "metadata": {},
   "outputs": [
    {
     "data": {
      "text/html": [
       "<div>\n",
       "<style scoped>\n",
       "    .dataframe tbody tr th:only-of-type {\n",
       "        vertical-align: middle;\n",
       "    }\n",
       "\n",
       "    .dataframe tbody tr th {\n",
       "        vertical-align: top;\n",
       "    }\n",
       "\n",
       "    .dataframe thead th {\n",
       "        text-align: right;\n",
       "    }\n",
       "</style>\n",
       "<table border=\"1\" class=\"dataframe\">\n",
       "  <thead>\n",
       "    <tr style=\"text-align: right;\">\n",
       "      <th></th>\n",
       "      <th>Sens</th>\n",
       "      <th>PPV</th>\n",
       "      <th>F1</th>\n",
       "    </tr>\n",
       "  </thead>\n",
       "  <tbody>\n",
       "    <tr>\n",
       "      <th>Clinphen</th>\n",
       "      <td>0.635</td>\n",
       "      <td>0.5675</td>\n",
       "      <td>0.5725</td>\n",
       "    </tr>\n",
       "    <tr>\n",
       "      <th>txt2hpo</th>\n",
       "      <td>0.690</td>\n",
       "      <td>0.5875</td>\n",
       "      <td>0.6125</td>\n",
       "    </tr>\n",
       "    <tr>\n",
       "      <th>NCR</th>\n",
       "      <td>0.720</td>\n",
       "      <td>0.6775</td>\n",
       "      <td>0.6975</td>\n",
       "    </tr>\n",
       "  </tbody>\n",
       "</table>\n",
       "</div>"
      ],
      "text/plain": [
       "           Sens     PPV      F1\n",
       "Clinphen  0.635  0.5675  0.5725\n",
       "txt2hpo   0.690  0.5875  0.6125\n",
       "NCR       0.720  0.6775  0.6975"
      ]
     },
     "execution_count": 30,
     "metadata": {},
     "output_type": "execute_result"
    }
   ],
   "source": [
    "import pandas as pd\n",
    "data = {'Sens': [0.635, 0.69, 0.72], 'PPV': [0.5675, 0.5875, 0.6775], 'F1' : [0.5725, 0.6125, 0.6975]}\n",
    "\n",
    "df = pd.DataFrame(data, index=['Clinphen', 'txt2hpo', 'NCR'])\n",
    "#df = df.T\n",
    "df"
   ]
  },
  {
   "cell_type": "code",
   "execution_count": 33,
   "metadata": {},
   "outputs": [
    {
     "data": {
      "text/plain": [
       "['Clinphen', 'txt2hpo', 'NCR']"
      ]
     },
     "execution_count": 33,
     "metadata": {},
     "output_type": "execute_result"
    }
   ],
   "source": [
    "\n",
    "list(df.T.keys())"
   ]
  },
  {
   "cell_type": "code",
   "execution_count": 60,
   "metadata": {},
   "outputs": [
    {
     "name": "stderr",
     "output_type": "stream",
     "text": [
      "C:\\Users\\levrex\\Anaconda3\\envs\\my_env\\lib\\site-packages\\ipykernel_launcher.py:31: MatplotlibDeprecationWarning: Adding an axes using the same arguments as a previous axes currently reuses the earlier instance.  In a future version, a new instance will always be created and returned.  Meanwhile, this warning can be suppressed, and the future behavior ensured, by passing a unique label to each axes instance.\n"
     ]
    },
    {
     "data": {
      "text/plain": [
       "<module 'matplotlib.pyplot' from 'C:\\\\Users\\\\levrex\\\\Anaconda3\\\\envs\\\\my_env\\\\lib\\\\site-packages\\\\matplotlib\\\\pyplot.py'>"
      ]
     },
     "execution_count": 60,
     "metadata": {},
     "output_type": "execute_result"
    },
    {
     "data": {
      "image/png": "[encoded data removed]",
      "text/plain": [
       "<Figure size 576x504 with 1 Axes>"
      ]
     },
     "metadata": {
      "needs_background": "light"
     },
     "output_type": "display_data"
    }
   ],
   "source": [
    "import matplotlib.pyplot as plt\n",
    "import matplotlib.cm as cm\n",
    "from matplotlib.lines import Line2D\n",
    "import numpy as np\n",
    "import matplotlib.pyplot as plt\n",
    "plt.rcParams.update({'font.size': 22})\n",
    "\n",
    "def performancePlot(df, title):\n",
    "    \"\"\"\n",
    "    Params:\n",
    "        df = dataframe where the different values per key are the \n",
    "            performance characteristics\n",
    "        title = title of the plot\n",
    "    \"\"\"\n",
    "    plt.figure(figsize=(8, 7))\n",
    "    colors = cm.rainbow(np.linspace(0, 1, 3))\n",
    "    markers = ['o', 'v', '^', '8', 's', 'p', '*', 'h', 'H', 'D', 'd', 'P', 'X']\n",
    "    for xe, ye in zip(list(df.keys()),list(df.values)[::-1]):\n",
    "        ix = 0\n",
    "        for i in ye:\n",
    "            plt.scatter(xe, i, marker=markers[ix], s=600, edgecolors='black', linewidths=1.2, color=colors[ix])\n",
    "            ix += 1\n",
    "    \n",
    "    legend_elements = [Line2D([0], [0], marker=markers[0], color=colors[0], label='Sens', markersize=15, markeredgecolor='black'),\n",
    "                       Line2D([0], [0], marker=markers[1], color=colors[1], label='PPV', markersize=15, markeredgecolor='black'),\n",
    "                       Line2D([0], [0], marker=markers[2], color=colors[2], label='F1', markersize=15, markeredgecolor='black')]       \n",
    "    plt.legend(handles=legend_elements)      \n",
    "    #plt.axhline(y=0)\n",
    "    plt.yticks(fontsize=16)\n",
    "    \n",
    "    plt.axes().set_xticklabels(['NCR', 'txt2hpo', 'Clinphen']) \n",
    "    plt.ylim((0,1))\n",
    "    plt.title(title, fontsize=16)\n",
    "    return plt\n",
    "\n",
    "performancePlot(df, 'Performance characteristics of the PhenoTools')"
   ]
  },
  {
   "cell_type": "code",
   "execution_count": null,
   "metadata": {},
   "outputs": [],
   "source": []
  }
 ],
 "metadata": {
  "kernelspec": {
   "display_name": "my_env",
   "language": "python",
   "name": "my_env"
  },
  "language_info": {
   "codemirror_mode": {
    "name": "ipython",
    "version": 3
   },
   "file_extension": ".py",
   "mimetype": "text/x-python",
   "name": "python",
   "nbconvert_exporter": "python",
   "pygments_lexer": "ipython3",
   "version": "3.6.10"
  }
 },
 "nbformat": 4,
 "nbformat_minor": 4
}
