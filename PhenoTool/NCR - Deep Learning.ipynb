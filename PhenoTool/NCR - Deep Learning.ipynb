{
 "cells": [
  {
   "cell_type": "markdown",
   "metadata": {},
   "source": [
    "# Deep Learning\n",
    "\"NCR is a concept recognizer for annotating unstructured text with concepts from an ontology. In its core, NCR uses a deep neural network trained to classify input phrases with concepts in a given ontology, and is capable of generalizing to synonyms not explicitly available.\"\n",
    "\n",
    "You can use API or download the pretrained-model in its entirity from : https://github.com/ccmbioinfo/NeuralCR\n",
    "\n",
    "To run NCR you need a trained NCR model. You can train the model on your own custom ontology as explained here. Alternatively, you can download a pre-trained NCR model from here, which is pre-trained on HPO, the Human Phenotype Ontology (release of 2019-06-03):\n",
    "\n",
    "1. wget https://ncr.ccm.sickkids.ca/params/ncr_hpo_params.tar.gz\n",
    "2. tar -xzvf ncr_hpo_params.tar.gz"
   ]
  },
  {
   "cell_type": "code",
   "execution_count": 34,
   "metadata": {},
   "outputs": [
    {
     "data": {
      "text/plain": [
       "4"
      ]
     },
     "execution_count": 34,
     "metadata": {},
     "output_type": "execute_result"
    }
   ],
   "source": [
    "d = {1: [1,2,3,4], 2: [4,5,6,4], 3: [5,7,8,3,77,86]}\n",
    "if ix in d:"
   ]
  },
  {
   "cell_type": "code",
   "execution_count": 18,
   "metadata": {},
   "outputs": [],
   "source": [
    "import requests\n",
    "\n",
    "params = (\n",
    "    ('text', 'Intracranial bleeding High frequency hearing loss Short stature, wide nasal bridge,  microcephaly  hearing loss'),\n",
    ")\n",
    "\n",
    "response = requests.get('https://ncr.ccm.sickkids.ca/curr/annotate/', params=params)\n"
   ]
  },
  {
   "cell_type": "code",
   "execution_count": 25,
   "metadata": {},
   "outputs": [
    {
     "name": "stdout",
     "output_type": "stream",
     "text": [
      "{'matches': [{'end': 49, 'hp_id': 'HP:0005101', 'names': ['High-frequency hearing impairment', 'Hearing loss, high-frequency', 'High frequency hearing loss', 'High-frequency deafness', 'Progressive high frequency hearing loss', 'Progressive high-frequency hearing loss'], 'score': '0.9965908', 'start': 22}, {'end': 21, 'hp_id': 'HP:0002170', 'names': ['Intracranial hemorrhage', 'Bleeding within the skull'], 'score': '0.8876851', 'start': 0}, {'end': 63, 'hp_id': 'HP:0004322', 'names': ['Short stature', 'Decreased body height', 'Height less than 3rd percentile', 'Short stature', 'Small stature', 'Stature below 3rd percentile'], 'score': '0.97627175', 'start': 50}, {'end': 82, 'hp_id': 'HP:0000431', 'names': ['Wide nasal bridge', 'Broad flat nasal bridge', 'Broad nasal bridge', 'Broad nasal root', 'Broadened nasal bridge', 'Increased breadth of bridge of nose', 'Increased breadth of nasal bridge', 'Increased width of bridge of nose', 'Increased width of nasal bridge', 'Nasal bridge broad', 'Nasal bridge, wide', 'Wide bridge of nose', 'Wide nasal bridge', 'Widened nasal bridge'], 'score': '0.9996351', 'start': 65}, {'end': 97, 'hp_id': 'HP:0000252', 'names': ['Microcephaly', 'Abnormally small cranium', 'Abnormally small head', 'Abnormally small skull', 'Decreased circumference of cranium', 'Decreased size of cranium', 'Decreased size of head', 'Decreased size of skull', 'Reduced head circumference', 'small calvarium', 'small cranium', 'Small head', 'Small head circumference', 'Small skull'], 'score': '0.9436223', 'start': 85}, {'end': 111, 'hp_id': 'HP:0000365', 'names': ['Hearing impairment', 'Congenital deafness', 'Congenital hearing loss', 'Deafness', 'Hearing defect', 'Hearing impairment', 'Hearing loss', 'Hypoacusis'], 'score': '0.9879309', 'start': 99}]}\n"
     ]
    }
   ],
   "source": [
    "import ast\n",
    "print(ast.literal_eval(response.text))"
   ]
  },
  {
   "cell_type": "code",
   "execution_count": 32,
   "metadata": {},
   "outputs": [
    {
     "data": {
      "text/html": [
       "<div>\n",
       "<style scoped>\n",
       "    .dataframe tbody tr th:only-of-type {\n",
       "        vertical-align: middle;\n",
       "    }\n",
       "\n",
       "    .dataframe tbody tr th {\n",
       "        vertical-align: top;\n",
       "    }\n",
       "\n",
       "    .dataframe thead th {\n",
       "        text-align: right;\n",
       "    }\n",
       "</style>\n",
       "<table border=\"1\" class=\"dataframe\">\n",
       "  <thead>\n",
       "    <tr style=\"text-align: right;\">\n",
       "      <th></th>\n",
       "      <th>HPO ID</th>\n",
       "      <th>names</th>\n",
       "      <th>start</th>\n",
       "      <th>end</th>\n",
       "      <th>score</th>\n",
       "    </tr>\n",
       "  </thead>\n",
       "  <tbody>\n",
       "    <tr>\n",
       "      <th>0</th>\n",
       "      <td>HP:0005101</td>\n",
       "      <td>[High-frequency hearing impairment, Hearing lo...</td>\n",
       "      <td>22</td>\n",
       "      <td>49</td>\n",
       "      <td>0.9965908</td>\n",
       "    </tr>\n",
       "    <tr>\n",
       "      <th>1</th>\n",
       "      <td>HP:0002170</td>\n",
       "      <td>[Intracranial hemorrhage, Bleeding within the ...</td>\n",
       "      <td>0</td>\n",
       "      <td>21</td>\n",
       "      <td>0.8876851</td>\n",
       "    </tr>\n",
       "    <tr>\n",
       "      <th>2</th>\n",
       "      <td>HP:0004322</td>\n",
       "      <td>[Short stature, Decreased body height, Height ...</td>\n",
       "      <td>50</td>\n",
       "      <td>63</td>\n",
       "      <td>0.97627175</td>\n",
       "    </tr>\n",
       "    <tr>\n",
       "      <th>3</th>\n",
       "      <td>HP:0000431</td>\n",
       "      <td>[Wide nasal bridge, Broad flat nasal bridge, B...</td>\n",
       "      <td>65</td>\n",
       "      <td>82</td>\n",
       "      <td>0.9996351</td>\n",
       "    </tr>\n",
       "    <tr>\n",
       "      <th>4</th>\n",
       "      <td>HP:0000252</td>\n",
       "      <td>[Microcephaly, Abnormally small cranium, Abnor...</td>\n",
       "      <td>85</td>\n",
       "      <td>97</td>\n",
       "      <td>0.9436223</td>\n",
       "    </tr>\n",
       "  </tbody>\n",
       "</table>\n",
       "</div>"
      ],
      "text/plain": [
       "       HPO ID                                              names  start  end  \\\n",
       "0  HP:0005101  [High-frequency hearing impairment, Hearing lo...     22   49   \n",
       "1  HP:0002170  [Intracranial hemorrhage, Bleeding within the ...      0   21   \n",
       "2  HP:0004322  [Short stature, Decreased body height, Height ...     50   63   \n",
       "3  HP:0000431  [Wide nasal bridge, Broad flat nasal bridge, B...     65   82   \n",
       "4  HP:0000252  [Microcephaly, Abnormally small cranium, Abnor...     85   97   \n",
       "\n",
       "        score  \n",
       "0   0.9965908  \n",
       "1   0.8876851  \n",
       "2  0.97627175  \n",
       "3   0.9996351  \n",
       "4   0.9436223  "
      ]
     },
     "execution_count": 32,
     "metadata": {},
     "output_type": "execute_result"
    }
   ],
   "source": [
    "import ast\n",
    "import pandas as pd\n",
    "\n",
    "\n",
    "d_ncr = {\n",
    "'HPO ID' : [i['hp_id'] for i in ast.literal_eval(response.text)['matches']],\n",
    "'names' : [i['names'] for i in ast.literal_eval(response.text)['matches']],  \n",
    "'start' : [i['start'] for i in ast.literal_eval(response.text)['matches']],    \n",
    "'end' : [i['end'] for i in ast.literal_eval(response.text)['matches']],   \n",
    "'score' : [i['score'] for i in ast.literal_eval(response.text)['matches']],   \n",
    "}\n",
    "df_hpo =pd.DataFrame.from_dict(d_ncr)\n",
    "df_hpo.head()"
   ]
  },
  {
   "cell_type": "code",
   "execution_count": null,
   "metadata": {},
   "outputs": [],
   "source": []
  }
 ],
 "metadata": {
  "kernelspec": {
   "display_name": "my_env",
   "language": "python",
   "name": "my_env"
  },
  "language_info": {
   "codemirror_mode": {
    "name": "ipython",
    "version": 3
   },
   "file_extension": ".py",
   "mimetype": "text/x-python",
   "name": "python",
   "nbconvert_exporter": "python",
   "pygments_lexer": "ipython3",
   "version": "3.6.10"
  }
 },
 "nbformat": 4,
 "nbformat_minor": 4
}
