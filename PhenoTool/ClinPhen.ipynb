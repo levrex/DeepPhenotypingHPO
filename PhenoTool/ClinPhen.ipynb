{
 "cells": [
  {
   "cell_type": "markdown",
   "metadata": {},
   "source": [
    "## Perform clinphen\n",
    "\n",
    "1. added new lemmatising options: \n",
    "    - tic -> ia or y  (e.g. dysplastic -> dysplasia)\n",
    "    - ce -> t (e.g. absence -> absent)"
   ]
  },
  {
   "cell_type": "markdown",
   "metadata": {},
   "source": [
    "## import data"
   ]
  },
  {
   "cell_type": "code",
   "execution_count": 1,
   "metadata": {},
   "outputs": [
    {
     "data": {
      "text/html": [
       "<div>\n",
       "<style scoped>\n",
       "    .dataframe tbody tr th:only-of-type {\n",
       "        vertical-align: middle;\n",
       "    }\n",
       "\n",
       "    .dataframe tbody tr th {\n",
       "        vertical-align: top;\n",
       "    }\n",
       "\n",
       "    .dataframe thead th {\n",
       "        text-align: right;\n",
       "    }\n",
       "</style>\n",
       "<table border=\"1\" class=\"dataframe\">\n",
       "  <thead>\n",
       "    <tr style=\"text-align: right;\">\n",
       "      <th></th>\n",
       "      <th>entID</th>\n",
       "      <th>docID</th>\n",
       "      <th>start</th>\n",
       "      <th>end</th>\n",
       "      <th>hpo</th>\n",
       "      <th>entity</th>\n",
       "      <th>text</th>\n",
       "    </tr>\n",
       "  </thead>\n",
       "  <tbody>\n",
       "    <tr>\n",
       "      <th>0</th>\n",
       "      <td>12</td>\n",
       "      <td>1</td>\n",
       "      <td>35</td>\n",
       "      <td>53</td>\n",
       "      <td>HP_0000006</td>\n",
       "      <td>autosomal dominant</td>\n",
       "      <td>Townes-Brocks syndrome (TBS) is an autosomal d...</td>\n",
       "    </tr>\n",
       "    <tr>\n",
       "      <th>1</th>\n",
       "      <td>13</td>\n",
       "      <td>1</td>\n",
       "      <td>95</td>\n",
       "      <td>114</td>\n",
       "      <td>HP_0003828</td>\n",
       "      <td>variable expression</td>\n",
       "      <td>Townes-Brocks syndrome (TBS) is an autosomal d...</td>\n",
       "    </tr>\n",
       "    <tr>\n",
       "      <th>2</th>\n",
       "      <td>14</td>\n",
       "      <td>1</td>\n",
       "      <td>139</td>\n",
       "      <td>161</td>\n",
       "      <td>HP_0000356</td>\n",
       "      <td>external ear anomalies</td>\n",
       "      <td>Townes-Brocks syndrome (TBS) is an autosomal d...</td>\n",
       "    </tr>\n",
       "    <tr>\n",
       "      <th>3</th>\n",
       "      <td>15</td>\n",
       "      <td>1</td>\n",
       "      <td>163</td>\n",
       "      <td>175</td>\n",
       "      <td>HP_0000365</td>\n",
       "      <td>hearing loss</td>\n",
       "      <td>Townes-Brocks syndrome (TBS) is an autosomal d...</td>\n",
       "    </tr>\n",
       "    <tr>\n",
       "      <th>4</th>\n",
       "      <td>16</td>\n",
       "      <td>1</td>\n",
       "      <td>177</td>\n",
       "      <td>197</td>\n",
       "      <td>HP_0001841</td>\n",
       "      <td>preaxial polydactyly</td>\n",
       "      <td>Townes-Brocks syndrome (TBS) is an autosomal d...</td>\n",
       "    </tr>\n",
       "  </tbody>\n",
       "</table>\n",
       "</div>"
      ],
      "text/plain": [
       "   entID  docID  start  end         hpo                  entity  \\\n",
       "0     12      1     35   53  HP_0000006      autosomal dominant   \n",
       "1     13      1     95  114  HP_0003828     variable expression   \n",
       "2     14      1    139  161  HP_0000356  external ear anomalies   \n",
       "3     15      1    163  175  HP_0000365            hearing loss   \n",
       "4     16      1    177  197  HP_0001841    preaxial polydactyly   \n",
       "\n",
       "                                                text  \n",
       "0  Townes-Brocks syndrome (TBS) is an autosomal d...  \n",
       "1  Townes-Brocks syndrome (TBS) is an autosomal d...  \n",
       "2  Townes-Brocks syndrome (TBS) is an autosomal d...  \n",
       "3  Townes-Brocks syndrome (TBS) is an autosomal d...  \n",
       "4  Townes-Brocks syndrome (TBS) is an autosomal d...  "
      ]
     },
     "execution_count": 1,
     "metadata": {},
     "output_type": "execute_result"
    }
   ],
   "source": [
    "import pandas as pd\n",
    "import sys\n",
    "sys.path.append('../')\n",
    "\n",
    "df_train = pd.read_csv('../data/Bio-Lark/df_train.csv')\n",
    "df_test = pd.read_csv('../data/Bio-Lark/df_test.csv')\n",
    "df_valid = pd.read_csv('../data/Bio-Lark/df_valid.csv')\n",
    "\n",
    "df_train.head()"
   ]
  },
  {
   "cell_type": "markdown",
   "metadata": {},
   "source": [
    "### format trainingsdata -> to format usable for clinphen"
   ]
  },
  {
   "cell_type": "code",
   "execution_count": 141,
   "metadata": {},
   "outputs": [
    {
     "data": {
      "text/plain": [
       "\"Neurofibromatosis type 2 (NF2) is a highly penetrant autosomal dominant condition predisposing affected individuals to schwannomas and meningiomas. The proportion of children presenting with meningioma or schwannoma who have NF2 is not well described, and neither is the mode of presentation in most children with the inherited disease.  To determine the frequency of childhood meningioma and schwannoma cases caused by NF2 and the mode of presentation.  The records of the Manchester Children's Tumour Registry from 1954 were searched for cases of meningioma and schwannoma. Paediatric presentation in a large UK series of NF2 was also studied.  18% (61/334) of patients with NF2 on the UK database presented in the paediatric age group (0-15 years), frequently with the symptoms of an isolated tumour. More than half had no family history to alert the clinician to their susceptibility. Three of 22 children presenting with a meningioma on the Manchester Children's Tumour Registry have gone on to develop classic features of NF2.  Clinicians should suspect NF2 in children presenting with meningioma, schwannoma, and skin features, such as neurofibromas/schwannomas, but fewer than 6 caf  au lait patches, who thus fall short of a diagnosis of neurofibromatosis type 1.\""
      ]
     },
     "execution_count": 141,
     "metadata": {},
     "output_type": "execute_result"
    }
   ],
   "source": [
    "df_train[df_train['docID']==7].replace(r'\\n',' ', regex=True)['text'].iloc[0]"
   ]
  },
  {
   "cell_type": "code",
   "execution_count": 134,
   "metadata": {},
   "outputs": [
    {
     "data": {
      "text/html": [
       "<div>\n",
       "<style scoped>\n",
       "    .dataframe tbody tr th:only-of-type {\n",
       "        vertical-align: middle;\n",
       "    }\n",
       "\n",
       "    .dataframe tbody tr th {\n",
       "        vertical-align: top;\n",
       "    }\n",
       "\n",
       "    .dataframe thead th {\n",
       "        text-align: right;\n",
       "    }\n",
       "</style>\n",
       "<table border=\"1\" class=\"dataframe\">\n",
       "  <thead>\n",
       "    <tr style=\"text-align: right;\">\n",
       "      <th></th>\n",
       "      <th>entID</th>\n",
       "      <th>docID</th>\n",
       "      <th>start</th>\n",
       "      <th>end</th>\n",
       "      <th>hpo</th>\n",
       "      <th>entity</th>\n",
       "      <th>text</th>\n",
       "    </tr>\n",
       "  </thead>\n",
       "  <tbody>\n",
       "    <tr>\n",
       "      <th>0</th>\n",
       "      <td>12</td>\n",
       "      <td>1</td>\n",
       "      <td>35</td>\n",
       "      <td>53</td>\n",
       "      <td>HP_0000006</td>\n",
       "      <td>autosomal dominant</td>\n",
       "      <td>Townes-Brocks syndrome (TBS) is an autosomal d...</td>\n",
       "    </tr>\n",
       "    <tr>\n",
       "      <th>1</th>\n",
       "      <td>13</td>\n",
       "      <td>1</td>\n",
       "      <td>95</td>\n",
       "      <td>114</td>\n",
       "      <td>HP_0003828</td>\n",
       "      <td>variable expression</td>\n",
       "      <td>Townes-Brocks syndrome (TBS) is an autosomal d...</td>\n",
       "    </tr>\n",
       "    <tr>\n",
       "      <th>2</th>\n",
       "      <td>14</td>\n",
       "      <td>1</td>\n",
       "      <td>139</td>\n",
       "      <td>161</td>\n",
       "      <td>HP_0000356</td>\n",
       "      <td>external ear anomalies</td>\n",
       "      <td>Townes-Brocks syndrome (TBS) is an autosomal d...</td>\n",
       "    </tr>\n",
       "    <tr>\n",
       "      <th>3</th>\n",
       "      <td>15</td>\n",
       "      <td>1</td>\n",
       "      <td>163</td>\n",
       "      <td>175</td>\n",
       "      <td>HP_0000365</td>\n",
       "      <td>hearing loss</td>\n",
       "      <td>Townes-Brocks syndrome (TBS) is an autosomal d...</td>\n",
       "    </tr>\n",
       "    <tr>\n",
       "      <th>4</th>\n",
       "      <td>16</td>\n",
       "      <td>1</td>\n",
       "      <td>177</td>\n",
       "      <td>197</td>\n",
       "      <td>HP_0001841</td>\n",
       "      <td>preaxial polydactyly</td>\n",
       "      <td>Townes-Brocks syndrome (TBS) is an autosomal d...</td>\n",
       "    </tr>\n",
       "    <tr>\n",
       "      <th>...</th>\n",
       "      <td>...</td>\n",
       "      <td>...</td>\n",
       "      <td>...</td>\n",
       "      <td>...</td>\n",
       "      <td>...</td>\n",
       "      <td>...</td>\n",
       "      <td>...</td>\n",
       "    </tr>\n",
       "    <tr>\n",
       "      <th>634</th>\n",
       "      <td>1912</td>\n",
       "      <td>225</td>\n",
       "      <td>705</td>\n",
       "      <td>726</td>\n",
       "      <td>HP_0002671</td>\n",
       "      <td>basal cell carcinomas</td>\n",
       "      <td>Mutations of the human Patched gene ( PTCH ) h...</td>\n",
       "    </tr>\n",
       "    <tr>\n",
       "      <th>635</th>\n",
       "      <td>1913</td>\n",
       "      <td>225</td>\n",
       "      <td>734</td>\n",
       "      <td>750</td>\n",
       "      <td>HP_0002885</td>\n",
       "      <td>medulloblastomas</td>\n",
       "      <td>Mutations of the human Patched gene ( PTCH ) h...</td>\n",
       "    </tr>\n",
       "    <tr>\n",
       "      <th>636</th>\n",
       "      <td>1914</td>\n",
       "      <td>225</td>\n",
       "      <td>809</td>\n",
       "      <td>824</td>\n",
       "      <td>HP_0002885</td>\n",
       "      <td>medulloblastoma</td>\n",
       "      <td>Mutations of the human Patched gene ( PTCH ) h...</td>\n",
       "    </tr>\n",
       "    <tr>\n",
       "      <th>637</th>\n",
       "      <td>1915</td>\n",
       "      <td>225</td>\n",
       "      <td>866</td>\n",
       "      <td>886</td>\n",
       "      <td>HP_0002671</td>\n",
       "      <td>basal cell carcinoma</td>\n",
       "      <td>Mutations of the human Patched gene ( PTCH ) h...</td>\n",
       "    </tr>\n",
       "    <tr>\n",
       "      <th>638</th>\n",
       "      <td>1916</td>\n",
       "      <td>225</td>\n",
       "      <td>953</td>\n",
       "      <td>960</td>\n",
       "      <td>HP_0002664</td>\n",
       "      <td>tumours</td>\n",
       "      <td>Mutations of the human Patched gene ( PTCH ) h...</td>\n",
       "    </tr>\n",
       "  </tbody>\n",
       "</table>\n",
       "<p>639 rows × 7 columns</p>\n",
       "</div>"
      ],
      "text/plain": [
       "     entID  docID  start  end         hpo                  entity  \\\n",
       "0       12      1     35   53  HP_0000006      autosomal dominant   \n",
       "1       13      1     95  114  HP_0003828     variable expression   \n",
       "2       14      1    139  161  HP_0000356  external ear anomalies   \n",
       "3       15      1    163  175  HP_0000365            hearing loss   \n",
       "4       16      1    177  197  HP_0001841    preaxial polydactyly   \n",
       "..     ...    ...    ...  ...         ...                     ...   \n",
       "634   1912    225    705  726  HP_0002671   basal cell carcinomas   \n",
       "635   1913    225    734  750  HP_0002885        medulloblastomas   \n",
       "636   1914    225    809  824  HP_0002885         medulloblastoma   \n",
       "637   1915    225    866  886  HP_0002671    basal cell carcinoma   \n",
       "638   1916    225    953  960  HP_0002664                 tumours   \n",
       "\n",
       "                                                  text  \n",
       "0    Townes-Brocks syndrome (TBS) is an autosomal d...  \n",
       "1    Townes-Brocks syndrome (TBS) is an autosomal d...  \n",
       "2    Townes-Brocks syndrome (TBS) is an autosomal d...  \n",
       "3    Townes-Brocks syndrome (TBS) is an autosomal d...  \n",
       "4    Townes-Brocks syndrome (TBS) is an autosomal d...  \n",
       "..                                                 ...  \n",
       "634  Mutations of the human Patched gene ( PTCH ) h...  \n",
       "635  Mutations of the human Patched gene ( PTCH ) h...  \n",
       "636  Mutations of the human Patched gene ( PTCH ) h...  \n",
       "637  Mutations of the human Patched gene ( PTCH ) h...  \n",
       "638  Mutations of the human Patched gene ( PTCH ) h...  \n",
       "\n",
       "[639 rows x 7 columns]"
      ]
     },
     "execution_count": 134,
     "metadata": {},
     "output_type": "execute_result"
    }
   ],
   "source": [
    "df_train.replace('\\n', '\\t')"
   ]
  },
  {
   "cell_type": "code",
   "execution_count": 143,
   "metadata": {},
   "outputs": [],
   "source": [
    "df_train.drop_duplicates(subset=['text'])[['docID', 'text']].rename(columns={'docID':'\"MRN\"','text':'\"NOTE\"'}).replace(r'\\n',' ', regex=True).to_csv(r'data/df_train_bulk.txt', sep='|', index=False, quotechar=\"'\") # quotechar"
   ]
  },
  {
   "cell_type": "markdown",
   "metadata": {},
   "source": [
    "## employ clinphen"
   ]
  },
  {
   "cell_type": "code",
   "execution_count": 120,
   "metadata": {},
   "outputs": [
    {
     "name": "stderr",
     "output_type": "stream",
     "text": [
      "Het systeem kan het opgegeven pad niet vinden."
     ]
    },
    {
     "name": "stdout",
     "output_type": "stream",
     "text": [
      "C:\\Users\\levrex\\Anaconda3\\envs\\my_env\\lib\\site-packages\\clinphen_src\\data\\hpo_synonyms.txt\n",
      "[{'', 'affect', 'neurofibromatosis', 'individual', 'i', 'nfu', 'to', 'penetrant', 'nf2', 'condition', 'a', 'neurofibromatosi', 'highly', 'high', 'autosomal', 'predisposing', 'affected', 'dominant', 'schwannomas', '2', 'type', 'highls', 'penetrate', 'schwannoma', 'highling', 'is', 'individuals', 'and'}, {'', 'meningioma', 'meningiomas', 'a'}, {'of', '', 'i', 'well', 'have', 'nfu', 'presenting', 'with', 'meningioma', 'who', 'nf2', 'proportion', 'schwannomum', 'child', 'described', 'a', 'schwannomon', 'schwannoma', 'children', 'is', 'or', 'the', 'describ', 'not', 'meningiomum', 'meningiomon'}, {'and'}, {'of', 'mode', 'presentation', '', 'in', 'i', 'with', 'inherited', 'child', 'neither', 'a', 'children', 'inherit', 'is', 'the', 'most', 'disease'}, {'of', 'frequencing', 'to', 'meningioma', 'the', 'determine', 'meningiomum', 'childhood', 'frequency', 'meningiomon', 'and', 'frequencs'}, {'nfu', 'case', 'nf2', 'by', 'schwannomum', 'cases', 'schwannomon', 'cas', 'schwannoma', 'caused', 'caus', 'casis', 'and'}, {'of', 'mode', 'presentation', '', 'the', 'a'}, {'of', 'tumour', 'record', 'registry', '1954', 'manchester', 'records', 'meningioma', 'case', 'registring', 'from', 'child', 'registrs', 'cases', 'for', 'were', 'cas', 'children', 'the', 'search', 'casis', 'meningiomum', 'searched', 's', 'meningiomon', 'and'}, {'', 'schwannomon', 'schwannoma', 'schwannomum', 'a'}, {'of', 'presentation', '', 'seri', 'in', 'paediatric', 'nfu', 'nf2', 'uk', 'a', 'large', 'wa', 'studied', 'sery', 'paediatria', 'seriis', 'paediatrus', 'was', 'series', 'paediatry', 'serie', 'studi', 'also'}, {'of', '', 'years', 'in', 'age', '61', 'paediatric', 'patient', 'nfu', 'nf2', 'uk', 'a', 'group', 'presented', '0', 'on', 'year', 'the', 'paediatria', 'paediatrus', 'patients', 'paediatry', 'present', 'with', '334', 'database', '15', '18'}, {'of', '', 'tumour', 'frequent', 'with', 'frequentling', 'a', 'isolated', 'isolat', 'frequently', 'symptom', 'symptoms', 'the', 'an', 'frequentls'}, {'', 'fami', 'family', 'histors', 'to', 'no', 'susceptibiliting', 'than', 'alert', 'a', 'susceptibilits', 'their', 'the', 'susceptibility', 'more', 'famils', 'half', 'susceptible', 'historing', 'clinician', 'history', 'familing', 'had'}, {'of', '', 'feature', 'registry', 'manchester', 'nfu', 'presenting', 'to', 'nf2', 'classia', 'child', 'a', 'classus', 'on', 'features', 'featuris', 'the', 'classic', 'meningiomum', 'develop', 'classy', 'three', 'meningiomon', 'tumour', 'have', 'with', 'meningioma', 'gone', 'registring', 'registrs', '22', 'children', 's', 'featur'}, {'', 'should', 'in', 'nfu', 'presenting', 'with', 'meningioma', 'nf2', 'child', 'a', 'suspect', 'children', 'clinicians', 'clinician', 'meningiomum', 'meningiomon'}, {'', 'schwannomon', 'schwannoma', 'schwannomum', 'a'}, {'and'}, {'', 'skin', 'feature', 'features', 'featuris', 'featur', 'a'}, {'', 'schwannomas', 'schwannoma', 'neurofibromas', 'such', 'as', 'neurofibroma', 'a'}, {'but'}, {'fewer', '', 'patch', 'patche', 'au', 'lait', '6', 'patches', 'caf', 'patchis', 'than', 'a'}, {'of', '', 'diagnosi', 'neurofibromatosis', 'thic', 'thus', 'type', 'who', 'thu', 'diagnosis', 'short', 'a', 'fall', 'neurofibromatosi', '1'}]\n",
      "[{'', 'ophthalmic', 'retrospective', 'neurofibromatosis', 'patient', 'nfu', 'neuro', 'nf2', 'monocular', 'for', 'referr', '2', 'them', 'referred', 'four', 'paresis', 'had', 'of', 'unselected', 'that', 'evaluation', 'elevator', 'showed', 'diagnosis', '29', 'a', 'neurofibromatosi', 'the', 'review', 'consecutive', 'unselect', 'show', 'diagnosi', 'after', 'patients', 'type', 'paresi', 'ophthalmy', 'ophthalmus', 'ophthalmia'}, {'of', 'lesions', '', 'lesion', 'two', 'in', 'mri', 'mrus', 'the', 'demonstrated', 'four', 'demonstrat', 'a'}, {'', 'schwannomas', 'schwannoma', 'be', 'presumed', 'to', 'presum', 'a'}, {'of', '', 'the', 'a', 'third', 'nerve'}, {'', 'that', 'ophthalmic', 'elevator', 'in', 'i', 'findings', 'nfu', 'neuro', 'nf2', 'these', 'monocular', 'paresi', 'a', 'ophthalmy', 'indicate', 'ophthalmus', 'ophthalmia', 'is', 'finding', 'paresis', 'common'}, {'probably', 'sign', 'of', '', 'which', 'probabls', 'i', 'probab', 'infiltration', 'by', 'schwannomum', 'third', 'author', 'nerve', 'a', 'schwannomon', 'suspect', 'schwannoma', 'authors', 'probabling', 'compression', 'is', 'or', 'the'}]\n",
      "[{'', 'brachydacty', 'c', 'in', 'clinical', 'variabilits', 'type', 'brachydactyly', 'a', 'brachydactyls', 'variability', 'variabiliting', 'intrafamilial', 'brachydactyling', 'variable'}, {'4', 'fami', 'which', 'in', 'family', 'clinical', 'members', 'we', 'famils', 'present', 'report', 'member', 'generation', 'this', 'thi', 'a', 'describe', 'variability', 'variable', 'familing', 'three', 'and'}, {'radiological', 'of', '', 'brachydacty', 'c', 'manifestations', 'type', 'manifestation', 'abnormal', 'disorder', 'brachydactyly', 'peculiar', 'abnormality', 'unusual', 'brachydactyls', 'a', 'anomalies', 'abnormalities', 'untypical', 'anomaly', 'problem', 'anomalous', 'brachydactyling', 'malformations', 'atypical'}, {'of', 'generations', 'fami', 'in', 'family', 'famils', 'present', 'skipp', 'generation', 'skipped', 'the', 'observation', 'familing', 'and'}, {'', 'in', 'family', 'other', 'familie', 'report', 'previousls', 'previousling', 'famili', 'previous', 'a', 'reported', 'families', 'few', 'familiis', 'previously'}, {'', 'that', 'brachydacty', 'in', 'single', 'gene', 'i', 'to', 'brachydactyly', 'condition', 'may', 'a', 'brachydactyls', 'maing', 'due', 'brachydactyling', 'not', 'autosomal', 'mutations', 'dominant', 'c', 'type', 'mas', 'indicate', 'mutation', 'is', 'true'}, {'', 'brachydacty', 'c', 'in', 'clinical', 'variabilits', 'type', 'brachydactyly', 'a', 'brachydactyls', 'variability', 'variabiliting', 'intrafamilial', 'brachydactyling', 'variable'}, {'4', 'fami', 'which', 'in', 'family', 'clinical', 'members', 'we', 'famils', 'present', 'report', 'member', 'generation', 'this', 'thi', 'a', 'describe', 'variability', 'variable', 'familing', 'three', 'and'}, {'radiological', 'of', '', 'brachydacty', 'c', 'manifestations', 'type', 'manifestation', 'abnormal', 'disorder', 'brachydactyly', 'peculiar', 'abnormality', 'unusual', 'brachydactyls', 'a', 'anomalies', 'abnormalities', 'untypical', 'anomaly', 'problem', 'anomalous', 'brachydactyling', 'malformations', 'atypical'}, {'of', 'generations', 'fami', 'in', 'family', 'famils', 'present', 'skipp', 'generation', 'skipped', 'the', 'observation', 'familing', 'and'}, {'', 'in', 'family', 'other', 'familie', 'report', 'previousls', 'previousling', 'famili', 'previous', 'a', 'reported', 'families', 'few', 'familiis', 'previously'}, {'', 'that', 'brachydacty', 'in', 'single', 'gene', 'i', 'to', 'brachydactyly', 'condition', 'may', 'a', 'brachydactyls', 'maing', 'due', 'brachydactyling', 'not', 'autosomal', 'mutations', 'dominant', 'c', 'type', 'mas', 'indicate', 'mutation', 'is', 'true'}]\n"
     ]
    },
    {
     "name": "stderr",
     "output_type": "stream",
     "text": [
      "\n",
      "2020-09-01 13:42:14 INFO     Processing notes with 6 threads\n"
     ]
    },
    {
     "name": "stdout",
     "output_type": "stream",
     "text": [
      "[{'of', 'neurofibromatosis', 'gene', 'manifestations', 'nfu', 'abnormal', 'nf2', 'tumor', 'inherited', 'cause', 'unusual', 'anomalies', 'neurofibromatosi', 'inherit', 'anomaly', 'problem', 'anomalous', 'the', 'mutations', 'atypical', '2', 'disorder', 'peculiar', 'suppressor', 'abnormality', 'abnormalities', 'untypical', 'mutation', 'malformations', 'and'}, {'', 'malignant', 'in', 'mesotheliomum', 'are', 'mesothelioma', 'a', 'mesotheliomon', 'also', 'common'}, {'of', '', 'feature', 'which', 'characterisia', 'i', 'nfu', 'nf2', 'characteristus', 'a', 'characteristia', 'characterisy', 'is', 'not', 'characteristic', 'characteristy'}, {'nfu', 'report', 'with', 'asbestos', 'nf2', 'author', 'exposed', 'authors', 'person', 'expos', 'asbesto', 'an', 'the', 'and'}, {'', 'mesotheliomon', 'malignant', 'mesotheliomum', 'mesothelioma', 'a'}, {'of', 'confirmed', '', 'immunohistochemical', 'mesotheliomum', 'nfu', 'mesothelioma', 'nf2', 'los', 'a', 'analysis', 'protein', 'mesotheliomon', 'loss', 'analysi', 'the', 'confirm', 'expression'}, {'and'}, {'of', '', 'lossis', 'comparative', 'chromosomes', 'chromosome', 'genomy', 'losse', 'losses', 'hybridization', 'a', 'chromosomis', 'revealed', 'reveal', 'genomia', 'loss', 'genomus', 'genomic', 'chromosom', '14'}, {'', '15', 'a'}, {'and'}, {'', 'a', '22'}, {'and'}, {'of', '', 'gain', '7', 'a'}, {'of', '', 'that', 'i', 'susceptibility', 'more', 'allele', 'propose', 'mesotheliomum', 'with', 'to', 'nfu', 'mesothelioma', 'nf2', 'susceptible', 'author', 'a', 'constitutional', 'mesotheliomon', 'authors', 'mutation', 'is', 'the', 'an', 'person'}]C:\\Users\\levrex\\Anaconda3\\envs\\my_env\\lib\\site-packages\\clinphen_src\\data\\hpo_synonyms.txt\n",
      "[{'', 'addition', 'a', 'to', 'in', 'craniofacial'}, {'', 'auricular', 'a'}, {'', 'ophthalmology', 'ophthalmologia', 'a', 'ophthalmologus', 'ophthalmologic'}, {'and'}, {'', 'anomali', 'anomalie', 'a', 'problem', 'peculiar', 'malformations', 'abnormalities', 'anomalies', 'anomaly', 'anomaliis', 'disorder', 'abnormality', 'oral', 'untypical', 'abnormal', 'anomalous', 'manifestations', 'unusual', 'atypical'}, {'', 'suprum', '113620', 'bof', 'or', 'supron', 'infrum', 'oculo', 'includ', 'includes', 'region', 'defects', 'oculi', 'include', 'syndrome', 'distinctive', 'defect', 'skin', 'branch', 'infra', 'includis', 'infron', 'of', 'phenotype', 'a', 'the', 'facial', 'in', 'auricular', 'supra', 'mim', 'neck', 'branchio'}, {'of', '', 'thin', 'a', 'area', 'problem', 'peculiar', 'malformations', 'abnormalities', 'anomaly', 'anomalies', 'disorder', 'abnormality', 'areas', 'untypical', 'abnormal', 'these', 'anomalous', 'manifestations', 'unusual', 'atypical'}, {'', 'erythematoic', 'a', 'wrinkled', 'the', 'erythematous', 'differ', 'wrinkl', 'erythematou', 'discrete', 'cervical', 'pit', 'skin', 'pits', 'from'}, {'', 'cysts', 'a', 'cyst'}, {'and'}, {'of', '', 'a', 'the', 'oto', 'renal', '113650', 'fistula', 'mim', 'syndrome', 'bor', 'branch', 'fistulas', 'branchio'}, {'of', 'and', 'the', 'bof', 'although'}, {'', 'that', 'thes', 'be', 'syndromes', 'confused', 'sufficient', 'are', 'should', 'confus', 'syndrom', 'syndrome', 'distinctive', 'not', 'sufficientls', 'sufficientling', 'a', 'theing', 'sufficiently', 'syndromis', 'bor', 'they'}, {'can', '', 'stenosis', 'stenosi', 'a', 'associat', 'nasolacrimal', 'with', 'be', 'both', 'associated', 'duct'}, {'', 'deafnes', 'a', 'deafness'}, {'', 'prehelical', 'pits', 'a', 'pit'}, {'', 'a', 'malform', 'pinnon', 'pinnum', 'pinna', 'malformed'}, {'and'}, {'', 'anomali', 'anomalie', 'a', 'problem', 'peculiar', 'malformations', 'abnormalities', 'anomalies', 'anomaly', 'anomaliis', 'disorder', 'renal', 'abnormality', 'manifestations', 'untypical', 'anomalous', 'abnormal', 'unusual', 'atypical'}, {'', 'furthermore', 'a'}, {'and', 'a', 'report', 'reported', 'father'}, {'', 'al', 'et', 'a', 'son', 'legiic', 'regius', 'legius', 'legiu'}, {'1990', '', 'a'}, {'of', '', 'a', 'genet', 'condition', '500', 'colin', 'features', 'featur', '37', '347', 'had', 'featuris', 'clin', 'both', 'feature', 'conditions'}, {'an', '', 'either', 'thes', 'bof', 'malformations', 'or', 'abnormalities', 'anomalies', 'clear', 'disorder', 'abnormality', 'presentation', 'syndrome', 'not', 'whether', 'wa', 'manifestations', 'unusual', 'was', 'of', 'a', 'problem', 'peculiar', 'theing', 'anomaly', 'it', 'atypical', 'had', 'untypical', 'bor', 'anomalous', 'abnormal', 'they'}, {'', 'a', 'represented', 'private', 'or', 'syndrome', 'represent'}, {'of', '', 'issue', 'a', 'issu', 'issuis', 'these', 'issues', 'in', 'light'}, {'', 'we', 'bof', 'select', 'mutation', 'possible', 'syndrome', 'selected', 'locus', 'of', 'a', 'the', 'locic', 'gene', 'eya1', 'as', 'possibility', 'for', 'locu', 'eyam', 'bor'}, {'', 'of', 'five', 'a', 'bof', 'patients', 'patient', 'in'}, {'were', '', 'there', 'a', 'the', 'mutations', 'gene', 'eya1', 'in', 'mutation', 'no', 'detect', 'eyam', 'detected'}, {'', 'that', 'a', 'the', 'allelia', 'to', 'i', 'allely', 'suggesting', 'is', 'allelic', 'allelus', 'it', 'syndrome', 'not', 'bor'}, {'', 'addition', 'a', 'to', 'in', 'craniofacial'}, {'', 'auricular', 'a'}, {'', 'ophthalmology', 'ophthalmologia', 'a', 'ophthalmologus', 'ophthalmologic'}, {'and'}, {'', 'anomali', 'anomalie', 'a', 'problem', 'peculiar', 'malformations', 'abnormalities', 'anomalies', 'anomaly', 'anomaliis', 'disorder', 'abnormality', 'oral', 'untypical', 'abnormal', 'anomalous', 'manifestations', 'unusual', 'atypical'}, {'', 'suprum', '113620', 'bof', 'or', 'supron', 'infrum', 'oculo', 'includ', 'includes', 'region', 'defects', 'oculi', 'include', 'syndrome', 'distinctive', 'defect', 'skin', 'branch', 'infra', 'includis', 'infron', 'of', 'phenotype', 'a', 'the', 'facial', 'in', 'auricular', 'supra', 'mim', 'neck', 'branchio'}, {'of', '', 'thin', 'a', 'area', 'problem', 'peculiar', 'malformations', 'abnormalities', 'anomaly', 'anomalies', 'disorder', 'abnormality', 'areas', 'untypical', 'abnormal', 'these', 'anomalous', 'manifestations', 'unusual', 'atypical'}, {'', 'erythematoic', 'a', 'wrinkled', 'the', 'erythematous', 'differ', 'wrinkl', 'erythematou', 'discrete', 'cervical', 'pit', 'skin', 'pits', 'from'}, {'', 'cysts', 'a', 'cyst'}, {'and'}, {'of', '', 'a', 'the', 'oto', 'renal', '113650', 'fistula', 'mim', 'syndrome', 'bor', 'branch', 'fistulas', 'branchio'}, {'of', 'and', 'the', 'bof', 'although'}, {'', 'that', 'thes', 'be', 'syndromes', 'confused', 'sufficient', 'are', 'should', 'confus', 'syndrom', 'syndrome', 'distinctive', 'not', 'sufficientls', 'sufficientling', 'a', 'theing', 'sufficiently', 'syndromis', 'bor', 'they'}, {'can', '', 'stenosis', 'stenosi', 'a', 'associat', 'nasolacrimal', 'with', 'be', 'both', 'associated', 'duct'}, {'', 'deafnes', 'a', 'deafness'}, {'', 'prehelical', 'pits', 'a', 'pit'}, {'', 'a', 'malform', 'pinnon', 'pinnum', 'pinna', 'malformed'}, {'and'}, {'', 'anomali', 'anomalie', 'a', 'problem', 'peculiar', 'malformations', 'abnormalities', 'anomalies', 'anomaly', 'anomaliis', 'disorder', 'renal', 'abnormality', 'manifestations', 'untypical', 'anomalous', 'abnormal', 'unusual', 'atypical'}, {'', 'furthermore', 'a'}, {'and', 'a', 'report', 'reported', 'father'}, {'', 'al', 'et', 'a', 'son', 'legiic', 'regius', 'legius', 'legiu'}, {'1990', '', 'a'}, {'of', '', 'a', 'genet', 'condition', '500', 'colin', 'features', 'featur', '37', '347', 'had', 'featuris', 'clin', 'both', 'feature', 'conditions'}, {'an', '', 'either', 'thes', 'bof', 'malformations', 'or', 'abnormalities', 'anomalies', 'clear', 'disorder', 'abnormality', 'presentation', 'syndrome', 'not', 'whether', 'wa', 'manifestations', 'unusual', 'was', 'of', 'a', 'problem', 'peculiar', 'theing', 'anomaly', 'it', 'atypical', 'had', 'untypical', 'bor', 'anomalous', 'abnormal', 'they'}, {'', 'a', 'represented', 'private', 'or', 'syndrome', 'represent'}, {'of', '', 'issue', 'a', 'issu', 'issuis', 'these', 'issues', 'in', 'light'}, {'', 'we', 'bof', 'select', 'mutation', 'possible', 'syndrome', 'selected', 'locus', 'of', 'a', 'the', 'locic', 'gene', 'eya1', 'as', 'possibility', 'for', 'locu', 'eyam', 'bor'}, {'', 'of', 'five', 'a', 'bof', 'patients', 'patient', 'in'}, {'were', '', 'there', 'a', 'the', 'mutations', 'gene', 'eya1', 'in', 'mutation', 'no', 'detect', 'eyam', 'detected'}, {'', 'that', 'a', 'the', 'allelia', 'to', 'i', 'allely', 'suggesting', 'is', 'allelic', 'allelus', 'it', 'syndrome', 'not', 'bor'}]\n",
      "[{'', 'we', 'initially', 'development', 'at', '5', 'year', 'initialls', 'oculo', 'child', 'oculi', 'syndrome', 'who', 'months', 'wa', 'branch', 'was', 'month', 'of', 'a', 'the', 'facial', 'age', 'initial', '12', 'initialling', 'on', 'referred', 'with', 'referr', 'report', 'branchio'}, {'of', '', 'a', 'i', 'his', 'is', 'note', 'intelligence', 'hi', 'intelligent', 'normal'}, {'', 'a', 'clas', 'regular', 'placement', 'class'}, {'', 'speech', 'a', 'hypernasal'}, {'and'}, {'', 'a', 'the', 'along', 'continued', 'continu', 'third', 'growth', 'centile'}, {'', 'importance', 'geney', 'i', 'patients', 'genetus', 'genetic', 'patient', 'disorder', 'emphasiz', 'genetia', 'of', 'a', 'the', 'rare', 'is', 'observations', 'serial', 'observation', 'with', 'genety', 'geneia', 'disorders', 'important', 'emphasized'}]\n",
      "[{'and', 'clinical', 'a'}, {'', 'has', 'geney', 'study', 'studs', 'kingdom', 'genetus', 'genetic', 'been', 'nfu', 'neurofibromatosis', 'out', 'nf2', 'genetia', 'carri', 'of', 'a', 'the', 'carried', 'neurofibromatosi', '2', 'in', 'ha', 'studing', 'type', 'genety', 'unit', 'geneia', 'united'}, {'north', 'virtually', 'case', 'virtual', 'casis', 'virtualls', 'cases', 'complete', 'west', 'wa', 'was', 'of', 'ascertainment', 'the', 'achieved', 'achiev', 'in', 'cas', 'england', 'and', 'virtualling'}, {'of', '', 'a', 'incident', 'to', '000', 'in', 'suggests', 'incidence', '40', '33', '1', 'suggest', 'population'}, {'', 'a', 'the', 'as', 'uk', 'whole', 'in'}, {'and', 'case', 'identified', 'cases', 'have', 'casis', 'been', 'identifi', '150', 'cas'}, {'clinical', 'the', 'study', 'to', 'studs', 'used', 'been', 'studing', 'us', 'and'}, {'of', '', 'a', 'geney', 'features', 'featur', 'genetus', 'genetic', 'nfu', 'genetia', 'nf2', 'featuris', 'genety', 'geneia', 'feature'}, {'of', 'inheritance', 'dominant', 'nf2', '', 'confirmed', 'the', 'a', 'inheritant', 'confirm', 'wa', 'nfu', 'was', 'autosomal'}, {'of', 'assessed', 'were', 'representing', '', 'a', 'case', 'mutations', 'casis', '49', 'cas', 'mutation', 'assess', 'as', 'cases', 'new'}, {'and'}, {'', 'rate', 'a', 'the', 'to', '6', 'estimat', 'be', '5', 'mutation', 'x', 'estimated', 'wa', '10', 'was'}, {'that', 'case', 'to', 'inherited', 'at', 'casis', 'year', '18', 'onset', 'maternally', 'inherit', '17', 'cases', 'evident', 'wa', 'effect', 'was', 'maternalls', 'a', 'maternal', 'age', 'gene', 'found', 'in', 'cas', '36', 'support', 'and', 'years', 'evidence', 'maternalling'}, {'', 'paternalling', 'a', 'case', 'paternally', 'inherited', '027', '20', 'paternal', '5', 'casis', 'in', '24', 'cas', '0', 'inherit', 'cases', 'paternalls', 'p'}, {'', 'case', 'inherited', 'also', 'casis', 'preponderance', '0', 'maternally', 'inherit', 'cases', '03', 'preponderant', 'wa', 'p', 'was', 'of', 'maternalls', 'a', 'the', 'maternal', 'cas', 'significant', 'maternalling'}, {'of', '', 'datum', 'that', 'there', 'a', 'daton', 'which', 'types', 'nfu', 'data', 'are', 'nf2', 'present', 'typis', 'type', 'suggest', 'typ', 'da', 'presented', 'two'}, {'and', 'later', 'with', 'one', 'onset'}, {'', 'schwannomas', 'the', 'a', 'onls', 'usual', 'vestibular', 'schwannoma', 'onling', 'on', 'as', 'only', 'feature', 'bilateral'}, {'and'}, {'and', 'the', 'with', 'other', 'earlier', 'onset'}, {'', 'a', 'other', 'multiple', 'tumour', 'tumours'}, {'case', 'or', 'casis', 'easi', 'easily', 'number', 'cases', 'other', 'not', 'did', 'considerable', 'fall', 'of', 'easils', 'a', 'easiling', 'cas', 'group', 'and', 'into', 'one', 'considerability'}, {'on', 'severity', 'such', 'maternal', 'as', 'and', 'a', 'factors', 'other', 'factor', 'effect', 'severiting', 'severits'}, {'', 'a', 'consider', 'to', 'be', 'need', 'ne', 'considered', 'anticipation'}]C:\\Users\\levrex\\Anaconda3\\envs\\my_env\\lib\\site-packages\\clinphen_src\\data\\hpo_synonyms.txt\n",
      "[{'prader', 'willus', 'pws', 'prayer', 'pw', 'syndrome', 'and', 'willi'}, {'', 'of', 'that', 'q13', 'paternal', 'angela', 'distinct', 'angelman', '15q11', 'as', 'or', 'syndrome', 'from', 'gametogenesi', 'are', 'q1', 'maternal', 'a', '4', 'neurobehavioral', 'disorder', 'amelogenesis', 'chromosome', 'disorders', 'deletion', 'often', 'arise', 'most', 'during', 'mb', 'gametogenesis'}, {'', 'respectively', 'respectiveling', 'respectivels', 'a', 'respective'}, {'', '10', 'of', 'a', 'at', 'novo', 'approximate', 'approximateling', '67', '1', 'frequencing', 'birth', 'births', '000', 'approximately', 'de', 'approximatels', 'frequencs', 'frequency'}, {'', 'the', 'common', 'represent', 'a', 'human', 'structural', 'deletions', 'chromosome', 'these', 'deletion', 'genome', 'change', 'in'}, {'', 'these', 'the', 'mechanism', 'elucidate', 'a', 'events', 'underlying', 'to', 'event'}, {'the', 'clusters', 'that', 'characteriz', 'breakpoint', 'regions', 'two', 'cluster', 'we', 'characterized', 'proximal', 'contain', 'region', 'and'}, {'', 'distal', 'cluster', 'a'}, {'', 'sequence', 'yac', 'within', 'region', 'breakpoint', 'were', 'regions', 'potentially', 'dna', 'novel', 'positional', 'or', 'from', 'clon', 'positionally', 'dnum', 'associat', 'the', 'yacs', 'dnon', 'sequences', 'positionalling', 'a', 'associated', 'positionalls', 'potential', 'these', 'sequencis', 'with', 'breakpoints', 'potentialling', 'cloned', 'potentialls', 'sequenc', 'near'}, {'', 'somatic', 'of', 'hybrids', 'somaty', 'somatia', 'a', 'human', 'rodent', 'analyse', 'somaia', 'somay', 'somatus', 'hybrid', 'analys', 'analyses', 'cell', 'analysis'}, {'', 'contigs', 'yac', 'a', 'contig'}, {'and'}, {'15', '', 'chromosomis', 'the', 'sequence', 'of', 'identified', 'sequences', 'normal', 'sequenc', 'a', 'rearrang', 'repeats', 'at', 'breakpoint', 'chromosomes', 'chromosome', 'rearranged', 'end', 'duplicat', 'chromosom', 'or', 'sequencis', 'repeat', 'breakpoints', 'identifi', 'fish', 'duplicated', 'near'}, {'', 'large', 'the', 'duplication', 'genomic', 'of', 'unit', 'her', 'a', 'herc2', 'genomy', 'gene', 'deriv', 'duplications', 'end', 'units', 'novel', 'repeat', 'genomus', 'from', 'derived', 'genomia', 'are'}, {'', 'copiis', 'tissues', 'tissu', 'of', 'transcriptional', 'which', 'copies', 'copi', 'mans', 'are', 'transcriptionally', 'transcriptionalling', 'germline', 'a', 'tissuis', 'copie', 'many', 'tissue', 'maning', 'active', 'copy', 'transcriptionalls', 'in'}, {'', 'patient', 'of', 'has', 'one', 'pw', 'a', 'analyzed', 'patients', 'date', 'analyz', 'an', 'identifiability', 'as', 'pws', 'identifiable', 'ha', 'to', 'five'}, {'', 'deletion', 'the', 'her', 'a', 'rearrang', 'transcript', 'herc2', 'derived', 'from', 'deriv', 'event', 'rearranged'}, {'', 'the', 'q1', 'that', 'q13', 'homologoic', 'a', 'recombination', 'repeats', 'flanking', 'postulate', 'we', 'end', '15q11', 'deletion', 'resulting', 'repeat', 'homologous', 'mediate', 'homologou', 'in'}, {'furthermore', '', 'a'}, {'of', 'that', 'male', 'repeats', 'propose', 'we', 'these', 'active', 'repeat', 'transcription', 'and', 'in'}, {'', 'the', 'process', 'homologoic', 'a', 'recombination', 'may', 'proces', 'germ', 'female', 'maing', 'cells', 'homologous', 'mas', 'homologou', 'facilitate', 'cell'}]\n",
      "[{'old', 'year', 'the', 'gorlin', 'of', 'had', 'case', 'a', 'both', 'japanese', 'we', '14', 'goblin', 'girl', 'syndrome', 'who', 'and', 'present'}, {'', 'ulcerative', 'colitis', 'coliti', 'a'}, {'complained', 'had', 'of', 'for', 'blood', 'she', 'stools', 'complain', 'stool', 'months', '6', 'month', 'and'}, {'', 'scoliosi', 'severe', 'her', 'a', 'from', 'infancy', 'infancing', 'infancs', 'scoliosis'}, {'', 'examination', 'nevi', 'nevus', 'multiple', 'physical', 'a', 'reveal', 'revealed'}, {'palmar', 'and'}, {'', 'pits', 'plantar', 'pit', 'a'}, {'', 'jaw', 'cyst', 'cysts', 'a'}, {'and'}, {'falx', '', 'calcification', 'the', 'calcified', 'cerebri', 'of', 'a', 'cerebrus', 'calcify'}, {'', 'the', 'gorlin', 'diagnosis', 'of', 'goblin', 'syndrome', 'a', 'diagnosi', 'to', 'leading'}, {'colonoscoping', 'edematou', 'edematoic', 'colonoscopy', 'an', 'edematous', 'total', 'colonoscops', 'reveal', 'and', 'revealed'}, {'', 'the', 'colon', 'spotts', 'anu', 'a', 'extending', 'spotty', 'bleeding', 'transverse', 'mucoson', 'spotting', 'anic', 'from', 'mucosum', 'mucosa', 'to', 'anus'}, {'', 'wa', 'examination', 'colitis', 'coliti', 'with', 'a', 'ulcerative', 'compatible', 'also', 'compatibility', 'histological', 'was'}, {'', 'thu', 'thus', 'thic', 'a'}, {'', 'having', 'gorlin', 'her', 'a', 'ulcerative', 'we', 'as', 'colitis', 'goblin', 'coliti', 'syndrome', 'with', 'diagnos', 'diagnosed'}, {'', 'mutation', 'a', 'gene', 'analysi', 'reveal', 'analysis', 'revealed'}, {'', '1247inst', 'a'}, {'', 'the', 'patched', 'pitch', 'a', 'human', 'ptch', 'patch', 'gene', 'in'}, {'', 'the', 'pitch', 'of', 'resulting', 'truncation', 'protein', 'a', 'ptch', 'in'}, {'gorlin', 'goblin', 'syndrome', 'since', 'and', 'sint'}, {'disorders', '', 'rare', 'colitis', 'coliti', 'a', 'childhood', 'ulcerative', 'disorder', 'are', 'in'}, {'', 'i', 'association', 'a', 'thi', 'interesting', 'is', 'this'}, {'correlation', 'the', 'suggesting', 'between', 'a', 'signaling', 'hedgehog', 'and'}, {'disorders', '', 'intestinal', 'disorder', 'a'}]\n",
      "[{'', 'abnormalities', 'gorlin', 'malformations', 'manifestations', 'i', 'anomalies', 'dominant', 'untypical', 'is', 'abnormality', 'problem', 'by', 'carcinomon', 'anomalous', 'syndrome', 'unusual', 'naevoid', 'cell', 'carcinoma', 'autosomal', 'the', 'anomaly', 'a', 'abnormal', 'disorder', 'an', 'characterised', 'peculiar', 'goblin', 'multiple', 'characteris', 'carcinomas', 'atypical', 'nevoid', 'carcinomum', 'basal'}, {'', 'recurrent', 'keratocysts', 'odontogenus', 'a', 'odontogenic', 'odontogenia', 'keratocyst', 'odontogeny'}, {'', 'anomali', 'abnormalities', 'anomaly', 'malformations', 'skeletal', 'manifestations', 'a', 'anomalies', 'abnormal', 'disorder', 'untypical', 'abnormality', 'peculiar', 'anomalous', 'anomaliis', 'unusual', 'atypical', 'anomalie', 'problem'}, {'', 'calcification', 'calcified', 'a', 'intracranial', 'calcify'}, {'and'}, {'', 'abnormalities', 'anomaly', 'malformations', 'manifestations', 'developmental', 'a', 'malformation', 'anomalies', 'abnormal', 'disorder', 'untypical', 'abnormality', 'peculiar', 'anomalous', 'unusual', 'atypical', 'problem'}, {'', 'characterisation', 'the', 'of', 'that', 'causis', 'pathogenesi', 'improve', 'a', 'caus', 'may', 'gene', 'pathogenesis', 'other', 'maing', 'cause', 'syndrome', 'our', 'causes', 'mas', 'understanding', 'carcinomas', 'cell', 'basal', 'carcinoma'}, {'', 'by', 'a', 'analysi', 'linkage', 'analysis'}, {'have', '', 'the', '9q22', 'q1', 'i', 'that', 'a', 'gene', 'shown', 'q31', 'chromosome', 'is', '3', 'we', 'q2', 'locat', 'on', 'located'}, {'the', 'dnon', 'i', 's12', 'between', 'like', 'likeling', 'dna', 'is', 'likely', 'markers', 'most', 'position', 'd9s12', 'marker', 'dnum', 'and', 'likels'}, {'', 'a', 'd9s53'}, {'possible', 'gorlin', 'possibilits', 'of', 'possibility', 'that', 'can', 'for', 'us', 'gene', 'dna', 'syndrome', 'offer', 'possibiliting', 'risk', 'marker', 'be', 'dnum', 'offers', 'and', 'the', 'dnon', 'used', 'location', 'markers', 'goblin', 'estimation', 'in'}, {'', 'patient', 'of', 'identified', 'presymptomatia', 'a', 'for', 'presymptomay', 'patients', 'identification', 'presymptomaty', 'identify', 'presymptomatus', 'surveillance', 'presymptomatic', 'surveillant', 'presymptomaia'}]\n",
      "[{'', 'phenotype', 'the', 'gorlin', 'of', 'a', 'nevic', 'goltz', 'bcn', 'or', 'nevus', 'goblin', 'goetz', 'syndrome', 'bins', 'nevu', 'cell', 'bcns', 'basal'}, {'', '109400', 'a'}, {'', 'omit', 'omim', 'a'}, {'', 'reported', 'of', 'mutation', 'has', 'cases', 'a', 'cas', 'ptch', 'mutations', 'case', 'due', 'casis', 'q', 'chromosome', 'trait', '9q', 'deletion', 'been', 'pitch', 'interstitial', 'report', 'ha', 'to', 'mendelian', 'few', 'in'}, {'old', '', 'sellum', 'of', 'sella', 'turcica', 'we', 'turcicon', 'including', 'bins', 'feature', 'clinical', 'consistent', 'year', 'bridging', 'features', 'a', 'turcicum', 'sellon', 'featur', 'bcn', '11', 'an', 'featuris', 'girl', 'with', 'bcns', 'present'}, {'', 'bossing', 'biparietal', 'a'}, {'slanting', '', 'fissuris', 'a', 'downward', 'fissur', 'fissure', 'palpebral', 'fissures'}, {'', 'prognathism', 'mandibility', 'mandible', 'a'}, {'', 'pectic', 'excavatum', 'a', 'pectus', 'pectu'}, {'', 'abnormalities', 'anomaly', 'abnormalitie', 'malformations', 'manifestations', 'a', 'anomalies', 'abnormal', 'disorder', 'untypical', 'abnormality', 'peculiar', 'thumb', 'anomalous', 'abnormalitiis', 'unusual', 'atypical', 'problem', 'abnormaliti'}, {'', 'bifidum', 'a', 'at', 'occult', 'spina', 's4', 'bifidon', 'spinon', 'bifida', 'spinum', 'l5'}, {'', 'nevi', 'nevus', 'a', 'numerous', 'numeroic', 'cell', 'numerou', 'basal'}, {'and'}, {'', 'single', 'carcinomon', 'a', 'cell', 'carcinomum', 'basal', 'carcinoma'}, {'cytogenetia', 'elevated', 'elevate', 'increased', 'banding', 'cytogenetus', 'analysi', 'increase', 'resolution', 'using', 'high', 'cytogenety', 'techniquis', 'techniques', 'technique', 'cytogeney', 'elevation', 'techniqu', 'cytogenetic', 'and', 'cytogeneia', 'analysis'}, {'', '9q22', 'situ', 'gene', 'fluorescence', 'event', 'hybridization', '9', 'as', 'fluorescent', 'interstitial', 'breakage', '2', '32', 'to', '17', 'fish', 'p11', 'secondary', 'the', 'secondaring', 'a', 'ptch', 'mat', 'secondars', 'q33', 'chromosome', '1', 'involving', 'q2', 'deletion', 'in', 'pitch', 'q3', 't', 'q34', 'translocation', 'reveal', 'revealed'}, {'', 'map', 'breakpoint', 'study', 'show', 'studiis', 'studies', 'proximal', 'maps', '9q34', 'to', 'studi', 'showed', 'fish', 'the', 'abl', 'a', '11', 'further', 'studie', 'on', 'all', 'q34', 'translocation'}, {'p11', 'the', 'g17', '88g17', 'bac', 'between', 'rp11', 'clone', 'and'}, {'', 'the', 'lmx1b', 'lm1', 'a', 'gene'}, {'', 'encodis', 'encode', 'the', 'factor', 'encodes', 'a', 'transcription', 'encod', 'gene', 'latter'}, {'', 'loss', 'nail', 'of', 'which', 'for', 'syndrome', 'patella', 'are', 'responsibility', 'the', 'mutation', 'a', 'mutations', 'np', 'patellon', 'patellum', 'los', 'nps', 'function', 'responsible', 'in'}, {'', '161200', 'omim', 'omit', 'a'}, {'', 'interestingls', 'interestingly', 'interesting', 'interestingling', 'a'}, {'', 'e', 'proband', 'of', 'featuris', 'features', 'g', 'our', 'a', 'featur', 'feature', 'some'}, {'dysplasium', 'patellar', 'dysplasia', 'dysplasion', 'bilateral', 'and'}, {'', 'abnormalities', 'anomaly', 'malformations', 'manifestations', 'a', 'anomalies', 'abnormal', 'shape', 'disorder', 'clavicular', 'untypical', 'abnormality', 'peculiar', 'anomalous', 'unusual', 'atypical', 'problem'}, {'', 'carrie', 'the', 'healthy', 'her', 'healths', 'carries', 'a', 'carry', 'carri', 'same', 'as', 'healthing', 'carriis', 'translocation', 'who', 'sister', 'well'}, {'', 'found', 'patient', 'nps', 'with', 'a', 'also', 'np', 'patients', 'are', 'in'}, {'', 'p11', 'the', 'agents', 'common', 'a', 'map', 'breakpoint', 'magenis', 'chromosome', '17p11', 'deletion', 'smith', '2', 'syndrome', 'maps', 'region', 'mageni', 'in'}, {'', 'overlapping', 'clones', 'bac', 'a', 'within', 'clon', 'two', 'clone', 'clonis'}, {'ctd', '2354j3', 'and'}, {'', 'p11', 'rp11', '311f12', 'a'}]C:\\Users\\levrex\\Anaconda3\\envs\\my_env\\lib\\site-packages\\clinphen_src\\data\\hpo_synonyms.txt\n",
      "[{'anomaly', 'dominant', 'peculiar', 'towne', 'towns', 'unusual', 'with', 'syndrome', 'disorder', 'is', 'abnormal', 'manifestations', 'townis', 'i', 'brock', 'multiple', 'malformations', 'untypical', 'rocks', 'anomalous', 'and', 'problem', 'an', 'tb', 'atypical', 'anomalies', 'town', 'abnormality', 'malformation', 'brocks', 'townes', 'autosomal', 'abnormalities', 'tbs'}, {'', 'expression', 'a', 'variable', 'variability'}, {'', 'anomaly', 'include', 'peculiar', 'untypical', 'problem', 'anomalie', 'anomalies', 'atypical', 'anomaliis', 'ear', 'finding', 'unusual', 'abnormality', 'disorder', 'a', 'abnormalities', 'abnormal', 'manifestations', 'major', 'findings', 'malformations', 'anomali', 'external', 'anomalous'}, {'', 'a', 'loss', 'hearing', 'los'}, {'polydacty', 'preaxial', 'polydactyly', 'and', 'polydactyling', 'polydactyls'}, {'triphalangeal', '', 'thumbs', 'a', 'thumb'}, {'', 'anic', 'a', 'anus', 'imperforate', 'anu'}, {'and'}, {'', 'anomaly', 'peculiar', 'problem', 'atypical', 'anomalies', 'unusual', 'abnormality', 'malformation', 'disorder', 'a', 'abnormalities', 'abnormal', 'manifestations', 'renal', 'malformations', 'untypical', 'anomalous'}, {'', 'town', 'towne', 'intelligence', 'towns', 'patients', 'with', 'syndrome', 'brocks', 'townes', 'a', 'townis', 'patient', 'intelligent', 'normal', 'brock', 'have', 'rocks', 'most'}, {'few', '', 'been', 'not', 'a', 'ha', 'although', 'mental', 'noted', 'retardation', 'in', 'has'}]\n",
      "[{'', 'frequent', 'are', 'neurofibromatosi', 'the', '2', 'frequently', 'schwannoma', 'in', 'patients', 'frequentls', 'a', 'frequentling', 'patient', 'neurofibromatosis', 'schwannomas', 'skin', 'observed', 'observ'}, {'', 'case', 'cases', 'casis', 'a', 'of', 'the', 'quarter', 'one', 'cas', 'about', 'in'}, {'', 'symptom', 'are', 'clinical', 'symptoms', 'the', 'tumor', 'this', 'first', 'disease', 'a', 'of', 'skin', 'thi', 'tumors'}, {'', 'recognizing', 'neurofibromatosi', 'ear', '2', 'related', 'earling', 'earls', 'is', 'a', 'therefore', 'i', 'tumors', 'relat', 'diagnosis', 'early', 'tumor', 'diagnosi', 'for', 'neurofibromatosis', 'of', 'skin', 'important'}, {'especially', '', 'pediatrus', 'pediatria', 'especialls', 'in', 'patients', 'pediatry', 'pediatric', 'a', 'especialling', 'patient', 'especial'}, {'', 'studs', 'a', 'study', 'studing', 'thi', 'this', 'in'}, {'tumors', 'schwannoma', 'schwannomas', 'and', 'examin', '36', 'skin', '40', 'tumor', 'we', 'examined'}, {'four', 'neurofibromas', 'from', 'and', '20', 'nf2', 'neurofibroma', 'neurofibromatosi', '2', 'nfu', 'mutations', 'patients', 'patient', 'for', 'neurofibromatosis', 'mutation'}, {'', 'a', 'los', 'allelic', 'allely', 'allelia', 'loss', 'allelus'}, {'', 'identifi', 'been', '75', '15', 'from', 'nf2', 'identified', 'blood', '20', 'the', 'nfu', 'in', 'mutations', 'patients', 'a', 'patient', 'of', 'mutation', 'have'}, {'found', 'mutations', 'mutation', 'five', 'and', 'nf2', 'we', 'nfu', '13', 'in'}, {'', 'nf2', 'los', 'analyz', 'allelic', 'the', 'tumor', 'loss', '45', 'allelia', 'nfu', 'in', 'a', 'of', 'allely', 'analyzed', '40', 'tumors', '18', 'allelus'}, {'or', 'found', '80', '', 'thus', '50', 'allelic', 'allel', 'loss', 'were', 'in', 'out', 'a', 'mutation', 'geney', 'geneia', 'allely', 'allelus', 'examined', 'alteration', 'genetia', '63', 'genetic', 'los', 'thic', 'the', 'alterations', 'genety', 'allelia', 'allele', 'allelis', 'total', 'of', 'alleles', 'examin', 'genetus', 'thu'}, {'', '17', 'a', '43', 'tumor', 'tumors', 'in'}, {'', 'found', 'alteration', 'a', 'on', 'alleles', 'nf2', 'alterations', 'both', 'allel', 'allele', 'allelis', 'nfu', 'were'}, {'', 'result', 'suggest', 'a', 'that', 'these', 'results'}, {'case', 'a', 'of', 'schwannomas', 'and', 'as', 'the', 'vestibular', 'schwannoma', 'in'}, {'meningiomas', '', 'meningioma', 'a'}, {'also', '', 'nf2', 'los', 'the', 'critical', 'loss', 'nfu', 'event', 'schwannoma', 'in', 'product', 'is', 'a', 'gene', 'of', 'development', 'schwannomas', 'i', 'skin', 'functional'}, {'', 'identify', 'help', 'associated', 'neurofibromatosi', '2', 'in', 'identifing', 'a', 'to', 'gene', 'identification', 'geney', 'geneia', 'tumors', 'alteration', 'genetia', 'genetic', 'mas', 'nf2', 'identified', 'identifs', 'the', 'alterations', 'genety', 'maing', 'tumor', 'nfu', 'may', 'of', 'neurofibromatosis', 'skin', 'genetus', 'associat'}, {'', 'case', 'casis', 'thus', 'thu', 'diagnosis', 'thic', 'neurofibromatosi', 'the', '2', 'cas', 'in', 'ambiguou', 'cases', 'a', 'diagnosi', 'of', 'neurofibromatosis', 'ambiguoic', 'ambiguous', 'assisting'}, {'and'}, {'', 'case', 'casis', 'excluding', 'neurofibromatosi', '1', 'cas', 'in', 'cases', 'a', 'neurofibromatosis', 'unclear'}, {'also', '', 'constitutional', 'that', 'was', 'higher', 'in', 'with', 'a', 'mutation', '65', '40', 'tumors', 'report', 'without', 'detection', 'the', 'tumor', 'we', 'mutations', 'patients', 'wa', 'patient', 'of', 'skin', 'rate', 'than'}]\n",
      "[{'with', 'angelman', 'syndrome', '', '25', 'a', 'patient', 'diagnosed', 'diagnos', 'angela', 'among', 'patients'}, {'with', 'deletion', 'detect', 'and', 'detected', '21', 'we'}, {'', 'disoming', 'upd', 'up', '4', 'with', 'a', 'uniparental', 'disoms', 'paternal', 'disomy'}, {'', 'isodisomi', 'postzygotus', 'postzygoty', 'isodisomies', 'postzygoy', 'by', '2', 'postzygoia', 'originating', 'isodisomiis', 'error', 'a', 'isodisomie', 'isodisomy', 'postzygotic', 'postzygotia'}, {'and'}, {'', 'mii', 'a', 'nondisjunction', '1', 'mius', 'event'}, {'', 'technique', 'techniqu', 'a', 'diagnosi', 'wa', 'techniques', 'diagnosis', 'was', 'obtain', 'the', 'by', 'molecular', 'techniquis', 'obtained'}, {'including', 'analysis', 'of', 'and', 'pattern', 'snap', 'snrpn', '1', 'analysi', 'exon', 'methylation'}, {'within', 'microsatellite', 'analysis', 'of', 'and', 'loci', 'locus', 'analysi'}, {'region', '', '15q11', 'a', 'q1', 'the', 'q13', 'outside'}, {'', 'anomaly', 'peculiar', 'are', 'those', 'manifestation', 'previously', 'unusual', 'in', 'disorder', 'reported', 'a', 'manifestations', 'abnormal', 'previousls', 'malformations', 'report', 'untypical', 'previous', 'anomalous', 'deletion', 'problem', 'atypical', 'anomalies', 'abnormality', 'patients', 'present', 'abnormalities', 'patient', 'previousling', 'most'}, {'daton', 'data', 'datum', 'from', 'and', 'clinical', 'comparing', 'the', 'da', 'our'}, {'', 'deletion', 'publish', 'those', 'following', 'the', 'upd', 'we', 'up', 'patients', 'with', 'deletions', 'a', 'patient', 'published', 'observed', 'observ'}, {'', 'group', 'upd', 'higher', 'age', 'years', 'in', 'is', 'a', 'average', 'i', '12', '7', 'diagnosis', '3', 'the', 'up', 'diagnosi', 'of', 'year'}, {'', 'frequent', 'microcepha', 'deletion', 'is', 'a', 'microcephaling', 'patient', 'microcephals', 'i', 'microcephaly', 'more', 'among', 'patients'}, {'', 'walking', 'earlier', 'upd', '2', 'age', 'up', 'years', '9', 'start', 'a', 'children', 'average', '12', 'child', 'year'}, {'', 'deletion', 'the', 'wherea', 'whereas', '2', '1', 'years', '4', 'in', 'patients', 'is', 'a', 'patient', 'average', 'i', 'year'}, {'', 'deletion', 'later', 'upd', '10', '1', 'up', 'years', 'epilepsing', 'in', 'patients', 'start', 'a', '5', 'patient', 'average', '11', 'epileptic', 'started', 'epilepss', '12', 'epilepsy', 'than', 'year'}, {'', 'above', 'mainling', 'main', 'the', 'upd', 'report', 'weight', 'up', 'in', 'patients', 'reported', 'is', 'a', 'patient', 'mainly', 'centile', 'mainls', 'i', '75th', '5th'}, {'few', '', 'saing', 'are', 'upd', 'ability', '88', 'absence', 'in', 'because', 'is', 'to', 'say', 'a', 'i', 'speech', 'more', 'complete', 'sas', 'delet', 'deleted', 'half', 'the', 'words', 'up', '9', 'word', 'patients', 'able', 'common', 'patient', 'of', 'children', 'than', 'absent', 'child'}, {'', 'thu', 'a', 'thus', 'thic'}, {'', 'anomaly', 'peculiar', 'alreading', 'alreads', 'unusual', 'disorder', 'already', 'a', 'abnormal', 'manifestations', 'malformations', 'besides', 'untypical', 'anomalous', 'problem', 'besidis', 'besid', 'beside', 'atypical', 'the', 'anomalies', 'abnormalitie', 'abnormaliti', 'abnormality', 'abnormalities', 'described', 'describ', 'abnormalitiis'}, {'', 'verbal', 'a', 'patient', 'development', 'better', 'somewhat', 'the', 'upd', 'have', 'up', 'patients'}, {'', '5th', 'a', 'above', 'centile', '75th', 'the', 'weight'}, {'and'}, {'', 'ofc', 'a', 'upper', 'normal', 'the', 'range', 'in'}, {'with', 'angelman', 'syndrome', '', '25', 'a', 'patient', 'diagnosed', 'diagnos', 'angela', 'among', 'patients'}, {'with', 'deletion', 'detect', 'and', 'detected', '21', 'we'}, {'', 'disoming', 'upd', 'up', '4', 'with', 'a', 'uniparental', 'disoms', 'paternal', 'disomy'}, {'', 'isodisomi', 'postzygotus', 'postzygoty', 'isodisomies', 'postzygoy', 'by', '2', 'postzygoia', 'originating', 'isodisomiis', 'error', 'a', 'isodisomie', 'isodisomy', 'postzygotic', 'postzygotia'}, {'and'}, {'', 'mii', 'a', 'nondisjunction', '1', 'mius', 'event'}, {'', 'technique', 'techniqu', 'a', 'diagnosi', 'wa', 'techniques', 'diagnosis', 'was', 'obtain', 'the', 'by', 'molecular', 'techniquis', 'obtained'}, {'including', 'analysis', 'of', 'and', 'pattern', 'snap', 'snrpn', '1', 'analysi', 'exon', 'methylation'}, {'within', 'microsatellite', 'analysis', 'of', 'and', 'loci', 'locus', 'analysi'}, {'region', '', '15q11', 'a', 'q1', 'the', 'q13', 'outside'}, {'', 'anomaly', 'peculiar', 'are', 'those', 'manifestation', 'previously', 'unusual', 'in', 'disorder', 'reported', 'a', 'manifestations', 'abnormal', 'previousls', 'malformations', 'report', 'untypical', 'previous', 'anomalous', 'deletion', 'problem', 'atypical', 'anomalies', 'abnormality', 'patients', 'present', 'abnormalities', 'patient', 'previousling', 'most'}, {'daton', 'data', 'datum', 'from', 'and', 'clinical', 'comparing', 'the', 'da', 'our'}, {'', 'deletion', 'publish', 'those', 'following', 'the', 'upd', 'we', 'up', 'patients', 'with', 'deletions', 'a', 'patient', 'published', 'observed', 'observ'}, {'', 'group', 'upd', 'higher', 'age', 'years', 'in', 'is', 'a', 'average', 'i', '12', '7', 'diagnosis', '3', 'the', 'up', 'diagnosi', 'of', 'year'}, {'', 'frequent', 'microcepha', 'deletion', 'is', 'a', 'microcephaling', 'patient', 'microcephals', 'i', 'microcephaly', 'more', 'among', 'patients'}, {'', 'walking', 'earlier', 'upd', '2', 'age', 'up', 'years', '9', 'start', 'a', 'children', 'average', '12', 'child', 'year'}, {'', 'deletion', 'the', 'wherea', 'whereas', '2', '1', 'years', '4', 'in', 'patients', 'is', 'a', 'patient', 'average', 'i', 'year'}, {'', 'deletion', 'later', 'upd', '10', '1', 'up', 'years', 'epilepsing', 'in', 'patients', 'start', 'a', '5', 'patient', 'average', '11', 'epileptic', 'started', 'epilepss', '12', 'epilepsy', 'than', 'year'}, {'', 'above', 'mainling', 'main', 'the', 'upd', 'report', 'weight', 'up', 'in', 'patients', 'reported', 'is', 'a', 'patient', 'mainly', 'centile', 'mainls', 'i', '75th', '5th'}, {'few', '', 'saing', 'are', 'upd', 'ability', '88', 'absence', 'in', 'because', 'is', 'to', 'say', 'a', 'i', 'speech', 'more', 'complete', 'sas', 'delet', 'deleted', 'half', 'the', 'words', 'up', '9', 'word', 'patients', 'able', 'common', 'patient', 'of', 'children', 'than', 'absent', 'child'}, {'', 'thu', 'a', 'thus', 'thic'}, {'', 'anomaly', 'peculiar', 'alreading', 'alreads', 'unusual', 'disorder', 'already', 'a', 'abnormal', 'manifestations', 'malformations', 'besides', 'untypical', 'anomalous', 'problem', 'besidis', 'besid', 'beside', 'atypical', 'the', 'anomalies', 'abnormalitie', 'abnormaliti', 'abnormality', 'abnormalities', 'described', 'describ', 'abnormalitiis'}, {'', 'verbal', 'a', 'patient', 'development', 'better', 'somewhat', 'the', 'upd', 'have', 'up', 'patients'}, {'', '5th', 'a', 'above', 'centile', '75th', 'the', 'weight'}, {'and'}, {'', 'ofc', 'a', 'upper', 'normal', 'the', 'range', 'in'}]\n",
      "[{'growth', '', '5', 'gdf5', 'gift', 'factor', 'differentiation', 'a'}, {'', 'cartilage', 'morphogeney', 'cdmp', 'as', 'known', 'morphogenetia', 'derived', 'deriv', 'morphogeneia', 'camp', 'a', 'morphogenetus', 'protein', 'morphogenety', 'morphogenetic', '1', 'also'}, {'', 'that', 'morphogenesi', 'in', 'i', 'participatis', 'secreted', 'a', 'skeletal', 'signaling', 'molecule', 'is', 'morphogenesis', 'secret', 'participate', 'participates', 'participat'}, {'', 'in', 'gdf5', 'mutation', 'gift', 'heterozygoic', 'heterozygou', 'heterozygous', 'mutations', 'a'}, {'', 'human', 'which', 'maps', '20', 'chromosome', 'map', 'to', 'a'}, {'', 'dominant', 'brachydacty', 'c', 'in', 'individual', 'bdc', 'type', 'with', 'brachydactyly', 'occur', 'brachydactyls', 'a', 'brachydactyling', 'autosomal', 'bbc', 'individuals'}, {'', 'fami', 'in', 'bdc', 'gdf5', 'initial', 'thought', 'initialls', 'homogeneous', 'initialling', 'wa', 'here', 'trait', 'homogeneoic', 'was', 'famils', 'by', 'initially', 'locic', 'mutation', 'whose', 'that', 'reporting', 'locus', 'family', 'frameshift', 'i', 'to', 'a', 'map', 'phenotype', 'gift', '12', 'the', 'human', 'show', 'chromosome', 'we', 'with', 'segregating', 'homogeneou', 'is', 'bbc', 'familing', 'locu'}, {'in', 'additional', 'family', 'bdc', 'proband', 'familie', 'heterozygou', 'famili', 'nine', 'families', 'heterozygoic', 'mutations', 'we', 'with', 'heterozygous', 'probands', 'describe', 'mutation', 'familiis', 'bbc', 'also', 'and'}, {'', 'show', 'nonpenetrant', 'in', 'mutation', 'carrier', 'nonpenetrance', 'a'}, {'', 'finalls', 'final', 'finalling', 'finally', 'a'}, {'', 'containing', 'that', 'polypeptidis', 'polypeptid', 'in', 'gdf5', 'polypeptide', 'vitro', 'efficientls', 'dimer', 'when', 'a', 'do', 'link', 'their', 'misses', 'efficient', 'gift', 'disulphide', 'domains', 'express', 'not', 'domain', 'mutations', 'show', 'linked', 'we', 'active', 'missense', 'expressed', 'form', 'efficiently', 'disulfide', 'polypeptides', 'efficientling', 'mutant', 'mutation', 'dimers'}, {'', 'haploinsufficiencing', 'that', 'hypothesis', 'bdc', 'gdf5', 'haploinsufficiencs', 'these', 'da', 'for', 'a', 'hypothesi', 'haploinsufficiency', 'gift', 'the', 'functional', 'from', 'support', 'datum', 'daton', 'data', 'bbc', 'result', 'results'}]\n",
      "[{'of', 'dominant', 'schwannomas', '2', 'neurofibromatosis', 'characterized', 'i', 'characteriz', 'type', 'nfu', 'nf2', 'by', 'syndrome', 'development', 'neurofibromatosi', 'schwannoma', 'vestibular', 'is', 'an', 'the', 'autosomal', 'and'}, {'of', '', 'other', 'tumors', 'tumor', 'system', 'a', 'nervoic', 'nervous', 'the', 'nervou'}, {'cranial', 'including', 'and'}, {'spinal', '', 'meningioma', 'meningiomas', 'a'}, {'', 'schwannomas', 'schwannoma', 'a'}, {'and'}, {'', 'ependymoma', 'ependymomas', 'a'}, {'of', 'schwannomas', '', 'diagnosi', 'i', 'present', 'bilateral', 'diagnosis', 'for', 'a', 'schwannoma', 'vestibular', 'sufficient', 'is', 'the', 'presence'}, {'', 'neurofibromatosis', 'in', 'manifestations', 'abnormal', 'than', 'unusual', 'a', 'anomalies', 'skin', 'neurofibromatosi', 'anomaly', 'problem', 'anomalous', 'les', '1', 'atypical', 'nf1', 'type', 'manifestation', 'disorder', 'peculiar', 'are', 'abnormality', 'less', 'le', 'abnormalities', 'untypical', 'malformations', 'common'}, {'', 'recklinghausen', 'von', 'disease', 'a'}, {'nf1', 'distinction', 'clinical', 'the', 'and', 'between', 'apparent'}, {'of', '', 'at', 'study', 'locus', 'gene', 'nfu', 'been', 'nf2', 'a', 'linkage', 'the', 'confirm', 'confirmed', 'by', 'level', 'has', 'locic', 'studies', 'studi', 'ha', 'studiis', 'locu', 'studie'}, {'', '17', 'nf1', 'map', 'maps', 'chromosome', 'gene', 'to', 'the', 'a', 'for'}, {'', 'fami', 'in', 'chromosome', 'gene', 'single', 'family', 'famils', 'nfu', 'to', 'been', 'nf2', 'assign', 'has', 'a', '22', 'for', 'wherea', 'ha', 'the', 'familing', 'whereas', 'assigned'}, {'of', 'geney', 'elevate', 'geneia', 'nfu', 'to', 'increased', 'mapping', 'genetia', 'nf2', 'genetus', 'elevation', 'genety', 'elevated', 'precision', 'genetic', 'high', 'the', 'increase', 'and'}, {'', 'susceptibilits', 'additional', 'locus', 'susceptibility', 'whether', 'exist', 'to', 'determine', 'susceptible', 'loci', 'susceptibiliting', 'a'}, {'family', 'polymorphia', 'familie', 'nfu', 'famili', 'nf2', 'using', 'polymorphy', 'linkage', 'on', 'families', '12', 'polymorphic', 'performed', 'perform', 'chromosome', 'we', 'have', 'with', 'by', 'markers', 'four', 'from', 'marker', '22', 'analysis', 'analysi', 'familiis', 'polymorphus', 'and'}, {'', '17', 'nf1', 'at', 'chromosome', 'locus', 'marker', 'a', 'locic', 'on', 'the', 'locu'}, {'of', 'assignment', 'chromosome', 'gene', 'nfu', 'to', 'nf2', 'results', '22', 'for', 'the', 'our', 'result', 'confirm', 'and'}, {'of', '', 'geney', 'hypothesis', 'heterogeneity', 'geneia', 'heterogeneits', 'genetia', 'heterogeneiting', 'genetus', 'genety', 'a', 'do', 'support', 'hypothesi', 'genetic', 'the', 'not'}, {'', 'that', 'in', 'family', 'familie', 'now', 'selected', 'presymptomatus', 'famili', 'diagnosis', 'believe', 'for', 'a', 'used', 'presymptomay', 'families', 'select', 'presymptomatia', 'diagnosi', 'chromosome', 'presymptomaty', 'presymptomaia', 'we', 'markers', 'can', 'marker', '22', 'presymptomatic', 'be', 'familiis', 'us'}, {'', 'locus', 'gene', 'i', 'nfu', 'to', 'nf2', 'tightls', 'a', 'link', 'tight', 'score', '12', 'the', '4', 'linked', 'lod', 'old', 'tightly', 'maximum', 'locic', 'tightling', 'd22s32', 'is', 'locu'}, {'', 'fraction', '0', 'recombination', 'a'}, {'', '5', 'at', 'in', 'locus', 'family', 'familie', 'famili', 'cry', 'a', 'con', 'wa', 'cum', 'families', 'score', 'the', 'most', 'informative', 'was', 'lod', 'old', 'cryb2', 'marker', '99', 'locic', 'polymorphism', 'repeat', 'familiis', 'our', 'ca', 'locu'}, {'but'}, {'fraction', 'between', 'because', 'nfu', 'the', 'nf2', 'and', 'observ', 'observed', 'recombination'}, {'', '10', 'was', 'wa', 'cm', 'cryb2', 'cry', 'a'}, {'', 'interpret', 'need', 'prediction', 'will', 'caution', 'to', 'with', 'marker', 'this', 'thi', 'a', 'using', 'be', 'interpreted', 'ne', 'predictions'}]\n",
      "[{'of', '', 'neurofibromatosis', 'family', 'familie', 'manifestations', 'abnormal', 'famili', 'unusual', 'a', 'anomalies', 'neurofibromatosi', 'nf', 'anomaly', 'families', 'problem', 'anomalous', 'studied', 'an', 'atypical', 'variant', 'we', 'with', 'disorder', 'peculiar', 'abnormality', 'two', 'abnormalities', 'studi', 'untypical', 'familiis', 'malformations'}, {'fami', 'neurofibromas', 'family', 'famils', 'first', 'spinal', 'neurofibroma', 'the', 'familing', 'and', 'had'}, {'', 'cl', 'au', 'spot', 'lait', 'patches', 'caf', 'cls', 'a', 'spots'}, {'spinal', '', 'second', 'neurofibromas', 'cl', 'without', 'neurofibroma', 'the', 'cls', 'a'}, {'of', '', 'nf1', 'sign', 'signs', 'other', 'nfu', 'or', 'nf2', 'a'}, {'', 'such', 'as', 'cutaneous', 'tumors', 'tumor', 'cutaneou', 'cutaneoic', 'a'}, {'', 'nodules', 'nodule', 'lisch', 'nodul', 'nodulis', 'a'}, {'', 'acoustic', 'acousty', 'tumors', 'acoustus', 'acousy', 'or', 'tumor', 'acousia', 'acoustia', 'a'}, {'', 'absent', 'were', 'a'}, {'', 'dominant', 'was', 'in', 'pedigreis', 'pattern', 'with', 'pedigree', 'both', 'pedigre', 'pedigrees', 'a', 'inheritance', 'inheritant', 'consistent', 'wa', 'the', 'autosomal'}, {'to', 'genety', 'tightls', 'link', 'using', 'dnum', 'tight', 'linkage', 'genetic', 'the', 'nf1', 'geney', 'linked', 'geneia', 'with', 'tightly', 'dnon', 'genetia', 'genetus', 'markers', 'marker', 'tightling', 'analysis', 'dna', 'analysi', 'and'}, {'', 'nf2', 'a', 'locus', 'loci', 'nfu'}, {'of', '', 'that', 'fami', 'in', 'family', 'gene', 'determined', 'like', 'for', 'likeling', 'a', 'wa', '97', 'the', '1', 'odds', 'nf1', 'was', 'likely', 'determin', 'we', 'famils', 'with', 'odd', 'first', 'mutation', 'location', 'familing', 'likels'}, {'', 'fami', '000', 'in', 'locus', 'family', '100', 'than', 'wherea', 'a', 'exclud', 'wa', 'the', '1', 'odds', 'second', 'nf1', 'was', 'famils', 'with', 'odd', 'excluded', 'from', 'locic', 'greater', 'mutation', 'familing', 'locu', 'whereas'}, {'', 'such', 'as', 'family', 'familie', 'families', 'familiis', 'famili', 'these', 'a'}, {'subset', 'of', '', 'which', 'defin', 'in', 'i', 'defined', 'a', 'passed', 'nf', 'phenotype', 'on', 'is', 'pass', 'the'}, {'of', '', 'in', 'genes', 'gene', 'for', 'a', 'gen', 'consequences', 'important', 'genis', 'understanding', 'nf', 'consequenc', 'the', 'mutations', 'functional', 'consequencis', 'are', 'mutation', 'consequence', 'particular'}, {'of', '', 'neurofibromatosis', 'family', 'familie', 'manifestations', 'abnormal', 'famili', 'unusual', 'a', 'anomalies', 'neurofibromatosi', 'nf', 'anomaly', 'families', 'problem', 'anomalous', 'studied', 'an', 'atypical', 'variant', 'we', 'with', 'disorder', 'peculiar', 'abnormality', 'two', 'abnormalities', 'studi', 'untypical', 'familiis', 'malformations'}, {'fami', 'neurofibromas', 'family', 'famils', 'first', 'spinal', 'neurofibroma', 'the', 'familing', 'and', 'had'}, {'', 'cl', 'au', 'spot', 'lait', 'patches', 'caf', 'cls', 'a', 'spots'}, {'spinal', '', 'second', 'neurofibromas', 'cl', 'without', 'neurofibroma', 'the', 'cls', 'a'}, {'of', '', 'nf1', 'sign', 'signs', 'other', 'nfu', 'or', 'nf2', 'a'}, {'', 'such', 'as', 'cutaneous', 'tumors', 'tumor', 'cutaneou', 'cutaneoic', 'a'}, {'', 'nodules', 'nodule', 'lisch', 'nodul', 'nodulis', 'a'}, {'', 'acoustic', 'acousty', 'tumors', 'acoustus', 'acousy', 'or', 'tumor', 'acousia', 'acoustia', 'a'}, {'', 'absent', 'were', 'a'}, {'', 'dominant', 'was', 'in', 'pedigreis', 'pattern', 'with', 'pedigree', 'both', 'pedigre', 'pedigrees', 'a', 'inheritance', 'inheritant', 'consistent', 'wa', 'the', 'autosomal'}, {'to', 'genety', 'tightls', 'link', 'using', 'dnum', 'tight', 'linkage', 'genetic', 'the', 'nf1', 'geney', 'linked', 'geneia', 'with', 'tightly', 'dnon', 'genetia', 'genetus', 'markers', 'marker', 'tightling', 'analysis', 'dna', 'analysi', 'and'}, {'', 'nf2', 'a', 'locus', 'loci', 'nfu'}, {'of', '', 'that', 'fami', 'in', 'family', 'gene', 'determined', 'like', 'for', 'likeling', 'a', 'wa', '97', 'the', '1', 'odds', 'nf1', 'was', 'likely', 'determin', 'we', 'famils', 'with', 'odd', 'first', 'mutation', 'location', 'familing', 'likels'}, {'', 'fami', '000', 'in', 'locus', 'family', '100', 'than', 'wherea', 'a', 'exclud', 'wa', 'the', '1', 'odds', 'second', 'nf1', 'was', 'famils', 'with', 'odd', 'excluded', 'from', 'locic', 'greater', 'mutation', 'familing', 'locu', 'whereas'}, {'', 'such', 'as', 'family', 'familie', 'families', 'familiis', 'famili', 'these', 'a'}, {'subset', 'of', '', 'which', 'defin', 'in', 'i', 'defined', 'a', 'passed', 'nf', 'phenotype', 'on', 'is', 'pass', 'the'}, {'of', '', 'in', 'genes', 'gene', 'for', 'a', 'gen', 'consequences', 'important', 'genis', 'understanding', 'nf', 'consequenc', 'the', 'mutations', 'functional', 'consequencis', 'are', 'mutation', 'consequence', 'particular'}]C:\\Users\\levrex\\Anaconda3\\envs\\my_env\\lib\\site-packages\\clinphen_src\\data\\hpo_synonyms.txt\n",
      "[{'', 'anomaly', 'chromosome', 'manifestations', 'syndrome', 'as', 'to', 'absence', 'caused', 'problem', 'unusual', 'abnormalities', 'maternal', 'caus', 'abnormal', 'anomalies', 'abnormality', 'untypical', 'i', 'malformations', 'is', 'neurodevelopmental', 'the', 'of', 'atypical', 'q1', 'a', 'contribution', 'absent', 'q13', 'angela', 'peculiar', 'by', 'disorder', 'anomalous', '15q11', 'angelman'}, {'', 'four', 'classis', 'status', 'cytogeneia', 'molecular', 'as', 'to', 'class', 'classe', 'cytogeney', 'are', 'cytogenetus', 'static', 'cytogenety', 'or', 'of', 'a', 'according', 'there', 'statu', 'cytogenetic', 'cytogenetia', 'classes'}, {'', 'approximatels', 'approximately', '70', 'approximate', 'of', 'q1', 'a', 'patients', 'as', 'approximateling', 'q13', 'patient', 'microdeletion', 'maternal', '15q11'}, {'', 'upd', 'disomy', 'disoms', 'uniparental', 'disoming', 'a', 'up'}, {'imprinting', '', 'defect', 'defects', 'im', 'in', 'centre', 'putative', 'a'}, {'individuals', 'and', 'includ', 'includes', '20', 'the', 'of', '30', 'inheritance', 'a', 'fourth', 'as', 'with', 'include', 'includis', 'biparental', 'inheritant', 'individual'}, {'', 'methylation', 'allely', 'of', 'allelus', 'q1', 'a', 'q13', 'pattern', 'allelic', 'in', 'allelia', 'normal', '15q11'}, {'', 'mutation', 'latter', 'beta', 'ube3um', 'recent', 'as', 'recently', 'identified', 'ube3on', 'causing', 'the', 'of', 'have', 'a', 'been', 'identifi', 'recentls', 'ube3a', 'in', 'mutations', 'group', 'recentling'}, {'', 'phenotypus', 'classis', 'studi', 'difference', 'investigat', 'class', 'classe', 'phenotypy', 'phenotypic', 'these', 'investigated', 'differencis', 'differenc', 'differences', 'few', 'studiis', 'the', 'have', 'a', 'studie', 'studies', 'study', 'phenotypia', 'between', 'classes'}, {'and', '20', 'compared', 'patients', 'non', 'we', 'to', 'patient', 'age', 'matched', 'compar', 'match', 'deletion'}, {'', 'two', 'groups', 'phenotypus', 'significant', 'the', 'difference', 'a', 'phenotypy', 'phenotypic', 'phenotypia', 'differencis', 'differenc', 'between', 'found', 'differences', 'group'}, {'', 'may', 'severe', 'the', 'more', 'a', 'syndrome', 'group', 'contiguous', 'contiguoic', 'mas', 'suggest', 'in', 'gene', 'phenotype', 'contiguou', 'maing', 'deletion'}, {'', 'anomaly', 'chromosome', 'manifestations', 'syndrome', 'as', 'to', 'absence', 'caused', 'problem', 'unusual', 'abnormalities', 'maternal', 'caus', 'abnormal', 'anomalies', 'abnormality', 'untypical', 'i', 'malformations', 'is', 'neurodevelopmental', 'the', 'of', 'atypical', 'q1', 'a', 'contribution', 'absent', 'q13', 'angela', 'peculiar', 'by', 'disorder', 'anomalous', '15q11', 'angelman'}, {'', 'four', 'classis', 'status', 'cytogeneia', 'molecular', 'as', 'to', 'class', 'classe', 'cytogeney', 'are', 'cytogenetus', 'static', 'cytogenety', 'or', 'of', 'a', 'according', 'there', 'statu', 'cytogenetic', 'cytogenetia', 'classes'}, {'', 'approximatels', 'approximately', '70', 'approximate', 'of', 'q1', 'a', 'patients', 'as', 'approximateling', 'q13', 'patient', 'microdeletion', 'maternal', '15q11'}, {'', 'upd', 'disomy', 'disoms', 'uniparental', 'disoming', 'a', 'up'}, {'imprinting', '', 'defect', 'defects', 'im', 'in', 'centre', 'putative', 'a'}, {'individuals', 'and', 'includ', 'includes', '20', 'the', 'of', '30', 'inheritance', 'a', 'fourth', 'as', 'with', 'include', 'includis', 'biparental', 'inheritant', 'individual'}, {'', 'methylation', 'allely', 'of', 'allelus', 'q1', 'a', 'q13', 'pattern', 'allelic', 'in', 'allelia', 'normal', '15q11'}, {'', 'mutation', 'latter', 'beta', 'ube3um', 'recent', 'as', 'recently', 'identified', 'ube3on', 'causing', 'the', 'of', 'have', 'a', 'been', 'identifi', 'recentls', 'ube3a', 'in', 'mutations', 'group', 'recentling'}, {'', 'phenotypus', 'classis', 'studi', 'difference', 'investigat', 'class', 'classe', 'phenotypy', 'phenotypic', 'these', 'investigated', 'differencis', 'differenc', 'differences', 'few', 'studiis', 'the', 'have', 'a', 'studie', 'studies', 'study', 'phenotypia', 'between', 'classes'}, {'and', '20', 'compared', 'patients', 'non', 'we', 'to', 'patient', 'age', 'matched', 'compar', 'match', 'deletion'}, {'', 'two', 'groups', 'phenotypus', 'significant', 'the', 'difference', 'a', 'phenotypy', 'phenotypic', 'phenotypia', 'differencis', 'differenc', 'between', 'found', 'differences', 'group'}, {'', 'may', 'severe', 'the', 'more', 'a', 'syndrome', 'group', 'contiguous', 'contiguoic', 'mas', 'suggest', 'in', 'gene', 'phenotype', 'contiguou', 'maing', 'deletion'}]\n",
      "[{'and', 'mother', 'a'}, {'', 'reported', 'findings', 'a', 'neuroradiological', 'syndrome', 'goblin', 'daughter', 'gorlin', 'similar', 'with', 'are', 'report', 'finding'}, {'calcified', 'these', 'falx', 'and', 'calcify', 'cerebrus', 'include', 'cerebri', 'calcification', 'the', 'of'}, {'tentorium', 'cerebelli', 'and', 'cerebellus', 'cerebellar'}, {'and', 'corpus', 'callosum', 'dysgenesi', 'corpu', 'dysgenesis', 'the', 'of', 'corpic'}, {'', 'vermi', 'a', 'vermis'}, {'and', 'mother', 'was', 'wa', 'in', 'dysgenesi', 'detected', 'dysgenesis', 'vermian', 'both', 'detect'}, {'', 'previously', 'unrecogniz', 'previousling', 'a', 'syndrome', 'goblin', 'suggesting', 'daughter', 'gorlin', 'with', 'previousls', 'previous', 'finding', 'associated', 'associat', 'unrecognized'}]\n",
      "[{'', 'anomaly', 'beta', 'ube3um', 'manifestations', 'los', 'syndrome', 'neurogenic', 'neurogeney', 'function', 'caused', 'problem', 'gene', 'unusual', 'abnormalities', 'caus', 'abnormal', 'ube3on', 'neurogenetic', 'anomalies', 'abnormality', 'untypical', 'i', 'malformations', 'neurogenetia', 'is', 'loss', 'imprint', 'the', 'of', 'atypical', 'q1', 'a', 'imprinted', 'neurogeneia', 'q13', 'angela', 'ube3a', 'in', 'peculiar', 'by', 'disorder', 'neurogenetus', 'anomalous', '15q11', 'angelman', 'neurogenety'}, {'', 'patient', 'in', 'small', 'of', 'a', 'patients', 'group'}, {'imprinting', '', 'defect', 'beta', 'silence', 'ube3um', 'to', 'an', 'maternal', 'ube3on', 'i', 'is', 'due', 'disease', 'the', 'that', 'silences', 'a', 'silencis', 'id', 'ube3a', 'allele', 'silenc'}, {'snrpn', 'approximatels', 'surf', 'band', 'patients', 'detect', 'analysi', 'patient', 'presence', 'snap', 'one', 'an', 'maternal', 'approximately', 'third', 'specify', 'approximate', 'snurf', 'detected', 'methylation', 'but', 'locus', 'the', 'of', 'have', 'a', 'locic', 'specific', 'analysis', 'approximateling', 'specifus', 'id', 'specifia', 'locu', 'faint', 'pcr', 'present', 'in', 'by', 'who'}, {'imprinting', 'cell', 'and', 'no', 'center', 'of', 'that', 'patients', 'id', 'these', 'patient', 'suggest', 'are', 'mosaic', 'mosaics', 'deletion', 'suggested', 'cells'}, {'', 'cell', 'normal', 'a', 'cells'}, {'', 'two', 'patient', 'in', 'studi', 'studied', 'a', 'patients'}, {'and', 'somay', 'somaia', 'somaty', 'molecular', 'somatia', 'somatus', 'proven', 'was', 'somatic', 'wa', 'by', 'mosaicism'}, {'', 'cellular', 'a', 'cloning'}, {'', 'respectively', 'respectiveling', 'respectivels', 'a', 'respective'}, {'', 'fibroblasts', 'before', 'studiis', 'occurred', 'studi', 'the', 'of', 'that', 'fibroblast', 'a', 'stage', 'studie', 'cloned', 'studies', 'id', 'study', 'patient', 'suggest', 'x', 'occurr', 'from', 'inactivation', 'one', 'blastocyst', 'clon'}, {'', 'quantifing', 'degree', 'quantify', 'the', 'of', 'quantifs', 'a', 'to', 'mosaicism'}, {'', 'assay', 'methylation', 'based', 'assas', 'real', 'developed', 'a', 'time', 'novel', 'we', 'on', 'pcr', 'bas', 'assaing', 'quantitative', 'develop'}, {'', '24', 'patient', 'in', 'test', 'a', 'patients', 'tested'}, {'', 'ranged', 'cell', '1', 'the', 'of', 'a', 'to', '40', 'rang', 'percentage', 'from', 'normal', 'cells'}, {'', 'lower', 'milder', 'than', 'methylated', 'clinical', 'patients', 'to', 'analysi', 'patient', 'percentage', 'normal', 'cells', 'cell', 'regression', 'of', 'that', 'have', 'symptom', 'a', 'analysis', 'higher', 'with', 'suggest', 'normalls', 'methylat', 'suggests', 'symptoms', 'normally', 'normalling', 'tend'}, {'', 'a', 'in', 'conclusion'}, {'imprinting', '', 'defect', 'mosay', 'underestimat', 'role', 'defects', 'mosaic', 'mosaia', 'mosaus', 'retardation', 'i', 'is', 'the', 'of', 'that', 'a', 'we', 'mental', 'suggest', 'underestimated', 'in'}]\n",
      "[{'', 'a', 'the', 'featuris', 'major', 'defining', 'features', 'featur', 'feature'}, {'of', '', 'a', 'age', 'at', 'symptoms', 'onset', 'symptom'}, {'and'}, {'', 'studi', 'a', 'survival', 'neurofibromatosi', 'patients', '2', 'patient', 'been', 'in', 'nfu', 'neurofibromatosis', 'nf2', 'studied', 'type', 'with', 'have', '150'}, {'110', 'age', 'the', 'at', 'year', 'n', '57', 'onset', 'and', '21', 'years', 'wa', 'mean', 'was'}, {'of', 'after', '', 'a', 'age', 'case', 'casis', 'year', 'cas', 'no', 'present', 'cases', 'years', '55', 'presented'}, {'', 'acoustus', 'to', 'patients', 'patient', 'symptoms', 'acousty', 'acousy', 'presented', 'schwannomas', 'a', 'neuromon', 'attributability', 'vestibular', 'schwannoma', 'acousia', 'neuromum', 'present', 'with', 'attributable', 'acoustic', 'neuroma', 'acoustia', 'symptom'}, {'', 'a', 'meningioma', 'cranial', 'meningiomas'}, {'and'}, {'spinal', '', 'a', 'tumour', 'tumours'}, {'', 'studi', 'case', 'the', 'authors', 'a', 'personalling', 'personal', 'personally', 'casis', 'in', 'cas', 'author', 'studied', 'cases', 'by', '97', 'personalls'}, {'and', 'skin'}, {'were', 'of', '', 'a', 'the', 'examination', 'to', 'be', 'condition', 'earling', 'found', 'early', 'earls', 'ear', 'sign', 'signs', 'detect', 'useful', 'eye'}, {'case', 'to', 'at', 'likels', 'earling', 'i', 'casis', 'early', 'like', 'cases', 'likeling', 'skin', 'least', 'of', 'likely', '10', 'the', 'examination', 'assist', 'is', 'in', 'cas', 'and', 'earls', 'ear', 'diagnosi', 'diagnosis'}, {'of', '', 'a', 'the', 'examination', 'lens', 'or', 'at', 'many', 'opaciting', 'in', 'opacity', 'len', 'mans', 'cataract', 'opacits', 'as', 'for', 'again', 'maning', 'least', 'eye'}, {'differenc', 'there', 'mark', 'disease', 'difference', 'marked', 'in', 'interfamilial', 'differencis', 'severiting', 'are', 'severits', 'and', 'severity', 'differences', 'intrafamilial'}, {'', 'a', 'susceptible', 'susceptibiliting', 'susceptibilits', 'susceptibility', 'tumour'}, {'', 'ful', 'schwannomas', 'a', 'fulling', 'fully', 'vestibular', 'schwannoma', 'are', 'penetrant', 'not', 'fulls', 'penetrate'}, {'but'}, {'', 'a', 'the', 'usualls', 'condition', 'i', 'usual', 'is', 'express', 'in', 'usually', 'waing', 'way', 'usualling', 'expressed', 'another', 'was'}, {'', 'insufficient', 'decreased', 'impaired', 'to', 'mutations', 'criterium', 'diagnostia', 'lacking', 'alteration', 'i', 'diagnostic', 'diagnosy', 'provision', 'diagnosia', 'mutation', 'difficulties', 'deficient', 'advocat', 'impairment', 'cover', 'trouble', 'diagnostus', 'deficiency', 'lack', 'advocated', 'of', 'diagnosty', 'a', 'the', 'criterion', 'deficits', 'impair', 'low', 'is', 'difficulty', 'deficit', 'for', 'criteria', 'reduced', 'decrease', 'reduce', 'new', 'current'}, {'and', 'proposed', 'a', 'screening', 'i', 'is', 'propos', 'protocol'}, {'of', '', 'discuss', 'a', 'the', 'discussed', 'disease', 'i', 'is', 'heterogeneits', 'heterogeneiting', 'heterogeneity', 'on', 'management', 'effect'}]\n",
      "[{'', 'to', 'disease', 'malformations', 'abnormalities', 'anomalies', 'manifestation', 'investigating', 'disorder', 'abnormality', 'neurofibromatosis', 'nfu', 'pathogenesis', 'nf2', 'manifestations', 'gain', 'unusual', 'of', 'thi', 'a', 'the', 'this', 'problem', 'peculiar', 'anomaly', 'neurofibromatosi', '2', 'pathogenesi', 'type', 'into', 'untypical', 'abnormal', 'insight', 'anomalous', 'ocular', 'by', 'atypical'}, {'', 'techniqu', 'technique', 'histologia', 'techniques', 'a', 'using', 'histology', 'histologus', 'standard', 'techniquis', 'histologic'}, {'', 'immunohistochemistring', 'immunohistochemistry', 'a', 'immunohistochemistrs'}, {'and'}, {'', 'a', 'microscopy', 'electron', 'microscops', 'microscoping'}, {'of', 'we', '', 'a', 'the', '34', 'old', 'woman', 'pathologia', 'finding', 'describ', 'year', 'di', 'pathology', 'nfu', 'pathologic', 'nf2', 'findings', 'described', 'died', 'pathologus', 'complications', 'who', 'complication', 'from', 'ocular'}, {'of', 'we', '', 'lesions', '3', 'lesion', 'a', 'identified', 'types', 'identifi', 'nfu', 'nf2', 'typis', 'type', 'associat', 'typ', 'associated'}, {'', 'cataract', 'cataracts', 'subcapsular', 'a', 'juvenile', 'posterior'}, {'', 'a', 'membran', 'membranis', 'membrane', 'membranes', 'epiretinal'}, {'and'}, {'an', '', 'a', 'schwannomum', 'intrascleral', 'schwannomon', 'schwannoma'}, {'that', 'anterior', 'cells', 'to', 'dysplasy', 'dysplastus', 'dysplasia', 'analysis', 'len', 'cataract', 'dysplasty', 'cell', 'capsule', 'indicated', 'indicat', 'dysplastia', 'cataracts', 'the', 'our', 'lens', 'juvenile', 'posterior', 'in', 'accumulate', 'and', 'subcapsular', 'just', 'dysplastic', 'analysi'}, {'of', '', 'dysplastia', 'that', 'a', 'cells', 'dysplasy', 'dysplastus', 'be', 'membranis', 'dysplasia', 'component', 'may', 'mas', 'nfu', 'nf2', 'leer', 'dysplasty', 'maing', 'cell', 'ller', 'major', 'associat', 'membran', 'm', 'associated', 'membrane', 'membranes', 'epiretinal', 'dysplastic'}, {'of', '', 'that', 'clinical', 'a', 'cells', 'relevance', 'our', 'glial', 'epithelial', 'features', 'featur', 'subset', 'schwann', 'findings', 'cell', 'featuris', 'suggest', 'with', 'relevant', 'feature', 'finding'}, {'', 'a', 'ependymal', 'cells', 'cell'}, {'and'}, {'', 'cells', 'to', 'be', 'may', 'nfu', 'nf2', 'cell', 'particularling', 'particularls', 'particular', 'sensitive', 'of', 'a', 'the', 'particularly', 'gene', 'mas', 'leer', 'loss', 'ller', 'm', 'los', 'maing'}, {'', 'treating', 'to', 'basis', 'may', 'nfu', 'molecular', 'nf2', 'strategi', 'strategiis', 'strategy', 'understanding', 'sensitiviting', 'basi', 'strategie', 'strategies', 'thi', 'a', 'the', 'this', 'novel', 'mas', 'for', 'lead', 'sensitivity', 'sensitivits', 'maing'}, {'', 'to', 'disease', 'malformations', 'abnormalities', 'anomalies', 'manifestation', 'investigating', 'disorder', 'abnormality', 'neurofibromatosis', 'nfu', 'pathogenesis', 'nf2', 'manifestations', 'gain', 'unusual', 'of', 'thi', 'a', 'the', 'this', 'problem', 'peculiar', 'anomaly', 'neurofibromatosi', '2', 'pathogenesi', 'type', 'into', 'untypical', 'abnormal', 'insight', 'anomalous', 'ocular', 'by', 'atypical'}, {'', 'techniqu', 'technique', 'histologia', 'techniques', 'a', 'using', 'histology', 'histologus', 'standard', 'techniquis', 'histologic'}, {'', 'immunohistochemistring', 'immunohistochemistry', 'a', 'immunohistochemistrs'}, {'and'}, {'', 'a', 'microscopy', 'electron', 'microscops', 'microscoping'}, {'of', 'we', '', 'a', 'the', '34', 'old', 'woman', 'pathologia', 'finding', 'describ', 'year', 'di', 'pathology', 'nfu', 'pathologic', 'nf2', 'findings', 'described', 'died', 'pathologus', 'complications', 'who', 'complication', 'from', 'ocular'}, {'of', 'we', '', 'lesions', '3', 'lesion', 'a', 'identified', 'types', 'identifi', 'nfu', 'nf2', 'typis', 'type', 'associat', 'typ', 'associated'}, {'', 'cataract', 'cataracts', 'subcapsular', 'a', 'juvenile', 'posterior'}, {'', 'a', 'membran', 'membranis', 'membrane', 'membranes', 'epiretinal'}, {'and'}, {'an', '', 'a', 'schwannomum', 'intrascleral', 'schwannomon', 'schwannoma'}, {'that', 'anterior', 'cells', 'to', 'dysplasy', 'dysplastus', 'dysplasia', 'analysis', 'len', 'cataract', 'dysplasty', 'cell', 'capsule', 'indicated', 'indicat', 'dysplastia', 'cataracts', 'the', 'our', 'lens', 'juvenile', 'posterior', 'in', 'accumulate', 'and', 'subcapsular', 'just', 'dysplastic', 'analysi'}, {'of', '', 'dysplastia', 'that', 'a', 'cells', 'dysplasy', 'dysplastus', 'be', 'membranis', 'dysplasia', 'component', 'may', 'mas', 'nfu', 'nf2', 'leer', 'dysplasty', 'maing', 'cell', 'ller', 'major', 'associat', 'membran', 'm', 'associated', 'membrane', 'membranes', 'epiretinal', 'dysplastic'}, {'of', '', 'that', 'clinical', 'a', 'cells', 'relevance', 'our', 'glial', 'epithelial', 'features', 'featur', 'subset', 'schwann', 'findings', 'cell', 'featuris', 'suggest', 'with', 'relevant', 'feature', 'finding'}, {'', 'a', 'ependymal', 'cells', 'cell'}, {'and'}, {'', 'cells', 'to', 'be', 'may', 'nfu', 'nf2', 'cell', 'particularling', 'particularls', 'particular', 'sensitive', 'of', 'a', 'the', 'particularly', 'gene', 'mas', 'leer', 'loss', 'ller', 'm', 'los', 'maing'}, {'', 'treating', 'to', 'basis', 'may', 'nfu', 'molecular', 'nf2', 'strategi', 'strategiis', 'strategy', 'understanding', 'sensitiviting', 'basi', 'strategie', 'strategies', 'thi', 'a', 'the', 'this', 'novel', 'mas', 'for', 'lead', 'sensitivity', 'sensitivits', 'maing'}]C:\\Users\\levrex\\Anaconda3\\envs\\my_env\\lib\\site-packages\\clinphen_src\\data\\hpo_synonyms.txt\n",
      "[{'', 'of', 'feature', 'severe', 'a', 'featur', 'mental', 'the', 'comprise', 'angela', 'retardation', 'as', 'clinical', 'features', 'syndrome', 'angelman', 'featuris'}, {'', 'a', 'microcepha', 'microcephals', 'postnatal', 'microcephaly', 'microcephaling'}, {'macrostomion', 'macrostomium', 'and', 'macrostomia'}, {'', 'prognathium', 'prognathion', 'prognathia', 'a'}, {'', 'absent', 'speech', 'of', 'a', 'absence'}, {'', 'ataxium', 'ataxion', 'ataxia', 'a'}, {'and'}, {'', 'happing', 'a', 'happy', 'happs', 'disposition'}, {'', 'deficit', 'reduce', 'impair', 'feature', 'seven', 'a', 'deficiency', 'low', 'patients', 'impaired', 'we', 'report', 'these', 'who', 'features', 'decreased', 'insufficient', 'lacking', 'reduced', 'featuris', 'difficulty', 'difficulties', 'of', 'trouble', 'deficient', 'featur', 'on', 'deficits', 'most', 'lack', 'patient', 'impairment', 'decrease'}, {'but'}, {'', 'obesiting', 'present', 'a', 'obesits', 'presented', 'with', 'obesity'}, {'hypotonium', 'and', 'hypotonion', 'muscular', 'hypotonia'}, {'', 'a', 'retardation', 'mild', 'mental'}, {'', 'the', 'based', 'a', 'findings', 'on', 'finding', 'bas', 'latter'}, {'', 'suspect', 'of', 'a', 'initialls', 'patients', 'willi', 'initially', 'prader', 'initial', 'were', 'the', 'prayer', 'having', 'willus', 'initialling', 'patient', 'syndrome', 'suspected'}, {'analysi', 'of', 'and', 'analysis', 'dna', 'methylation', 'snrpn', 'dnum', 'snap', 'dnon'}, {'', 'a', 'd15s63'}, {'', 'a', 'however'}, {'', 'a', 'pattern', 'reveal', 'as', 'revealed', 'an'}, {'', 'absent', 'the', 'maternal', 'or', 'a', 'wa', 'ie', 'faint', 'was', 'band'}, {'cytogenetic', 'study', 'cytogenetia', 'studies', 'and', 'studiis', 'cytogeneia', 'cytogenetus', 'cytogenety', 'cytogeney', 'studie', 'studi'}, {'', 'apparentls', 'chromosom', 'chromosome', 'of', 'a', 'analysis', 'apparent', 'demonstrat', 'chromosomes', 'normal', 'inheritant', 'apparentling', 'analysi', 'inheritance', '15', 'biparental', 'chromosomis', 'apparently', 'microsatellite', 'demonstrated'}, {'conclude', 'we', 'that', 'these', 'and', 'imprinting', 'patient', 'patients', 'have', 'an', 'defect'}, {'', 'of', 'unrecognised', 'a', 'previous', 'previousls', 'unrecognis', 'previously', 'as', 'form', 'previousling'}, {'', 'explained', 'or', 'cellular', 'a', 'may', 'mild', 'be', 'mosaicism', 'by', 'incomplete', 'explain', 'an', 'defect', 'phenotype', 'the', 'imprinting', 'maing', 'mas'}]\n",
      "[{'transcription', 'to', 'highling', 'a', 'familing', 'turn', 'nine', 'highly', 'dnum', 'helix', 'factors', 'regulatoring', 'irf6', 'that', 'and', 'factor', 'interferon', 'belong', 'belongs', 'dnon', 'of', 'regulators', '6', 'dna', 'irfu', 'conserved', 'high', 'conserv', 'regulatory', 'famils', 'family', 'binding', 'fami', 'domain', 'share', 'highls'}, {'less', '', 'les', 'a', 'binding', 'le', 'conserved', 'conserv', 'domain', 'protein'}, {'alphum', 'of', 'expression', 'most', 'regulate', 'iris', 'the', 'and', 'alphon', 'alpha', 'interferon', 'irfs', 'irf'}, {'', 'after', 'viral', 'infection', 'a', 'beton', 'beta', 'betum'}, {'but'}, {'', 'the', 'of', 'irf6', 'unknown', 'is', 'a', 'irfu', 'i', 'function'}, {'', 'in', 'van', 'locat', 'vw', 'a', 'irfu', 'houde', 'region', 'vws', 'critical', 'encoding', 'the', 'irf6', 'for', 'vs', 'is', 'woude', 'syndrome', 'i', 'gene', 'located', 'der'}, {'', 'ref', 'locus', 'chromosome', '2', '119300', 'a', 'q1', '1q32', 'q2', 'omim', 'at', 'refs', 'omit', 'locic', '3', 'locu', 'q41'}, {'untypical', 'problem', 'anomalies', 'dominant', 'and', 'is', 'unusual', 'form', 'atypical', 'malformations', 'anomaly', 'autosomal', 'of', 'disorder', 'abnormalities', 'an', 'peculiar', 'manifestations', 'lip', 'the', 'abnormality', 'cleft', 'i', 'abnormal', 'anomalous'}, {'', 'lip', 'a', 'palate', 'with', 'pits', 'pit'}, {'and'}, {'', 'common', 'of', 'or', 'a', 'syndromus', 'most', 'syndromic', 'lip', 'syndromia', 'the', 'is', 'cleft', 'syndromy', 'syndrome', 'i', 'palate', 'form'}, {'', 'pterygium', 'pp', 'a', 'popliteal', 'syndrome', 'pps'}, {'also', 'untypical', 'a', 'skin', 'problem', 'includis', 'orofacial', 'anomalies', 'omit', 'that', 'is', 'and', 'unusual', 'similar', 'atypical', 'include', 'malformations', 'anomaly', 'disorder', 'abnormalities', 'with', 'peculiar', 'omim', 'phenotype', 'manifestations', 'includes', 'abnormality', 'includ', 'i', 'abnormal', 'anomalous', '119500'}, {'', 'anomali', 'malformations', 'anomaly', 'untypical', 'disorder', 'genital', 'a', 'problem', 'abnormalities', 'peculiar', 'anomaliis', 'anomalies', 'manifestations', 'abnormality', 'anomalous', 'unusual', 'abnormal', 'atypical', 'anomalie'}, {'overlap', 'and', 'phenotypus', 'phenotypy', 'phenotypia', 'phenotypic'}, {'', 'allelia', 'disorder', 'allelic', 'a', 'two', 'da', 'allelus', 'daton', 'are', 'disorders', 'that', 'these', 'datum', 'suggest', 'linkage', 'allely', 'data'}, {'', 'in', 'a', 'we', 'irf6', 'for', 'twins', 'vs', 'who', 'monozygotus', 'nonsense', 'monozygotia', 'affect', 'of', 'monozygoy', 'twin', 'vw', 'irfu', 'monozygoia', 'vws', 'discordant', 'were', 'the', 'pair', 'found', 'affected', 'monozygotic', 'monozygoty', 'mutation'}, {'', 'subsequentls', 'subsequentling', 'subsequently', 'subsequent', 'a'}, {'in', 'familie', 'identified', 'familiis', 'additional', 'we', 'irf6', 'famili', 'and', 'vs', 'families', 'affect', 'unrelat', 'vw', 'irfu', 'vws', 'with', 'identifi', 'family', 'mutations', 'affected', 'unrelated', '45', 'mutation'}, {'', 'in', 'familie', 'a', 'distinct', 'pps', 'affect', 'familiis', 'with', 'pp', '13', 'famili', 'family', 'mutations', 'affected', 'families', 'mutation'}, {'', 'elevation', 'along', 'analys', 'a', 'increase', 'level', 'elevate', 'increased', 'irf6', 'levels', 'fusing', 'analyses', 'mrnon', 'analyse', 'mrna', 'of', 'show', 'elevated', 'expression', 'analysis', 'irfu', 'edge', 'high', 'medial', 'showed', 'the', 'mrnum', 'palate'}, {'', 'tooth', 'bud', 'a', 'buds'}, {'hair', '', 'follicle', 'a', 'follicl', 'follicles', 'folliclis'}, {'genitalium', 'and', 'genitalia', 'genitalion'}, {'', 'skin', 'a'}, {'of', 'haploinsufficiencing', 'haploinsufficiency', 'irfu', 'disrupt', 'disrupts', 'demonstrate', 'orofacial', 'development', 'irf6', 'observations', 'that', 'and', 'observation', 'haploinsufficiencs', 'our'}, {'of', 'negative', 'skin', 'disturbing', 'with', 'development', 'the', 'dominant', 'are', 'and', 'mutations', 'consistent', 'mutation'}, {'', 'genitalium', 'genitalia', 'genitalion', 'a'}]\n",
      "[{'', '1', 'cdmp', 'a', 'camp'}, {'', 'a', 'specify', 'tgfss', 'molecul', 'member', 'tess', 'molecule', 'superfamily', 'secreted', 'specific', 'cartilage', 'of', 'specifia', 'signaling', 'specifus', 'tgfs', 'moleculis', 'superfami', 'the', 'secret', 'superfamiling', 'superfamils', 'molecules'}, {'', 'in', 'play', 'plays', 'kes', 'key', 'a', 'role', 'chondrogenesi', 'chondrogenesis', 'keing'}, {'and', 'growth'}, {'vertebrate', '', 'skeleton', 'the', 'of', 'a', 'patterning', 'developing'}, {'cause', 'and', 'homozygou', 'mutations', 'homozygoic', 'homozygous', '1', 'thompson', 'hunter', 'cdmp', 'mutation', 'camp'}, {'typ', 'of', 'chondrodysplasion', 'type', 'types', 'acromesomelia', 'acromesomelic', 'acromesomelus', 'and', 'acromesomely', 'typis', 'chondrodysplasium', 'grebe', 'chondrodysplasia'}, {'', 'in', 'humans', 'a', 'duran', 'syndrome', 'dupan', 'human'}, {'brachypodism', '', 'well', 'in', 'mice', 'mouse', 'mit', 'a', 'as'}, {'', 'while', 'brachydactyly', 'a', 'type', 'heterozygous', 'heterozygoic', 'brachydactyling', 'brachydacty', 'heterozygou', 'cause', 'bbc', 'mutations', 'bdc', 'mutation', 'brachydactyls', 'c'}, {'we', 'present', 'and', 'clinical'}, {'from', '', 'in', 'familie', 'a', '12', 'radiographus', 'heterozygous', 'heterozygoic', 'familiis', 'heterozygou', 'radiographic', 'same', 'daton', 'famili', 'member', 'datum', 'mutation', 'members', 'families', 'cdmp', 'unrelat', 'data', 'da', 'camp', 'the', 'radiographia', 'which', 'family', '1', 'unrelated', 'radiography', 'share', 'three'}, {'', 'insg206', 'a', 'insertion', 'an'}, {'', 'in', 'to', 'haploinsufficiencing', 'a', 'haploinsufficiency', 'functional', 'frameshift', 'cause', 'resulting', 'haploinsufficiencs', 'predicted', 'predict'}, {'', 'although', 'display', 'carrier', 'eight', 'displas', 'a', 'carriers', 'bbc', 'displaing', 'bdc', 'mutation'}, {'and', 'hands', 'normal', 'have', 'hand', 'four'}, {'', 'a', 'foot', 'feet'}, {'', 'nonpenetrant', 'of', 'a', 'bbc', 'mutations', '1', 'nonpenetrance', 'confirming', 'bdc', 'cdmp', 'with', 'mutation', 'camp'}, {'', 'in', 'addition', 'a'}, {'', 'malformations', 'anomaly', 'carrier', 'untypical', 'disorder', 'a', 'other', 'several', 'carriers', 'problem', 'abnormalities', 'abnormalitie', 'peculiar', 'skeletal', 'anomalies', 'manifestations', 'abnormalitiis', 'abnormality', 'anomalous', 'unusual', 'abnormaliti', 'have', 'abnormal', 'atypical'}, {'', 'talus', 'vertical', 'in', 'talu', 'including', 'talic', 'severe', 'a', 'two', 'bilateral'}, {'', 'dysplasium', 'in', 'one', 'a', 'developmental', 'dysplasion', 'hip', 'dysplasia'}, {'and'}, {'short', 'stature', '', 'in', 'a', 'two'}, {'', 'unaffect', 'are', 'otherwise', 'a', 'unaffected', 'who'}, {'in', 'carrier', 'end', 'wa', 'carriers', 'premature', 'plate', 'disease', 'vertebral', 'and', 'was', 'observed', 'mutation', 'observ', 'four'}, {'spondylolysi', 'and', 'wa', 'spondylolysis', 'associated', 'associat', 'with', 'was'}, {'', 'in', 'of', 'spondylolisthesi', 'these', 'a', 'spondylolisthesis', 'three'}, {'', 'in', 'has', 'a', 'axial', 'previous', 'previousls', 'skeletal', 'report', 'been', 'not', 'cdmp', 'previousling', 'ha', 'reported', 'involvement', 'with', 'association', 'camp', 'mutations', 'previously', '1', 'mutation'}, {'', 'in', 'hypertrophus', 'a', 'chondrocyte', 'hypertrophy', 'chondrocytes', 'is', 'chondrocyt', 'finding', 'thi', 'hypertrophic', 'cdmp', 'this', 'expression', 'chondrocytis', 'with', 'camp', 'hypertrophia', 'consistent', '1', 'i', 'human'}, {'', 'in', 'epiphysis', 'of', 'present', 'end', 'platis', 'a', 'epiphys', 'ring', 'plate', 'epiphyses', 'plat', 'epiphyse', 'the', 'are', 'which', 'vertebral', 'plates'}, {'', 'in', 'locus', 'to', 'effect', 'has', 'or', 'a', 'phenotypy', 'functional', 'attributed', 'previous', 'different', 'previousls', 'varied', 'variation', 'phenotypia', 'locu', 'vari', 'been', 'cdmp', 'locic', 'attribut', 'previousling', 'of', 'heterogeneity', 'phenotypus', 'ha', 'either', 'phenotypic', 'camp', 'the', 'effects', 'bbc', 'mutations', 'heterogeneiting', 'previously', '1', 'bdc', 'heterogeneits', 'mutation'}, {'', 'in', 'phenotyp', 'familie', 'a', 'remarkable', 'role', 'caus', 'familiis', 'emphasizes', 'geney', 'remarkability', 'range', 'phenotypes', 'famili', 'genetic', 'these', 'thi', 'crucial', 'cdmp', 'background', 'families', 'genetus', 'emphasizis', 'by', 'emphasiz', 'of', 'this', 'genetia', 'identical', 'camp', 'phenotype', 'genety', 'the', 'phenotypis', 'family', '1', 'emphasize', 'caused', 'geneia', 'mutation'}, {'', 'stochastus', 'in', 'or', 'a', 'stochastia', 'modifying', 'factors', 'phenotype', 'stochastic', 'environmental', 'the', 'variation', 'and', 'stochasy', 'stochasty', 'factor', 'observed', 'observ', 'stochasia'}, {'feature', 'nonpenetrance', 'for', 'that', 'and', 'be', 'finding', 'features', 'appreciability', 'featuris', 'our', 'of', 'featur', 'findings', 'illustrate', 'can', 'typical', 'nonpenetrant', 'the', 'appreciable', 'bbc', 'bdc'}, {'', 'in', 'feature', 'untypical', 'a', 'patients', 'problem', 'skeletal', 'anomalies', 'that', 'report', 'unusual', 'features', 'have', 'been', 'featuris', 'atypical', 'malformations', 'anomaly', 'disorder', 'featur', 'reported', 'abnormalities', 'some', 'with', 'peculiar', 'manifestations', 'e', 'abnormality', 'bbc', 'patient', 'i', 'bdc', 'abnormal', 'anomalous'}, {'', 'clubfoot', 'a'}, {'short', 'stature', '', 'a'}, {'from', 'also', '', 'a', 'result', 'spondylolysis', 'may', 'camp', 'spondylolysi', 'maing', 'mas', '1', 'cdmp', 'mutation'}]\n",
      "[{'', 'angelman', 'angela', 's', 'syndrome', 'a', 'and'}, {'', 'willus', 'prayer', 'of', 'mental', 'retardation', 'causis', 'a', 'caus', 'both', 'recognisable', 'prader', 'cause', 'syndrome', 'with', 'causes', 'recognisability', 'are', 'willi'}, {'but'}, {'', 'different', 'quite', 'a'}, {'', 'a', 'phenotypis', 'phenotyp', 'phenotype', 'phenotypes', 'clinical'}, {'', 'associat', 'of', 'a', 'associated', 'both', 'deletions', 'chromosome', '15q11', 'deletion', '13', 'with', 'are'}, {'angelman', 'of', 'maternal', 'angela', 's', 'origin', 'and', 'in'}, {'', 'in', 'prader', 'prayer', 'willus', 'paternal', 'a', 'willi'}, {'prayer', 'of', 'can', 'chromosom', 'by', 'from', 'and', '15', 'chromosomis', 'inheritant', 'the', 'willus', 'inheritance', 'two', 'chromosomes', 'chromosome', 'mother', 'prader', 'arise', 'willi'}, {'', 'the', 'disoms', 'none', 'maternal', 'disomy', 'a', 'from', 'uniparental', 'disoming', 'father'}, {'', 'evidence', 'of', 'paternal', 'angela', 's', 'evident', 'we', 'angelman', 'disoms', 'disomy', '2', 'syndrome', 'uniparental', 'patient', 'a', 'patients', 'found', 'with', 'disoming', 'in'}, {'effects', 'effect', 'the', 'of', 'maternal', 'phenotypia', 'phenotypy', 'phenotypic', 'phenotypus', 'and'}, {'15', 'paternal', 'of', 'vers', 'different', 'chromosome', 'very', 'disoms', 'disomy', 'vering', 'disoming', 'are', 'and'}, {'', 'not', 'evidence', 'of', '15s', 'evident', 'dois', 'for', 'imprinting', 'genomus', 'from', 'to', 'lead', '15', 'inheritant', 'genomic', 'normal', 'one', 'strong', 'a', 'development', 'inheritance', 'genomy', 'do', 'two', 'does', 'man', 'parent', 'doe', 'genomia', 'in'}, {'', 'upon', 'the', 'which', 'has', 'a', 'gene', 'different', 'same', 'effects', 'effect', 'it', 'its', 'parental', 'origin', 'ha', 'dependent', 'in'}]\n",
      "[{'mutation', 'sall1', 'sally', 'mutations', 'and', 'in'}, {'', 'syndrom', 'syndromes', 'malformation', 'a', 'human', 'for', 'limbic', 'syndrome', 'are', 'gli3', 'syndromis', 'glib', 'limb', 'responsible', 'responsibility'}, {'', 'the', 'understood', 'pathophysiologing', 'of', 'mutation', 'i', 'a', 'mutations', 'incomplete', 'is', 'incompletels', 'these', 'molecular', 'pathophysiologs', 'incompletely', 'incompleteling', 'pathophysiology'}, {'and'}, {'have', 'mouse', '', 'the', 'drawn', 'a', 'perform', 'study', 'conclusions', 'many', 'been', 'maning', 'conclusion', 'studiis', 'studies', 'mans', 'studie', 'from', 'performed', 'studi', 'in'}, {'we', 'identified', 'mutation', 'sall1', 'truncating', 'mutations', 'sally', 'identifi', 'and', 'in'}, {'patient', 'with', 'malformation', 'gli3', 'glib', 'limbic', 'patients', 'limb', 'and', 'in'}, {'', 'mrnum', 'the', 'patient', 'nmd', 'decas', 'of', 'nod', 'decay', 'a', 'expression', 'fibroblasts', 'studied', 'contribution', 'mrna', 'deriv', 'mediat', 'mediated', 'fibroblast', 'decaing', 'nonsense', 'derived', 'to', 'studi', 'mrnon', 'mutant', 'in'}, {'quantify', 'the', 'of', 'proportions', 'relative', 'proportion', 'quantified', 'quantification', 'mutant', 'and'}, {'', 'allel', 'wa', 'wild', 'by', 'allelis', 'alleles', 'a', 'perform', 'pyrosequencing', 'performed', 'allele', 'type', 'was'}, {'', 'sally', 'sall1', 'a', 'in'}, {'', 'nod', 'towns', 'towne', 'syndrome', 'rocks', 'to', 'resistant', 'mutant', 'unexpectedly', 'nmd', 'a', 'brock', 'allele', 'was', 'causing', 'wa', 'unexpected', 'unexpectedls', 'unexpectedling', 'brocks', 'town', 'townis', 'townes'}, {'', 'milder', 'susceptible', 'nmd', 'wherea', 'mutation', 'nod', 'a', 'different', 'whereas', 'was', 'causing', 'wa', 'to', 'much', 'phenotype', 'susceptibility'}, {'', 'gli3', 'glib', 'a', 'in'}, {'', 'tested', 'allel', 'susceptible', 'nmd', 'nod', 'allelis', 'alleles', 'a', 'were', 'allele', 'three', 'all', 'to', 'mutant', 'test', 'susceptibility'}, {'work', 'the', 'provide', 'pathophysiologing', 'of', 'provid', 'providis', 'novel', 'insights', 'molecular', 'insight', 'pathophysiologs', 'sall1', 'sally', 'thi', 'provides', 'pathophysiology', 'into', 'and', 'this'}, {'mutations', '', 'gli3', 'glib', 'mutation', 'a'}, {'', 'spectrum', 'the', 'of', 'mutation', 'phenotypia', 'extends', 'sall1', 'a', 'sally', 'mutations', 'phenotypy', 'extend', 'phenotypic', 'phenotypus'}, {'and'}, {'', 'example', 'not', 'provide', 'of', 'nod', 'which', 'dois', 'accepted', 'provid', 'mammalian', 'accept', 'positional', 'usual', 'provides', 'governing', 'the', 'nmd', 'mutation', 'a', 'human', 'do', 'rul', 'providis', 'does', 'rules', 'an', 'doe', 'follow', 'rulis', 'rule'}, {'', 'liss', 'wiles', 'wiley', 'lis', 'a', 'c', 'wileing', 'li', '2007'}, {'inc', '', 'a'}]\n",
      "[{'have', '', 'the', 'gorlin', 'patient', 'of', 'gs', 'a', 'g', 'childhood', 'investigat', 'patients', 'incidence', 'investigated', 'incident', 'we', 'goblin', 'syndrome', 'with', 'tumour', 'brain', 'in'}, {'', 'medulloblastomum', 'medulloblastomon', 'a', 'medulloblastoma'}, {'hundred', 'hundr', 'and', 'one'}, {'the', 'seventy', 'authoriting', 'of', 'authorits', 'between', 'cases', 'case', 'cas', 'medulloblastomon', 'casis', 'regional', 'seventing', 'sevents', 'north', 'medulloblastoma', 'west', 'medulloblastomum', '1954', 'health', 'three', 'authority', 'consecutive', 'and', 'in'}, {'', 'a', 'studied', 'were', 'regional', 'manchester', 'board', 'health', 'studi', '1989', 'before', '1974'}, {'', 'review', 'notis', 'not', 'of', 'case', 'a', 'after', 'notes', 'note'}, {'rays', 'ray', 'x', 'and'}, {'', 'evidence', 'onling', 'had', 'of', 'gs', 'evident', 'cas', 'g', '2', 'onls', 'supporting', 'survey', 'case', 'cases', 'a', 'casis', '173', 'diagnosis', 'health', 'only', 'on', 'diagnosi', 'surveys'}, {'', 'year', 'of', 'case', 'gs', 'a', '4', 'g', 'aged', 'at', 'ag', 'further', 'died', 'years', '50', 'tumour', 'risk', 'brain', 'di'}, {'', 'the', 'medulloblastoma', 'i', 'of', 'incident', 'medulloblastomum', 'gs', 'medulloblastomon', 'g', 'a', 'incidence', 'is', 'in'}, {'', 'therefore', 'a'}, {'', 'probably', 'probabling', 'between', '2', 'a', 'probab', '1', 'probabls'}, {'', 'of', 'ass', 'gs', 'medulloblastomon', 'g', 'us', 'incidence', 'study', '1983', 'based', 'studs', 'to', 'the', 'started', 'start', 'used', 'studing', 'a', 'bas', 'incident', 'population', 'was', 'medulloblastoma', 'assess', 'wa', 'medulloblastomum', 'asses', 'region', 'in'}, {'', 'wa', 'found', 'which', 'between', 'a', '5', 'to', 'be', '3', 'was'}, {'', 'estimatis', 'estimat', 'i', 'previou', 'a', 'than', 'lower', 'is', 'previous', 'estimate', 'thi', 'previoic', 'estimates', 'figure', 'this'}, {'but'}, {'', 'the', 'undertaken', 'i', 'studing', 'first', 'a', 'bas', 'study', 'population', 'is', 'based', 'studs', 'thi', 'this'}, {'', 'year', 'the', 'of', 'mean', 'gs', 'medulloblastomon', 'g', 'earls', 'view', 'a', 'early', 'child', 'medulloblastoma', 'years', 'onset', 'medulloblastomum', '2', 'with', 'ear', 'children', 'presenting', 'earling', 'age', 'in'}, {'especially', '', 'under', 'year', 'years', 'a', '5', 'especialling', 'especial', 'especialls'}, {'', 'should', 'the', 'signs', 'of', 'examin', 'syndrome', 'a', 'for', 'examined', 'be', 'sign'}, {'', 'carcinomatum', 'elevated', 'of', 'identified', 'elevate', 'increased', 'will', 'a', 'elevation', 'at', 'carcinomaton', 'increase', 'high', 'invasive', 'identifi', 'carcinomata', 'multiple', 'those', 'risk', 'developing', 'be', 'then', 'cell', 'basal', 'carcinoma'}]\n",
      "[{'', 'i', 'neoplasion', 'that', 'dominant', 'neoplasia', 'gene', 'q', 'results', 'suppressor', 'is', 'locat', 'nf2', '22q', 'neurofibromatosi', '2', 'syndrome', 'from', 'neoplasium', 'nfu', 'type', 'autosomal', 'the', 'mutation', 'a', 'result', 'mutations', 'chromosome', 'an', 'multiple', 'tumour', 'on', 'located', 'neurofibromatosis', 'in'}, {'of', 'livebirths', 'has', 'one', 'a', 'livebirth', 'frequencing', '25', 'it', '000', 'ha', 'frequency', 'frequencs', 'and', 'in'}, {'', 'penetrant', 'year', 'nearly', 'of', 'penetrance', 'a', 'nearls', '100', '60', 'by', 'years', 'nearling', 'near', 'age'}, {'patient', 'of', 'inherit', 'germline', 'mutation', 'affected', 'a', 'half', 'patients', 'an', 'parent', 'affect', 'from', 'and'}, {'', 'the', 'mutation', 'a', 'novo', 'for', 'acquire', 'remainder', 'neurofibromatosi', '2', 'de', 'neurofibromatosis', 'type'}, {'', 'patient', 'a', 'nervou', 'tumours', 'system', 'patients', 'develop', 'nervoic', 'tumour', 'nervous', 'schwannoma', 'schwannomas'}, {'', 'meningiomas', 'meningioma', 'a'}, {'', 'a', 'ependymoma', 'ependymomas'}, {'', 'astrocytomas', 'astrocytoma', 'a'}, {'and'}, {'', 'neurofibromas', 'neurofibroma', 'a'}, {'', 'neuropathy', 'neuropathing', 'a', 'neuropaths', 'peripheral'}, {'', 'ophthalmological', 'lesions', 'lesion', 'cataracts', 'a', 'cataract'}, {'', 'membrane', 'a', 'epiretinal', 'membranis', 'membran', 'membranes'}, {'and'}, {'', 'hamartoma', 'hamartomas', 'a', 'retinal'}, {'and'}, {'', 'cutaneous', 'lesions', 'cutaneoic', 'lesion', 'tumour', 'a', 'tumours', 'cutaneou', 'skin'}, {'', 'i', 'of', 'multidisciplinaring', 'is', 'complexiti', 'multidisciplinars', 'treatment', 'associat', 'complexity', 'the', 'management', 'a', 'associated', 'optimum', 'because', 'complexitie', 'multiple', 'with', 'complexitiis', 'complexities', 'multidisciplinary'}, {'progressive', '', 'a'}, {'and'}, {'', 'associat', 'abnormalities', 'the', 'anomaly', 'malformations', 'manifestations', 'lesion', 'a', 'associated', 'anomalies', 'abnormal', 'disorder', 'untypical', 'abnormality', 'lesions', 'peculiar', 'anomalous', 'with', 'protean', 'atypical', 'unusual', 'problem'}, {'', 'review', 'the', 'molecular', 'pathogenesi', 'a', 'pathogenesis', 'we'}, {'', 'genetics', 'genetic', 'a'}, {'', 'findings', 'finding', 'a', 'clinical'}, {'and'}, {'', 'strategies', 'strategiis', 'strategi', 'management', 'strategie', 'strategy', 'a', 'for', 'neurofibromatosi', '2', 'neurofibromatosis', 'type'}]\n",
      "[{'', 'and', 'a', 'pp', 'popliteal', 'syndrome', 'pterygium', 'pps'}, {'', 'a', 'the', 'irfu', 'der', 'mutations', '6', 'regulatoring', 'irf6', 'vw', 'gene', 'woude', 'in', 'factor', 'vs', 'are', 'vws', 'van', 'mutation', 'caus', 'regulators', 'interferon', 'syndrome', 'caused', 'regulatory', 'houde', 'by'}, {'skeletal', '', 'a'}, {'problem', 'peculiar', 'malformations', 'abnormalities', 'anomaly', 'anomalies', 'disorder', 'malformation', 'abnormality', 'genital', 'and', 'untypical', 'abnormal', 'anomalous', 'manifestations', 'unusual', 'atypical'}, {'of', 'and', 'occur', 'the', 'pp', 'skin', 'in', 'involvement', 'pps'}, {'orofacial', 'and', 'clefting'}, {'', 'occur', 'a', 'pit', 'lip', 'both', 'pits', 'in'}, {'we', 'on', 'and', 'a', 'cleft', 'lip', 'with', 'report', 'patient', 'unilateral'}, {'', 'a', 'palate'}, {'', 'ankyloblepharon', 'a'}, {'', 'a', 'pit', 'paramedian', 'lip', 'pits'}, {'', 'a', 'agenesis', 'aplasium', 'aplasion', 'aplasia', 'renal', 'unilateral'}, {'and'}, {'', 'hypospadia', 'a', 'coronal', 'hypospadias'}, {'', 'a', 'irfu', 'irf6', 'sequencing', 'by'}, {'mutation', 'we', '', 'misses', 'a', 'missense', 'novel', 'detect', 'arg339ile', 'detected'}, {'were', 'unaffected', 'the', 'familing', 'fami', 'famils', 'members', 'and', 'member', 'family', 'other', 'unaffect'}, {'', 'no', 'mutation', 'a', 'had', 'irfu', 'mutations', 'irf6'}, {'', 'hypospadia', 'a', 'the', 'including', 'also', 'brother', 'patient', 'hypospadias', 'born', 's', 'with', 'who', 'wa', 'was'}, {'and', 'patient', 'the'}, {'were', '', 'a', 'ivf', 'vitro', 'brother', 'conceiv', 'in', 'hi', 'both', 'fertilization', 'conceived', 'by', 'his'}, {'', 'discuss', 'a', 'the', 'discussed', 'irfu', 'relat', 'to', 'ivf', 'or', 'irf6', 'i', 'patient', 'is', 'malformation', 'renal', 'in', 'related', 'mutation', 'it', 'procedure', 'whether'}]\n",
      "[{'', 'characterized', 'nervou', 'severe', 'acoustus', 'or', 'abnormalities', 'i', 'multiple', 'disorder', 'nfu', 'neurofibromatosis', 'nf2', 'acousty', 'acousy', 'autosomal', 'of', 'problem', 'peculiar', 'anomaly', 'neurofibromatosi', '2', 'nervoic', 'is', 'characteriz', 'acoustic', 'by', 'acoustia', 'abnormal', 'bilateral', 'malformations', 'development', 'anomalies', 'abnormality', 'nervous', 'dominant', 'system', 'manifestations', 'unusual', 'a', 'the', 'tumor', 'acousia', 'tumors', 'untypical', 'anomalous', 'atypical'}, {'', 'a', 'meningioma', 'including', 'meningiomas'}, {'', 'gliomas', 'a', 'glioma'}, {'', 'neurofibroma', 'a', 'neurofibromas'}, {'', 'a', 'ependymomas', 'ependymoma'}, {'and'}, {'', 'a', 'acoustus', 'particularly', 'neuromas', 'acousia', 'acousty', 'acousy', 'particularling', 'particularls', 'acoustic', 'neuroma', 'particular', 'acoustia'}, {'', 'revealed', 'dnon', 'polymorphy', 'dna', 'nfu', 'markers', 'nf2', 'copy', 'typis', 'typ', 'marker', 'coping', 'polymorphus', 'chromosome', 'reveal', '22', 'of', 'a', 'the', 'cops', 'tumor', 'in', 'types', 'loss', 'frequent', 'polymorphic', 'associat', 'type', 'with', 'dnum', 'polymorphia', 'have', 'one', 'associated', 'los'}, {'', 'studi', 'primars', 'that', 'demonstrated', 'familing', 'studie', 'to', 'study', 'i', 'dnon', 'studies', 'linked', 'dna', 'primaring', 'nfu', 'markers', 'nf2', 'marker', 'family', 'chromosome', 'defect', '22', 'studiis', 'link', 'a', 'the', 'fami', 'is', 'in', 'demonstrat', 'famils', 'primary', 'on', 'dnum', 'have'}, {'of', '', 'that', 'a', 'involve', 'involves', 'suggesting', 'tumor', 'suppressor', 'gene', 'it', 'involv', 'involvis', 'inactivation'}, {'of', 'we', 'employed', 'a', 'linkage', 'multipoint', 'analysis', 'and', 'have', 'employ', 'combination', 'analysi'}, {'', 'preciseling', 'primars', 'to', 'specimens', 'precise', 'precisely', 'precisels', 'flanking', 'dnon', 'polymorphy', 'dna', 'primaring', 'nfu', 'markers', 'nf2', 'polymorphus', 'marker', 'chromosome', 'locus', '22', 'deletions', 'of', 'a', 'the', 'examination', 'locic', 'between', 'tumor', 'in', 'primary', 'specimen', 'on', 'polymorphic', 'dnum', 'locu', 'polymorphia', 'deletion', 'map'}, {'geney', 'to', 'genetus', 'genetic', 'corresponds', 'markers', 'genetia', 'region', 'bracket', 'marker', 'chromosome', 'cm', 'length', '22', 'long', 'of', 'the', 'bracketed', 'correspond', 'and', '13', 'arm', 'genety', 'geneia', 'these', 'by'}, {'', 'to', '6', 'contain', 'i', 'dnon', '5', 'dna', 'than', 'of', 'bp', 'a', 'less', 'le', 'is', 'les', 'expect', 'x', 'expected', 'dnum', '10'}, {'of', 'presymptomaty', 'presymptomay', 'the', 'presymptomatic', 'accurate', 'presymptomatia', 'flanking', 'nfu', 'markers', 'should', 'presymptomaia', 'nf2', 'and', 'presymptomatus', 'for', 'marker', 'permit', 'delineation'}, {'the', 'problem', 'peculiar', 'malformations', 'abnormalities', 'anomaly', 'anomalies', 'disorder', 'abnormality', 'and', 'diagnosi', 'for', 'prenatal', 'untypical', 'abnormal', 'anomalous', 'manifestations', 'diagnosis', 'unusual', 'atypical'}, {'', 'its', 'to', 'basis', 'defective', 'effort', 'location', 'efforts', 'greatling', 'basi', 'of', 'a', 'the', 'great', 'facilitate', 'gene', 'it', 'on', 'isolate', 'greatly', 'greatls'}]\n",
      "[{'of', 'cardiac', '', 'rocks', 'a', 'authors', 'the', 'case', 'towns', 'townes', 'town', 'author', 'towne', 'townis', 'brock', 'brocks', 'with', 'syndrome', 'report', 'defect', 'new'}, {'anomali', 'anomalie', 'problem', 'peculiar', 'malformations', 'abnormalities', 'anomalies', 'anomaly', 'anomaliis', 'disorder', 'abnormality', 'manifestations', 'and', 'atypical', 'untypical', 'anomalous', 'abnormal', 'unusual', 'ossicular'}, {'', 'dominant', 'a', 'transmission'}, {'of', 'and', 'phenotype', 'variability', 'the', 'variable', 'variabiliting', 'intrafamilial', 'variabilits'}, {'', 'insufficient', 'decreased', 'impaired', 'case', 'lacking', 'casis', 'are', 'difficulties', 'deficient', 'impairment', 'cases', 'underlin', 'trouble', 'deficiency', 'lack', 'difficults', 'underlined', 'of', 'a', 'the', 'deficits', 'impair', 'low', 'difficulting', 'in', 'difficulty', 'cas', 'diagnosi', 'deficit', 'reduced', 'isolated', 'decrease', 'reduce', 'isolat', 'diagnosis'}]\n",
      "[{'', 'inheritance', 'of', 'angelman', 'a', 'the', 'inheritant', 's', 'syndrome', 'angela'}, {'', 'characteris', 'a', 'problem', 'peculiar', 'mental', 'malformations', 'abnormalities', 'anomaly', 'anomalies', 'disorder', 'abnormality', 'manifestations', 'characterised', 'retardation', 'untypical', 'abnormal', 'anomalous', 'by', 'unusual', 'atypical'}, {'', 'a', 'epilepsing', 'epilepss', 'epileptic', 'epilepsy'}, {'', 'a', 'ataxia', 'ataxion', 'ataxium'}, {'and'}, {'', 'disposition', 'a', 'happy', 'happs', 'happing'}, {'', 'debated', 'i', 'sibs', 'frequentls', 'frequently', 'than', 'frequentling', 'debat', 'affect', 'autosomal', 'affected', 'inheritance', 'occur', 'a', 'recessive', 'inheritant', 'sib', 'less', 'le', 'is', 'because', 'frequent', 'expect', 'les', 'expected', 'with'}, {'of', 'after', '', 'a', 'the', 'patients', 'patient', 'small', 'proximal', 'unrelated', 'with', '15', 'arm', 'deletion', 'chromosome', 'unrelat', 'discovering', 'two', 'long'}, {'were', '', 'reassess', 'a', 'patients', 'patient', 'angelman', 'further', 's', 'with', 'syndrome', 'reassessed', 'angela', '10'}, {'', 'five', 'a', 'apparently', 'karyotype', 'karyotypes', 'had', 'apparentls', 'apparent', 'apparentling', 'karyotyp', 'karyotypis', 'normal'}, {'within', '', 'a', 'had', '13', 'deletion', '15q11', 'four'}, {'and'}, {'', 'inversion', 'a', 'had', 'pericentry', 'one', 'pericentria', 'pericentric', 'pericentrus'}, {'', 'region', 'a', 'the', 'involving', 'chromosomal', '15', 'same', 'p11q13', 'in', 'inv'}, {'', 'case', 'the', 'a', 'in', 'latter'}, {'', 'a', 'the', 'healthing', 'same', 'pericentric', 'healths', 'inversion', 'healthy', 'had', 'pericentry', 'pericentria', 'mother', 'pericentrus'}, {'', 'that', 'also', 'indicating', 'patient', 'submicroscopia', 'mutation', 'submicroscopus', 'other', 'chromosome', 'hi', 'a', 'the', 'on', 'had', '15', 'submicroscopic', 'submicroscopy', 'his'}, {'datum', 'the', 'daton', 'to', 'locic', '15q11', 'data', 'angelman', 'and', 'da', '13', 'locu', 'locus', 'these', 'angela', 'map'}, {'insufficient', 'decreased', 'impaired', 'that', 'lacking', 'recurrence', 'de', 'difficulties', 'deficient', 'risk', 'impairment', 'suggest', 'trouble', 'deficiency', 'visibility', 'lack', 'novo', 'deletions', 'a', 'deficits', 'impair', 'low', 'difficulty', 'visible', 'and', 'deficit', 'associat', 'recurrent', 'with', 'deletion', 'associated', 'reduced', 'decrease', 'reduce'}, {'an', '', 'case', '25', 'inherited', 'recessively', 'to', 'give', 'overall', 'casis', 'recurrence', 'risk', 'inherit', 'than', 'cases', 'combine', 'recessivels', 'autosomal', 'of', 'a', 'recessive', 'sib', 'less', 'le', 'cas', 'les', 'recurrent', 'recessiveling'}]\n",
      "[{'studi', 'angelman', 'using', 'markers', 'as', 'sporadic', 'q12', 'study', 'studies', 'studiis', 'were', 'in', 'syndrome', '15q11', '5', 'localized', 'a', 'angela', 'sporadia', 'dna', 'studie', 'sporadus', 'deletion', 'sporady', 'dnum', 'and', 'performed', 'localiz', 'marker', 'at', '9', 'patients', '14', 'patient', 'perform', 'q1', 'dnon'}, {'', 'case', 'cases', '5', 'a', 'casis', 'familial', 'cas'}, {'or', '', 'densits', 'coping', 'detect', 'was', 'densiting', 'in', 'a', '5', 'cops', 'loci', 'locus', 'more', 'copy', '8', 'detected', 'the', 'one', '1', 'patients', '57', 'wa', '14', 'patient', 'for', 'of', 'density'}, {'', 'detect', 'sporadic', 'was', 'in', 'onling', 'a', 'on', 'locus', 'sporadia', 'd15s12h', 'locic', 'onls', 'sporadus', 'deletion', 'sporady', 'detected', 'only', 'the', 'one', 'd15s11', 'wa', 'patient', 'of', 'locu'}, {'', 'famils', 'family', 'that', 'only', '3', 'the', 'familial', 'sib', 'd15s10', 'in', 'patients', 'onling', 'a', 'patient', 'on', 'involving', 'sibs', 'd15s12h', 'familing', 'fami', 'onls'}, {'', 'a', 'spanning', 'that', '3', 'loci', 'locus', 'd15s12h', 'd15s11'}, {'', 'd15s10', 'a', 'd15s12h'}, {'', 'sporady', 'a', 'patient', 'sporadic', 'sporadia', 'd15s12h', 'one', 'd15s12', 'in', 'sporadus'}, {'and'}, {'', 'a', 'spanning', 'that', 'loci', 'locus', 'd15s9', '4'}, {'', 'a', 'd15s12h', 'd15s11'}, {'', 'd15s10', 'a', 'd15s12h'}, {'', 'sporady', 'sporadus', 'a', 'patient', 'other', 'sporadic', '3', 'the', 'sporadia', 'd15s12h', 'd15s12', 'in', 'patients'}, {'between', 'deletion', 'mas', 'and', 'as', 'the', 'segment', 'maing', 'be', 'may', 'd15s11', 'patients', 'reported', 'a', 'to', 'common', 'patient', 'confin', 'well', 'd15s12h', 'report', 'our', 'confined'}, {'', 'd15s10', 'a', 'd15s12h'}, {'', 'if', 'order', 'are', 'as', 'the', 'ordered', 'd15s10', 'd15s9', 'd15s11', 'cen', 'qt', 'a', '5', 'er', 'loci', 'd15s18', 'locus', 'd15s12h', 'd15s12'}, {'site', 'overlap', 'overlaps', 'but', 'thi', 'this'}, {'', 'prayer', 'in', 'pws', 'syndrome', 'is', 'to', 'prader', 'a', 'pw', 'i', 'more', 'deletion', 'the', 'willus', 'patients', 'site', 'common', 'patient', 'willi', 'distal'}, {'', 'famils', 'family', '3', 'the', 'sib', 'in', 'a', 'of', 'sibs', 'familing', 'fami'}, {'phenotypicalls', 'and', 'phenotypically', 'the', 'both', 'phenotypicalling', 'of', 'normal', 'mother', 'phenotypical'}, {'also', '', 'locic', 'deletion', 'the', 'd15s10', 'deletions', 'a', 'of', 'grandfather', 'maternal', 'locus', 'd15s12h', 'have', 'locu'}, {'', 'as', 'hypothesi', 'were', 'these', 'imprinting', 'with', 'results', 'result', 'consistent', 'a', 'genomic', 'genomia', 'occurrence', 'genomus', 'the', 'hypothesis', 'for', 'of', 'genomy', 'occurrent'}, {'', 'a', 'e', 'i'}, {'', 'decrease', 'reduce', 'as', 'difficulties', 'deriv', 'deficit', 'impair', 'low', 'insufficient', 'deficient', 'a', 'to', 'maternal', 'locus', 'trouble', 'reduced', 'locic', 'decreased', 'deficits', 'deficiency', 'the', 'impairment', 'lacking', 'lack', 'difficulty', 'of', 'impaired', 'maternally', 'lead', 'maternalling', 'maternalls', 'leads', 'locu', 'derived'}, {'but'}, {'', 'mas', 'that', 'as', 'the', 'maing', 'at', 'phenotype', 'support', 'may', 'alternative', 'not', 'pws', 'a', 'is', 'model', 'of', 'pw', 'i', 'locus', 'locic', 'locu', 'identical'}]\n",
      "[{'dominant', 'elevated', 'gs', 'in', 'with', 'syndrome', 'is', 'i', 'gorlin', 'inherit', 'and', 'an', 'inherited', 'goblin', 'increase', 'increased', 'g', 'autosomal', 'high', 'elevation', 'penetrance', 'penetrant', 'pattern', 'elevate'}, {'anomaly', 'developmental', 'peculiar', 'anomaliis', 'by', 'unusual', 'disorder', 'a', 'is', 'abnormal', 'manifestations', 'characteriz', 'i', 'malformations', 'anomali', 'untypical', 'anomalous', 'and', 'problem', 'anomalie', 'anomalies', 'atypical', 'range', 'abnormality', 'characterized', 'abnormalities', 'of'}, {'increas', 'elevated', 'developing', 'and', 'increase', 'elevate', 'carcinomon', 'increased', 'of', 'risk', 'high', 'elevation', 'cell', 'carcinomum', 'carcinoma', 'basal'}, {'', 'a', 'medulloblastomon', 'medulloblastomum', 'medulloblastoma'}, {'between', '50', 'and'}, {'', 'identifi', 'gs', 'germ', 'in', 'with', 'onling', 'susceptibility', 'a', 'to', 'gene', 'on', 'mutation', 'onls', '85', 'harbor', 'only', 'identified', 'the', 'date', 'mutations', 'patients', 'g', 'patient', 'of', 'line', 'susceptibiliting', 'susceptibilits', 'susceptible'}, {'', 'pitch', 'a', 'ptch1'}, {'', 'pathwas', 'pathway', 'sonic', 'the', 'in', 'kes', 'signaling', 'a', 'keing', 'hedgehog', 'key', 'component', 'sonus', 'sony', 'sonia', 'pathwaing'}, {'', 'pathwas', 'a', 'pathway', 'component', 'thi', 'pathwaing', 'this', 'another', 'in'}, {'', 'sufu', 'suu', 'a'}, {'involved', 'be', 'in', 'susceptible', 'susceptibility', 'is', 'to', 'susceptibiliting', 'i', 'susceptibilits', 'but', 'involv', 'medulloblastomon', 'medulloblastomum', 'medulloblastoma', 'known'}, {'', 'been', 'ha', 'gs', 'date', 'in', 'patients', 'reported', 'a', 'to', 'g', 'patient', 'report', 'never', 'has'}, {'identifi', 'negative', 'c', 'that', 'was', 'suu', 'germ', 'in', 'a', 'pitch', 'mutation', 'sufu', '1g', 'fami', 'famils', 'family', 'and', 'identified', 'the', 'we', 'wa', 'g', 'line', 'ptch1', '1022', 'have', 'familing', 'known', 'splicing'}, {'signs', 'sign', 'and', 'had', 'who'}, {'', 'g', 'a', 'symptom', 'of', 'symptoms', 'gs'}, {'', 'including', 'a', 'medulloblastomon', 'medulloblastomum', 'medulloblastoma'}, {'', 'associated', 'gs', 'suu', 'this', 'germ', 'first', 'with', 'is', 'a', 'mutation', 'i', 'sufu', 'report', 'the', 'g', 'of', 'line', 'thi', 'associat'}]\n",
      "[{'c', 'lymphocytes', 'lymphocyt', 'si', 'and', 'performed', 'situ', 'was', 'neurofibromatosi', 'sis', 'peripheral', 'in', 'with', 'man', 'a', 'probe', 'wa', 'on', 'of', 'neurofibromatosis', 'perform', 'lymphocyte', 'lymphocytis', 'hybridization'}, {'', 'ring', '22', 'a', 'chromosome'}, {'22', 'wa', 'on', 'and', 'was', 'normal', 'the', 'both', 'observed', 'observ', 'hybridization'}, {'', 'ring', '22', 'a', 'the'}, {'', 'c', 'constitutional', 'si', 'that', 'homozygous', 'the', 'sis', 'indicating', 'constitutionally', 'constitutionalling', 'not', 'is', 'patient', 'a', 'for', 'i', 'constitutionalls', 'hemizygoic', 'hemizygous', 'hemizygou'}, {'ring', '22', 'constitution', 'a', 'of', 'and', 'the', 'implications', 'implication'}, {'', 'a', 'neurofibromatosis', 'are', 'neurofibromatosi', 'the', 'discuss', 'phenotype', 'discussed'}]\n",
      "[{'', 'femalis', 'a', 'two', 'unrelat', 'unrelated', 'female', 'females', 'femal'}, {'age', '15', 'and'}, {'', 'a', '5', 'respectivels', 'respectiveling', 'respectively', 'respective', 'years', 'year'}, {'', 'studi', 'cytogeneticalls', 'studied', 'cytogenetically', 'were', 'cytogeneticalling', 'because', 'a', 'of', 'cytogenetical', 'mental', 'retardation', 'severe'}, {'seizur', 'seizure', 'seizures', 'and', 'seizuris'}, {'', 'incoordination', 'a', 'ataxium', 'ataxion', 'like', 'ataxia'}, {'', 'found', 'deletion', 'proximal', '15', 'was', 'the', 'both', 'chromosome', 'in', 'patients', 'arm', 'a', 'wa', 'patient', 'of', 'long', 'similar'}, {'or', '', 'obesits', 'voracioic', 'evaluation', 'appetite', 'voracious', 'a', 'voraciou', 're', 'showed', 'obesiting', 'show', 'obesity', 'no'}, {'hand', 'of', 'and', 'size', 'normal', 'hands'}, {'', 'foot', 'feet', 'a'}, {'or', 'and', 'historing', 'hypotonium', 'by', 'hypotonion', 'minimal', 'history', 'to', 'hypotonia', 'examination', 'no', 'histors'}, {'', 'feature', 'prayer', 'the', 'facial', 'willus', 'typical', 'not', 'syndrome', 'prader', 'a', 'of', 'willi', 'featur', 'features', 'featuris'}, {'', 'however', 'a'}, {'', 'mild', 'other', 'was', 'the', 'appearant', 'girl', 'facial', 'with', 'a', 'to', 'wa', 'of', 'each', 'girls', 'appearance', 'similar', 'hypertelorism'}, {'of', 'and', 'girls', 'similariting', 'the', 'girl', 'similarits', 'similarity', 'these'}, {'', 'syndrome', 'suggest', 'different', 'prader', 'to', 'a', 'willi', 'prayer', 'dissimilarity', 'dissimilariting', 'dissimilarits', 'willus'}, {'', 'perhaps', 'result', 'deletion', 'different', 'a', '15q', 'of', 'q', 'the', 'segment', 'perhap'}, {'', 'ataxic', 'ataxus', 'the', 'finding', 'ataxia', 'movements', 'a', 'of', 'findings', 'like', 'movement', 'ataxy'}, {'', 'frequent', 'a'}, {'unprovok', 'and', 'unprovoked'}, {'bout', 'of', 'and', 'prolonged', 'laughter', 'prolong', 'bouts'}, {'', 'angelman', 'are', 'diagnosis', 'the', 'appearant', 'compatibility', 'compatible', 'facial', 'with', 'syndrome', 'a', 'diagnosi', 'of', 'appearance', 'angela', 'more'}]\n",
      "[{'anomaly', 'renal', 'branchio', 'manifestations', 'syndrome', 'dominant', 'association', 'oto', 'branchial', 'unusual', 'abnormalities', 'an', 'abnormal', 'anomalies', 'abnormality', 'branch', 'untypical', 'and', 'i', 'malformations', 'bor', 'is', 'the', 'characterized', 'of', 'atypical', 'characteriz', 'autosomal', 'peculiar', 'by', 'disorder', 'anomalous', 'problem'}, {'', 'anomaly', 'abnormality', 'untypical', 'malformations', 'manifestations', 'atypical', 'a', 'malformation', 'ear', 'external', 'peculiar', 'disorder', 'unusual', 'anomalous', 'abnormalities', 'problem', 'abnormal', 'anomalies'}, {'', 'los', 'a', 'loss', 'hearing'}, {'and'}, {'', 'anomaly', 'abnormality', 'untypical', 'malformations', 'renal', 'anomali', 'manifestations', 'atypical', 'a', 'peculiar', 'anomalie', 'disorder', 'anomaliis', 'unusual', 'anomalous', 'abnormalities', 'problem', 'abnormal', 'anomalies'}, {'', 'vary', 'loss', 'the', 'variis', 'los', 'a', 'to', 'profound', 'vari', 'pit', 'varie', 'ear', 'varies', 'phenotype', 'from', 'hearing', 'pits'}, {'', 'branchial', 'fistulae', 'a', 'fistula'}, {'and'}, {'agenesis', '', 'kidney', 'agenesi', 'kidneing', 'a', 'kidnes'}, {'', 'famili', 'i', 'bor', 'is', 'eyam', 'family', 'eya1', 'the', 'a', 'familie', 'common', 'mutat', 'in', 'gene', 'mutated', 'familiis', 'most', 'families'}, {'', 'transcriptional', 'activator', 'a'}, {'', 'different', 'causing', 'mutation', 'uiowum', 'labs', 'wow', 'disease', 'have', 'over', 'a', 'been', '80', 'publish', 'pendredandbor', 'iowa', 'du', 'uiowon', 'lab', 'mutations', 'published', 'uiowa', 'healthcare', 'edu', 'www'}, {'', 'november', 'accessed', '2007', '20', 'access', 'last', 'a'}, {'uus', 'exons', 'coding', 'analyzed', 'analyz', 'iowa', 'university', 'region', 'exon', 'familiis', 'families', 'famili', 'iowum', 'and', 'eyam', 'family', 'eya1', 'the', 'of', 'universiting', 'we', '16', '435', 'familie', 'at', 'iowon', 'from', 'ui', '345', 'universits'}, {'', 'at', 'btnrh', 'national', 'research', 'town', 'bench', '95', 'hospital', 'boys', 'a', 'boy'}, {'and', 'including', 'at', 'five', 'both'}, {'', 'different', 'famili', 'mutation', 'eyam', '70', 'family', 'eya1', '89', 'a', 'familie', 'in', 'found', 'mutations', 'familiis', 'families'}, {'were', '', 'mutation', '70', 'private', 'the', 'of', 'mutations', '56', 'a', 'most'}, {'famili', 'for', 'and', 'mutation', 'bor', 'eyam', 'family', 'eya1', 'of', 'clinical', 'established', 'were', 'familie', 'in', '248', 'criteria', 'found', 'criterium', '76', 'criterion', 'mutations', '31', 'familiis', 'establish', 'fitting', 'families'}, {'', 'famili', 'questionability', 'bor', 'family', '187', '13', 'of', 'a', 'familie', 'with', 'families', 'phenotype', 'questionable', 'familiis', '7'}, {'', 'mutation', 'did', 'not', 'correlate', 'the', 'of', 'type', 'severits', 'a', 'nor', 'involved', 'with', 'severity', 'phenotype', 'involv', 'domain', 'severiting'}, {'mutation', 'considerabling', 'to', 'these', 'considerabls', 'spectrum', 'associated', 'associat', 'considerab', 'considerably', 'add', 'and', 'bor', 'eyam', 'eya1', 'the', 'of', 'result', 'with', 'results', 'mutations'}, {'', 'for', 'i', 'diagnose', 'bor', 'is', 'eyam', 'studi', 'studiis', 'indied', 'eya1', 'the', 'that', 'indy', 'molecular', 'indicate', 'a', 'studie', 'studies', 'to', 'study', 'phenotype', 'associated', 'associat', 'an', 'indication'}]\n",
      "[{'and', 'father', 'a'}, {'branch', 'and', 'renal', 'the', 'branchio', 'described', 'syndrome', 'dominant', 'son', 'autosomal', 'cleft', 'resembling', 'with', 'are', 'branchial', 'oto', 'describ', 'an', 'both'}, {'', 'a', 'branch', 'syndrome', 'the', 'branchio', 'oculi', 'oculo', 'facial'}, {'', 'may', 'the', 'of', 'expression', 'a', 'syndrome', 'syndrom', 'same', 'syndromes', 'dominant', 'autosomal', 'mas', 'expressions', 'gene', 'represent', 'syndromis', 'maing', 'both', 'variant'}]\n",
      "[{'two', 'diagnosi', 'famils', 'other', 'type', 'fami', 'affected', 'familing', 'members', 'wk', 'gestation', 'arthrogryposis', 'i', 'and', 'family', 'arthrogryposi', 'distal', 'member', 'the', 'of', 'prenatal', 'a', 'we', '18', 'ultrasound', 'at', 'with', 'mother', 'report', 'in', 'by', 'affect', 'diagnosis'}, {'', 'sister', 'the', 'of', 'fetu', 'fetic', 'a', 'fetus'}, {'', 'pregnancing', 'pregnancy', 'ultrasound', 'with', 'was', 'serial', 'ultrasounds', 'wa', 'the', 'followed', 'pregnancs', 'follow', 'a'}, {'and'}, {'', 'diagnosi', 'the', 'confirmed', 'a', 'birth', 'was', 'wa', 'after', 'confirm', 'diagnosis'}, {'', 'famils', 'family', 'member', 'the', 'findings', 'fami', 'described', 'clinical', 'a', 'affected', 'familing', 'members', 'are', 'in', 'affect', 'finding', 'all', 'describ'}, {'', 'prenatalls', 'contracturis', 'cases', 'contractur', 'literature', 'presented', 'diagnos', 'casis', 'case', 'surves', 'contracture', 'diagnosed', 'i', 'is', 'surveing', 'contractures', 'of', 'prenatal', 'a', 'survey', 'prenatalling', 'cas', 'joint', 'prenatally', 'present', 'multiple'}, {'', 'different', 'diagnose', 'cases', 'diagnoses', 'maning', 'a', 'diagnos', 'casis', 'cas', 'these', 'with', 'mans', 'case', 'include', 'many', 'diagnosis'}, {'', 'i', 'diagnosi', 'is', 'arthrogryposi', 'distal', 'the', 'of', 'type', 'prenatal', 'a', 'thi', 'first', 'report', 'arthrogryposis', 'this', 'diagnosis'}, {'illustrate', 'and', 'variable', 'variabilits', 'the', 'to', 'help', 'variability', 'it', 'helps', 'variabiliting'}, {'and', 'natural', 'the', 'of', 'prenatal', 'condition', 'histors', 'history', 'historing'}, {'', 'subtleting', 'subtlety', 'the', 'of', 'findings', 'prenatal', 'a', 'subtlets', 'ultrasound', 'finding'}]\n",
      "[{'', 'duplication', 'which', 'renal', 'manifestations', 'fami', 'system', 'familing', 'hypoplasium', 'unusual', 'individual', 'anomalies', 'individuals', 'branch', 'i', 'is', 'family', 'or', 'kidney', 'contain', 'atypical', 'have', 'a', 'duplied', 'including', 'it', 'contains', 'interest', 'anomalous', 'problem', 'kidnes', 'anomaly', 'famils', 'hypoplasion', 'based', 'branchio', 'syndrome', 'on', 'malformation', 'because', 'hypoplasia', 'this', 'kidneing', 'oto', 'abnormalities', 'duply', 'abnormal', 'abnormality', 'untypical', 'malformations', 'bor', 'the', 'of', 'thi', 'with', 'report', 'peculiar', 'bas', 'disorder', 'who', 'collecting'}, {'and', 'on', 'onling', 'onls', 'branchial', 'only'}, {'', 'anomaly', 'abnormality', 'untypical', 'malformations', 'anomali', 'manifestations', 'atypical', 'a', 'ear', 'peculiar', 'anomalie', 'disorder', 'anomaliis', 'unusual', 'anomalous', 'abnormalities', 'problem', 'abnormal', 'anomalies'}, {'and'}, {'', 'nonpenetrance', 'nonpenetrant', 'the', 'of', 'apparent', 'a', 'syndrome'}, {'duplication', 'other', 'expressiviting', 'manifestations', 'support', 'system', 'manifestation', 'some', 'urinaring', 'variability', 'provid', 'unusual', 'familiis', 'individual', 'families', 'anomalies', 'individuals', 'famili', 'variable', 'and', 'includes', 'family', 'urinary', 'that', 'atypical', 'well', 'a', 'evidence', 'duplied', 'expressivits', 'include', 'expressivity', 'anomalous', 'problem', 'anomaly', 'includ', 'syndrome', 'as', 'to', 'providis', 'this', 'includis', 'branchial', 'abnormalities', 'abnormal', 'duply', 'abnormality', 'provides', 'untypical', 'malformations', 'bor', 'evident', 'hypothesis', 'the', 'of', 'hypothesi', 'familie', 'thi', 'with', 'report', 'in', 'peculiar', 'urinars', 'provide', 'disorder', 'collecting'}, {'', 'anomaly', 'apparentls', 'anomali', 'manifestations', 'kidneys', 'ear', 'anomalie', 'apparent', 'apparentling', 'normal', 'abnormalities', 'unusual', 'abnormal', 'anomalies', 'abnormality', 'untypical', 'malformations', 'apparently', 'kidney', 'atypical', 'have', 'a', 'peculiar', 'disorder', 'anomaliis', 'anomalous', 'who', 'problem'}]\n",
      "[{'', 'anomaly', 'carcinoma', 'carcinomum', 'expressiviting', 'manifestations', 'syndrome', 'ncc', 'dominant', 'variability', 'unusual', 'abnormalities', 'an', 'nbcc', 'abnormal', 'anomalies', 'abnormality', 'cell', 'untypical', 'variable', 'i', 'malformations', 'basal', 'is', 'multisystem', 'the', 'atypical', 'a', 'carcinomon', 'nevoid', 'autosomal', 'with', 'expressivits', 'peculiar', 'disorder', 'expressivity', 'anomalous', 'problem'}, {'american', 'cases', 'findings', '11', 'clinical', 'casis', 'ncc', 'on', 'case', 'finding', 'familiis', 'nbcc', 'families', 'famili', 'and', 'african', 'family', 'the', '2', 'we', 'familie', 'cas', 'present', 'from'}, {'', 'americans', 'american', 'african', 'in', 'review', 'of', 'literature', 'the', 'a', 'nbcc', 'ncc'}, {'', 'familie', 'famili', 'family', 'new', 'the', 'familiis', 'a', '2', 'families'}, {'', 'a', 'previously', 'reported', 'previousls', 'report', 'previous', 'previousling', 'those', 'well', 'as'}, {'carcinoma', 'cell', 'and', 'suggest', 'basal', 'carcinomas', 'the', 'of', 'expression', 'minimal'}, {'', 'components', 'component', 'other', 'the', 'of', 'expression', 'a', 'full', 'syndrome'}, {'', 'jaw', 'cases', 'the', 'findings', '11', 'a', 'casis', 'were', 'common', 'cas', 'cyst', 'in', 'case', 'finding', '3', 'cysts', 'most'}, {'', 'pit', 'plantar', 'and', 'or', 'pits', 'a', 'palmar'}, {'and'}, {'', 'calcified', 'falx', 'calcify', 'cerebrus', 'cerebri', 'calcification', 'the', 'of', 'a'}, {'', 'carcinoma', 'cell', 'onling', 'basal', '4', 'cases', 'or', 'had', 'carcinomas', 'of', '11', 'more', 'confirmed', 'a', 'casis', 'cas', 'these', 'on', 'case', 'onls', 'confirm', '44', 'one', 'only'}, {'', 'les', 'carcinoma', 'le', 'than', 'observ', 'observed', 'substantialls', 'substantially', 'white', 'frequencing', 'this', 'substantialling', 'cell', 'i', 'is', 'basal', 'carcinomas', 'whites', 'that', 'a', 'substantial', 'thi', 'frequencs', 'with', 'in', 'whit', 'frequency', 'less', '90', 'whitis'}, {'', 'increas', 'lack', 'tumors', 'protection', 'deficits', 'impaired', 'elevate', 'resulting', 'these', 'elevation', 'trouble', 'impair', 'insufficient', 'a', 'elevated', 'tumor', 'americans', 'lacking', 'radiation', 'reduce', 'difficulties', 'deficit', 'american', 'increased', 'difficulty', 'ultraviolet', 'decreased', 'partls', 'reflect', 'low', 'deficiency', 'part', 'increase', 'impairment', 'african', 'the', 'of', 'relative', 'pigmentation', 'partling', 'reduced', 'in', 'deficient', 'from', 'high', 'partly', 'reflects', 'decrease', 'skin'}, {'s', 'and', 'mutation', 'identifing', 'specify', 'modifying', 'should', 'research', 'genes', 'other', 'black', 'the', 'well', 'a', 'future', 'specific', 'as', 'identify', 'specifus', 'specifia', 'genis', 'identifs', 'in', 'gene', 'help', 'gen', 'blacks'}, {'', 'anomaly', 'may', 'exposur', 'manifestations', 'syndrome', 'to', 'vari', 'environmental', 'manifestation', 'unusual', 'abnormalities', 'abnormal', 'anomalies', 'abnormality', 'varied', 'untypical', 'malformations', 'exposures', 'exposure', 'the', 'of', 'that', 'atypical', 'contribute', 'a', 'mas', 'peculiar', 'disorder', 'maing', 'exposuris', 'anomalous', 'problem'}]\n",
      "[{'', 'review', 'of', 'park', 'serie', 'series', '1950', 'we', 'roswell', '1978', 'nevus', 'seriis', 'institute', 'syndrome', 'from', 'to', 'nevu', 'cell', 'have', 'the', 'patient', 'a', 'seen', 'at', 'nevic', 'patients', '36', 'boswell', 'memorial', 'seri', 'sery', 'reviewed', 'with', 'basal'}, {'', 'occurred', 'patient', 'of', 'disastroic', 'a', 'occurr', 'patients', 'these', 'complication', 'complications', 'disastrou', 'disastrous', 'number', 'among'}, {'', 'of', 'epitheliomon', 'epitheliomum', 'death', 'orbit', 'extensive', 'include', 'direct', 'vium', 'cerebral', 'face', 'resulting', 'from', 'epithelioma', 'cell', 'uncontrolled', 'invasion', 'the', 'one', 'a', 'vion', 'via', 'these', 'fat', 'uncontroll', 'basal', 'in'}, {'', 'one', 'a', 'palsy', 'palsing', 'palss', 'paltic', 'nerve', 'facial'}, {'bilateral', 'two', 'and'}, {'', 'nucleation', 'a', 'enucleations', 'eye', 'two', 'enucleation', 'unilateral'}, {'and'}, {'', 'young', 'patient', 'several', 'mutilation', 'severe', 'a', 'mutilations', 'patients', 'facial', 'in'}, {'patient', 'severe', 'bradycardium', 'bradycardion', 'bradycardia', 'patients', 'were', 'develop', 'three', 'developed', 'who', 'and', 'there'}, {'', 'anesthesium', 'the', 'of', 'operation', 'a', 'general', 'induction', 'anesthesion', 'requir', 'intend', 'during', 'hypotension', 'intended', 'required', 'anesthesia', 'postponement'}, {'and'}, {'have', '', 'patient', 'absent', 'one', 'a', 'arters', 'congenital', 'internal', 'carotid', 'an', 'was', 'artery', 'found', 'wa', 'with', 'hemiparesi', 'artering', 'on', 'hemiparesis', 'to', 'investigation', 'who'}, {'review', 'the', 'i', 'of', 'a', 'for', 'is', 'complex', 'syndrome', 'with', 'recognition', 'plan', 'presented', 'and', 'present'}, {'', 'a', 'management'}]\n",
      "[{'', 'families', 'familie', 'a', 'three', 'famili', 'presented', 'family', 'familiis', 'are', 'present'}, {'dysplasium', 'branchio', 'oto', 'dysplasia', 'one', 'with', 'branch', 'renal', 'dysplasion', 'bor', 'and'}, {'', 'branchio', 'dysplasium', 'bo', 'oto', 'dysplasia', 'a', 'branch', 'dysplasion', 'two', 'with'}, {'', 'abnormalities', 'malformations', 'manifestations', 'i', 'malformation', 'anomalies', 'characteriz', 'untypical', 'is', 'abnormality', 'characterized', 'by', 'anomalous', 'syndrome', 'ear', 'unusual', 'anomaly', 'the', 'a', 'abnormal', 'disorder', 'former', 'peculiar', 'atypical', 'external', 'problem'}, {'', 'fistula', 'fistulae', 'cervical', 'a'}, {'mix', 'los', 'hearing', 'loss', 'mixed', 'and'}, {'', 'anomali', 'abnormalities', 'anomaly', 'malformations', 'manifestations', 'of', 'a', 'varying', 'anomalies', 'abnormal', 'disorder', 'severity', 'untypical', 'abnormality', 'severits', 'peculiar', 'anomalous', 'anomaliis', 'renal', 'unusual', 'atypical', 'anomalie', 'severiting', 'problem'}, {'anomali', 'abnormalities', 'malformations', 'manifestations', 'that', 'anomalies', 'untypical', 'abnormality', 'anomalous', 'differs', 'syndrome', 'anomaliis', 'renal', 'differ', 'unusual', 'anomalie', 'are', 'and', 'anomaly', 'the', 'abnormal', 'disorder', 'latter', 'in', 'peculiar', 'no', 'atypical', 'problem', 'there'}, {'', 'the', 'hearing', 'loss', 'of', 'that', 'absent', 'sensorineural', 'a', 'may', 'los', 'maing', 'mas', 'be', 'component'}, {'', 'abnormalities', 'syndrom', 'malformations', 'syndromes', 'manifestations', 'malformation', 'both', 'anomalies', 'untypical', 'abnormality', 'anomalous', 'syndrome', 'ear', 'syndromis', 'unusual', 'are', 'anomaly', 'the', 'a', 'variability', 'abnormal', 'disorder', 'variable', 'peculiar', 'quite', 'atypical', 'external', 'problem', 'in'}, {'supports', 'syndrom', 'syndromes', 'evidence', 'not', 'i', 'of', 'that', 'support', 'which', 'evident', 'variant', 'phenotypia', 'dominant', 'is', 'ideum', 'syndrome', 'phenotypy', 'syndromis', 'phenotypic', 'presented', 'are', 'autosomal', 'the', 'mutation', 'idea', 'variants', 'two', 'same', 'these', 'ideon', 'phenotypus', 'but', 'present'}, {'', 'entity', 'entitiis', 'disease', 'a', 'distinct', 'entitie', 'entities', 'entiti'}, {'malformations', 'larger', 'of', 'carefully', 'malformation', 'careful', 'appear', 'untypical', 'abnormality', 'hereditars', 'syndrome', 'ruled', 'branchial', 'syndromis', 'to', 'adysplasia', 'hereditary', 'and', 'anomaly', 'must', 'belong', 'group', 'dysplasion', 'bor', 'patients', 'hereditaring', 'problem', 'well', 'dysplasium', 'abnormalities', 'syndrom', 'syndromes', 'manifestations', 'that', 'dysplasia', 'appears', 'anomalies', 'carefulling', 'as', 'anomalous', 'carefulls', 'ear', 'familial', 'renal', 'unusual', 'be', 'the', 'patient', 'parents', 'out', 'a', 'adysplasium', 'rul', 'abnormal', 'disorder', 'arch', 'adysplasion', 'peculiar', 'parent', 'with', 'all', 'atypical', 'in'}, {'faci', 'the', 'of', 'presence', 'auricular', 'facies', 'malformation', 'present', 'infants', 'facie', 'siblings', 'with', 'infant', 'sibling', 'facy', 'potter', 'and', 'faciis', 'in'}, {'', 'adysplasion', 'a', 'adysplasium', 'renal', 'adysplasia'}]\n",
      "[{'', 'nbccs', 'a', 'nbcc', 'carcinomon', 'necks', 'syndrome', 'nevoid', 'cell', 'carcinomum', 'basal', 'carcinoma'}, {'gorlin', 'i', 'a', 'characteriz', 'is', 'predisposition', 'characterized', 'by', 'or', 'multiple', 'goblin', 'syndrome', 'carcinomas', 'cancer', 'cell', 'and', 'basal', 'carcinoma'}, {'defects', '', 'defect', 'developmental', 'a', 'diverse'}, {'', 'nbcc', 'the', 'nbccs', 'necks', 'a', 'for', 'gene', 'responsible', 'responsibility'}, {'', 'i', 'which', 'a', 'like', 'gene', 'likeling', 'suppressor', 'is', 'likely', 'most', 'tumor', 'to', 'be', 'likels'}, {'microsatellite', '9q22', 'has', 'between', 'previousls', 'mapp', 'interval', '3', '12', 'locus', 'd9s12', 'to', 'previously', 'marker', 'and', 'the', 'q1', 's12', 'previousling', 'a', 'cm', 'mapped', 'q31', '1', 'previous', 'q2', 'been', 'loci', 'ha', 'in'}, {'', 'd9s109', 'a'}, {'combined', 'combin', 'multipoint', 'and'}, {'of', 'localization', 'between', 'haplotype', 'gene', 'analyse', 'refin', 'our', 'thi', 'to', 'marker', 'analyses', 'and', 'additional', 'this', 'have', 'the', 'polymorphisms', 'australasian', 'pedigree', 'pedigrees', 'polymorphism', 'further', 'refined', 'pedigre', 'markers', 'd9s196', 'pedigreis', 'collection', 'analys', 'region', 'analysis', 'in'}, {'d9s180', '', 'a'}, {'', 'reported', 'a', 'cm', 'approximate', 'approximateling', 'interval', 'an', 'approximately', 'report', '2', 'to', 'approximatels', 'be'}]\n",
      "[{'', 'of', 'study', 'prospective', 'individual', 'neurofibromatosi', 'studs', '2', 'from', 'thi', '29', 'familie', 'this', '96', 'studing', 'a', 'individuals', 'family', 'families', 'with', 'famili', 'familiis', 'neurofibromatosis'}, {'', 'affect', 'of', 'affected', 'a', 'were', '49', 'whom'}, {'association', 'serie', 'between', 'series', 'previousls', 'posterior', 'seriis', 'report', 'extend', 'capsular', 'confirms', 'previously', 'cataract', 'subcapsular', 'and', 'the', 'reported', 'confirm', 'previousling', 'an', 'previous', 'seri', 'sery', 'extended', 'in'}, {'', 'neurofibromatosi', 'neurofibromatosis', 'a', '2'}, {'', 'of', 'affected', '80', 'analyse', 'were', 'individual', 'four', 'posterior', 'from', 'exclud', 'capsular', 'cataract', 'analyses', 'subcapsular', 'the', 'statistical', 'cataracts', 'a', '45', 'individuals', '36', 'excluded', 'found', 'affect', 'analys', 'analysis', 'in'}, {'', 'addition', 'a', 'in'}, {'', 'statisticalls', 'len', 'opacitiis', 'opacity', 'of', 'association', 'peripheral', 'neurofibromatosi', '2', 'to', 'be', 'opacities', 'the', 'statisticalling', 'opacitie', 'statistical', 'a', 'opaciti', 'was', 'wa', 'found', 'lens', 'statistically', 'cortical', 'with', 'significant', 'neurofibromatosis'}, {'', 'of', 'had', 'famils', '8', 'peripheral', 'unaffected', 'neurofibromatosi', '2', 'familing', 'cataract', 'p', 'seventeen', 'unaffect', 'the', 'patient', '0', 'none', 'cataracts', 'member', 'a', '37', 'comparison', 'patients', 'family', 'fami', 'cortical', 'members', 'with', '0001', 'neurofibromatosis', 'in'}, {'', 'the', 'patient', 'opacitie', 'opacitiis', 'opacity', 'of', 'absent', 'absence', 'cataracts', 'a', 'were', 'patients', 'peripheral', 'opaciti', 'in', 'posterior', 'cortical', 'three', 'despite', 'capsular', 'cataract', 'subcapsular', 'opacities', 'present'}, {'', 'the', 'support', 'of', 'cataracts', 'earls', 'a', 'findings', 'inclusion', 'early', 'finding', 'these', 'onset', 'cortical', 'ear', 'cataract', 'earling'}, {'', 'posterior', 'cataracts', 'a', 'capsular', 'to', 'cataract', 'subcapsular', 'addition', 'in'}, {'', 'diagnosia', 'the', 'of', 'criterion', 'a', 'diagnostia', 'diagnosty', 'diagnostic', 'diagnostus', 'criterium', 'neurofibromatosi', 'criteria', '2', 'diagnosy', 'neurofibromatosis', 'in'}]\n",
      "[{'of', '', 'fami', 'which', 'at', 'in', 'individual', 'family', 'use', 'enhanc', 'for', 'a', 'were', 'on', 'risk', 'nf', 'investigat', 'the', '2', 'enhanced', 'mri', 'we', 'famils', 'mrus', 'report', 'with', 'familing', 'gadolinium', 'investigated', 'individuals'}, {'of', 'in', 'age', 'allow', 'asymptomatic', 'asymptomay', 'asymptomatia', 'allowed', 'diagnosis', 'asymptomaia', 'than', 'this', 'thi', 'child', 'acoustia', 'technique', 'acoustic', 'acoustus', 'the', '8', 'les', 'neuromas', 'acousia', 'mm', 'diagnosi', 'neuroma', 'acousy', 'asymptomaty', 'less', 'le', '7', 'has', 'asymptomatus', 'two', 'children', 'acousty', 'ha', 'small', 'and'}, {'', 'a', '11'}, {'of', 'one', 'whom', 'audiometrus', 'normal', 'audiometric', 'audiometry', 'audiometria', 'and', 'had'}, {'', 'evoked', 'evok', 'brainstem', 'response', 'a', 'testing'}, {'of', '', 'youngest', 'in', 'patient', 'to', 'asymptomatic', 'been', 'asymptomay', 'asymptomatia', 'these', 'diagnosis', 'asymptomaia', 'demonstrat', 'a', 'knowledge', 'nf', 'the', 'whom', '2', 'diagnosi', 'patients', 'are', 'asymptomaty', 'has', 'asymptomatus', 'ha', 'our', 'demonstrated'}, {'', 'that', 'earls', 'commonls', 'at', 'commonling', 'age', 'recognized', 'i', 'previousls', 'previousling', 'possibility', 'previous', 'than', 'it', 'acoustia', 'a', 'acoustic', 'acoustus', 'commonly', 'an', 'previously', 'develop', 'neuromas', 'acousia', 'recogniz', 'neuroma', 'more', 'earling', 'acousy', 'early', 'possible', 'acousty', 'is', 'ear', 'common'}, {'of', '', 'use', 'enhanc', 'to', 'diagnosis', 'acoustia', 'outcome', 'may', 'a', 'maing', 'acoustic', 'acoustus', 'the', 'neuromas', 'acousia', 'surgery', 'surgers', 'diagnosi', 'neuroma', 'enhanced', 'mri', 'mrus', 'surgering', 'with', 'earling', 'acousy', 'better', 'mas', 'early', 'gadolinium', 'following', 'acousty', 'lead', 'ear', 'earls'}, {'of', '', 'will', 'to', 'determine', 'this', 'thi', 'a', 'opportunits', 'better', 'technique', 'course', 'the', 'natural', 'opportuniting', 'disease', 'opportunity', 'provide'}]\n",
      "[{'of', '', 'brachydacty', 'characterized', 'phalanges', 'in', 'malformation', 'limbic', 'phalangis', 'digits', 'characteriz', 'phalang', 'i', 'brachydactyly', 'middle', 'uniform', 'a', 'brachydactyls', 'limb', 'shortening', 'the', 'brachydactyling', 'digit', 'phalanx', 'phalange', 'type', 'by', 'all', 'is', 'a1'}, {'of', '', 'in', 'gene', 'manifestations', 'abnormal', 'to', 'hedgehog', 'this', 'cause', 'shown', 'unusual', 'a', 'anomalies', 'were', 'thi', 'shh', 'anomaly', 'problem', 'anomalous', 'the', 'autosomal', 'mutations', 'atypical', 'dominant', 'ihh', 'disorder', 'peculiar', 'abnormality', 'abnormalities', 'be', 'untypical', 'mutation', 'indian', 'malformations'}, {'', 'in', 'i', 'known', 'ihh', 'formation', 'to', 'a', 'involv', 'important', 'protein', 'signaling', 'shh', 'molecule', 'be', 'involved', 'is', 'chondrocyte', 'the', 'an'}, {'', 'so', 'a', 'far'}, {'', 'in', 'brachydactylya1', 'ihh', 'only', 'have', 'report', 'to', 'been', 'brachydactyly', 'missense', 'onls', 'cause', 'a', 'reported', 'shh', 'misses', 'mutation', 'on', 'onling', 'mutations'}, {'', 'shh', 'in', 'ihh', 'on', 'we', 'report', 'first', 'the', 'here', 'deletion', 'a'}, {'', 'delete', 'dele95', 'p', 'a'}, {'', 'dutch', 'fami', 'causing', 'brachydactylya1', 'in', 'family', 'famils', 'mild', 'brachydactyly', 'familing', 'small', 'a'}, {'of', '', 'bda', 'number', 'total', 'to', 'brings', '7', 'this', 'cause', 'different', 'thi', 'a', 'bda1', 'found', 'mutation', 'the', 'mutations', 'bring'}]\n",
      "[{'analyzed', 'as', '61', 'we', 'patients', 'patient', 'analyz', 'cytogenetia', 'cytogeney', 'by', 'angelman', 'syndrome', 'a', 'angela', 'cytogenetic', 'cytogeneia', 'cytogenety', 'cytogenetus', 'and'}, {'', 'techniqu', 'techniques', 'technique', 'techniquis', 'molecular', 'a'}, {'of', '', 'basi', 'findings', 'on', 'the', 'finding', 'basis', 'molecular', 'a'}, {'4', '', 'classifi', 'were', 'groups', 'group', 'into', 'patients', 'following', 'patient', 'the', 'classified', 'a'}, {'', 'cas', 'familial', 'case', 'casis', 'without', 'a', 'deletion', 'cases'}, {'', 'submicroscopus', 'submicroscopy', 'with', 'familial', 'case', 'submicroscopic', 'submicroscopia', 'cases', 'a', 'cas', 'casis', 'deletion'}, {'', 'cas', 'sporadia', 'with', 'case', 'sporadus', 'sporadic', 'casis', 'a', 'deletion', 'sporady', 'cases'}, {'and'}, {'', 'cas', 'sporadia', 'case', 'sporadus', 'sporadic', 'without', 'casis', 'deletion', 'sporady', 'a', 'cases'}, {'', 'cas', 'sporadia', 'among', 'case', '53', 'sporadic', 'sporadus', 'casis', 'sporady', 'a', 'cases'}, {'', '70', 'a', 'deletion', 'molecular', '37', 'had'}, {'', 'extend', 'which', 'extended', 'commonls', 'commonling', 'd15s12h', 'to', 'commonly', 'd15s12', 'from', 'd15s9', 'a', 'common'}, {'', 'deletions', 'were', 'although', 'identical', 'not', 'deletion', 'all', 'a'}, {'of', '', 'cas', 'familial', 'case', '8', 'casis', 'a', 'cases'}, {'', 'fami', 'locus', 'family', 'only', 'a', 'on', 'onling', 'molecular', 'one', '2', 'sib', 'famils', '3', 'onls', 'from', 'familing', 'sibs', 'involving', 'deletion', 'loci', 'had'}, {'d15s12h', 'd15s10', 'and'}, {'', 'garb', 'gabrb3', 'a'}, {'', 'phenotypis', 'phenotypes', 'which', 'critical', 'as', 'phenotype', 'define', 'the', 'a', 'phenotyp', 'region', 'for'}, {'of', '', 'deletion', 'the', 'origin', 'parental', 'a'}, {'in', 'sporadia', 'sporadus', 'sporadic', 'both', 'sporady', 'and'}, {'', 'cas', 'familial', 'case', 'casis', 'a', 'cases'}, {'was', 'wa', 'exclusivels', 'exclusiveling', 'exclusively', 'maternal', 'exclusive', 'and'}, {'', 'hypothesis', 'genomy', 'with', 'a', 'consistent', 'hypothesi', 'genomia', 'genomus', 'imprinting', 'genomic'}, {'sporadia', 'among', 'sporadus', 'sporadic', 'sporady', 'and'}, {'', 'cas', 'familial', 'case', 'casis', 'without', 'a', 'deletion', 'cases'}, {'was', 'disoming', 'disoms', 'disomy', 'found', 'wa', 'uniparental', 'no', 'and'}, {'of', '', 'chromosomes', 'to', 'shown', 'a', 'were', 'inheritance', 'parent', 'chromosomis', 'inherit', 'most', 'chromosom', 'parents', 'chromosome', 'them', 'both', 'from', 'inheritant', '15', 'biparental'}, {'discrepancs', 'cytogenetia', 'cytogeney', 'discrepancy', 'a', 'cytogenetic', 'discrepancing', 'cytogeneia', 'cytogenety', 'between', 'cytogenetus', 'and'}, {'of', '', 'in', 'patient', 'cytogenetia', 'cytogeney', 'observ', 'observed', 'a', 'wa', 'cytogenetic', 'cytogenety', 'molecular', '26', '14', 'performed', 'whom', 'was', 'perform', 'patients', '53', 'analysis', 'be', 'analysi', 'cytogeneia', 'deletion', 'cytogenetus', 'could'}, {'of', '', 'show', 'normal', 'ten', 'patients', 'patient', '43', 'with', '23', 'showed', 'a', 'deletion', 'molecular', 'karyotype'}, {'and'}, {'4', 'of', '', 'patients', 'patient', '13', 'with', 'cytogenetia', 'cytogeney', '30', 'a', 'cytogenetic', 'cytogeneia', 'cytogenety', 'deletion', 'cytogenetus'}, {'', 'q11q13', 'del', '15', 'a'}, {'', 'show', 'showed', 'no', 'deletion', 'molecular', 'a'}, {'', 'clinical', 'manifestations', 'manifestation', 'abnormal', 'disorder', 'peculiar', 'abnormality', 'unusual', 'a', 'anomalies', 'abnormalities', 'untypical', 'anomaly', 'problem', 'anomalous', 'most', 'malformations', 'atypical'}, {'sign', 'signs', 'neurological', 'including', 'and'}, {'', 'characteristics', 'facial', 'characteristic', 'a'}, {'were', 'group', 'each', 'in', 'not', 'distinct', 'except'}, {'of', '', 'skin', 'hair', 'hypopigmentation', 'or', 'a', 'for'}, {'', 'submicroscopus', 'submicroscopy', 'with', 'familial', 'case', 'submicroscopic', 'associat', 'submicroscopia', 'cases', 'a', 'associated', 'were', 'cas', 'hypopigmentation', 'not', 'casis', 'deletion'}, {'of', 'that', 'critical', 'as', 'gene', 'i', 'findings', 'these', 'located', 'region', 'for', 'a', 'locat', 'hypopigmentation', 'suggest', 'is', 'the', 'finding', 'outside', 'suggested', 'and'}, {'', 'imprinted', 'i', 'is', 'not', 'imprint', 'a'}, {'analyzed', 'as', '61', 'we', 'patients', 'patient', 'analyz', 'cytogenetia', 'cytogeney', 'by', 'angelman', 'syndrome', 'a', 'angela', 'cytogenetic', 'cytogeneia', 'cytogenety', 'cytogenetus', 'and'}, {'', 'techniqu', 'techniques', 'technique', 'techniquis', 'molecular', 'a'}, {'of', '', 'basi', 'findings', 'on', 'the', 'finding', 'basis', 'molecular', 'a'}, {'4', '', 'classifi', 'were', 'groups', 'group', 'into', 'patients', 'following', 'patient', 'the', 'classified', 'a'}, {'', 'cas', 'familial', 'case', 'casis', 'without', 'a', 'deletion', 'cases'}, {'', 'submicroscopus', 'submicroscopy', 'with', 'familial', 'case', 'submicroscopic', 'submicroscopia', 'cases', 'a', 'cas', 'casis', 'deletion'}, {'', 'cas', 'sporadia', 'with', 'case', 'sporadus', 'sporadic', 'casis', 'a', 'deletion', 'sporady', 'cases'}, {'and'}, {'', 'cas', 'sporadia', 'case', 'sporadus', 'sporadic', 'without', 'casis', 'deletion', 'sporady', 'a', 'cases'}, {'', 'cas', 'sporadia', 'among', 'case', '53', 'sporadic', 'sporadus', 'casis', 'sporady', 'a', 'cases'}, {'', '70', 'a', 'deletion', 'molecular', '37', 'had'}, {'', 'extend', 'which', 'extended', 'commonls', 'commonling', 'd15s12h', 'to', 'commonly', 'd15s12', 'from', 'd15s9', 'a', 'common'}, {'', 'deletions', 'were', 'although', 'identical', 'not', 'deletion', 'all', 'a'}, {'of', '', 'cas', 'familial', 'case', '8', 'casis', 'a', 'cases'}, {'', 'fami', 'locus', 'family', 'only', 'a', 'on', 'onling', 'molecular', 'one', '2', 'sib', 'famils', '3', 'onls', 'from', 'familing', 'sibs', 'involving', 'deletion', 'loci', 'had'}, {'d15s12h', 'd15s10', 'and'}, {'', 'garb', 'gabrb3', 'a'}, {'', 'phenotypis', 'phenotypes', 'which', 'critical', 'as', 'phenotype', 'define', 'the', 'a', 'phenotyp', 'region', 'for'}, {'of', '', 'deletion', 'the', 'origin', 'parental', 'a'}, {'in', 'sporadia', 'sporadus', 'sporadic', 'both', 'sporady', 'and'}, {'', 'cas', 'familial', 'case', 'casis', 'a', 'cases'}, {'was', 'wa', 'exclusivels', 'exclusiveling', 'exclusively', 'maternal', 'exclusive', 'and'}, {'', 'hypothesis', 'genomy', 'with', 'a', 'consistent', 'hypothesi', 'genomia', 'genomus', 'imprinting', 'genomic'}, {'sporadia', 'among', 'sporadus', 'sporadic', 'sporady', 'and'}, {'', 'cas', 'familial', 'case', 'casis', 'without', 'a', 'deletion', 'cases'}, {'was', 'disoming', 'disoms', 'disomy', 'found', 'wa', 'uniparental', 'no', 'and'}, {'of', '', 'chromosomes', 'to', 'shown', 'a', 'were', 'inheritance', 'parent', 'chromosomis', 'inherit', 'most', 'chromosom', 'parents', 'chromosome', 'them', 'both', 'from', 'inheritant', '15', 'biparental'}, {'discrepancs', 'cytogenetia', 'cytogeney', 'discrepancy', 'a', 'cytogenetic', 'discrepancing', 'cytogeneia', 'cytogenety', 'between', 'cytogenetus', 'and'}, {'of', '', 'in', 'patient', 'cytogenetia', 'cytogeney', 'observ', 'observed', 'a', 'wa', 'cytogenetic', 'cytogenety', 'molecular', '26', '14', 'performed', 'whom', 'was', 'perform', 'patients', '53', 'analysis', 'be', 'analysi', 'cytogeneia', 'deletion', 'cytogenetus', 'could'}, {'of', '', 'show', 'normal', 'ten', 'patients', 'patient', '43', 'with', '23', 'showed', 'a', 'deletion', 'molecular', 'karyotype'}, {'and'}, {'4', 'of', '', 'patients', 'patient', '13', 'with', 'cytogenetia', 'cytogeney', '30', 'a', 'cytogenetic', 'cytogeneia', 'cytogenety', 'deletion', 'cytogenetus'}, {'', 'q11q13', 'del', '15', 'a'}, {'', 'show', 'showed', 'no', 'deletion', 'molecular', 'a'}, {'', 'clinical', 'manifestations', 'manifestation', 'abnormal', 'disorder', 'peculiar', 'abnormality', 'unusual', 'a', 'anomalies', 'abnormalities', 'untypical', 'anomaly', 'problem', 'anomalous', 'most', 'malformations', 'atypical'}, {'sign', 'signs', 'neurological', 'including', 'and'}, {'', 'characteristics', 'facial', 'characteristic', 'a'}, {'were', 'group', 'each', 'in', 'not', 'distinct', 'except'}, {'of', '', 'skin', 'hair', 'hypopigmentation', 'or', 'a', 'for'}, {'', 'submicroscopus', 'submicroscopy', 'with', 'familial', 'case', 'submicroscopic', 'associat', 'submicroscopia', 'cases', 'a', 'associated', 'were', 'cas', 'hypopigmentation', 'not', 'casis', 'deletion'}, {'of', 'that', 'critical', 'as', 'gene', 'i', 'findings', 'these', 'located', 'region', 'for', 'a', 'locat', 'hypopigmentation', 'suggest', 'is', 'the', 'finding', 'outside', 'suggested', 'and'}, {'', 'imprinted', 'i', 'is', 'not', 'imprint', 'a'}]\n",
      "[{'', 'a', 'neurofibromatosis', 'geneia', 'geney', 'acoustic', 'bank', 'tumors', 'origin', 'genetic', 'acousy', 'is', 'banf', 'acoustia', 'neurofibromatosi', 'genetus', 'neural', 'acoustus', 'of', 'acousty', 'genetia', 'associated', 'associat', 'with', 'defect', 'genety', 'crest', 'multiple', 'i', 'bilateral', 'tumor', 'acousia'}, {'from', '', 'in', 'chromosome', 'markers', 'polymorphus', 'a', 'detect', 'wa', 'specify', 'two', 'dnum', 'alleles', 'acoustic', 'los', 'detected', 'allel', 'acousy', 'marker', 'acoustia', 'neuromas', 'allele', 'neuroma', 'acoustus', 'specific', 'of', 'acousty', 'specifia', 'dna', 'specifus', 'with', '22', 'polymorphia', 'polymorphic', 'loss', 'polymorphy', 'dnon', 'allelis', 'was', 'acousia'}, {'', 'neurofibroma', 'neurofibromas', 'a', 'two'}, {'and'}, {'from', '', 'meningiomum', 'one', 'a', 'banf', 'patient', 'patients', 'meningiomon', 'bank', 'meningioma'}, {'', 'common', 'a', 'pathogeneia', 'pathogenety', 'indicate', 'pathogeney', 'for', 'typis', 'pathogenetus', 'indicates', 'all', 'mechanism', 'thi', 'pathogenetia', 'typ', 'pathogenetic', 'this', 'type', 'indicat', 'types', 'indicatis', 'three', 'tumor'}, {'from', '', 'neurofibromas', 'a', 'two', 'neurofibroma', 'same', 'taken', 'among', 'were', 'the', 'patient', 'three'}, {'and'}, {'', 'in', 'chromosome', 'of', 'show', 'suffered', 'suffer', 'a', 'demonstrating', 'alleles', 'deletion', 'identical', 'same', 'los', 'tumors', 'allel', 'showed', 'the', 'that', 'loss', 'both', 'allele', 'allelis', 'tumor'}, {'from', '', 'heterozygosits', 'a', 'detectability', 'los', 'third', 'thi', 'no', 'neurofibromon', 'this', 'of', 'show', 'detectable', 'neurofibroma', 'neurofibromum', 'heterozygosity', 'the', 'showed', 'loss', 'patient', 'heterozygositing'}, {'', 'possibility', 'chromosome', 'a', 'event', 'that', 'possible', 'affects', 'affect', 'possibiliting', 'of', 'mutational', 'more', 'the', '22', 'which', 'suggest', 'suggests', 'subtle', 'possibilits'}, {'', 'in', 'acousty', 'a', 'two', 'acoustic', 'the', 'acousy', 'acoustia', 'neuromas', 'neuroma', 'acoustus', 'acousia'}, {'', 'chromosome', 'of', 'a', 'wa', 'deleted', 'delet', 'onls', 'on', 'onling', '22', 'only', 'was', 'portion'}, {'', 'possibility', 'distal', 'locus', 'to', 'in', '22q11', 'd22s9', 'a', 'caus', 'chromosomal', 'bank', 'narrowing', 'that', 'banf', 'locu', 'possible', 'locic', 'of', 'location', 'causis', 'region', 'band', 'the', 'cause', 'gene', 'causes'}, {'identification', 'progressive', 'in', 'chromosome', 'to', 'a', 'identified', 'may', 'deletion', 'clone', 'provide', 'and', 'these', 'typis', 'well', 'typ', 'of', 'progressiveling', 'type', 'on', 'deletions', 'types', 'mean', 'progressivels', 'identify', 'the', '22', 'maing', 'smaller', 'progressively', 'mas', 'means', 'tumor'}, {'', 'characterize', 'the', 'a', 'defect'}]\n"
     ]
    },
    {
     "name": "stdout",
     "output_type": "stream",
     "text": [
      "[{'', 'puppet', 'happing', 'a', 'two', 'on', 'happs', 'with', 'we', 'sib', 'report', 'angela', 'sibs', 'happy', 'syndrome', 'angelman'}, {'', 'in', 'of', '48', 'familie', 'a', 'reported', 'familiis', 'the', 'famili', 'report', 'literature', 'family', 'out', 'families'}, {'', 'this', 'a', 'familing', 'onls', 'on', 'fourth', 'with', 'onling', 'the', 'i', 'famils', 'sib', 'is', 'family', 'sibs', 'affected', 'thi', 'fami', 'only', 'affect'}, {'deficit', 'reduce', 'impair', 'a', 'deficiency', 'shows', 'low', 'impaired', 'decreased', 'insufficient', 'lacking', 'reduced', 'difficulty', 'but', 'difficulties', 'of', 'show', 'trouble', 'deficient', 'deficits', 'the', 'lack', 'literature', 'review', 'impairment', 'decrease'}, {'', 'recurrence', 'negligible', 'a', 'recurrent', 'negligibility', 'not', 'risk'}, {'', 'this', 'a', 'discuss', 'explanations', 'different', 'explanation', 'are', 'for', 'discussed', 'thi'}]\n",
      "[{'short', 'stature', 'component', '', 'of', 'brachydactyly', 'a', 'may', 'brachydactyling', 'brachydacty', 'the', 'maing', 'mas', 'be', 'syndrome', 'brachydactyls', 'c'}, {'', 'in', 'brachydactyly', 'present', 'has', 'a', 'familing', 'oppositus', 'propositus', 'propositu', 'brachydacty', 'is', 'brachydactyls', 'c', 'propositic', 'ha', 'brachydactyling', 'the', 'which', 'famils', 'family', 'fami', 'i', 'presented'}, {'short', 'stature', '', 'a'}, {'and'}, {'', 'dysplasium', 'a', 'dysplasion', 'hip', 'dysplasia'}]\n",
      "[{'', 'pterygium', 'present', 'a', 'familing', 'popliteal', 'with', 'the', 'famils', 'family', 'is', 'syndrome', 'fami', 'i', 'presented'}, {'the', 'of', 'and', 'born', 'a', 'wa', 'father', 'cleft', 'palate', 'with', 'was'}, {'', 'lip', 'lower', 'a', 'pits', 'pit'}, {'', 'of', 'show', 'a', 'two', 'involvement', 'offspring', 'extensive', 'the', 'showed', 'palate', 'three'}, {'', 'gum', 'gums', 'a'}, {'and'}, {'', 'lip', 'the', 'of', 'lower', 'a', 'limb', 'minimal', 'involvement', 'lips', 'limbs', 'with'}, {'', 'genitalium', 'genitalia', 'genitalion', 'a'}, {'and'}, {'', 'a', 'nail', 'nails'}]\n",
      "[{'', 'individuals', 'in', 'a', 'familing', '16', 'generations', 'described', 'individual', 'disease', 'tooth', 'which', 'famils', '3', 'is', 'family', 'marie', 'generation', 'i', 'charcot', 'have', 'fami', 'describ'}, {'', 'also', 'a', 'naevoid', 'familing', 'least', 'at', 'nevoid', 'cell', 'member', 'carcinoma', 'have', 'members', '6', 'the', 'famils', 'family', 'basal', 'syndrome', 'carcinomon', 'carcinomum', 'fami'}, {'', 'in', 'addition', 'a'}, {'', 'has', '2', 'a', 'naevoid', 'young', 'ha', 'disorder', 'daughters', 'with', 'nevoid', 'the', 'cell', 'disorders', 'subject', 'carcinoma', 'basal', 'syndrome', '1', 'both', 'carcinomon', 'carcinomum', 'daughter'}]\n",
      "[{'mother', 'and', 'a'}, {'', 'sinuse', 'a', 'son', 'bilateral', 'sinuses', 'sinus', 'with', 'branchial', 'sinusis'}, {'and', 'intrauterine'}, {'', 'a', 'growth', 'retardation', 'postnatal'}, {'', 'malformations', 'appearant', 'anomaly', 'untypical', 'disorder', 'a', 'problem', 'abnormalities', 'peculiar', 'anomalies', 'manifestations', 'abnormality', 'anomalous', 'facial', 'appearance', 'unusual', 'abnormal', 'atypical'}, {'and'}, {'', 'in', 'the', 'are', 'a', 'report', 'reported', 'aging', 'mother', 'premature'}, {'', 'similarls', 'of', 'a', 'other', 'familing', 'similarling', 'the', 'are', 'similar', 'famils', 'family', 'member', 'affected', 'no', 'fami', 'members', 'affect', 'similarly'}, {'', 'of', 'systemia', 'or', 'identified', 'a', 'wa', 'growth', 'hormonal', 'identifi', 'systemy', 'systemic', 'cause', 'systemus', 'retardation', 'no', 'was'}, {'', 'were', 'study', 'studies', 'studiis', 'a', 'g', 'normal', 'studie', 'with', 'chromosomal', 'studi', 'banding'}, {'', 'this', 'suggested', 'a', 'trait', 'dominant', 'it', 'that', 'is', 'syndrome', 'suggest', 'thi', 'i'}, {'', 'being', 'the', 'a', 'mutant', 'mother', 'initial'}]\n",
      "[{'in', 'to', 'diagnos', 'untypical', '2', 'neurofibromatosis', 'patients', 'problem', 'anomalies', 'abnormalitiis', 'and', 'unusual', 'abnormaliti', 'neurofibromatosi', 'clinicalls', 'atypical', 'malformations', 'anomaly', 'diagnosed', 'disorder', 'abnormalities', 'abnormalitie', 'with', 'peculiar', 'manifestations', 'clinically', 'the', 'evaluate', 'abnormality', 'patient', 'clinical', 'clinicalling', 'ocular', 'abnormal', 'anomalous'}, {'', 'asymptomatic', 'carrier', 'asymptomatia', 'a', 'asymptomaia', 'carriers', 'asymptomay', 'asymptomaty', 'asymptomatus', 'gene'}, {'probands', '', 'practice', 'ascertained', 'a', 'otolaryngology', 'surgical', 'through', 'were', 'otolaryngologing', 'proband', 'practit', 'otolaryngologs', 'ascertain'}, {'', 'in', 'study', 'cros', 'sectional', 'cross', 'a', 'studing', 'studs'}, {'', 'examin', 'we', '2', 'a', 'neurofibromatosis', 'patient', 'patients', '49', 'neurofibromatosi', 'examined', 'with'}, {'', 'of', '30', 'a', 'patient', 'offspring', 'patients'}, {'', 'and', 'a'}, {'', 'as', 'group', 'a', 'comparison'}, {'parent', 'parents', 'and', '18'}, {'', 'of', '2', 'a', 'neurofibromatosis', 'patient', 'sporadus', 'patients', 'neurofibromatosi', 'sibling', 'sporady', 'with', 'siblings', 'sporadia', 'sporadic'}, {'', 'neuro', 'included', 'a', 'assessment', 'examination', 'ophthalmy', 'the', 'ophthalmus', 'ophthalmia', 'includ', 'ophthalmic', 'complete'}, {'', 'examination', 'physical', 'a'}, {'', 'and', 'a'}, {'patient', 'patients', 'for', 'and'}, {'at', '', 'relative', 'first', 'a', 'relativ', 'relativis', 'relatives', 'degree', 'risk'}, {'and', 'cranial'}, {'', 'imaging', 'enhancement', 'a', 'resonant', 'with', 'magnetus', 'magneia', 'gadolinium', 'resonance', 'spinal', 'magnetia', 'magnetic', 'magney', 'magnety'}, {'', 'performed', 'perform', 'if', 'a', 'previously', 'previous', 'not', 'previousls', 'previousling'}, {'', 'common', 'untypical', 'or', 'a', 'problem', 'anomalies', 'capsular', 'abnormalitiis', 'unusual', 'abnormaliti', 'atypical', 'malformations', 'anomaly', 'disorder', 'abnormalities', 'abnormalitie', 'peculiar', 'most', 'posterior', 'manifestations', 'were', 'the', 'abnormality', 'subcapsular', 'ocular', 'abnormal', 'anomalous'}, {'cortical', '', 'a'}, {'mix', 'in', 'opacitiis', 'or', '2', 'neurofibromatosis', 'len', 'patients', '49', 'opacity', 'mixed', 'opaciti', 'lens', 'opacitie', '33', 'and', 'opacities', 'neurofibromatosi', 'of', 'with', '67', 'patient'}, {'', 'in', '22', 'hamartomas', 'a', 'hamartoma', 'retinal', '11'}, {'', 'in', 'to', 'familie', 'or', 'a', 'two', 'determine', 'familiis', 'six', 'risk', 'at', 'analysi', 'we', 'famili', 'who', 'younger', 'families', 'us', 'of', 'carrier', 'analysis', 'offspring', 'status', 'segregation', 'static', 'were', 'the', 'used', '30', 'family', 'old', 'statu', 'years', 'year', 'multigeneration', 'mutation'}, {'', 'carrier', 'cataracts', 'asymptomatia', 'a', 'carriers', 'asymptomay', 'cataract', 'asymptomatus', 'asymptomatic', 'three', 'asymptomaia', 'had', 'asymptomaty', 'mutation'}, {'', 'to', 'wherea', 'cataracts', 'a', 'did', 'cataract', 'whereas', 'those', 'who', 'have', 'not', 'carring', 'were', 'the', 'carrs', 'carry', 'predicted', 'predict', 'mutation'}, {'', 'in', 'untypical', 'asymptomatia', 'or', 'a', 'carriers', 'may', 'problem', 'asymptomay', 'detectability', 'asymptomatus', 'anomalies', 'abnormalitiis', 'eye', 'are', 'that', 'asymptomaia', 'unusual', 'abnormaliti', 'have', 'atypical', 'malformations', 'anomaly', 'of', 'carrier', 'disorder', 'developmental', 'detectable', 'adolescence', 'abnormalities', 'abnormalitie', 'peculiar', 'adolescent', 'manifestations', 'asymptomatic', 'the', 'abnormality', 'maing', 'mas', 'childhood', 'asymptomaty', 'mutation', 'abnormal', 'anomalous'}, {'', 'in', 'assist', 'of', 'diagnosi', 'a', 'earling', 'may', 'disease', 'the', 'that', 'maing', 'mas', 'earls', 'finding', 'diagnosis', 'ear', 'early'}, {'', 'in', 'present', 'untypical', '2', 'a', 'neurofibromatosis', 'problem', 'variets', 'anomalies', 'abnormalitiis', 'are', 'unusual', 'abnormaliti', 'neurofibromatosi', 'atypical', 'malformations', 'varieting', 'anomaly', 'of', 'disorder', 'abnormalities', 'abnormalitie', 'peculiar', 'manifestations', 'abnormality', 'variety', 'ocular', 'abnormal', 'anomalous'}, {'', 'cataracts', 'cataract', 'a', 'including'}, {'', 'retinal', 'hamartomas', 'a', 'hamartoma'}, {'and'}, {'', 'deficit', 'reduce', 'impair', 'difficulties', 'trouble', 'a', 'deficient', 'deficiency', 'low', 'deficits', 'impaired', 'motor', 'reduced', 'lack', 'decreased', 'lacking', 'insufficient', 'ocular', 'impairment', 'decrease', 'difficulty'}, {'life', 'in', 'of', 'or', 'earling', 'developmental', 'maning', 'acquired', 'are', 'and', 'these', 'earls', 'many', 'acquir', 'ear', 'mans', 'early'}, {'', 'in', 'assist', 'presymptomaia', 'presymptomaty', 'a', 'presymptomatus', 'diagnosi', 'may', 'presymptomatia', 'presymptomay', 'maing', 'mas', 'presymptomatic', 'diagnosis'}, {'', 'of', 'relative', '2', 'a', 'neurofibromatosis', 'relativ', 'patients', 'with', 'risk', 'at', 'for', 'patient', 'neurofibromatosi', 'relativis', 'relatives', 'screening'}, {'typ', 'of', '2', 'or', 'neurofibromatosis', 'type', 'like', 'cataract', 'types', 'most', 'capsular', 'posterior', 'the', 'are', 'that', 'and', 'plaque', 'typis', 'suggestive', 'subcapsular', 'neurofibromatosi'}, {'', 'of', 'age', 'a', 'cataract', 'with', 'onset', 'under', 'the', '30', 'years', 'year', 'cortical'}]\n",
      "[{'', 'nbccs', 'a', 'nbcc', 'carcinomon', 'necks', 'syndrome', 'nevoid', 'cell', 'carcinomum', 'basal', 'carcinoma'}, {'gorlin', 'i', 'a', 'characteriz', 'nevic', 'bcci', 'is', 'predisposition', 'characterized', 'bcc', 'by', 'nevus', 'or', 'multiple', 'goblin', 'syndrome', 'carcinomas', 'bccs', 'nevu', 'cancer', 'cell', 'and', 'basal', 'carcinoma'}, {'defects', '', 'defect', 'developmental', 'a', 'diverse'}, {'american', 'nbccs', 'has', 'for', 'gene', 'mapp', 'north', 'to', 'and', '9q23', 'the', 'q1', 'mapped', 'q31', '1', 'q2', 'nbcc', 'been', 'necks', 'ha', 'in'}, {'', 'families', 'european', 'a', 'famili', 'familie', 'family', 'familiis'}, {'', 'addition', 'a', 'in'}, {'', 'sporadia', 'sporady', 'genetic', 'loss', 'of', 'has', 'for', 'heterozygositing', 'sporadus', 'bcci', 'thi', 'bccs', 'marker', 'geney', 'heterozygosity', 'genetus', 'oh', 'this', 'genetia', 'genety', 'detect', 'a', 'heterozygosits', 'loh', 'los', 'been', 'bcc', 'markers', 'geneia', 'sporadic', 'ha', 'detected', 'region', 'in'}, {'', 'probably', 'the', 'indicating', 'nbccs', 'i', 'that', 'a', 'gene', 'suppressor', 'is', 'nbcc', 'probabling', 'necks', 'tumor', 'probab', 'probabls'}, {'determin', 'nbccs', 'i', 'that', 'gene', 'study', 'is', 'we', 'studs', 'thi', 'determined', 'to', 'and', 'this', 'have', 'the', 'studing', 'australasian', 'linked', 'pedigree', 'pedigrees', 'nbcc', 'pedigre', 'necks', 'pedigreis', 'link', 'also', 'region', 'in'}, {'', 'heterogeneity', 'evidence', 'i', 'of', 'that', 'evident', 'a', 'heterogeneiting', 'is', 'no', 'heterogeneits', 'significant', 'there'}, {'have', 'the', 'multipoint', 'localization', 'of', 'defin', 'gene', 'defined', 'we', 'by', 'and'}, {'15', '', 'of', 'haplotype', 'a', 'analysi', 'family', 'families', 'famili', 'familie', 'familiis', 'analysis'}, {'microsatellite', '', 'markers', 'four', 'a', 'marker', 'using'}, {'', 'sporadia', 'sporady', 'of', 'detect', 'a', 'at', 'sporadus', 'bcci', 'was', 'loh', 'these', 'wa', 'bcc', '50', 'locus', 'loci', 'sporadic', 'bccs', 'detected', 'oh', 'in'}, {'', 'i', 'lesion', 'that', 'us', 'skin', 'is', 'other', 'as', 'lesions', 'higher', 'used', 'controls', 'a', 'significantling', 'significantly', 'than', 'significantls', 'rate', 'control', 'significant', 'in'}]\n",
      "[{'abnormalities', 'malformations', 'manifestations', 'i', 'developmental', 'anomalies', 'characteriz', 'untypical', 'is', 'abnormality', 'characterized', 'problem', 'by', 'nevus', 'anomalous', 'abnormalitiis', 'syndrome', 'bins', 'unusual', 'nevu', 'cell', 'and', 'anomaly', 'the', 'abnormalitie', 'abnormal', 'nevic', 'disorder', 'bcn', 'peculiar', 'atypical', 'bcns', 'basal', 'abnormaliti'}, {'', 'the', 'cancers', 'postnatal', 'by', 'of', 'occurrent', 'a', 'occurrence', 'cancer'}, {'especially', '', 'a', 'especial', 'bcci', 'especialls', 'bcc', 'especialling', 'bccs', 'carcinomas', 'cell', 'basal', 'carcinoma'}, {'', 'the', 'most', 'common', 'a', 'human', 'cancer'}, {'patient', 'heritability', 'mutation', 'and', 'mutations', 'bins', 'heritable', 'patients', 'bcn', 'bcns', 'in'}, {'', 'sporadia', 'sporady', 'somatic', 'of', 'somatia', 'gene', 'were', 'sporadus', 'somaia', 'drosophila', 'patched', 'somatus', 'drosophilon', 'patch', 'the', 'somaty', 'identified', 'mutation', 'drosophilum', 'a', 'human', 'homolog', 'ptc', 'somay', 'bcc', 'sporadic', 'identifi', 'in'}, {'', 'the', 'drosophilum', 'that', 'a', 'encod', 'gene', 'signaling', 'opposition', 'acts', 'act', 'encodis', 'ptc', 'drosophila', 'encode', 'protein', 'drosophilon', 'encodes', 'transmembrane', 'to', 'hedgehog', 'in'}, {'', 'fat', 'a', 'fate', 'fatis', 'fates', 'cell', 'controlling'}, {'', 'a', 'patterning'}, {'and'}, {'', 'growth', 'tissue', 'tissues', 'tissu', 'a', 'numerous', 'tissuis', 'numeroic', 'numerou', 'in'}, {'the', 'proper', 'appears', 'human', 'development', 'appear', 'for', 'gene', 'embryonus', 'ptc', 'crucial', 'embryonia', 'embryonic', 'to', 'embryony', 'be', 'and'}, {'', 'suppression', 'a', 'tumor', 'for'}]\n",
      "[{'', '22', 'reveal', 'of', 'has', 'variety', 'gene', 'nf2', 'individual', 'neurofibromatosi', '2', 'nfu', 'to', 'type', 'the', 'mutation', 'a', 'human', 'mutations', 'individuals', 'different', 'chromosome', 'in', 'predisposing', 'varieting', 'on', 'ha', 'variets', 'wide', 'neurofibromatosis', 'revealed'}, {'', 'patient', 'displaing', 'mark', 'variabilits', 'a', 'variability', 'patients', 'marked', 'variable', 'these', 'in', 'displas', 'variabiliting', 'presentation', 'display', 'clinical'}, {'', 'relatively', 'condition', 'vers', 'relativels', 'relativeling', 'later', 'mild', 'very', 'young', 'disease', 'from', 'numerous', 'life', 'vering', 'tumor', 'to', 'numerou', 'age', 'severe', 'ranging', 'a', 'at', 'numeroic', 'relative', 'tumors', 'with', 'much', 'in'}, {'', 'determin', 'the', 'heterogeneity', 'investigate', 'of', 'mutation', 'i', 'phenotypia', 'a', 'heterogeneiting', 'is', 'nf2', 'by', 'phenotypy', 'nfu', 'thi', 'determined', 'phenotypic', 'to', 'whether', 'heterogeneits', 'phenotypus', 'type', 'this', 'in'}, {'', '73', 'cas', 'perform', 'gene', 'we', 'nf2', 'collect', '111', 'collected', 'from', 'nfu', 'thi', 'screening', 'information', 'familie', 'this', 'clinical', 'have', 'mutation', 'case', 'cases', 'a', 'casis', 'different', 'family', 'whom', 'families', 'on', 'performed', 'famili', 'familiis', 'in'}, {'', '56', 'of', 'sixty', 'mutation', 'kindreds', 'a', 'mutations', 'individuals', 'different', '36', 'sixts', 'causing', 'sixting', 'these', 'putative', 'individual', 'seven', '41', '2', 'disease', 'from', 'kindred', 'reveal', 'revealed'}, {'proposed', '26', 'include', 'deletions', 'alteration', 'insertion', 'these', 'frameshift', 'propos', 'deletion', 'protein', 'truncating', 'alterations', 'and', 'insertions'}, {'mutations', '', 'nonsense', 'mutation', 'a'}, {'', 'mutation', 'site', 'a', 'mutations', 'split', '6', 'splice'}, {'', 'mutation', 'misses', '2', 'a', 'mutations', 'missense'}, {'', 'the', 'substitution', 'of', 'utd', 'a', 'cdnon', '1', '3', 'base', 'cdnum', 'nf2', 'cdna', 'nfu', 'utr', 'in'}, {'and'}, {'', 'single', 'a', 'bp', 'insertion', 'frame', '3', 'in'}, {'seventeen', 'novel', 'these', '', 'of', 'mutation', 'a', 'mutations', 'are'}, {'have', '', 'sporadia', 'the', 'sporady', 'wherea', 'previousling', '19', 'described', 'a', 'previousls', 'individuals', 'whereas', 'sporadus', 'previous', 'nf2', 'been', 'other', 'describ', 'individual', 'or', 'tumors', 'nfu', 'tumor', 'sporadic', 'previously', 'remaining', 'in'}, {'', 'harboring', 'codon', 'mutation', 'case', 'cases', 'a', 'cas', 'mutations', 'casis', 'alteration', 'individuals', 'when', 'single', 'individual', 'compar', 'protein', 'harbouring', 'with', 'truncating', 'alterations', 'compared', 'are'}, {'', 'correlation', 'observed', 'i', 'a', 'outcome', 'observ', '001', 'is', 'with', 'significant', 'p', 'clinical'}, {'', 'of', 'that', 'truncation', 'twenting', 'nf2', 'twenty', 'four', 'cause', 'nfu', 'premature', 'the', 'patient', 'twents', 'mutation', 'a', 'mutations', 'patients', '28', 'protein', 'with'}, {'schwannomin', '', 'schwannoma', 'a'}, {'', 'severe', 'with', 'a', 'phenotypis', 'phenotyp', 'phenotype', 'phenotypes', 'present'}, {'', 'contrast', 'a', 'in'}, {'amino', '', 'onling', 'that', 'cas', 'mild', 'nf2', 'acid', 'from', 'nfu', 'onls', 'familie', 'have', 'mutation', 'case', 'cases', 'a', 'mutations', 'casis', 'family', '16', 'families', 'single', 'affect', 'with', 'three', 'only', 'on', 'all', 'famili', 'familiis'}, {'', 'correlation', 'evidence', 'provide', 'da', 'conclusive', 'that', 'mutation', 'evident', 'a', 'mutations', 'for', 'datum', 'certain', 'nf2', 'these', 'exists', 'exist', 'daton', 'nfu', 'data', 'phenotype', 'genotype'}]\n",
      "[{'neurofibromatosi', 'neurofibromatosis', 'and', '1'}, {'genetic', 'affected', 'which', 'both', 'dominant', 'individual', 'neurofibromatosi', '2', 'geney', 'genetus', 'are', 'and', 'autosomal', 'benign', 'genetia', 'genety', 'disorder', 'individuals', 'develop', 'disorders', 'affect', 'geneia', 'neurofibromatosis', 'in'}, {'', 'malignant', 'elevated', 'elevate', 'increased', 'a', 'elevation', 'at', 'increase', 'frequencing', 'an', 'high', 'tumors', 'tumor', 'increas', 'frequencs', 'frequency'}, {'', 'of', 'consensus', 'conferent', 'since', 'institutes', '1987', 'institute', 'consensic', 'original', 'national', 'the', 'sint', 'consensu', 'a', 'development', 'institut', 'health', 'conference', 'institutis', 'in'}, {'basis', 'the', 'complete', 'of', 'has', 'a', 'bases', 'for', 'bas', 'toward', '1', 'base', 'been', 'molecular', 'neurofibromatosi', 'progres', 'more', 'progress', 'ha', 'understanding', 'significant', 'neurofibromatosis', 'and', 'there'}, {'', 'neurofibromatosi', 'neurofibromatosis', 'a', '2'}, {'diagnosia', 'the', 'criterion', 'diagnostia', 'for', 'determine', 'objective', '1', 'was', 'diagnosty', 'diagnostic', 'wa', 'diagnostus', 'criterium', 'neurofibromatosi', 'criteria', 'our', 'to', 'diagnosy', 'neurofibromatosis', 'and'}, {'', 'neurofibromatosi', 'neurofibromatosis', 'a', '2'}, {'the', 'patient', 'of', 'care', 'recommendations', 'for', 'patients', 'and', 'recommendation'}, {'families', 'diagnosis', 'at', 'diagnosi', 'their', 'famili', 'familie', 'family', 'familiis', 'and'}, {'', 'up', 'during', 'a', 'routine', 'follow'}, {'and'}, {'', 'diagnosia', 'the', 'dnon', 'of', 'diagnosy', 'diagnostia', 'a', 'disorder', 'dna', 'diagnosty', 'disorders', 'diagnostic', 'these', 'role', 'diagnostus', 'evaluation', 'dnum', 'testing', 'in'}, {'medline', 'obtain', 'publish', 'search', 'by', '1996', 'report', 'from', 'obtained', 'reports', '1966', 'and', 'through', 'published'}, {'study', 'studiis', 'studies', 'studie', 'at', 'studi', 'national', 'presented', 'and', 'present'}, {'', 'international', 'meeting', 'meetings', 'a'}, {'study', 'review', 'studiis', 'studies', 'studie', 'reviewed', 'all', 'studi', 'were', 'and'}, {'', 'consensu', 'a', 'consensus', 'analyzed', 'author', 'analyz', 'by', 'multiple', 'from', 'consensic', 'authors'}, {'', 'review', 'extraction', 'critically', 'author', 'were', 'by', 'criticalling', 'critical', 'data', 'published', 'authors', 'da', 'a', 'publish', 'datum', 'independent', 'criticalls', 'multiple', 'reviewed', 'daton', 'evaluat', 'peer', 'evaluated'}, {'review', 'the', 'of', 'main', 'result', 'were', 'results', 'and', 'qualitative'}, {'', 'review', 'web', 'a', 'directors', 'were', 'an', 'by', 'neurofibromatosi', 'director', 'internet', 'reviewed', 'worldwide', 'site', 'neurofibromatosis', 'through', 'clinical'}, {'basis', '', 'review', 'the', 'of', 'information', 'a', 'present', 'basi', 'thi', 'on', 'presented', 'this', 'in'}, {'the', 'diagnosis', 'approach', 'a', 'and', 'diagnosi', 'to', 'comprehensive', 'propose', 'we'}, {'individual', 'neurofibromatosi', 'of', 'with', 'treatment', 'individuals', 'neurofibromatosis', 'and', '1'}, {'', 'neurofibromatosi', 'neurofibromatosis', 'a', '2'}]\n",
      "[{'', 'dominant', 'decrease', 'reduce', 'branchiootorenal', 'difficulties', 'deficit', 'impair', 'previously', 'low', 'insufficient', 'deficient', 'syndrome', 'form', 'is', 'a', 'to', 'mapp', 'previousls', 'i', 'trouble', 'reduced', 'previous', 'decreased', 'deficits', 'bor', 'deficiency', 'impairment', '8q', 'lacking', 'lack', 'difficulty', 'common', 'autosomal', 'of', 'impaired', 'q', 'mapped', 'previousling', 'hearing'}, {'markers', 'refin', 'refinis', 'by', 'this', 'localization', 'analysi', 'syndrome', 'analysis', 'gene', 'to', 'interval', 'd8s553', 'refine', 'flanked', 'haplotype', 'report', 'bor', 'and', 'the', 'marker', 'refines', 'flank', 'of', 'thi'}, {'', 'd8s286', 'a'}, {'', 'a', 'analysis', 'linkage', 'by', 'analysi', 'multipoint'}, {'markers', 'and', 'the', 'marker', 'by', 'flank', 'disease', 'd8s530', 'is', 'likeling', 'likely', 'likels', 'flanked', 'i', 'locus', 'like', 'locic', 'locu', 'most'}, {'', 'd8s279', 'a'}]\n",
      "[{'', 'towne', 'towns', 'syndrome', 'characteristia', 'is', 'comprised', 'a', 'including', 'townis', 'characterisia', 'i', 'brock', 'characteristus', 'rocks', 'triad', 'tb', 'town', 'the', 'characteristy', 'brocks', 'townes', 'characteristic', 'of', 'tbs', 'compris', 'anal', 'characterisy'}, {'', 'thumb', 'a'}, {'and'}, {'', 'anomaly', 'peculiar', 'problem', 'anomalie', 'anomalies', 'atypical', 'anomaliis', 'ear', 'unusual', 'abnormality', 'disorder', 'a', 'abnormalities', 'abnormal', 'manifestations', 'malformations', 'anomali', 'untypical', 'anomalous'}, {'', 'anomaly', 'peculiar', 'are', 'which', 'system', 'unusual', 'disorder', 'a', 'abnormal', 'manifestations', 'there', 'malformations', 'untypical', 'anomalous', 'mas', 'problem', 'other', 'atypical', 'anomalies', 'abnormalitie', 'maing', 'mans', 'abnormaliti', 'be', 'abnormality', 'may', 'present', 'abnormalities', 'many', 'organ', 'abnormalitiis', 'maning'}, {'', 'however', 'a'}, {'not', 'doe', 'except', 'does', 'literature', 'findings', 'the', 'do', 'craniofacial', 'dois', 'finding', 'emphasize'}, {'with', 'typical', '', 'a', 'to', 'referent', 'configuration', 'reference', 'the', 'ear'}, {'anomaly', 'peculiar', 'which', 'manifestation', 'unusual', 'were', 'in', 'disorder', 'is', 'a', 'manifestations', 'prominent', 'abnormal', 'i', 'malformations', 'untypical', 'fami', 'anomalous', 'famils', 'family', 'and', 'problem', 'atypical', 'anomalies', 'three', 'craniofacial', 'abnormality', 'generation', 'abnormalities', 'described', 'describ', 'familing'}, {'', 'considered', 'condition', 'goldenhar', 'as', 'was', 'diagnosis', 'the', 'consider', 'a', 'likeling', 'wa', 'diagnosi', 'likely', 'likels', 'like', 'goldener', 'most'}, {'', 'however', 'a'}, {'', 'anic', 'male', 'anus', 'imperforate', 'an', 'affect', 'had', 'anu', 'the', 'affected', 'birth', 'with', 'a', 'recent', 'of', 'who'}, {'also', '', 'consider', 'a', 'diagnosi', 'wa', 'of', 'considered', 'tbs', 'diagnosis', 'was', 'tb', 'the'}, {'', 'famils', 'family', 'manifests', 'variets', 'goldenhar', 'the', 'manifest', 'finding', 'a', 'of', 'variety', 'findings', 'varieting', 'like', 'goldener', 'familing', 'fami'}, {'', 'including', 'a', 'dermoids', 'dermoid', 'epibulbar'}, {'', 'a', 'microsomium', 'microsomia', 'hemifacial', 'microsomion'}, {'', 'preauricular', 'tag', 'tags', 'a'}, {'', 'macrostomium', 'a', 'macrostomia', 'macrostomion'}, {'and'}, {'', 'micrognathion', 'ear', 'micrognathia', 'classical', 'in', 'a', 'to', 'micrognathium', 'addition'}, {'', 'radial', 'a'}, {'and'}, {'', 'a', 'of', 'tbs', 'tb', 'findings', 'anal', 'finding'}, {'', 'famils', 'family', 'fami', 'possibility', 'condition', 'biological', 'possible', 'this', 'we', 'these', 'out', 'relationship', 'a', 'to', 'on', 'of', 'point', 'two', 'thi', 'report', 'familing', 'conditions'}]\n",
      "[{'day', 'and', 'arthrogryposi', 'arthrogryposis', '1', 'distal', 'type', 'da1'}, {'', 'caus', 'contracturis', 'are', 'cause', 'contracture', 'f', 'the', 'causis', 'freeman', 'inherited', 'contractures', 'contractur', 'syndrome', 'congenital', 'fss', 'a', 'common', 'causes', 'of', 'two', 'sheldon', 'multiple', 'fs', 'inherit', 'known', 'most'}, {'anomaly', 'between', 'peculiar', 'recentling', 'day', 'unusual', 'with', 'disorder', 'a', 'abnormal', 'manifestations', 'characteriz', 'dab', 'recentls', 'malformations', 'da2b', 'untypical', 'da1', 'anomalous', 'and', 'problem', 'intermediate', 'atypical', 'anomalies', 'recently', 'we', 'phenotype', 'abnormality', 'characterized', 'abnormalities', 'recent', 'new', 'have'}, {'', 'f', 'fss', 'fs', 'a'}, {'mapping', '', 'caus', 'that', 'cause', 'the', 'causis', 'p15', 'per', 'we', 'pter', 'chromosome', '11p15', 'a', 'to', 'gene', 'of', 'causes', '5', 'dab', 'da2b', 'report'}, {'', 'generated', 'analysi', 'generat', 'in', 'with', 'a', 'analysis', '5', 'theton', 'single', 'score', 'd11s922', 'linkage', '0', '31', 'lod', 'the', 'marker', 'theta', 'at', 'positive', 'kindr', 'of', 'old', 'thetum', 'kindred'}, {'and'}, {'between', 'recombinants', 'localize', 'and', 'approximate', 'an', '3', 'the', 'marker', 'region', 'cm', 'approximateling', 'to', 'gene', '5', '6', 'approximately', 'th', 'recombinant', 'approximatels'}, {'', 'the', 'telomere', 'a'}, {'additional', 'famili', '45', 'analysi', 'familiis', 'analysis', 'to', 'theton', 'score', 'improve', 'familie', 'families', 'improves', 'family', '0', 'and', 'improvis', 'lod', 'the', 'theta', 'at', 'of', '6', 'old', 'improv', 'thetum'}, {'', 'suggests', 'suggest', 'a', 'for', 'linkage', 'homogeneiting', 'dab', 'homogeneits', 'da2b', 'homogeneity'}]\n",
      "[{'', 'angelman', 'identify', 'institutionalised', 'an', 'as', 'identifs', 'those', 'review', 'attempt', 'undiagnos', 'were', 'in', 'patients', 'with', 'syndrome', 'identifing', 'a', 'to', 'patient', 'institutionalis', 'angela', 'reviewed', 'undiagnosed'}, {'deletion', '15', 'aim', 'and', 'was', 'the', 'chromosome', 'these', 'patients', 'wa', 'to', 'patient', 'for', 'of', 'test', 'q11', 'q1', '13'}, {'', 'a', 'to', 'adult', 'the', 'describe', 'phenotype'}, {'', 'disable', 'included', 'the', 'includ', 'disabiliting', 'criteria', 'disabilits', 'criterium', 'selection', 'disability', 'a', 'intellectual', 'severe', 'criterion'}, {'or', '', 'ataxy', 'ataxic', 'hypermotoria', 'ataxus', 'limb', 'limbic', 'movement', 'ataxia', 'movements', 'hypermotorus', 'a', 'hypermotory', 'hypermetric', 'hypermotoric'}, {'', 'decreased', 'deficits', 'decrease', 'reduce', 'deficiency', 'difficulties', 'deficit', 'impair', 'low', 'impairment', 'insufficient', 'lacking', 'lack', 'deficient', 'difficulty', 'a', 'of', 'impaired', 'speech', 'trouble', 'reduced'}, {'', 'demeanour', 'a', 'happing', 'happy', 'happs'}, {'', 'epilepss', 'a', 'epilepsy', 'epilepsing', 'epileptic'}, {'and'}, {'', 'diagnosis', 'the', 'appearant', 'facial', 'with', 'consistent', 'a', 'diagnosi', 'appearance'}, {'', 'a', 'patient', 'examin', 'were', 'examined', 'patients'}, {'', 'perused', 'record', 'a', 'medical', 'perus', 'records'}, {'and'}, {'doctors', '', 'contact', 'required', 'a', 'patient', 'requir', 'as', 'doctor', 'contacted', 'patients'}, {'', 'genetia', 'genetic', 'included', 'cytogenetics', 'performed', 'genety', 'includ', 'tests', 'routine', 'cytogenetic', 'a', 'perform', 'test', 'geney', 'geneia', 'genetus'}, {'', 'dnum', 'analysi', 'methylation', 'with', 'probe', 'analysis', 'pw71b', 'a', 'wc1b', 'dna', 'dnon'}, {'and'}, {'with', '', 'a', 'probe', 'probis', 'situ', 'hybridisation', 'fluorescence', 'd15s12h', 'd15s10', 'prob', 'fluorescent', 'probes', 'in'}, {'', 'gabrbeta3', 'a'}, {'or', '', 'snrpn', 'snap', 'a'}, {'deletion', 'male', 'males', 'detect', 'and', 'detected', 'as', 'was', 'the', '9', 'in', 'patients', 'region', 'a', 'wa', 'patient', '11', 'mal', 'malis'}, {'', '22', 'femalis', 'a', 'of', 'tested', 'test', 'female', '2', 'femal', 'females'}, {'', 'march', 'mean', '1996', 'was', 'review', 'the', '31', 'age', 'last', 'at', 'range', 'years', '24', 'wa', '5', 'to', 'a', '36', 'year'}, {'documented', 'of', 'and', 'clinical', 'findings', 'assessment', 'mouth', 'document', 'finding', 'large'}, {'with', '', 'set', 'a', 'jaw', 'ey', 'eyes', 'eye', 'eyis', 'deep'}, {'and'}, {'', 'height', 'nine', 'size', 'large', 'in', 'patients', 'microcepha', 'a', 'patient', 'microcephaling', 'for', 'microcephals', 'two', 'microcephaly', 'having', 'head'}, {'', 'wa', 'patient', 'a', 'hypopigment', 'hypopigmented', 'was', 'no'}, {'', 'wa', 'a', 'patient', '11', 'fair', 'was', '1', 'patients'}, {'all', 'patient', 'of', 'outburst', 'occurr', 'outbursts', 'but', 'laughter', 'occurred', 'in', 'patients'}, {'7', 'infrequently', 'and', '11', '64', 'infrequent', 'infrequentling', 'in', 'infrequentls'}, {'', 'demeanour', 'constant', 'happing', 'was', 'happs', 'in', 'present', 'a', '5', 'wa', '11', 'happy', '46'}, {'', 'a', 'all', 'epileptic', 'had', 'epilepss', 'epilepsy', 'epilepsing'}, {'with', '', 'a', '5', '11', 'improvement', '46', 'in'}, {'', 'a', 'no', '36', 'change', 'in', '4'}, {'and'}, {'', 'a', 'deterioration', '2', '18', 'in'}, {'', 'anomaly', 'peculiar', 'eeg', 'problem', 'was', 'atypical', 'the', 'anomalies', '10', 'unusual', 'abnormality', 'in', 'patients', 'disorder', 'a', 'abnormal', 'abnormalities', 'manifestations', 'wa', 'patient', 'malformations', 'untypical', 'anomalous'}, {'anomaly', 'peculiar', '37', 'unusual', 'were', 'in', 'disorder', 'reported', 'ocular', '5', 'abnormal', 'manifestations', 'malformations', 'report', 'untypical', 'anomalous', '8', 'and', 'problem', '3', 'atypical', 'anomalies', 'abnormalitie', 'abnormaliti', 'abnormality', 'patients', 'abnormalities', 'patient', 'abnormalitiis'}, {'', 'had', '4', 'develop', 'a', '11', 'kyphosi', 'developed', '36', 'kyphosis'}, {'', 'a', 'walk', 'walked', 'two', 'had', 'never'}, {'', 'all', 'nine', 'ataxic', 'an', 'ataxus', 'ataxia', 'were', 'with', 'a', 'walk', 'walked', 'awkward', 'who', 'ataxy'}, {'', 'clumsing', 'clumsy', 'a', 'clumss', 'clumtic'}, {'', 'heaving', 'heavs', 'a', 'heavy'}, {'or', '', 'a', 'and', 'gait', 'lilting'}, {'a', 'patient', 'of', 'speech', 'had', 'single', 'but', 'word', 'no'}, {'sign', 'and', 'needs', 'language', 'one', 'food', 'use', 'patient', 'for', 'could', 'two', 'need'}, {'', 'drink', 'a'}, {'', 'resulting', 'deletion', 'daton', 'data', 'datum', 'from', 'that', 'as', 'the', 'neurological', 'support', 'in', 'da', 'syndrome', 'is', 'a', 'i', 'adulthood', 'concept', 'severe', 'our'}, {'', 'anomaly', 'peculiar', 'as', 'manifestation', 'some', 'age', 'unusual', 'in', 'with', 'not', 'disorder', 'a', 'manifestations', 'abnormal', 'straightforward', 'malformations', 'untypical', 'anomalous', 'mas', 'adult', 'problem', 'diagnosis', 'atypical', 'the', 'anomalies', 'maing', 'be', 'abnormality', 'may', 'adults', 'abnormalities', 'diagnosi', 'change'}, {'and', 'kyphosis', 'kyphosi'}, {'', 'a', 'older', 'keratoconus', 'of', 'patient', 'problem', 'are', 'two', 'problems', 'keratoconic', 'keratoconu', 'patients'}]\n",
      "[{'', 'hemizygou', 'famils', 'nfu', 'hemizygoic', 'type', 'fami', 'heavy', 'nf2', 'neurofilament', 'affected', 'familing', 'members', 'neurofibromatosi', 'typing', 'suggested', 'individual', 'individuals', 'heavs', 'family', 'heaving', 'member', 'locus', 'homozygous', 'the', 'of', 'that', 'neh', 'a', 'locic', '2', 'were', 'nefh', 'locu', 'at', 'suggest', 'chain', 'rflp', 'affect', 'neurofibromatosis', 'hemizygous'}, {'', 'possibly', 'possibls', 'possibling', 'disease', 'possib', 'associated', 'of', 'result', 'deletion', 'associat', 'a', 'as'}, {'conventional', 'for', 'karyotyping', 'and', 'revealed', 'evident', 'no', 'deletion', 'a', 'reveal', 'evidence'}, {'for', 'mapped', 'closely', 'famils', 'markers', 'which', 'fami', 'marker', 'affected', 'to', 'familing', 'members', 'close', 'closeling', 'mapp', 'all', 'majority', 'heterozygous', 'linked', 'heterozygou', 'link', 'closels', 'and', 'majorits', 'or', 'family', 'member', 'locus', 'the', 'of', 'heterozygoic', 'neh', 'a', 'locic', 'were', 'nefh', 'locu', 'affect', 'majoriting', 'proximal', 'd22s1'}, {'dm2.56', 'and', 'd22s56'}, {'', 'for', 'distal', 'the', 'd22s32', 'a', 'marker'}, {'germinal', '', 'q', 'disease', 'which', 'locus', 'the', 'deletion', 'confirmed', 'neh', 'a', 'locic', 'encompass', 'analysis', '22q', 'analysi', 'nefh', 'locu', 'on', 'fish', 'associated', 'confirm', 'associat', 'encompassed'}, {'', 'link', 'closels', 'i', 'closely', 'is', 'very', 'nfu', 'which', 'known', 'a', 'nf2', 'vers', 'to', 'be', 'vering', 'close', 'closeling', 'linked'}, {'but'}, {'', 'if', 'did', 'not', 'or', 'sarcomum', 'distal', 'locus', 'far', 'the', 'extend', 'lif', 'a', 'locic', 'factor', 'as', 'ewing', 'locu', 'leukaemia', 'sarcomon', 'sarcoma', 'region', 'leukaemium', 'proximal', 'leukaemion'}, {'if', 'and', 'specify', 'not', 'cosmid', 'pfge', 'a', 'lif', 'specific', 'noti', 'analysis', 'identifi', 'analysi', 'identified', 'specifus', 'specifia', 'patient', 'with', 'subcloned', 'subclone', 'notus'}, {'fragments', 'and', 'fragment', 'mlui', 'mluus', 'mlu'}, {'', 'i', 'is', 'kb', 'the', 'that', '700', 'a', 'length', 'about', 'suggest', 'in', 'deletion', 'suggested'}, {'', 'a', 'expect', 'expected', 'be', 'to', 'thi', 'large', 'this', 'eliminate', 'fraction', 'considerability', 'could', 'deletion', 'considerable', 'although'}, {'and'}, {'', 'possibly', 'nfu', 'the', 'of', 'a', 'nf2', 'possibls', 'gene', 'possibling', 'possib', 'all'}, {'resulting', '', 'mild', 'i', 'is', 'phenotype', 'the', 'a'}, {'', 'a', 'called', 'nfu', 'gardner', 'so', 'of', 'call', 'nf2', 'subtype'}, {'', 'for', 'chromosomal', 'useful', 'should', 'characterising', 'nfu', 'mapping', 'locus', 'the', 'a', 'locic', 'nf2', 'resourt', 'locu', 'containing', 'provide', 'region', 'resource', 'deletion'}]\n",
      "[{'human', 'a1', 'type', 'syndrome', 'brachydactyling', 'middle', 'characterised', 'recognisability', 'all', 'shortening', 'digits', 'digit', 'brachydactyly', 'and', 'i', 'is', 'occasional', 'the', 'of', 'brachydactyls', 'brachydacty', 'a', 'phalanx', 'with', 'in', 'by', 'characteris', 'recognisable', 'humans', 'fusion'}, {'', 'a', 'terminal', 'phalang', 'phalangis', 'phalange', 'phalanges', 'phalanx'}, {'', 'purpose', 'two', 'for', 'genes', 'a1', 'type', 'affected', 'to', 'brachydactyling', 'members', 'genis', 'was', 'wa', 'gene', 'gen', 'this', 'familiis', 'families', 'brachydactyly', 'famili', 'candidate', 'evaluate', 'family', 'member', 'the', 'of', 'brachydactyls', 'brachydacty', 'a', 'familie', 'studs', 'study', 'thi', 'with', 'in', 'affect', 'studing', 'multiple'}, {'', 'classis', 'genes', 'limb', 'max1', 'msx1', 'implicat', 'class', 'classe', 'containing', 'genis', 'homeboy', 'gene', 'gen', 'implicated', 'control', 'distal', 'the', 'of', 'have', 'development', 'a', 'been', 'including', 'in', 'several', 'classes', 'limbic', 'homeobox'}, {'', 'famils', 'family', 'member', 'the', 'of', 'fami', 'a', 'familing', 'members', 'homeboy', 'some', 'gene', 'msx2', 'max2', 'homeobox'}, {'and'}, {'', 'genis', 'encoding', 'genes', 'gene', 'growth', 'gen', 'factors', 'the', 'of', 'fgf', 'a', 'factor'}, {'', 'a', 'tgf'}, {'and'}, {'', 'familie', 'famili', 'family', 'pdgf', 'familiis', 'a', 'families'}, {'anterior', 'hox', 'famils', 'along', 'genes', 'fami', 'early', 'familing', 'boding', 'axis', 'genis', 'are', 'ear', 'homeboy', 'gene', 'gen', 'body', 'and', 'activat', 'family', 'control', 'the', 'of', 'that', 'a', 'encode', 'axi', 'earls', 'activated', 'developmental', 'earling', 'embryogenesi', 'posterior', 'positional', 'information', 'in', 'bods', 'embryogenesis', 'homeobox'}, {'', 'specify', 'limb', 'developing', 'domains', 'distinct', 'domain', 'specifs', 'limbs', 'specifing', 'a', 'within', 'spatial'}, {'proliferation', 'genis', 'and', 'genes', 'can', 'gene', 'growth', 'gen', 'the', 'regulate', 'factor'}, {'and', 'structure', 'limb', 'structur', 'variou', 'bud', 'of', 'embryonia', 'differentiation', 'varioic', 'embryonic', 'structures', 'including', 'buds', 'embryony', 'various', 'embryonus', 'limbic', 'structuris'}, {'to', '', 'shown', 'hox', 'influence', 'gene', 'expression', 'have', 'a', 'been', 'influent'}, {'', 'genis', 'candidate', 'genes', 'gene', 'gen', 'hold', 'a', 'hoxd'}, {'', 'a', 'msx1', 'max1'}, {'', 'a', 'msx2', 'max2'}, {'', '1', 'fgf', 'a'}, {'and'}, {'were', '', 'famils', 'in', 'family', 'one', 'excluded', 'fami', 'fgf', 'a', '2', 'exclud', 'familing'}, {'', 'two', 'a1', 'studi', 'type', 'brachydactyling', 'was', 'wa', 'gene', 'studied', 'familiis', 'families', 'brachydactyly', 'famili', 'or', 'not', 'family', 'either', 'locus', 'the', 'of', 'brachydactyls', 'brachydacty', 'a', 'locic', 'familie', 'locu', 'in', 'found'}]\n",
      "[{'', 'angela', 'a', 'angelman', 'syndrome', 'as'}, {'', 'retardation', 'mental', 'by', 'characterized', 'characteriz', 'a'}, {'', 'seizure', 'seizur', 'a', 'seizuris', 'seizures'}, {'smiling', 'and', 'frequent'}, {'', 'a', 'laughter'}, {'and'}, {'', 'anomaly', 'abnormality', 'untypical', 'gait', 'malformations', 'manifestations', 'atypical', 'a', 'peculiar', 'disorder', 'unusual', 'anomalous', 'abnormalities', 'problem', 'abnormal', 'anomalies'}, {'human', 'imprinting', '', 'genetic', 'play', 'i', 'examplis', 'examples', 'is', 'plays', 'disease', 'which', 'genetia', 'the', 'of', 'role', 'geney', 'a', 'genety', 'in', 'best', 'exampl', 'geneia', 'genetus', 'example', 'one'}, {'', 'about', 'cas', '70', 'in', 'cases', 'case', 'of', 'a', 'casis'}, {'', 'caus', 'deletions', 'novo', 'i', 'is', 'q1', 'a', 'de', 'as', 'q13', 'at', 'caused', 'by', 'ref', 'deletion', 'maternal', '15q11'}, {'', 'a', '2'}, {'', 'approximatels', 'approximately', 'chromosome', 'approximate', 'cases', 'paternal', 'disomy', 'disoms', 'of', 'a', '2', 'casis', 'as', 'approximateling', 'cas', 'caused', 'are', 'case', 'upd', 'by', 'ref', 'uniparental', '15', 'disoming', 'caus', 'up'}, {'3', 'and'}, {'imprinting', '', 'caus', 'mutation', 'caused', 'are', 'by', '3', 'mutations', 'a', '2'}, {'', 'cas', '25', 'in', 'cases', 'case', 'remaining', 'the', 'of', 'a', 'casis', 'as'}, {'', 'no', 'a', 'deletion'}, {'', 'upd', 'disomy', 'disoms', 'uniparental', 'disoming', 'a', 'up'}, {'', 'abnormality', 'anomaly', 'untypical', 'i', 'malformations', 'is', 'or', 'methylation', 'abnormaliting', 'detectability', 'manifestations', 'atypical', 'a', 'detectable', 'peculiar', 'disorder', 'unusual', 'anomalous', 'abnormalities', 'abnormalits', 'problem', 'abnormal', 'anomalies'}, {'and'}, {'', 'cas', 'these', 'cases', 'case', 'a', 'casis'}, {'', 'a', 'deletions', 'or', 'upd', 'unlike', 'deletion', 'up'}, {'be', '', 'can', 'familial', 'a'}, {'', 'like', 'chromosome', 'mutation', 'exclusive', 'cases', 'exclusiveling', 'preferentialls', 'likely', 'likels', 'casis', 'preferentialling', 'to', 'these', 'are', 'case', 'gene', 'expressed', 'express', 'exclusively', 'maternal', 'i', 'is', 'likeling', 'or', 'preferential', 'either', 'the', 'result', 'that', 'a', 'cas', 'exclusivels', 'in', 'from', '15', 'mutations', 'preferentially'}, {'5', '', 'q', 'inherit', '15q', 'beta', 'ube3um', 'disrupt', 'as', 'inherited', 'ap', 'gene', 'normal', 'an', 'ube3on', 'child', 'the', 'of', 'that', 'her', 'have', 'a', 'we', 'e6', 'inversion', 'mother', 'ube3a', 'found', 'by', 'from', 'disrupts', 'end'}, {'product', '', 'function', 'functions', 'in', 'which', 'the', 'of', 'protein', 'ubiquitination', 'a'}, {'imprinting', 'for', 'nondeletion', 'and', 'mutation', 'beta', 'ube3um', 'ndui', 'have', 'a', 'patients', 'novel', 'look', 'non', 'as', 'we', 'patient', 'ube3a', 'ndi', 'in', 'upd', 'mutations', 'nduus', 'looked', 'up', 'ube3on'}, {'5', '', 'for', 'novo', 'i', 'is', 'duplication', 'heterozygoic', 'have', 'a', 'tandem', 'de', 'duplied', 'patient', 'found', 'bp', 'one', 'heterozygous', 'who', 'duply', 'heterozygou'}, {'', 'two', 'mutation', 'heterozygoic', 'have', 'a', 'we', 'brother', 'in', 'found', 'brothers', 'also', 'heterozygous', 'heterozygou'}, {'', 'junction', 'splice', 'g', 'the', 'that', 'a', 'creates', 'to', 'upstream', 'creatis', 'split', 'bp', 'from', 'transition', 'new', '3', 'creat', 'normal', 'an', 'create', '7'}, {'to', 'predicted', 'and', 'mutation', 'are', 'cause', 'mutations', 'predict', 'frameshift', 'a', 'both'}, {'', 'translation', 'premature', 'of', 'a', 'termination'}, {'and', 'mutation', 'our', 'cause', 'beta', 'ube3um', 'of', 'that', 'result', 'demonstrate', 'a', 'as', 'ube3a', 'are', 'results', 'mutations', 'one', 'ube3on'}, {'', 'anomaly', 'during', 'manifestations', 'mediat', 'mediated', 'this', 'unusual', 'abnormalities', 'abnormal', 'anomalies', 'abnormality', 'untypical', 'malformations', 'brain', 'abnormaliting', 'possible', 'disease', 'atypical', 'development', 'indicate', 'a', 'thi', 'in', 'degradation', 'peculiar', 'disorder', 'protein', 'possibility', 'abnormalits', 'anomalous', 'problem', 'ubiquitin'}]\n",
      "[{'', 'unrelated', 'a', 'male', 'children', 'child', 'one', 'unrelat', 'two'}, {'', 'branchial', 'anomali', 'anomalie', 'hemangiomatous', 'malformations', 'hemangiomatosis', 'abnormalities', 'anomalies', 'anomaliis', 'disorder', 'abnormality', 'clefts', 'hemangiomatou', 'other', 'manifestations', 'unusual', 'female', 'of', 'a', 'the', 'problem', 'peculiar', 'anomaly', 'craniofacial', 'cleft', 'had', 'untypical', 'consisting', 'anomalous', 'abnormal', 'hemangiomatoic', 'atypical'}, {'', 'pseudo-cleft', 'pseudoclefts', 'a', 'lip', 'pseudocleft'}, {'and'}, {'', 'appearant', 'appearance', 'identical', 'a', 'facial', 'problem', 'peculiar', 'malformations', 'abnormalities', 'anomaly', 'anomalies', 'disorder', 'abnormality', 'manifestations', 'untypical', 'anomalous', 'abnormal', 'unusual', 'atypical'}, {'and', 'had', 'also', 'one', 'microphthalmium', 'microphthalmia', 'unilateral', 'microphthalmion'}, {'', 'a', 'had', 'nasolacrimal', 'both', 'congenital', 'duct', 'obstruction'}, {'', 'similar', 'a', 'two'}, {'were', '', 'case', 'the', 'a', 'identified', 'also', 'sporadia', 'casis', 'identifi', 'cas', 'sporady', 'cases', 'sporadic', 'from', 'literature', 'sporadus'}, {'of', '', 'a', 'the', 'case', 'basis', 'casis', 'four', 'cas', 'cases', 'form', 'basi', 'these', 'new'}, {'of', '', 'a', 'malformation', 'distinctly', 'recognizable', 'recognizability', 'distinctling', 'distinct', 'pattern', 'distinctls'}]\n",
      "[{'', 'we', 'present', '3', 'a', 'individual', 'individuals'}, {'', 'a', 'mother'}, {'', 'a', 'son', 'her'}, {'and'}, {'an', '', 'unrelated', 'a', 'child', 'unrelat'}, {'', 'bof', 'malformations', 'abnormalities', 'anomalies', 'manifestation', 'disorder', 'boys', 'reported', 'abnormality', 'oculo', 'number', 'oculi', 'syndrome', 'branch', 'manifestations', 'bofs', 'unusual', 'of', 'a', 'the', 'facial', 'problem', 'peculiar', 'anomaly', 'in', 'with', 'untypical', 'report', 'anomalous', 'abnormal', 'branchio', 'atypical'}, {'and', 'the', 'former', 'individual', '2', 'lacked', 'individuals', 'lack', 'ocular'}, {'', 'branchial', 'abnormalitie', 'malformations', 'abnormalities', 'anomalies', 'disorder', 'encountered', 'abnormality', 'abnormalitiis', 'encounter', 'syndrome', 'manifestations', 'unusual', 'normal', 'normalling', 'thi', 'a', 'this', 'problem', 'peculiar', 'anomaly', 'in', 'normally', 'abnormaliti', 'untypical', 'normalls', 'anomalous', 'abnormal', 'atypical'}, {'', 'however', 'a'}, {'', 'a', 'agenesis', 'the', 'wa', 'first', 'renal', 'in', 'present', 'agenesi', 'child', 'unilateral', 'was'}, {'', 'of', 'a', 'the', 'infrequentling', 'infrequent', 'bof', 'syndrome', 'defect', 'found', 'infrequently', 'infrequentls', 'in'}, {'and', 'the', 'both', 'mother'}, {'', 'sinuses', 'a', 'suprum', 'also', 'supron', 'sinusis', 'auricular', 'supra', 'sinuse', 'had', 'son', 'sinus', 'her', 'bilateral'}, {'', 'sinic', 'optic', 'may', 'maing', 'defects', 'defect', 'persistent', 'persistence', 'otia', 'of', 'a', 'the', 'mas', 'otic', 'oy', 'tract', 'oty', 'sinus', 'sinu', 'these', 'represent', 'otus', 'oia', 'vesicle'}, {'of', 'has', '', 'thi', 'a', 'the', 'this', 'condition', 'ha', 'expression', 'child', 'mild', 'second'}, {'', 'mildest', 'the', 'among', 'a', 'literature', 'report', 'in', 'reported'}, {'', 'optic', 'to', 'bof', 'development', 'boys', 'optus', 'involving', 'vesicl', 'bofs', 'of', 'a', 'the', 'vesiclis', 'spectrum', 'appears', 'appear', 'opy', 'optia', 'represent', 'opia', 'opty', 'vesicle', 'vesicles'}, {'', 'branchial', 'a', 'arch', 'archis', 'arches', 'arche'}, {'', 'eyis', 'a', 'eye', 'eyes', 'ey'}, {'', 'fat', 'a', 'face'}, {'', 'lips', 'lip', 'a'}, {'and'}, {'', 'kidney', 'kidneys', 'a'}, {'thi', 'this', 'the', 'seen', 'problem', 'peculiar', 'malformations', 'abnormalities', 'anomaly', 'anomalies', 'variations', 'disorder', 'variation', 'in', 'abnormality', 'and', 'untypical', 'abnormal', 'anomalous', 'manifestations', 'unusual', 'atypical'}, {'and', 'thi', 'this', 'the', 'overlap', 'between', 'condition'}, {'', 'a', 'the', 'single', 'contiguou', 'contiguoic', 'mutations', 'oto', 'branch', 'or', 'be', 'gene', 'renal', 'may', 'mas', 'contiguous', 'within', 'mutation', 'maing', 'syndrome', 'deletion', 'different', 'represent', 'branchio'}]\n",
      "[{'', 'a', 'variability', 'variable', 'syndrome', 'i', 'branchiootorenal', 'is', 'bor'}, {'of', 'the', 'problem', 'peculiar', 'first', 'malformations', 'abnormalities', 'anomaly', 'anomalies', 'disorder', 'abnormality', 'dominant', 'and', 'atypical', 'untypical', 'abnormal', 'anomalous', 'manifestations', 'unusual', 'autosomal'}, {'embryonic', '', 'branchial', 'a', 'arch', 'embryony', 'archis', 'embryonia', 'arches', 'arche', 'second', 'embryonus'}, {'', 'kidney', 'kidneys', 'a'}, {'and'}, {'', 'tract', 'urinaring', 'a', 'urinary', 'urinars'}, {'', 'we', 'phenotype', 'a', 'the', 'individual', '45', 'individuals', 'in', 'describe'}, {'differenc', 'and', 'differences', 'difference', 'highlighting', 'differencis'}, {'', 'studi', 'similaritie', 'a', 'studie', 'similarity', 'study', 'studies', 'in', 'reported', 'similaritiis', 'other', 'report', 'similariti', 'studiis', 'similarities'}, {'', 'characterisy', 'cochlear', 'turns', 'hypoplasia', '5', 'characterisia', 'onling', 'bone', 'characteristy', '4', 'include', 'characteristia', 'finding', 'normal', 'of', 'temporal', 'a', 'onls', 'characteristic', '2', 'hypoplasium', 'turn', 'on', 'findings', 'hypoplasion', 'with', 'size', 'only', 'characteristus'}, {'of', '', 'aqueduct', 'the', 'a', 'vestibular', 'dilation'}, {'', 'bulbou', 'bulbous', 'a', 'internal', 'auditoring', 'bulboic', 'canal', 'auditory', 'canals', 'auditors'}, {'', 'deep', 'fossa', 'a', 'posterior', 'fossae'}, {'and'}, {'', 'a', 'acute', 'acuteling', 'promontori', 'acutely', 'promontory', 'acutels', 'angl', 'promontories', 'promontorie', 'promontoriis', 'angled'}]\n",
      "[{'', 'we', 'an', 'a', 'medulloblastoma', 'old', 'boy', 'medulloblastomon', '8', 'boing', 'year', 'present', 'and', 'with', 'medulloblastomum', 'american', 'bos', 'african'}, {'', 'medulloblastoma', 'area', 'carcinoma', 'response', 'medulloblastomon', 'bcc', 'carcinomon', 'nbccs', 'areum', 'areon', 'cell', 'syndrome', 'who', 'basal', 'formation', 'of', 'a', 'the', 'carcinomum', 'exhibit', 'nevoid', 'in', 'nbcc', 'irradiat', 'necks', 'for', 'exhibited', 'medulloblastomum', 'radiosensitive', 'irradiated'}, {'', 'a', 'medulloblastoma', 'response', 'medulloblastomon', 'well', 'caucasian', 'i', 'patients', 'patient', 'is', 'in', 'nbcc', 'nbccs', 'document', 'necks', 'such', 'with', 'documented', 'medulloblastomum'}, {'of', 'oppositus', 'propositus', 'the', 'medulloblastoma', 'age', 'medulloblastomon', 'at', '2', 'propositu', 'year', 'and', 'propositic', 'diagnos', 'with', 'years', 'medulloblastomum', 'wa', 'diagnosed', 'was'}, {'', 'surgers', 'surgery', 'underwent', 'a', 'surgering'}, {'', 'chemotherapy', 'a', 'chemotheraping', 'chemotheraps'}, {'and'}, {'', 'craniospinal', 'irradiation', 'a'}, {'of', '', 'a', 'age', 'the', '6', 'years', 'at', 'year'}, {'of', '', 'a', 'the', 'following', 'mandibility', 'nbcc', 'he', 'nbccs', 'odontogenic', 'presentation', 'odontogenus', 'keratocyst', 'hi', 'odontogeny', 'necks', 'diagnos', 'large', 'with', 'odontogenia', 'keratocysts', 'wa', 'mandible', 'diagnosed', 'was', 'his'}, {'of', 'palm', 'and', 'the', 'pit', 'pits', 'palms'}, {'sol', 'sole', 'and', 'soles', 'solis'}, {'of', 'the', 'area', 'bcc', 'numerous', 'in', 'areum', 'numeroic', 'and', 'areon', 'numerou', 'bccs', 'back', 'bcci'}, {'', 'that', 'a', 'medulloblastoma', 'medulloblastomon', 'previous', 'been', 'previousls', 'irradiat', 'previousling', 'had', 'previously', 'for', 'neck', 'medulloblastomum', 'irradiated'}, {'that', 'but', 'also', 'propositu', 'nbccs', 'showed', 'other', 'relative', 'of', 'relativis', 'oppositus', 'propositus', 'the', 'examination', 'nbcc', 'show', 'propositic', 'necks', 'had', 'relativ', 'relatives', 'mother'}, {'', 'a', 'mildly', 'mild', 'mildls', 'mildling', 'wa', 'affect', 'more', 'was', 'affected'}, {'', 'a', 'particular', 'in'}, {'', 'no', 'a', 'had', 'she', 'bccs', 'bcc', 'bcci'}, {'', 'illustrate', 'complex', 'thi', 'case', 'this', 'a', 'environment', 'interaction', 'gene', 'illustratis', 'illustrates', 'illustrat'}, {'', 'that', 'increas', 'i', 'ultraviolet', 'presumab', 'elevation', 'presumabls', 'against', 'protective', 'skin', 'american', 'elevate', 'african', 'presumably', 'a', 'increased', 'increase', 'is', 'in', 'elevated', 'high', 'presumabling', 'pigmentation', 'americans'}, {'but'}, {'', 'not', 'a', 'ionizing'}, {'', 'radiation', 'a'}, {'and', 'thi', 'case', 'this'}, {'', 'case', 'medulloblastoma', 'importance', 'medulloblastomon', 'casis', 'patient', 'nbccs', 'cases', 'any', 'other', 'who', 'differential', 'of', 'similar', 'a', 'the', 'in', 'aning', 'nbcc', 'cas', 'present', 'necks', 'presents', 'diagnosi', 'with', 'considering', 'medulloblastomum', 'ans', 'important', 'literature', 'diagnosis', 'show'}, {'of', '', 'a', 'age', 'the', 'years', 'especialls', '5', 'before', 'year', 'especially', 'especial', 'especialling'}, {'and'}, {'of', '', 'relativis', 'a', 'the', 'to', 'examining', 'at', 'statu', 'patient', 'nbcc', 'nbccs', 'status', 'risk', 'necks', 'for', 's', 'relativ', 'signs', 'other', 'determine', 'relative', 'close', 'relatives', 'static', 'sign'}, {'', 'finalls', 'final', 'a', 'finalling', 'finally'}, {'', 'a', 'for', 'individual', 'individuals', 'who', 'radiosensitive', 'are'}, {'of', '', 'radiotheraps', 'that', 'utilize', 'a', 'protocols', 'chemotheraps', 'be', 'in', 'radiotheraping', 'should', 'chemotherapy', 'chemotheraping', 'consider', 'lieu', 'considered', 'radiotherapy', 'protocol'}]\n",
      "\n",
      "[{'to', 'a', 'wa', 'young', 'infant', 'at', 'lip', 'birth', 'and', 'cleft', 'male', 'have', 'not', 'bilateral', 'was', 'noted'}, {'palate', '', 'a'}, {'microphthalmos', 'microphthalmo', 'and', 'bilateral'}, {'', 'colobomatum', 'colobomata', 'a', 'coloboma', 'colobomaton', 'ocular'}, {'and'}, {'', 'a', 'dysplasty', 'dysplasia', 'dysplasy', 'kidneing', 'kidney', 'dysplastia', 'dysplastic', 'left', 'kidnes', 'dysplastus'}, {'and', 'findings', 'finding', 'mother', 'ophthalmological', 'had', 'similar', 'his', 'hi'}, {'included', 'untypical', 'philtrum', 'milder', 'problem', 'anomaliis', 'anomalies', 'and', 'unusual', 'atypical', 'anomalie', 'anomali', 'malformations', 'anomaly', 'of', 'disorder', 'abnormaliting', 'abnormalits', 'abnormalities', 'peculiar', 'manifestations', 'the', 'which', 'abnormality', 'facial', 'includ', 'abnormal', 'anomalous'}, {'', 'duct', 'obstruction', 'a', 'nasolacrimal', 'congenital', 'bilateral'}, {'untypical', 'philtrum', 'a', 'problem', 'his', 'anomaliis', 'anomalies', 'maternal', 'and', 'grandmother', 'unusual', 'mild', 'atypical', 'anomalie', 'short', 'malformations', 'anomali', 'anomaly', 'including', 'disorder', 'abnormalities', 'hi', 'peculiar', 'manifestations', 'abnormality', 'facial', 'had', 'abnormal', 'anomalous'}, {'but', 'duct', 'obstruction', 'nasolacrimal', 'congenital', 'bilateral'}, {'', 'untypical', 'a', 'problem', 'anomalies', 'abnormalitiis', 'evident', 'unusual', 'abnormaliti', 'no', 'atypical', 'malformations', 'anomaly', 'of', 'disorder', 'aning', 'abnormalities', 'ans', 'abnormalitie', 'peculiar', 'any', 'manifestations', 'evidence', 'abnormality', 'had', 'ocular', 'abnormal', 'anomalous'}, {'', 'spectrum', 'in', 'branchio', 'to', 'untypical', 'a', 'familing', 'seen', 'problem', 'described', 'anomalies', 'abnormalitiis', 'are', 'unusual', 'those', 'abnormaliti', 'thi', 'similar', 'atypical', 'describ', 'malformations', 'anomaly', 'of', 'this', 'disorder', 'branch', 'abnormalities', 'abnormalitie', 'peculiar', 'manifestations', 'the', 'oculo', 'famils', 'abnormality', 'family', 'facial', 'syndrome', 'fami', 'oculi', 'abnormal', 'anomalous'}, {'', 'number', 'in', 'untypical', 'a', 'there', 'dominantly', 'dominantls', 'problem', 'dominantling', 'anomalies', 'abnormalitiis', 'eye', 'rare', 'are', 'dominant', 'unusual', 'abnormaliti', 'inherited', 'atypical', 'malformations', 'anomaly', 'of', 'disorder', 'developmental', 'abnormalities', 'abnormalitie', 'peculiar', 'inherit', 'manifestations', 'the', 'which', 'abnormality', 'syndrome', 'abnormal', 'anomalous'}, {'', 'fat', 'a', 'face'}, {'and'}, {'', 'kidney', 'kidnes', 'a', 'kidneing'}, {'', 'precise', 'although', 'of', 'this', 'unknown', 'a', 'the', 'cause', 'is', 'syndrome', 'thi', 'i'}, {'in', 'to', 'a', 'caus', 'likels', 'order', 'for', 'and', 'is', 'be', 'likeling', 'foetal', 'by', 'likely', 'of', 'like', 'responsibility', 'the', 'it', 'i', 'closure', 'mutations', 'ordered', 'fissure', 'responsible', 'caused', 'gene', 'mutation'}, {'', 'of', 'structures', 'structur', 'a', 'facial', 'structuris', 'fusion', 'structure'}]\n",
      "[{'', 'in', 'cas', 'this', 'of', 'cases', 'a', 'reported', 'six', 'previous', 'case', 'previousls', 'britain', 'great', 'and', 'report', 'casis', 'previously', 'syndrome', 'thi', 'previousling'}, {'', 'in', 'to', 'a', 'personal', 'reviewed', 'canadum', 'case', 'canadon', 'relation', 'canada', 'are', 'review'}, {'', 'boy', 'month', '17', 'bos', 'boing', 'a', 'old'}, {'feature', 'featur', 'main', 's', 'acrobrachycephaly', 'microbrachycephals', 'microbrachycephaly', 'microbrachycephaling', 'the', 'are', 'and', 'syndrome', 'features', 'microbrachycepha', 'featuris'}, {'', 'malformations', 'anomaly', 'untypical', 'disorder', 'a', 'fat', 'problem', 'abnormalities', 'peculiar', 'anomalies', 'manifestations', 'abnormality', 'anomalous', 'face', 'unusual', 'abnormal', 'atypical'}, {'deficit', 'reduce', 'impair', 'difficulties', 'euphoria', 'trouble', 'euphorium', 'deficient', 'deficiency', 'low', 'mental', 'deficits', 'deficiencing', 'euphorion', 'with', 'impaired', 'reduced', 'and', 'lack', 'decreased', 'deficiencs', 'insufficient', 'lacking', 'impairment', 'decrease', 'difficulty'}, {'laughter', '', 'a'}, {'ataxium', 'ataxion', 'ataxia', 'and'}, {'in', 'spasm', 'and', 'epilepsing', 'infantile', 'epilepsy', 'epilepss', 'consisting', 'spasms', 'epileptic'}, {'', 'attack', 'a', 'attacks', 'mal', 'grand'}, {'though'}, {'precise', 'it', 'and', 'its', 'nature'}, {'', 'cause', 'unknown', 'a', 'still', 'remain'}, {'', 'progressive', 'the', 'seems', 'a', 'nor', 'neither', 'syndrome', 'seem', 'familial'}]\n",
      "\n",
      "[{'', 'seizure', 'studi', 'we', 'studied', 'the', 'and', 'a'}, {'of', '', 'polygraphus', 'polygraphic', 'pattern', 'patients', 'patient', 'with', 'angelman', 'syndrome', 'polygraphia', 'a', 'angela', 'polygraphy', 's', 'patterns', 'holographic', '18'}, {'', 'show', 'movement', 'patients', 'patient', 'problems', 'problem', 'showed', 'all', 'a'}, {'of', '', 'jerking', 'patients', 'patient', 'have', 'report', 'to', 'periods', 'jerky', 'eleven', 'a', 'reported', 'movements', 'were', 'movement', 'period', 'lasting', 'long', 'also', 'jerks'}, {'of', '', 'status', 'in', 'nine', 'showed', 'polygraphia', 'a', 'myoclonic', 'epilepticic', 'myoclonus', 'the', 'epilepticus', 'polygraphus', 'show', 'polygraphic', 'them', 'epilepticu', 'myoclony', 'statu', 'recording', 'static', 'polygraphy', 'holographic', 'myoclonia'}, {'seizure', 'seizures', 'eye', 'patients', 'patient', 'seven', 'with', 'seizur', 'deviation', 'partial', 'seizuris', 'and', 'had'}, {'', 'vomiting', 'a'}, {'of', '', 'epilepsy', 'occipital', 'epilepsiis', 'epilepsies', 'to', 'epilepsi', 'similar', 'those', 'childhood', 'epilepsie', 'a'}, {'seizure', 'seizur', 'seizures', 'these', 'seizuris', 'and'}, {'of', '', 'that', 'electroencephalographia', 'in', 'as', 'pattern', 'patients', 'patient', 'electroencephalographic', 'occurs', 'angelman', 'syndrome', 'occur', 'nonprogressive', 'a', 'angela', 'suggest', 'electroencephalography', 'most', 'the', 'electroencephalographus', 's', 'patterns'}, {'', 'dependent', 'occipital', 'age', 'with', 'encephalopathy', 'myoclony', 'prominent', 'a', 'myoclonic', 'encephalopathing', 'involvement', 'myoclonus', 'encephalopaths', 'myoclonia'}, {'', 'that', 'indicate', 'findings', 'finding', 'these', 'a'}, {'', 'ataxion', 'in', 'i', 'angelman', 'syndrome', 'ataxia', 'wherea', 'a', 'constant', 'ataxium', 'angela', 'symptom', 'is', 's', 'whereas'}, {'of', '', 'status', 'occurrence', 'manifestations', 'abnormal', 'may', 'for', 'myoclonic', 'movements', 'a', 'unusual', 'anomalies', 'maing', 'recurrence', 'movement', 'anomaly', 'epilepticic', 'problem', 'anomalous', 'myoclonus', 'the', 'epilepticus', 'recurrent', 'atypical', 'occurrent', 'account', 'disorder', 'peculiar', 'abnormality', 'epilepticu', 'myoclony', 'different', 'mas', 'abnormalities', 'untypical', 'statu', 'transient', 'static', 'malformations', 'myoclonia'}, {'', 'one', 'namels', 'jerking', 'nameling', 'jerky', 'name', 'namely', 'a', 'on', 'the', 'ones', 'onis', 'jerks'}]\n",
      "[{'of', 'in', 'individual', 'gene', 'well', 'necks', 'sporadia', 'been', 'a', 'cell', 'patched', 'basal', 'identified', 'carcinoma', 'nevoid', 'carcinomas', 'the', 'sporadus', 'mutations', 'nbccs', 'patch', 'carcinomon', 'carcinomum', 'human', 'ptch', 'as', 'pitch', 'have', 'with', 'identifi', 'syndrome', 'sporady', 'nbcc', 'mutation', 'sporadic', 'individuals', 'and'}, {'', 'medulloblastomas', 'medulloblastoma', 'a'}, {'of', 'tumour', 'gene', 'we', 'have', 'suppressor', 'this', 'thi', 'a', 'isolated', 'homologue', 'isolat', 'and'}, {'of', '', 'localiz', 'arm', 'localized', 'chromosome', 'to', '1p32', '3', 'it', 'short', 'a', '32', 'the', '1', 'p2'}, {'patch', 'comprises', 'patched', '2', 'exons', 'pitch', 'comprisis', 'and', 'exon', 'comprise', 'ptch2', 'compris', 'coding', '22'}, {'of', '', 'genomy', 'approximate', 'dnon', 'spans', 'approximately', 'a', 'dnum', 'genomia', 'dna', 'approximatels', 'approximateling', 'genomus', 'genomic', 'kb', 'span', '15'}, {'', 'amino', 'which', 'encode', 'gene', 'i', 'homologou', 'to', 'a', 'protein', 'highly', 'high', 'the', 'encodis', 'putative', 'homologoic', 'ptch', 'pitch', 'product', 'acid', 'highls', 'homologous', 'encodes', 'encod', '1203', 'highling', 'is', 'transmembrane'}, {'of', 'structure', 'characterized', 'pitch', 'genomy', 'we', 'have', 'characteriz', 'ptch2', 'genomia', 'genomus', 'genomic', 'the', 'and'}, {'', 'in', 'pitch', 'single', 'necks', 'patients', 'patient', 'have', 'to', 'us', 'ptch2', 'for', 'a', 'polymorphism', 'analysis', 'nbcc', 'used', 'analysi', 'mutation', 'stranded', 'search', 'mutations', 'strand', 'nbccs', 'conformational'}, {'cell', 'basal', 'carcinoma', 'carcinomas', 'and'}, {'', 'in', 'medulloblastomas', 'medulloblastoma', 'a'}, {'', 'to', 'date', 'a'}, {'one', 'truncating', 'in', 'we', 'have', 'identifi', 'medulloblastomum', 'a', 'medulloblastomon', 'identified', 'medulloblastoma', 'mutation', 'and'}, {'', 'carcinomon', 'carcinomum', 'site', 'in', 'splice', 'change', 'split', 'a', 'cell', 'basal', 'donor', 'carcinoma'}, {'of', '', 'that', 'role', 'tumour', 'in', 'gene', 'suggesting', 'tumours', 'some', 'development', 'a', 'plays', 'the', 'play'}]\n",
      "\n",
      "\n",
      "[{'the', 'heterogeneity', 'providing', 'recurrence', 'of', 'angela', 'makis', 'a', 'both', 'heterogeneiting', 'makes', 'angelman', 'as', 'important', 'make', 'causal', 'recurrent', 'syndrome', 'mak', 'risk', 'regarding', 'heterogeneits', 'information', 'and'}, {'', 'a', 'challenging'}, {'and'}, {'decision', 'may', 'for', 'impact', 'dramatia', 'mas', 'dramatus', 'and', 'have', 'reproductive', 'the', 'nuclear', 'a', 'dramay', 'dramaia', 'dramatic', 'maing', 'making', 'dramaty', 'on'}, {'', 'extended', 'famils', 'a', 'familing', 'extend', 'family', 'fami'}, {'', 'large', 'q1', 'of', 'q13', 'case', 'cases', 'cas', 'result', 'a', 'casis', 'novo', 'deletions', '15q11', 'deletion', 'as', 'most', 'from', 'typical', 'de'}, {'and'}, {'', 'deficits', 'difficulties', 'reduced', 'of', 'deficit', 'low', 'decreased', 'impairment', 'deficient', 'lacking', 'decrease', 'recurrent', 'impair', 'risk', 'to', 'are', 'expected', 'have', 'recurrence', 'impaired', 'expect', 'a', '1', 'lack', 'insufficient', 'reduce', 'trouble', 'difficulty', 'deficiency'}, {'', 'disoms', 'as', 'up', 'paternal', 'disomy', 'a', 'due', 'uniparental', 'to', 'disoming', 'upd'}, {'', 'the', 'of', 'absent', 'absence', 'which', 'a', 'occur', 'occurs', 'parental', 'translocation', 'in'}, {'have', '', 'recurrence', 'i', 'of', 'expect', 'a', '1', 'is', 'recurrent', 'risk', 'to', 'likewise', 'expected'}, {'up', 'of', 'q13', 'functionalls', 'can', 'complement', 'functionally', 'structural', 'structuralling', 'upd', '15q11', 'or', 'parental', 'structuralls', 'to', 'structurally', 'lead', 'and', 'unbalanc', 'unbalanced', 'q1', 'a', 'transmission', 'deletions', 'chromosome', 'functional', 'deletion', 'functionalling'}, {'', 'risks', 'recurrence', 'case', 'recurrent', 'will', 'result', 'a', 'specifus', 'risk', 'specify', 'specifia', 'specific', 'in'}, {'', 'large', 'up', 'i', 'instancis', 'a', 'instanc', 'is', 'upd', 'deletion', 'identifiability', 'or', 'no', 'identifiable', 'there', 'where', 'instances', 'instance', 'in'}, {'', 'of', 'inherit', 'for', 'ube3um', 'maternalls', 'recurrent', 'maternally', 'ligase', 'ic', 'elevate', 'mutation', 'maternal', 'ube3a', 'lipase', 'either', 'elevation', 'increased', 'ubiquitin', 'ube3on', 'may', 'gene', 'beta', 'increase', 'imprinting', 'high', 'as', 'or', 'mas', 'risk', 'be', 'maternalling', 'the', 'recurrence', 'elevated', 'center', 'a', 'result', 'inherited', 'maing', '50', 'protein'}, {'', 'abnormalities', 'malformations', 'manifestations', 'of', 'cas', 'anomalies', 'untypical', 'abnormality', 'individual', 'as', 'proportion', 'anomalous', 'abnormalitiis', 'unusual', 'above', 'comprise', 'who', 'have', 'anomaly', 'the', 'abnormalitie', 'none', 'case', 'cases', 'a', 'casis', 'abnormal', 'disorder', 'individuals', 'peculiar', 'with', 'atypical', 'significant', 'problem', 'abnormaliti'}, {'and'}, {'', 'recurrence', 'maing', '50', 'recurrent', 'a', 'mas', 'at', 'may', 'risk', 'be', 'some'}, {'', 'misdiagnos', 'misdiagnose', 'misdiagnoses', 'a', 'misdiagnosis'}, {'', 'as', 'a', 'well'}, {'', 'represented', 'represent', 'can', 'a', 'group', 'thi', 'be', 'this', 'in'}, {'', 'the', 'condition', 'of', 'clinical', 'conditions', 'which', 'clinically', 'a', 'light', 'many', 'as', 'maning', 'clinicalls', 'mans', 'to', 'similar', 'are', 'clinicalling', 'in'}, {'diagnosia', 'possible', 'possibilits', 'i', 'of', 'possibility', 'diagnostia', 'is', 'diagnosty', 'addres', 'possibiliting', 'to', 'address', 'diagnosy', 'uncertainting', 'and', 'the', 'essential', 'uncertainty', 'diagnostic', 'it', 'diagnostus', 'uncertaints'}, {'', 'the', 'genetic', 'counseling', 'of', 'genetia', 'genety', 'a', 'potential', 'counselling', 'geneia', 'provision', 'misdiagnosis', 'misdiagnosi', 'to', 'geney', 'prior', 'genetus'}, {'', 'the', 'recurrence', 'of', 'a', 'for', 'summariis', 'different', 'summari', 'classes', 'determination', 'algorithm', 'risks', 'an', 'classis', 'as', 'classe', 'causal', 'recurrent', 'summarie', 'risk', 'summaries', 'summary', 'class', 'presented', 'are', 'present'}]\n",
      "\n",
      "C:\\Users\\levrex\\Anaconda3\\envs\\my_env\\lib\\site-packages\\clinphen_src\\data\\hpo_synonyms.txt\n"
     ]
    }
   ],
   "source": [
    "# df_train_bulk.txt\n",
    "!C:/Users/levrex/Anaconda3/envs/my_env/Scripts/clinphen_bulk.py data/df_train_bulk.txt df_anno.txt2\n",
    "    \n",
    "#df_train_bulk.txt df_anno.txt \n",
    "#raw_output = !C:/Users/levrex/Anaconda3/envs/my_env/Scripts/clinphen.py example_data.txt \n",
    "    \n",
    "#df_anno.txt "
   ]
  },
  {
   "cell_type": "markdown",
   "metadata": {},
   "source": [
    "## Read Annotations"
   ]
  },
  {
   "cell_type": "code",
   "execution_count": 121,
   "metadata": {},
   "outputs": [
    {
     "data": {
      "text/html": [
       "<div>\n",
       "<style scoped>\n",
       "    .dataframe tbody tr th:only-of-type {\n",
       "        vertical-align: middle;\n",
       "    }\n",
       "\n",
       "    .dataframe tbody tr th {\n",
       "        vertical-align: top;\n",
       "    }\n",
       "\n",
       "    .dataframe thead th {\n",
       "        text-align: right;\n",
       "    }\n",
       "</style>\n",
       "<table border=\"1\" class=\"dataframe\">\n",
       "  <thead>\n",
       "    <tr style=\"text-align: right;\">\n",
       "      <th></th>\n",
       "      <th>#Patient ID</th>\n",
       "      <th>HPO ID</th>\n",
       "      <th>Phenotype name</th>\n",
       "      <th>No. occurrences</th>\n",
       "      <th>Earliness (lower = earlier)</th>\n",
       "    </tr>\n",
       "  </thead>\n",
       "  <tbody>\n",
       "    <tr>\n",
       "      <th>0</th>\n",
       "      <td>1</td>\n",
       "      <td>HP:0000006</td>\n",
       "      <td>Autosomal dominant inheritance</td>\n",
       "      <td>1</td>\n",
       "      <td>0</td>\n",
       "    </tr>\n",
       "    <tr>\n",
       "      <th>1</th>\n",
       "      <td>1</td>\n",
       "      <td>HP:0000356</td>\n",
       "      <td>Abnormality of the outer ear</td>\n",
       "      <td>1</td>\n",
       "      <td>2</td>\n",
       "    </tr>\n",
       "    <tr>\n",
       "      <th>2</th>\n",
       "      <td>1</td>\n",
       "      <td>HP:0000598</td>\n",
       "      <td>Abnormality of the ear</td>\n",
       "      <td>1</td>\n",
       "      <td>2</td>\n",
       "    </tr>\n",
       "    <tr>\n",
       "      <th>3</th>\n",
       "      <td>1</td>\n",
       "      <td>HP:0000365</td>\n",
       "      <td>Hearing impairment</td>\n",
       "      <td>1</td>\n",
       "      <td>3</td>\n",
       "    </tr>\n",
       "    <tr>\n",
       "      <th>4</th>\n",
       "      <td>1</td>\n",
       "      <td>HP:0010442</td>\n",
       "      <td>Polydactyly</td>\n",
       "      <td>1</td>\n",
       "      <td>4</td>\n",
       "    </tr>\n",
       "  </tbody>\n",
       "</table>\n",
       "</div>"
      ],
      "text/plain": [
       "   #Patient ID      HPO ID                  Phenotype name  No. occurrences  \\\n",
       "0            1  HP:0000006  Autosomal dominant inheritance                1   \n",
       "1            1  HP:0000356    Abnormality of the outer ear                1   \n",
       "2            1  HP:0000598          Abnormality of the ear                1   \n",
       "3            1  HP:0000365              Hearing impairment                1   \n",
       "4            1  HP:0010442                     Polydactyly                1   \n",
       "\n",
       "   Earliness (lower = earlier)  \n",
       "0                            0  \n",
       "1                            2  \n",
       "2                            2  \n",
       "3                            3  \n",
       "4                            4  "
      ]
     },
     "execution_count": 121,
     "metadata": {},
     "output_type": "execute_result"
    }
   ],
   "source": [
    "import pandas as pd\n",
    "#import StringIO\n",
    "df_anno = pd.read_csv('df_anno.txt2', sep='\\t')\n",
    "df_anno.head()"
   ]
  },
  {
   "cell_type": "code",
   "execution_count": 122,
   "metadata": {},
   "outputs": [
    {
     "data": {
      "text/plain": [
       "array([  1, 102, 105,  11, 110, 115, 116,  12, 121, 128,  13, 130, 131,\n",
       "       134, 136, 141, 145, 151, 152, 160, 166, 171, 172, 175, 176, 179,\n",
       "       181, 183, 187, 188, 189, 190, 191, 194, 198, 204, 205, 208, 209,\n",
       "        21, 210, 218, 219, 225,  28,   3,  31,  32,  34,  39,  41,  42,\n",
       "        44,  53,  57,  58,   6,  61,  64,   7,  71,  72,  76,  78,  80,\n",
       "        81,  83,  87,  88,  91,  92,  94,  98], dtype=int64)"
      ]
     },
     "execution_count": 122,
     "metadata": {},
     "output_type": "execute_result"
    }
   ],
   "source": [
    "df_anno['#Patient ID'].unique()"
   ]
  },
  {
   "cell_type": "code",
   "execution_count": 42,
   "metadata": {},
   "outputs": [
    {
     "name": "stdout",
     "output_type": "stream",
     "text": [
      "{'HP:0040064', 'HP:0040068', 'HP:0002813', 'HP:0011842', 'HP:0011297', 'HP:0000118', 'HP:0000924', 'HP:0011844', 'HP:0000001'}\n"
     ]
    },
    {
     "ename": "AttributeError",
     "evalue": "'set' object has no attribute 'items'",
     "output_type": "error",
     "traceback": [
      "\u001b[1;31m---------------------------------------------------------------------------\u001b[0m",
      "\u001b[1;31mAttributeError\u001b[0m                            Traceback (most recent call last)",
      "\u001b[1;32m<ipython-input-42-df31b263cd8f>\u001b[0m in \u001b[0;36m<module>\u001b[1;34m\u001b[0m\n\u001b[0;32m      8\u001b[0m     \u001b[1;32mreturn\u001b[0m \u001b[0mG\u001b[0m\u001b[1;33m.\u001b[0m\u001b[0msubgraph\u001b[0m\u001b[1;33m(\u001b[0m\u001b[0mnodes\u001b[0m\u001b[1;33m)\u001b[0m\u001b[1;33m\u001b[0m\u001b[1;33m\u001b[0m\u001b[0m\n\u001b[0;32m      9\u001b[0m \u001b[1;33m\u001b[0m\u001b[0m\n\u001b[1;32m---> 10\u001b[1;33m \u001b[0msub_graph\u001b[0m \u001b[1;33m=\u001b[0m \u001b[0mcreate_subgraph\u001b[0m\u001b[1;33m(\u001b[0m\u001b[0mgraph\u001b[0m\u001b[1;33m,\u001b[0m \u001b[1;34m\"HP:0010442\"\u001b[0m \u001b[1;33m)\u001b[0m \u001b[1;31m#PHENOTYPIC_ABNORMALITY_ID)\u001b[0m\u001b[1;33m\u001b[0m\u001b[1;33m\u001b[0m\u001b[0m\n\u001b[0m",
      "\u001b[1;32m<ipython-input-42-df31b263cd8f>\u001b[0m in \u001b[0;36mcreate_subgraph\u001b[1;34m(G, node)\u001b[0m\n\u001b[0;32m      3\u001b[0m     \u001b[0mprint\u001b[0m\u001b[1;33m(\u001b[0m\u001b[0medges\u001b[0m\u001b[1;33m)\u001b[0m\u001b[1;33m\u001b[0m\u001b[1;33m\u001b[0m\u001b[0m\n\u001b[0;32m      4\u001b[0m     \u001b[0mnodes\u001b[0m \u001b[1;33m=\u001b[0m \u001b[1;33m[\u001b[0m\u001b[1;33m]\u001b[0m\u001b[1;33m\u001b[0m\u001b[1;33m\u001b[0m\u001b[0m\n\u001b[1;32m----> 5\u001b[1;33m     \u001b[1;32mfor\u001b[0m \u001b[0mk\u001b[0m\u001b[1;33m,\u001b[0m\u001b[0mv\u001b[0m \u001b[1;32min\u001b[0m \u001b[0medges\u001b[0m\u001b[1;33m.\u001b[0m\u001b[0mitems\u001b[0m\u001b[1;33m(\u001b[0m\u001b[1;33m)\u001b[0m\u001b[1;33m:\u001b[0m\u001b[1;33m\u001b[0m\u001b[1;33m\u001b[0m\u001b[0m\n\u001b[0m\u001b[0;32m      6\u001b[0m         \u001b[0mnodes\u001b[0m\u001b[1;33m.\u001b[0m\u001b[0mextend\u001b[0m\u001b[1;33m(\u001b[0m\u001b[1;33m[\u001b[0m\u001b[0mk\u001b[0m\u001b[1;33m]\u001b[0m\u001b[1;33m)\u001b[0m\u001b[1;33m\u001b[0m\u001b[1;33m\u001b[0m\u001b[0m\n\u001b[0;32m      7\u001b[0m         \u001b[0mnodes\u001b[0m\u001b[1;33m.\u001b[0m\u001b[0mextend\u001b[0m\u001b[1;33m(\u001b[0m\u001b[0mv\u001b[0m\u001b[1;33m)\u001b[0m\u001b[1;33m\u001b[0m\u001b[1;33m\u001b[0m\u001b[0m\n",
      "\u001b[1;31mAttributeError\u001b[0m: 'set' object has no attribute 'items'"
     ]
    }
   ],
   "source": [
    "def create_subgraph(G, node):\n",
    "    edges = networkx.descendants(G, node)\n",
    "    print(edges)\n",
    "    nodes = []\n",
    "    for k,v in edges.items():\n",
    "        nodes.extend([k])\n",
    "        nodes.extend(v)\n",
    "    return G.subgraph(nodes)    \n",
    "\n",
    "sub_graph = create_subgraph(graph, \"HP:0010442\" ) #PHENOTYPIC_ABNORMALITY_ID)"
   ]
  },
  {
   "cell_type": "code",
   "execution_count": 45,
   "metadata": {},
   "outputs": [],
   "source": [
    "import networkx as nx\n",
    "successors = nx.nodes(nx.dfs_tree(graph, PHENOTYPIC_ABNORMALITY_ID))"
   ]
  },
  {
   "cell_type": "code",
   "execution_count": 49,
   "metadata": {},
   "outputs": [
    {
     "data": {
      "text/plain": [
       "['HP:0000001']"
      ]
     },
     "execution_count": 49,
     "metadata": {},
     "output_type": "execute_result"
    }
   ],
   "source": [
    "#df_text = pd.read_csv(r'../data/Bio-Lark/df_text.csv')\n",
    "#df_anno = pd.read_csv(r'../data/Bio-Lark/df_anno.csv')\n",
    "#df_total = pd.DataFrame(columns=['docID', 'found_hpo', 'true_hpo']) "
   ]
  },
  {
   "cell_type": "markdown",
   "metadata": {},
   "source": [
    "## Evaluate ClinPhen\n",
    "\n",
    "ToDo: \n",
    "Update deprecated HPO"
   ]
  },
  {
   "cell_type": "code",
   "execution_count": 4,
   "metadata": {},
   "outputs": [],
   "source": [
    "import networkx\n",
    "import obonet\n",
    "import pandas as pd\n",
    "\n",
    "#%%time\n",
    "url = '../phenopy_mod/.phenopy/data/hp.obo'\n",
    "graph = obonet.read_obo(url)\n",
    "\n",
    "#id_to_name = {id_: data.get('name') for id_, data in graph.nodes(data=True)}\n",
    "#name_to_id = {data['name']: id_ for id_, data in graph.nodes(data=True) if 'name' in data}"
   ]
  },
  {
   "cell_type": "code",
   "execution_count": 5,
   "metadata": {},
   "outputs": [],
   "source": [
    "import DeepPhenotyping_functions as func\n",
    "\n",
    "#inferred = df_anno[df_anno['#Patient ID']==doc_id]['HPO ID'].unique()\n",
    "d_trans= func.generate_hpo_updgrade_list(graph)"
   ]
  },
  {
   "cell_type": "code",
   "execution_count": null,
   "metadata": {},
   "outputs": [],
   "source": [
    "#filter_phenotypes = ['HP:0012825', 'HP:0012828', , 'HP:0003674']\n",
    "#filter_labels = ['mild', 'severe', 'young', 'onset']\n",
    "# young, onset"
   ]
  },
  {
   "cell_type": "code",
   "execution_count": 126,
   "metadata": {},
   "outputs": [
    {
     "data": {
      "text/plain": [
       "<module 'DeepPhenotyping_functions' from '..\\\\DeepPhenotyping_functions.py'>"
      ]
     },
     "execution_count": 126,
     "metadata": {},
     "output_type": "execute_result"
    }
   ],
   "source": [
    "import importlib as imp\n",
    "imp.reload(func)"
   ]
  },
  {
   "cell_type": "code",
   "execution_count": 127,
   "metadata": {},
   "outputs": [
    {
     "name": "stdout",
     "output_type": "stream",
     "text": [
      "FN:  3\n",
      "FP:  4\n",
      "1 9 8\n",
      "FN:  0\n",
      "FP:  2\n",
      "3 3 1\n",
      "FN:  2\n",
      "FP:  0\n",
      "4 0 2\n",
      "FN:  1\n",
      "FP:  6\n",
      "6 15 10\n",
      "FN:  2\n",
      "FP:  0\n",
      "7 4 7\n",
      "FN:  15\n",
      "FP:  2\n",
      "11 2 15\n",
      "FN:  1\n",
      "FP:  2\n",
      "12 7 7\n",
      "FN:  0\n",
      "FP:  1\n",
      "13 4 3\n",
      "FN:  1\n",
      "FP:  0\n",
      "21 3 4\n",
      "FN:  0\n",
      "FP:  2\n",
      "28 3 1\n",
      "FN:  2\n",
      "FP:  0\n",
      "31 1 3\n",
      "FN:  1\n",
      "FP:  4\n",
      "32 10 7\n",
      "FN:  0\n",
      "FP:  2\n",
      "34 3 1\n",
      "FN:  2\n",
      "FP:  3\n",
      "39 11 10\n",
      "FN:  2\n",
      "FP:  0\n",
      "41 2 4\n",
      "FN:  6\n",
      "FP:  3\n",
      "42 7 10\n",
      "FN:  3\n",
      "FP:  1\n",
      "44 4 6\n",
      "FN:  2\n",
      "FP:  0\n",
      "52 0 2\n",
      "FN:  4\n",
      "FP:  5\n",
      "53 12 11\n",
      "FN:  0\n",
      "FP:  2\n",
      "57 5 3\n",
      "FN:  2\n",
      "FP:  5\n",
      "58 8 5\n",
      "FN:  1\n",
      "FP:  2\n",
      "61 11 10\n",
      "FN:  0\n",
      "FP:  0\n",
      "64 1 1\n",
      "FN:  0\n",
      "FP:  0\n",
      "71 1 1\n",
      "FN:  0\n",
      "FP:  0\n",
      "72 0 0\n",
      "FN:  3\n",
      "FP:  5\n",
      "76 10 8\n",
      "FN:  4\n",
      "FP:  2\n",
      "78 4 6\n",
      "FN:  0\n",
      "FP:  1\n",
      "80 2 1\n",
      "FN:  1\n",
      "FP:  1\n",
      "81 1 1\n",
      "FN:  2\n",
      "FP:  3\n",
      "83 8 7\n",
      "FN:  4\n",
      "FP:  3\n",
      "87 14 15\n",
      "FN:  2\n",
      "FP:  4\n",
      "88 5 3\n",
      "FN:  1\n",
      "FP:  3\n",
      "91 5 3\n",
      "FN:  4\n",
      "FP:  3\n",
      "92 13 15\n",
      "FN:  0\n",
      "FP:  1\n",
      "94 3 2\n",
      "FN:  1\n",
      "FP:  4\n",
      "98 10 8\n",
      "FN:  1\n",
      "FP:  0\n",
      "102 0 1\n",
      "FN:  3\n",
      "FP:  0\n",
      "105 0 3\n",
      "FN:  0\n",
      "FP:  0\n",
      "110 4 4\n",
      "FN:  0\n",
      "FP:  0\n",
      "115 1 1\n",
      "FN:  2\n",
      "FP:  2\n",
      "116 5 5\n",
      "FN:  0\n",
      "FP:  3\n",
      "121 5 2\n",
      "FN:  1\n",
      "FP:  0\n",
      "122 0 1\n",
      "FN:  6\n",
      "FP:  3\n",
      "128 7 10\n",
      "FN:  2\n",
      "FP:  3\n",
      "130 7 6\n",
      "FN:  1\n",
      "FP:  1\n",
      "131 3 3\n",
      "FN:  3\n",
      "FP:  1\n",
      "134 6 8\n",
      "FN:  1\n",
      "FP:  4\n",
      "136 12 10\n",
      "FN:  1\n",
      "FP:  2\n",
      "141 6 6\n",
      "FN:  5\n",
      "FP:  2\n",
      "145 5 8\n",
      "FN:  0\n",
      "FP:  1\n",
      "151 2 1\n",
      "FN:  3\n",
      "FP:  2\n",
      "152 5 6\n",
      "FN:  1\n",
      "FP:  5\n",
      "160 12 8\n",
      "FN:  3\n",
      "FP:  0\n",
      "166 2 5\n",
      "FN:  1\n",
      "FP:  2\n",
      "171 3 2\n",
      "FN:  1\n",
      "FP:  3\n",
      "172 8 6\n",
      "FN:  1\n",
      "FP:  1\n",
      "175 1 1\n",
      "FN:  0\n",
      "FP:  0\n",
      "176 1 1\n",
      "FN:  3\n",
      "FP:  2\n",
      "179 3 4\n",
      "FN:  1\n",
      "FP:  3\n",
      "181 9 8\n",
      "FN:  2\n",
      "FP:  3\n",
      "183 4 3\n",
      "FN:  5\n",
      "FP:  0\n",
      "187 0 5\n",
      "FN:  2\n",
      "FP:  0\n",
      "188 10 14\n",
      "FN:  2\n",
      "FP:  2\n",
      "189 3 3\n",
      "FN:  1\n",
      "FP:  4\n",
      "190 5 2\n",
      "FN:  5\n",
      "FP:  2\n",
      "191 8 11\n",
      "FN:  0\n",
      "FP:  1\n",
      "194 3 2\n",
      "FN:  6\n",
      "FP:  0\n",
      "198 5 11\n",
      "FN:  1\n",
      "FP:  1\n",
      "204 4 4\n",
      "FN:  0\n",
      "FP:  1\n",
      "205 4 3\n",
      "FN:  4\n",
      "FP:  3\n",
      "208 5 6\n",
      "FN:  8\n",
      "FP:  7\n",
      "209 18 19\n",
      "FN:  0\n",
      "FP:  1\n",
      "210 2 1\n",
      "FN:  0\n",
      "FP:  0\n",
      "218 0 0\n",
      "FN:  4\n",
      "FP:  6\n",
      "219 10 9\n",
      "FN:  0\n",
      "FP:  1\n",
      "225 4 3\n",
      "Confusion matrix, without normalization\n",
      "[[245 152]\n",
      " [148   0]]\n"
     ]
    },
    {
     "data": {
      "image/png": "[encoded data removed]",
      "text/plain": [
       "<Figure size 432x288 with 2 Axes>"
      ]
     },
     "metadata": {
      "needs_background": "light"
     },
     "output_type": "display_data"
    }
   ],
   "source": [
    "\n",
    "\n",
    "import numpy as np\n",
    "\n",
    "y_test = []\n",
    "y_pred = []\n",
    "\n",
    "# set1 - set2 & set2 - set1\n",
    "TP = 0 \n",
    "TN = 0\n",
    "FP = 0\n",
    "FN = 0\n",
    "\n",
    "for doc_id in list(df_train['docID'].unique()):\n",
    "    inferred = df_anno[df_anno['#Patient ID']==doc_id]['HPO ID'].unique()\n",
    "    inferred = func.is_phenotypic_abnormality(graph, list(inferred))\n",
    "    gold = df_train[df_train['docID']==doc_id]['hpo'].unique()\n",
    "    gold = [i.replace('_', ':') for i in gold]\n",
    "    gold = func.update_deprecated_OBO(list(gold), d_trans)\n",
    "    gold = func.is_phenotypic_abnormality(graph, list(gold))\n",
    "    #gold = in_hpo(list(gold), list(id_to_name.keys()))\n",
    "    #break\n",
    "    TP += len(np.intersect1d(list(set(gold)), list(set(inferred))))\n",
    "    FN += len(set(gold) - set(inferred))\n",
    "    FP +=  len(set(inferred) - set(gold))\n",
    "    \n",
    "    for i in range(len(np.intersect1d(list(set(gold)), list(set(inferred))))):\n",
    "        y_test.append(1)\n",
    "        y_pred.append(1)\n",
    "    for i in range(len(set(gold) - set(inferred))):\n",
    "        y_test.append(1)\n",
    "        y_pred.append(0)\n",
    "    for i in range(len(set(inferred) - set(gold))):\n",
    "        y_test.append(0)\n",
    "        y_pred.append(1)\n",
    "    #print('TP: ', len(np.intersect1d(list(set(gold)), list(set(inferred)))))\n",
    "    print('FN: ', len(set(gold) - set(inferred)))\n",
    "    print('FP: ', len(set(inferred) - set(gold)))\n",
    "    print(doc_id, len(inferred), len(gold))\n",
    "    y_pred.append(0)\n",
    "    y_test.append(0)\n",
    "    \n",
    "cnf_matrix = np.array([[TP, FN], [FP, TN]])\n",
    "\n",
    "plt = func.print_confusion_matrix(cnf_matrix, classes=['HPO', 'No-HPO'], title='Confusion matrix')"
   ]
  },
  {
   "cell_type": "markdown",
   "metadata": {},
   "source": [
    "## Calculate spec, sens, ppv"
   ]
  },
  {
   "cell_type": "code",
   "execution_count": 128,
   "metadata": {},
   "outputs": [
    {
     "data": {
      "image/png": "[encoded data removed]",
      "text/plain": [
       "<Figure size 864x432 with 2 Axes>"
      ]
     },
     "metadata": {
      "needs_background": "light"
     },
     "output_type": "display_data"
    }
   ],
   "source": [
    "#neurodevelopmental disorder\n",
    "#Neurologic abnormalities\n",
    "import importlib as imp\n",
    "\n",
    "imp.reload(func)\n",
    "\n",
    "func.plot_performance(y_pred,y_test, clf_name='ClinPhen')"
   ]
  },
  {
   "cell_type": "code",
   "execution_count": 143,
   "metadata": {},
   "outputs": [
    {
     "name": "stdout",
     "output_type": "stream",
     "text": [
      "Sensitivity:\t 0.62\n",
      "Specificity:\t 0.0\n",
      "PPV:\t\t 0.62\n",
      "NPV:\t\t 0.0\n",
      "F1:\t\t 0.62\n",
      "Accuracy:\t 0.45\n"
     ]
    }
   ],
   "source": [
    "func.print_perf(TP, FP, TN, FN)"
   ]
  },
  {
   "cell_type": "code",
   "execution_count": 140,
   "metadata": {},
   "outputs": [
    {
     "data": {
      "text/html": [
       "<div>\n",
       "<style scoped>\n",
       "    .dataframe tbody tr th:only-of-type {\n",
       "        vertical-align: middle;\n",
       "    }\n",
       "\n",
       "    .dataframe tbody tr th {\n",
       "        vertical-align: top;\n",
       "    }\n",
       "\n",
       "    .dataframe thead th {\n",
       "        text-align: right;\n",
       "    }\n",
       "</style>\n",
       "<table border=\"1\" class=\"dataframe\">\n",
       "  <thead>\n",
       "    <tr style=\"text-align: right;\">\n",
       "      <th></th>\n",
       "      <th>entID</th>\n",
       "      <th>docID</th>\n",
       "      <th>start</th>\n",
       "      <th>end</th>\n",
       "      <th>hpo</th>\n",
       "      <th>entity</th>\n",
       "      <th>text</th>\n",
       "    </tr>\n",
       "  </thead>\n",
       "  <tbody>\n",
       "    <tr>\n",
       "      <th>203</th>\n",
       "      <td>631</td>\n",
       "      <td>76</td>\n",
       "      <td>41</td>\n",
       "      <td>58</td>\n",
       "      <td>HP_0006746</td>\n",
       "      <td>neurofibromatosis</td>\n",
       "      <td>To gain insight into the pathogenesis of neuro...</td>\n",
       "    </tr>\n",
       "    <tr>\n",
       "      <th>204</th>\n",
       "      <td>632</td>\n",
       "      <td>76</td>\n",
       "      <td>93</td>\n",
       "      <td>114</td>\n",
       "      <td>HP_0000284</td>\n",
       "      <td>ocular manifestations</td>\n",
       "      <td>To gain insight into the pathogenesis of neuro...</td>\n",
       "    </tr>\n",
       "    <tr>\n",
       "      <th>205</th>\n",
       "      <td>633</td>\n",
       "      <td>76</td>\n",
       "      <td>235</td>\n",
       "      <td>261</td>\n",
       "      <td>HP_0000478</td>\n",
       "      <td>ocular pathologic findings</td>\n",
       "      <td>To gain insight into the pathogenesis of neuro...</td>\n",
       "    </tr>\n",
       "    <tr>\n",
       "      <th>206</th>\n",
       "      <td>634</td>\n",
       "      <td>76</td>\n",
       "      <td>380</td>\n",
       "      <td>411</td>\n",
       "      <td>HP_0007787</td>\n",
       "      <td>posterior subcapsular cataracts</td>\n",
       "      <td>To gain insight into the pathogenesis of neuro...</td>\n",
       "    </tr>\n",
       "    <tr>\n",
       "      <th>207</th>\n",
       "      <td>635</td>\n",
       "      <td>76</td>\n",
       "      <td>390</td>\n",
       "      <td>411</td>\n",
       "      <td>HP_0000523</td>\n",
       "      <td>subcapsular cataracts</td>\n",
       "      <td>To gain insight into the pathogenesis of neuro...</td>\n",
       "    </tr>\n",
       "    <tr>\n",
       "      <th>208</th>\n",
       "      <td>636</td>\n",
       "      <td>76</td>\n",
       "      <td>402</td>\n",
       "      <td>411</td>\n",
       "      <td>HP_0000518</td>\n",
       "      <td>cataracts</td>\n",
       "      <td>To gain insight into the pathogenesis of neuro...</td>\n",
       "    </tr>\n",
       "    <tr>\n",
       "      <th>209</th>\n",
       "      <td>637</td>\n",
       "      <td>76</td>\n",
       "      <td>413</td>\n",
       "      <td>433</td>\n",
       "      <td>HP_0100014</td>\n",
       "      <td>epiretinal membranes</td>\n",
       "      <td>To gain insight into the pathogenesis of neuro...</td>\n",
       "    </tr>\n",
       "    <tr>\n",
       "      <th>210</th>\n",
       "      <td>638</td>\n",
       "      <td>76</td>\n",
       "      <td>442</td>\n",
       "      <td>465</td>\n",
       "      <td>HP_0100011</td>\n",
       "      <td>intrascleral schwannoma</td>\n",
       "      <td>To gain insight into the pathogenesis of neuro...</td>\n",
       "    </tr>\n",
       "  </tbody>\n",
       "</table>\n",
       "</div>"
      ],
      "text/plain": [
       "     entID  docID  start  end         hpo                           entity  \\\n",
       "203    631     76     41   58  HP_0006746                neurofibromatosis   \n",
       "204    632     76     93  114  HP_0000284            ocular manifestations   \n",
       "205    633     76    235  261  HP_0000478       ocular pathologic findings   \n",
       "206    634     76    380  411  HP_0007787  posterior subcapsular cataracts   \n",
       "207    635     76    390  411  HP_0000523            subcapsular cataracts   \n",
       "208    636     76    402  411  HP_0000518                        cataracts   \n",
       "209    637     76    413  433  HP_0100014             epiretinal membranes   \n",
       "210    638     76    442  465  HP_0100011          intrascleral schwannoma   \n",
       "\n",
       "                                                  text  \n",
       "203  To gain insight into the pathogenesis of neuro...  \n",
       "204  To gain insight into the pathogenesis of neuro...  \n",
       "205  To gain insight into the pathogenesis of neuro...  \n",
       "206  To gain insight into the pathogenesis of neuro...  \n",
       "207  To gain insight into the pathogenesis of neuro...  \n",
       "208  To gain insight into the pathogenesis of neuro...  \n",
       "209  To gain insight into the pathogenesis of neuro...  \n",
       "210  To gain insight into the pathogenesis of neuro...  "
      ]
     },
     "execution_count": 140,
     "metadata": {},
     "output_type": "execute_result"
    }
   ],
   "source": [
    "df_train[df_train['docID']==76].drop_duplicates('hpo') # 87 - malformations "
   ]
  },
  {
   "cell_type": "code",
   "execution_count": 141,
   "metadata": {},
   "outputs": [],
   "source": [
    "## HP:0012825, HP:0012828"
   ]
  },
  {
   "cell_type": "code",
   "execution_count": 142,
   "metadata": {},
   "outputs": [
    {
     "data": {
      "text/html": [
       "<div>\n",
       "<style scoped>\n",
       "    .dataframe tbody tr th:only-of-type {\n",
       "        vertical-align: middle;\n",
       "    }\n",
       "\n",
       "    .dataframe tbody tr th {\n",
       "        vertical-align: top;\n",
       "    }\n",
       "\n",
       "    .dataframe thead th {\n",
       "        text-align: right;\n",
       "    }\n",
       "</style>\n",
       "<table border=\"1\" class=\"dataframe\">\n",
       "  <thead>\n",
       "    <tr style=\"text-align: right;\">\n",
       "      <th></th>\n",
       "      <th>#Patient ID</th>\n",
       "      <th>HPO ID</th>\n",
       "      <th>Phenotype name</th>\n",
       "      <th>No. occurrences</th>\n",
       "      <th>Earliness (lower = earlier)</th>\n",
       "    </tr>\n",
       "  </thead>\n",
       "  <tbody>\n",
       "    <tr>\n",
       "      <th>359</th>\n",
       "      <td>76</td>\n",
       "      <td>HP:0000518</td>\n",
       "      <td>Cataract</td>\n",
       "      <td>4</td>\n",
       "      <td>7</td>\n",
       "    </tr>\n",
       "    <tr>\n",
       "      <th>360</th>\n",
       "      <td>76</td>\n",
       "      <td>HP:0000519</td>\n",
       "      <td>Developmental cataract</td>\n",
       "      <td>4</td>\n",
       "      <td>7</td>\n",
       "    </tr>\n",
       "    <tr>\n",
       "      <th>361</th>\n",
       "      <td>76</td>\n",
       "      <td>HP:0000523</td>\n",
       "      <td>Subcapsular cataract</td>\n",
       "      <td>4</td>\n",
       "      <td>7</td>\n",
       "    </tr>\n",
       "    <tr>\n",
       "      <th>362</th>\n",
       "      <td>76</td>\n",
       "      <td>HP:0001118</td>\n",
       "      <td>Juvenile cataract</td>\n",
       "      <td>4</td>\n",
       "      <td>7</td>\n",
       "    </tr>\n",
       "    <tr>\n",
       "      <th>363</th>\n",
       "      <td>76</td>\n",
       "      <td>HP:0007787</td>\n",
       "      <td>Posterior subcapsular cataract</td>\n",
       "      <td>4</td>\n",
       "      <td>7</td>\n",
       "    </tr>\n",
       "    <tr>\n",
       "      <th>364</th>\n",
       "      <td>76</td>\n",
       "      <td>HP:0100014</td>\n",
       "      <td>Epiretinal membrane</td>\n",
       "      <td>4</td>\n",
       "      <td>8</td>\n",
       "    </tr>\n",
       "    <tr>\n",
       "      <th>365</th>\n",
       "      <td>76</td>\n",
       "      <td>HP:0001067</td>\n",
       "      <td>Neurofibromas</td>\n",
       "      <td>2</td>\n",
       "      <td>0</td>\n",
       "    </tr>\n",
       "    <tr>\n",
       "      <th>366</th>\n",
       "      <td>76</td>\n",
       "      <td>HP:0007524</td>\n",
       "      <td>Atypical neurofibromatosis</td>\n",
       "      <td>2</td>\n",
       "      <td>0</td>\n",
       "    </tr>\n",
       "    <tr>\n",
       "      <th>367</th>\n",
       "      <td>76</td>\n",
       "      <td>HP:0100008</td>\n",
       "      <td>Schwannoma</td>\n",
       "      <td>2</td>\n",
       "      <td>10</td>\n",
       "    </tr>\n",
       "    <tr>\n",
       "      <th>368</th>\n",
       "      <td>76</td>\n",
       "      <td>HP:0010923</td>\n",
       "      <td>Anterior subcapsular cataract</td>\n",
       "      <td>2</td>\n",
       "      <td>11</td>\n",
       "    </tr>\n",
       "  </tbody>\n",
       "</table>\n",
       "</div>"
      ],
      "text/plain": [
       "     #Patient ID      HPO ID                  Phenotype name  No. occurrences  \\\n",
       "359           76  HP:0000518                        Cataract                4   \n",
       "360           76  HP:0000519          Developmental cataract                4   \n",
       "361           76  HP:0000523            Subcapsular cataract                4   \n",
       "362           76  HP:0001118               Juvenile cataract                4   \n",
       "363           76  HP:0007787  Posterior subcapsular cataract                4   \n",
       "364           76  HP:0100014             Epiretinal membrane                4   \n",
       "365           76  HP:0001067                   Neurofibromas                2   \n",
       "366           76  HP:0007524      Atypical neurofibromatosis                2   \n",
       "367           76  HP:0100008                      Schwannoma                2   \n",
       "368           76  HP:0010923   Anterior subcapsular cataract                2   \n",
       "\n",
       "     Earliness (lower = earlier)  \n",
       "359                            7  \n",
       "360                            7  \n",
       "361                            7  \n",
       "362                            7  \n",
       "363                            7  \n",
       "364                            8  \n",
       "365                            0  \n",
       "366                            0  \n",
       "367                           10  \n",
       "368                           11  "
      ]
     },
     "execution_count": 142,
     "metadata": {},
     "output_type": "execute_result"
    }
   ],
   "source": [
    "df_anno[df_anno['#Patient ID']==76]"
   ]
  },
  {
   "cell_type": "code",
   "execution_count": 132,
   "metadata": {},
   "outputs": [
    {
     "data": {
      "text/plain": [
       "'Neurofibromatosis type 2 (NF2) is an autosomal dominant syndrome characterized by the development of vestibular schwannomas and other tumors of the nervous system, including cranial and spinal meningiomas, schwannomas, and ependymomas. The presence of bilateral vestibular schwannomas is sufficient for the diagnosis. Skin manifestations are less common than in neurofibromatosis type 1 (NF1; von Recklinghausen disease). The apparent clinical distinction between NF1 and NF2 has been confirmed at the level of the gene locus by linkage studies; the gene for NF1 maps to chromosome 17, whereas the gene for NF2 has been assigned (in a single family) to chromosome 22. To increase the precision of the genetic mapping of NF2 and to determine whether additional susceptibility loci exist, we have performed linkage analysis on 12 families with NF2 by using four polymorphic markers from chromosome 22 and a marker at the NF1 locus on chromosome 17. Our results confirm the assignment of the gene for NF2 to chromosome 22 and do not support the hypothesis of genetic heterogeneity. We believe that chromosome 22 markers can now be used for presymptomatic diagnosis in selected families. The NF2 gene is tightly linked to the D22S32 locus (maximum lod score 4.12; recombination fraction 0). A CA-repeat polymorphism at the CRYB2 locus was the most informative marker in our families (lod score 5.99), but because the observed recombination fraction between NF2 and CRYB2 was 10 cM, predictions using this marker will need to be interpreted with caution.'"
      ]
     },
     "execution_count": 132,
     "metadata": {},
     "output_type": "execute_result"
    }
   ],
   "source": [
    "# Neurologic abnormalities\n",
    "# Neurodevelopmental - Neurologic \n",
    "# abnormalities - disorder\n",
    "# disposition - aspect (happy disposition)\n",
    "df_train[df_train['docID']==76]['text'].iloc[0]"
   ]
  },
  {
   "cell_type": "code",
   "execution_count": null,
   "metadata": {},
   "outputs": [],
   "source": [
    "electroencephalographic patterns\n"
   ]
  },
  {
   "cell_type": "code",
   "execution_count": 89,
   "metadata": {},
   "outputs": [
    {
     "data": {
      "text/plain": [
       "{'HP_0000006',\n",
       " 'HP_0001156',\n",
       " 'HP_0001363',\n",
       " 'HP_0001385',\n",
       " 'HP_0001792',\n",
       " 'HP_0001798',\n",
       " 'HP_0008090',\n",
       " 'HP_0008368',\n",
       " 'HP_0009702',\n",
       " 'HP_0009881',\n",
       " 'HP_0010239',\n",
       " 'HP_0100264'}"
      ]
     },
     "execution_count": 89,
     "metadata": {},
     "output_type": "execute_result"
    }
   ],
   "source": [
    "set(list(df_anno[df_anno['docID']==0]['hpo'].unique())) - set(list(df_clinphen['HPO ID'].unique()))"
   ]
  },
  {
   "cell_type": "code",
   "execution_count": 39,
   "metadata": {},
   "outputs": [
    {
     "data": {
      "text/plain": [
       "{'HP_0001156 '}"
      ]
     },
     "execution_count": 39,
     "metadata": {},
     "output_type": "execute_result"
    }
   ],
   "source": [
    "set(list(df_anno[df_anno['docID']==0]['hpo'].unique()))"
   ]
  },
  {
   "cell_type": "code",
   "execution_count": 51,
   "metadata": {},
   "outputs": [
    {
     "name": "stdout",
     "output_type": "stream",
     "text": [
      "happening\n",
      "{'happening', 'henning', 'penning'}\n"
     ]
    }
   ],
   "source": [
    "from spellchecker import SpellChecker\n",
    "\n",
    "spell = SpellChecker()\n",
    "\n",
    "# find those words that may be misspelled\n",
    "misspelled = spell.unknown(['something', 'is', 'hapenning', 'here'])\n",
    "\n",
    "for word in misspelled:\n",
    "    # Get the one `most likely` answer\n",
    "    print(spell.correction(word))\n",
    "\n",
    "    # Get a list of `likely` options\n",
    "    print(spell.candidates(word))"
   ]
  },
  {
   "cell_type": "code",
   "execution_count": 52,
   "metadata": {},
   "outputs": [
    {
     "name": "stdout",
     "output_type": "stream",
     "text": [
      "ankylois\n",
      "{'ankylois'}\n"
     ]
    }
   ],
   "source": [
    "from spellchecker import SpellChecker\n",
    "\n",
    "spell = SpellChecker()\n",
    "\n",
    "# find those words that may be misspelled\n",
    "misspelled = spell.unknown(['ankylois'])\n",
    "\n",
    "for word in misspelled:\n",
    "    # Get the one `most likely` answer\n",
    "    print(spell.correction(word))\n",
    "\n",
    "    # Get a list of `likely` options\n",
    "    print(spell.candidates(word))"
   ]
  },
  {
   "cell_type": "markdown",
   "metadata": {},
   "source": [
    "## Typo Correction"
   ]
  },
  {
   "cell_type": "code",
   "execution_count": 64,
   "metadata": {},
   "outputs": [],
   "source": [
    "import pickle \n",
    "spell = SpellChecker()\n",
    "spell.word_frequency.load_text_file('data/HPO_vocab.csv')\n",
    "spell.word_frequency.load_text_file('data/hpo_synonyms.txt')\n",
    "\n",
    "pickle.dump(spell, open( \"spellCheckerHPO.p\", \"wb\" ))"
   ]
  },
  {
   "cell_type": "code",
   "execution_count": 65,
   "metadata": {},
   "outputs": [],
   "source": [
    "spell = pickle.load(open( \"spellCheckerHPO.p\", \"rb\" ))"
   ]
  },
  {
   "cell_type": "code",
   "execution_count": 71,
   "metadata": {},
   "outputs": [
    {
     "name": "stdout",
     "output_type": "stream",
     "text": [
      "pirate\n",
      "{'pratt', 'praag', 'piracy', 'piat', 'prat', 'pirate', 'pira', 'piran', 'rifaat', 'pialat'}\n",
      "ankylosis\n",
      "{'ankylosis'}\n"
     ]
    }
   ],
   "source": [
    "# find those words that may be misspelled\n",
    "misspelled = spell.unknown(['this', 'is', 'a', 'test', 'do', 'you', 'know', 'that', 'ankylois', 'piraat', '?'])\n",
    "\n",
    "for word in misspelled:\n",
    "    # Get the one `most likely` answer\n",
    "    print(spell.correction(word))\n",
    "\n",
    "    # Get a list of `likely` options\n",
    "    print(spell.candidates(word))"
   ]
  },
  {
   "cell_type": "code",
   "execution_count": 83,
   "metadata": {},
   "outputs": [
    {
     "name": "stdout",
     "output_type": "stream",
     "text": [
      "test\n"
     ]
    }
   ],
   "source": [
    "word = 'test2'\n",
    "if spell.unknown([word]) != {}:\n",
    "    print(spell.correction(word))"
   ]
  },
  {
   "cell_type": "markdown",
   "metadata": {},
   "source": [
    "## 2. Employ on validation set"
   ]
  },
  {
   "cell_type": "code",
   "execution_count": null,
   "metadata": {},
   "outputs": [],
   "source": [
    "# df_valid\n",
    "\n",
    "# make two sets"
   ]
  },
  {
   "cell_type": "code",
   "execution_count": 37,
   "metadata": {},
   "outputs": [
    {
     "data": {
      "text/html": [
       "<div>\n",
       "<style scoped>\n",
       "    .dataframe tbody tr th:only-of-type {\n",
       "        vertical-align: middle;\n",
       "    }\n",
       "\n",
       "    .dataframe tbody tr th {\n",
       "        vertical-align: top;\n",
       "    }\n",
       "\n",
       "    .dataframe thead th {\n",
       "        text-align: right;\n",
       "    }\n",
       "</style>\n",
       "<table border=\"1\" class=\"dataframe\">\n",
       "  <thead>\n",
       "    <tr style=\"text-align: right;\">\n",
       "      <th></th>\n",
       "      <th>entID</th>\n",
       "      <th>docID</th>\n",
       "      <th>start</th>\n",
       "      <th>end</th>\n",
       "      <th>hpo</th>\n",
       "      <th>entity</th>\n",
       "      <th>text</th>\n",
       "    </tr>\n",
       "  </thead>\n",
       "  <tbody>\n",
       "    <tr>\n",
       "      <th>0</th>\n",
       "      <td>0</td>\n",
       "      <td>0</td>\n",
       "      <td>14</td>\n",
       "      <td>27</td>\n",
       "      <td>HP_0001156</td>\n",
       "      <td>brachydactyly</td>\n",
       "      <td>A syndrome of brachydactyly (absence of some m...</td>\n",
       "    </tr>\n",
       "    <tr>\n",
       "      <th>1</th>\n",
       "      <td>1</td>\n",
       "      <td>0</td>\n",
       "      <td>29</td>\n",
       "      <td>71</td>\n",
       "      <td>HP_0009881</td>\n",
       "      <td>absence of some middle or distal phalanges</td>\n",
       "      <td>A syndrome of brachydactyly (absence of some m...</td>\n",
       "    </tr>\n",
       "    <tr>\n",
       "      <th>2</th>\n",
       "      <td>2</td>\n",
       "      <td>0</td>\n",
       "      <td>29</td>\n",
       "      <td>71</td>\n",
       "      <td>HP_0010239</td>\n",
       "      <td>absence of some middle or distal phalanges</td>\n",
       "      <td>A syndrome of brachydactyly (absence of some m...</td>\n",
       "    </tr>\n",
       "    <tr>\n",
       "      <th>3</th>\n",
       "      <td>3</td>\n",
       "      <td>0</td>\n",
       "      <td>74</td>\n",
       "      <td>103</td>\n",
       "      <td>HP_0001798</td>\n",
       "      <td>aplastic or hypoplastic nails</td>\n",
       "      <td>A syndrome of brachydactyly (absence of some m...</td>\n",
       "    </tr>\n",
       "    <tr>\n",
       "      <th>4</th>\n",
       "      <td>4</td>\n",
       "      <td>0</td>\n",
       "      <td>86</td>\n",
       "      <td>103</td>\n",
       "      <td>HP_0001792</td>\n",
       "      <td>hypoplastic nails</td>\n",
       "      <td>A syndrome of brachydactyly (absence of some m...</td>\n",
       "    </tr>\n",
       "  </tbody>\n",
       "</table>\n",
       "</div>"
      ],
      "text/plain": [
       "   entID  docID  start  end         hpo  \\\n",
       "0      0      0     14   27  HP_0001156   \n",
       "1      1      0     29   71  HP_0009881   \n",
       "2      2      0     29   71  HP_0010239   \n",
       "3      3      0     74  103  HP_0001798   \n",
       "4      4      0     86  103  HP_0001792   \n",
       "\n",
       "                                       entity  \\\n",
       "0                               brachydactyly   \n",
       "1  absence of some middle or distal phalanges   \n",
       "2  absence of some middle or distal phalanges   \n",
       "3               aplastic or hypoplastic nails   \n",
       "4                           hypoplastic nails   \n",
       "\n",
       "                                                text  \n",
       "0  A syndrome of brachydactyly (absence of some m...  \n",
       "1  A syndrome of brachydactyly (absence of some m...  \n",
       "2  A syndrome of brachydactyly (absence of some m...  \n",
       "3  A syndrome of brachydactyly (absence of some m...  \n",
       "4  A syndrome of brachydactyly (absence of some m...  "
      ]
     },
     "execution_count": 37,
     "metadata": {},
     "output_type": "execute_result"
    }
   ],
   "source": [
    "df_valid.head()"
   ]
  },
  {
   "cell_type": "code",
   "execution_count": null,
   "metadata": {},
   "outputs": [],
   "source": []
  }
 ],
 "metadata": {
  "kernelspec": {
   "display_name": "my_env",
   "language": "python",
   "name": "my_env"
  },
  "language_info": {
   "codemirror_mode": {
    "name": "ipython",
    "version": 3
   },
   "file_extension": ".py",
   "mimetype": "text/x-python",
   "name": "python",
   "nbconvert_exporter": "python",
   "pygments_lexer": "ipython3",
   "version": "3.6.10"
  }
 },
 "nbformat": 4,
 "nbformat_minor": 4
}
