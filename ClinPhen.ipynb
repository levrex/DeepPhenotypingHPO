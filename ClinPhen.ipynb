{
 "cells": [
  {
   "cell_type": "code",
   "execution_count": null,
   "metadata": {},
   "outputs": [],
   "source": [
    "# C:/Users/levrex/Anaconda3/envs/my_env/Scripts/clinphen.py"
   ]
  },
  {
   "cell_type": "code",
   "execution_count": 3,
   "metadata": {},
   "outputs": [
    {
     "name": "stderr",
     "output_type": "stream",
     "text": [
      "Het systeem kan het opgegeven pad niet vinden.\n",
      "Traceback (most recent call last):\n",
      "  File \"C:\\Users\\levrex\\Anaconda3\\envs\\my_env\\Scripts\\clinphen.py\", line 61, in <module>\n",
      "    print(main(args.recordfile, custom_thesaurus, args.rare))\n",
      "  File \"C:\\Users\\levrex\\Anaconda3\\envs\\my_env\\Scripts\\clinphen.py\", line 27, in main\n",
      "    hpo_to_name = getNames()\n",
      "  File \"C:\\Users\\levrex\\Anaconda3\\envs\\my_env\\Scripts\\clinphen.py\", line 23, in getNames\n",
      "    for line in open(hpo_main_names):\n",
      "FileNotFoundError: [Errno 2] No such file or directory: 'C:\\\\Users\\\\levrex\\\\Desktop\\\\DeepPhenotypingHPO/data/hpo_term_names.txt'\n"
     ]
    }
   ],
   "source": [
    "!C:/Users/levrex/Anaconda3/envs/my_env/Scripts/clinphen.py ClinPhen/example_data.txt > ClinPhen/output_data.txt "
   ]
  },
  {
   "cell_type": "code",
   "execution_count": null,
   "metadata": {},
   "outputs": [],
   "source": []
  }
 ],
 "metadata": {
  "kernelspec": {
   "display_name": "my_env",
   "language": "python",
   "name": "my_env"
  },
  "language_info": {
   "codemirror_mode": {
    "name": "ipython",
    "version": 3
   },
   "file_extension": ".py",
   "mimetype": "text/x-python",
   "name": "python",
   "nbconvert_exporter": "python",
   "pygments_lexer": "ipython3",
   "version": "3.6.10"
  }
 },
 "nbformat": 4,
 "nbformat_minor": 4
}
