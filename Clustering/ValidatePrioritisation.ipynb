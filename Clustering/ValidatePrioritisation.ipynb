{
 "cells": [
  {
   "cell_type": "markdown",
   "metadata": {},
   "source": [
    "## Prioritize by information content"
   ]
  },
  {
   "cell_type": "code",
   "execution_count": 3,
   "metadata": {},
   "outputs": [],
   "source": [
    "import os\n",
    "from phenopy.d2p import load as load_d2p\n",
    "from phenopy.util import generate_alternate_ids\n",
    "from phenopy import generate_annotated_hpo_network\n",
    "\n",
    "\n",
    "# data directory\n",
    "phenopy_data_directory = os.path.join(os.getenv('HOMEPATH'), '.phenopy\\\\data')\n",
    "\n",
    "# files used in building the annotated HPO network\n",
    "obo_file = os.path.join(phenopy_data_directory, 'hp.obo')\n",
    "disease_to_phenotype_file = os.path.join(phenopy_data_directory, 'phenotype.hpoa')\n",
    "\n",
    "\n",
    "hpo_network, alt2prim, disease_records = \\\n",
    "    generate_annotated_hpo_network(obo_file,\n",
    "                                   disease_to_phenotype_file,\n",
    "                                   #ages_distribution_file=ages_distribution_file\n",
    "                                   )\n",
    "\n",
    "#alt2prim = generate_alternate_ids(hpo_network)\n",
    "# load phenotypes to diseases associations\n",
    "\n",
    "\n",
    "\n"
   ]
  },
  {
   "cell_type": "code",
   "execution_count": null,
   "metadata": {},
   "outputs": [],
   "source": [
    "from phenopy.ic import calculate_information_content\n",
    "from phenopy.d2p import load as load_d2p\n",
    "\n",
    "def calculateIC(hpo_network, n_anno):\n",
    "    (disease_records,phenotype_to_diseases,) = load_d2p(disease_to_phenotype_file, hpo_network, alt2prim, )\n",
    "\n",
    "    custom_annos = []\n",
    "    for node_id, data in hpo_network.nodes(data=True):\n",
    "            # annotate with information content value\n",
    "            hpo_network.nodes[node_id]['ic'] = calculate_information_content(\n",
    "                node_id,\n",
    "                hpo_network,\n",
    "                phenotype_to_diseases,\n",
    "                n_anno,\n",
    "                custom_annos,\n",
    "            )\n",
    "    return hpo_network\n",
    "\n",
    "hpo_network = calculateIC(hpo_network, len(disease_records))\n",
    "#print(hpo_network.nodes.keys())\n"
   ]
  },
  {
   "cell_type": "markdown",
   "metadata": {},
   "source": [
    "### calculate information content for code"
   ]
  },
  {
   "cell_type": "code",
   "execution_count": 22,
   "metadata": {},
   "outputs": [
    {
     "name": "stdout",
     "output_type": "stream",
     "text": [
      "8.945071894361302\n"
     ]
    }
   ],
   "source": [
    "hpo_code = 'HP:0410176' # Abnormal glucose-6-phosphate dehydrogenase level HP:0410188\n",
    "\n",
    "node_ic = hpo_network.nodes[hpo_code]['ic']\n",
    "print(node_ic) # depth = 5"
   ]
  },
  {
   "cell_type": "code",
   "execution_count": 20,
   "metadata": {},
   "outputs": [
    {
     "name": "stdout",
     "output_type": "stream",
     "text": [
      "4.472535947180651\n"
     ]
    }
   ],
   "source": [
    "hpo_code = 'HP:0000118' # phenotypic abnormality\n",
    "\n",
    "node_ic = hpo_network.nodes[hpo_code]['ic']\n",
    "print(node_ic) # depth = 1"
   ]
  },
  {
   "cell_type": "code",
   "execution_count": null,
   "metadata": {},
   "outputs": [],
   "source": []
  },
  {
   "cell_type": "code",
   "execution_count": 21,
   "metadata": {},
   "outputs": [
    {
     "data": {
      "text/plain": [
       "{'name': 'Phenotypic abnormality',\n",
       " 'def': '\"A phenotypic abnormality.\" [HPO:probinson]',\n",
       " 'comment': 'This is the root of the phenotypic abnormality subontology of the HPO.',\n",
       " 'synonym': ['\"Organ abnormality\" EXACT []'],\n",
       " 'xref': ['UMLS:C4021819'],\n",
       " 'is_a': ['HP:0000001'],\n",
       " 'ic': 4.472535947180651,\n",
       " 'disease_weights': {},\n",
       " 'depth': 1,\n",
       " 'synonyms': ['Organ abnormality']}"
      ]
     },
     "execution_count": 21,
     "metadata": {},
     "output_type": "execute_result"
    }
   ],
   "source": [
    "hpo_network.nodes[hpo_code]"
   ]
  }
 ],
 "metadata": {
  "kernelspec": {
   "display_name": "my_env",
   "language": "python",
   "name": "my_env"
  },
  "language_info": {
   "codemirror_mode": {
    "name": "ipython",
    "version": 3
   },
   "file_extension": ".py",
   "mimetype": "text/x-python",
   "name": "python",
   "nbconvert_exporter": "python",
   "pygments_lexer": "ipython3",
   "version": "3.6.10"
  }
 },
 "nbformat": 4,
 "nbformat_minor": 4
}
