{
 "cells": [
  {
   "cell_type": "code",
   "execution_count": 1,
   "metadata": {},
   "outputs": [],
   "source": [
    "import networkx\n",
    "import obonet\n",
    "import pandas as pd"
   ]
  },
  {
   "cell_type": "code",
   "execution_count": 2,
   "metadata": {},
   "outputs": [],
   "source": [
    "#import os\n",
    "#os.chdir('c:\\\\Users\\\\levrex\\\\Desktop\\\\DeepPhenotypingHPO')"
   ]
  },
  {
   "cell_type": "markdown",
   "metadata": {},
   "source": [
    "## Convert OBO to rules for spacy matcher"
   ]
  },
  {
   "cell_type": "code",
   "execution_count": 4,
   "metadata": {},
   "outputs": [
    {
     "name": "stdout",
     "output_type": "stream",
     "text": [
      "Wall time: 2.79 s\n"
     ]
    }
   ],
   "source": [
    "%%time\n",
    "url = 'phenopy_mod/.phenopy/data/hp.obo'\n",
    "graph = obonet.read_obo(url)\n",
    "\n",
    "id_to_name = {id_: data.get('name') for id_, data in graph.nodes(data=True)}\n",
    "name_to_id = {data['name']: id_ for id_, data in graph.nodes(data=True) if 'name' in data}"
   ]
  },
  {
   "cell_type": "code",
   "execution_count": 19,
   "metadata": {},
   "outputs": [],
   "source": [
    "import spacy\n",
    "from spacy import displacy\n",
    "from spacy.matcher import Matcher\n",
    "from scispacy.abbreviation import AbbreviationDetector\n",
    "\n",
    "nlp = spacy.load(\"en_core_sci_sm\")\n",
    "\n",
    "doc = nlp(\"Hello, world! Hello world!\")\n"
   ]
  },
  {
   "cell_type": "code",
   "execution_count": 38,
   "metadata": {},
   "outputs": [
    {
     "data": {
      "text/plain": [
       "'Contiguous gene syndrome'"
      ]
     },
     "execution_count": 38,
     "metadata": {},
     "output_type": "execute_result"
    }
   ],
   "source": [
    "id_to_name['HP:0001466']"
   ]
  },
  {
   "cell_type": "markdown",
   "metadata": {},
   "source": [
    "## Expand list of phenotypes with OBO"
   ]
  },
  {
   "cell_type": "code",
   "execution_count": 26,
   "metadata": {},
   "outputs": [
    {
     "name": "stdout",
     "output_type": "stream",
     "text": [
      "49034\n"
     ]
    }
   ],
   "source": [
    "f_syn = open('phenopy_mod/.phenopy/data/new_hpo_synonyms.txt', \"r\")\n",
    "content = f_syn.read()\n",
    "l_syn = content.split(\"\\n\")\n",
    "f_syn.close()\n",
    "print(len(l_syn))"
   ]
  },
  {
   "cell_type": "code",
   "execution_count": 29,
   "metadata": {},
   "outputs": [
    {
     "data": {
      "text/plain": [
       "'HP:0003566\\te2 increased prostaglandin serum'"
      ]
     },
     "execution_count": 29,
     "metadata": {},
     "output_type": "execute_result"
    }
   ],
   "source": [
    "l_syn[1]"
   ]
  },
  {
   "cell_type": "code",
   "execution_count": 31,
   "metadata": {},
   "outputs": [
    {
     "data": {
      "text/plain": [
       "'HP:3000075\\tAbnormality of lingual nerve'"
      ]
     },
     "execution_count": 31,
     "metadata": {},
     "output_type": "execute_result"
    }
   ],
   "source": [
    "l_syn[-4]"
   ]
  },
  {
   "cell_type": "code",
   "execution_count": 22,
   "metadata": {},
   "outputs": [
    {
     "name": "stdout",
     "output_type": "stream",
     "text": [
      "29426\n"
     ]
    }
   ],
   "source": [
    "f_syn = open(\"phenopy_mod/.phenopy/data/hpo_synonyms.txt\", \"r\")\n",
    "content = f_syn.read()\n",
    "l_syn = content.split(\"\\n\")\n",
    "f_syn.close()\n",
    "print(len(l_syn))"
   ]
  },
  {
   "cell_type": "code",
   "execution_count": 37,
   "metadata": {},
   "outputs": [
    {
     "name": "stdout",
     "output_type": "stream",
     "text": [
      "['']\n",
      "\n",
      "29425\n"
     ]
    }
   ],
   "source": [
    "cnt = 0\n",
    "for i in l_syn:\n",
    "    line = i.split('\\t')\n",
    "    if len(line) < 2:\n",
    "        print(line)\n",
    "        print(line[0])\n",
    "        print(cnt)\n",
    "    cnt += 1"
   ]
  },
  {
   "cell_type": "code",
   "execution_count": 23,
   "metadata": {},
   "outputs": [
    {
     "name": "stdout",
     "output_type": "stream",
     "text": [
      "19633\n"
     ]
    }
   ],
   "source": [
    "#graph\n",
    "l_synonyms_new = []\n",
    "for id_, data in graph.nodes(data=True):\n",
    "    #print(name_to_id[data.get('name')])\n",
    "    #hpo = \n",
    "    if 'synonym' in graph.nodes[id_]:\n",
    "        for i in graph.nodes[id_]['synonym']:\n",
    "            syn = i.split('\"')[1]\n",
    "            l_synonyms_new.append(str(name_to_id[data.get('name')]) + '\\t' + syn)\n",
    "print(len(l_synonyms_new))"
   ]
  },
  {
   "cell_type": "code",
   "execution_count": 24,
   "metadata": {},
   "outputs": [
    {
     "name": "stdout",
     "output_type": "stream",
     "text": [
      "29426\n",
      "49034\n"
     ]
    }
   ],
   "source": [
    "print(len(l_syn))\n",
    "for syn in l_synonyms_new:\n",
    "    if syn not in l_syn:\n",
    "        l_syn.append(syn)\n",
    "print(len(l_syn))"
   ]
  },
  {
   "cell_type": "code",
   "execution_count": 25,
   "metadata": {},
   "outputs": [],
   "source": [
    "with open(\"phenopy_mod/.phenopy/data/new_hpo_synonyms.txt\" , 'w') as f:\n",
    "    f.write('\\n'.join(l_syn))\n",
    "    "
   ]
  },
  {
   "cell_type": "code",
   "execution_count": 7,
   "metadata": {},
   "outputs": [
    {
     "ename": "NameError",
     "evalue": "name 'Matcher' is not defined",
     "output_type": "error",
     "traceback": [
      "\u001b[1;31m---------------------------------------------------------------------------\u001b[0m",
      "\u001b[1;31mNameError\u001b[0m                                 Traceback (most recent call last)",
      "\u001b[1;32m<ipython-input-7-f36e2d069df7>\u001b[0m in \u001b[0;36m<module>\u001b[1;34m\u001b[0m\n\u001b[0;32m    133\u001b[0m         \u001b[1;32mreturn\u001b[0m\u001b[1;33m\u001b[0m\u001b[1;33m\u001b[0m\u001b[0m\n\u001b[0;32m    134\u001b[0m \u001b[1;33m\u001b[0m\u001b[0m\n\u001b[1;32m--> 135\u001b[1;33m \u001b[0mmatcher\u001b[0m \u001b[1;33m=\u001b[0m \u001b[0mMatcher\u001b[0m\u001b[1;33m(\u001b[0m\u001b[0mnlp\u001b[0m\u001b[1;33m.\u001b[0m\u001b[0mvocab\u001b[0m\u001b[1;33m)\u001b[0m\u001b[1;33m\u001b[0m\u001b[1;33m\u001b[0m\u001b[0m\n\u001b[0m\u001b[0;32m    136\u001b[0m \u001b[0mhp\u001b[0m \u001b[1;33m=\u001b[0m \u001b[0mAnnotateHPO\u001b[0m\u001b[1;33m(\u001b[0m\u001b[0mmatcher\u001b[0m\u001b[1;33m)\u001b[0m\u001b[1;33m\u001b[0m\u001b[1;33m\u001b[0m\u001b[0m\n\u001b[0;32m    137\u001b[0m \u001b[0mhp\u001b[0m\u001b[1;33m.\u001b[0m\u001b[0maddPatterns\u001b[0m\u001b[1;33m(\u001b[0m\u001b[0mgraph\u001b[0m\u001b[1;33m)\u001b[0m\u001b[1;33m\u001b[0m\u001b[1;33m\u001b[0m\u001b[0m\n",
      "\u001b[1;31mNameError\u001b[0m: name 'Matcher' is not defined"
     ]
    }
   ],
   "source": [
    "import ast \n",
    "\n",
    "class AnnotateHPO(object):\n",
    "    def __init__(self, matcher):\n",
    "        self.matcher = matcher\n",
    "        self.matched_sents = [] \n",
    "        self.matched_hpo = []\n",
    "        self.matched_def = []\n",
    "    \n",
    "    def setMatcher(self, matcher):\n",
    "        self.matcher = matcher\n",
    "        \n",
    "    def simpleCleaning(self, sentence): \n",
    "        \"\"\"\n",
    "        Remove special characters that are not relevant to \n",
    "        the interpretation of the text\n",
    "\n",
    "        Input:\n",
    "            sentence = free written text from EHR record\n",
    "            lemma = lemmatize the text\n",
    "        Output :\n",
    "            processed sentence (lemmatized depending on preference)\n",
    "        \"\"\"\n",
    "        sticky_chars = r'([!#,.:\";@\\-\\+\\\\/&=$\\]\\[<>\\'^\\*`\\(\\)])'\n",
    "        sentence = re.sub(sticky_chars, r' ', sentence)\n",
    "        sentence = sentence.lower()\n",
    "        return sentence\n",
    "        \n",
    "    def collect_sents(self, matcher, doc, i, matches):\n",
    "        match_id, start, end = matches[i]\n",
    "        print(match_id, i)\n",
    "        hpo_id = doc.vocab.strings[match_id]\n",
    "        span = doc[start:end]\n",
    "        sent = span.sent\n",
    "        start = span.start_char - sent.start_char\n",
    "        end = span.end_char - sent.start_char\n",
    "        match_ents = [{\n",
    "            \"start\": start,\n",
    "            \"end\": end,\n",
    "            \"label\": \"HP\",\n",
    "        }]\n",
    "        self.matched_sents.append({\"text\": sent.text, \"ents\": match_ents})\n",
    "        self.matched_hpo.append(hpo_id)\n",
    "        self.matched_def.append(sent.text[start:end])\n",
    "    \n",
    "    def addPatterns(self, graph):\n",
    "        count = 0\n",
    "        pat_list = []\n",
    "        for id_, data in graph.nodes(data=True):\n",
    "            count += 1\n",
    "            name = data.get('name').split(' ')\n",
    "            if len(name) < 3:\n",
    "                pattern = [ast.literal_eval('{\"ORTH\": \"' + str(i.lower()) +'\"}') for i in name]\n",
    "                self.matcher.add(name_to_id[data.get('name')], self.collect_sents, pattern)\n",
    "                pat_list.append(pattern)\n",
    "            else :\n",
    "                for x in range(2,len(name)+1):\n",
    "                    #name = data.get('name').split(' ')[]\n",
    "                    pattern = [ast.literal_eval('{\"ORTH\": \"' + str(i.lower()) +'\"}') for i in name[:x]]\n",
    "                    if pattern not in pat_list:\n",
    "                        self.matcher.add(name_to_id[data.get('name')], self.collect_sents, pattern)\n",
    "                        pat_list.append(pattern)\n",
    "                    if data.get('name') == 'Focal white matter lesions':\n",
    "                        print(pattern)\n",
    "                for i in range(len(name)):\n",
    "                    l_cond = name.copy()\n",
    "                    l_cond.pop(i)\n",
    "                    pattern = [ast.literal_eval('{\"ORTH\": \"' + str(i.lower()) +'\"}') for i in l_cond]\n",
    "                    if pattern not in pat_list:\n",
    "                        pat_list.append(pattern)\n",
    "                        self.matcher.add(name_to_id[data.get('name')], self.collect_sents, pattern)\n",
    "                    #if data.get('name') == 'Focal white matter lesions':\n",
    "                    #    print(l_cond)\n",
    "                    #    print(pattern)\n",
    "            #if count > 5:\n",
    "            #    break\n",
    "            if 'synonym' in graph.nodes[id_]:\n",
    "                for i in graph.nodes[id_]['synonym']: # append\n",
    "                    pattern = [ast.literal_eval('{\"ORTH\": \"' + str(i.lower()) +'\"}') for i in i.split('\"')[1].split(' ')]\n",
    "                    self.matcher.add(name_to_id[data.get('name')], self.collect_sents, pattern)\n",
    "                    syn = i.split('\"')[1].split(' ')\n",
    "                    if len(syn) > 2:\n",
    "                        for i in range(len(syn)):\n",
    "                            l_cond = syn.copy()\n",
    "                            l_cond.pop(i)\n",
    "                            pattern = [ast.literal_eval('{\"ORTH\": \"' + str(i.lower()) +'\"}') for i in l_cond]\n",
    "                            if pattern not in pat_list:\n",
    "                                pat_list.append(pattern)\n",
    "                                self.matcher.add(name_to_id[data.get('name')], self.collect_sents, pattern)\n",
    "                    \n",
    "    def employ(self, text):\n",
    "        self.matched_sents = [] \n",
    "        self.matched_hpo = []\n",
    "        doc = nlp(text.lower())\n",
    "        matches = self.matcher(doc)\n",
    "        #print(self.matched_hpo)\n",
    "        return matches\n",
    "    \n",
    "    def prune(self):\n",
    "        remove_list = []\n",
    "        #removed_ent = []\n",
    "        x = 0\n",
    "        for i in self.matched_sents: \n",
    "            i_start = i['ents'][0]['start']\n",
    "            i_end = i['ents'][0]['end']\n",
    "            i_length = i_end - i_start\n",
    "            ix = 0\n",
    "            for j in self.matched_sents:\n",
    "                if i['text'] == j['text']:\n",
    "                    j_start = j['ents'][0]['start']\n",
    "                    j_end = j['ents'][0]['end']\n",
    "                    j_length = j_end - j_start\n",
    "                    if j not in remove_list and j_length < i_length: # don't do duplicates (not very clean)\n",
    "                        if j_start <= i_start and j_end >= i_start:\n",
    "                            remove_list.append(ix)\n",
    "                            #removed_ent.append(j)\n",
    "                        elif j_start <= i_end and j_end >= i_end:\n",
    "                            remove_list.append(ix)\n",
    "                            #removed_ent.append(j)\n",
    "                        elif j_start >= i_start and j_end <= i_end:\n",
    "                            remove_list.append(ix)\n",
    "                            #removed_ent.append(j)\n",
    "                    elif j == i and ix != x and ix not in remove_list and x not in remove_list:\n",
    "                        #if j not in removed_ent and i not in removed_ent: # remove latter\n",
    "                        remove_list.append(ix)\n",
    "                        #removed_ent.append(j)\n",
    "                ix += 1\n",
    "            x += 1\n",
    "        #print(remove_list)\n",
    "        self.matched_sents = [i for j, i in enumerate(self.matched_sents) if j not in remove_list]\n",
    "        self.matched_hpo = [i for j, i in enumerate(self.matched_hpo) if j not in remove_list]\n",
    "        self.matched_def = [i for j, i in enumerate(self.matched_def) if j not in remove_list]\n",
    "        return\n",
    "        \n",
    "matcher = Matcher(nlp.vocab)\n",
    "hp = AnnotateHPO(matcher)\n",
    "hp.addPatterns(graph)\n",
    "print(len(hp.matcher))\n"
   ]
  },
  {
   "cell_type": "code",
   "execution_count": 256,
   "metadata": {},
   "outputs": [
    {
     "name": "stdout",
     "output_type": "stream",
     "text": [
      "0 0\n"
     ]
    }
   ],
   "source": [
    "print(len(hp.matched_hpo), len(hp.matched_def))"
   ]
  },
  {
   "cell_type": "code",
   "execution_count": 257,
   "metadata": {},
   "outputs": [],
   "source": [
    "for i in range(len(hp.matched_def)-1):  \n",
    "    print(hp.matched_def[i], hp.matched_hpo[i])"
   ]
  },
  {
   "cell_type": "code",
   "execution_count": 56,
   "metadata": {},
   "outputs": [
    {
     "data": {
      "text/plain": [
       "'C1839764'"
      ]
     },
     "execution_count": 56,
     "metadata": {},
     "output_type": "execute_result"
    }
   ],
   "source": [
    "hpo_to_umls['HP:0000431']"
   ]
  },
  {
   "cell_type": "code",
   "execution_count": 9,
   "metadata": {},
   "outputs": [],
   "source": [
    "def getUMLS(data):\n",
    "    umls = 'NaN'\n",
    "    for item in data:\n",
    "        if ':' in item:\n",
    "            key, val = item.split(\":\", 1)\n",
    "            if key == 'UMLS': \n",
    "                umls = val\n",
    "                break\n",
    "    return umls\n",
    "\n",
    "def HPO_to_UMLS(graph):\n",
    "    hpo_to_umls = {}\n",
    "    for hpo in graph.nodes.keys():\n",
    "        try : \n",
    "            data = graph.nodes[hpo]['xref']\n",
    "            \n",
    "        except :\n",
    "            data = 'UMLS: NaN'\n",
    "        hpo_to_umls[hpo] = getUMLS(data)\n",
    "        umls_to_hpo = {v: k for k, v in hpo_to_umls.items()}\n",
    "    return hpo_to_umls, umls_to_hpo\n",
    "\n",
    "hpo_to_umls, umls_to_hpo = HPO_to_UMLS(graph)"
   ]
  },
  {
   "cell_type": "code",
   "execution_count": null,
   "metadata": {},
   "outputs": [],
   "source": []
  },
  {
   "cell_type": "code",
   "execution_count": 346,
   "metadata": {},
   "outputs": [],
   "source": [
    "import ast\n",
    "\n",
    "matched_sents = []  # Collect data of matched sentences to be visualized\n",
    "matched_hpo = []\n",
    "\n",
    "def collect_sents(matcher, doc, i, matches):\n",
    "    match_id, start, end = matches[i]\n",
    "    hpo_id = doc.vocab.strings[match_id]\n",
    "    span = doc[start:end]\n",
    "    sent = span.sent\n",
    "    match_ents = [{\n",
    "        \"start\": span.start_char - sent.start_char,\n",
    "        \"end\": span.end_char - sent.start_char,\n",
    "        \"label\": \"HP\",\n",
    "    }]\n",
    "    matched_sents.append({\"text\": sent.text, \"ents\": match_ents})\n",
    "    matched_hpo.append(hpo_id)\n",
    "    return \n",
    "    \n",
    "count = 0\n",
    "\n",
    "## ALl HPO terms\n",
    "for id_, data in graph.nodes(data=True):\n",
    "    count += 1\n",
    "    pattern = [ast.literal_eval('{\"ORTH\": \"' + str(i.lower()) +'\"}') for i in data.get('name').split(' ')]\n",
    "    matcher.add(name_to_id[data.get('name')], collect_sents, pattern)\n",
    "    if 'synonym' in graph.nodes[id_]:\n",
    "        for i in graph.nodes[id_]['synonym']: # append\n",
    "            pattern = [ast.literal_eval('{\"ORTH\": \"' + str(i.lower()) +'\"}') for i in i.split('\"')[1].split(' ')]\n",
    "            matcher.add(name_to_id[data.get('name')], collect_sents, pattern)\n",
    "\n",
    "# Low precision remove certain ambiguious synonyms like layman?\n",
    "## All synonyms \n"
   ]
  },
  {
   "cell_type": "code",
   "execution_count": 289,
   "metadata": {},
   "outputs": [],
   "source": [
    "import pickle\n",
    "pickle.dump(hp, open('phenopy_mod/.phenopy/Matcher/hpo_matcher.p', \"wb\" ) )"
   ]
  },
  {
   "cell_type": "code",
   "execution_count": 285,
   "metadata": {},
   "outputs": [],
   "source": [
    "hp = pickle.load(open('phenopy_mod/.phenopy/Matcher/hpo_matcher.p', \"rb\" ))"
   ]
  },
  {
   "cell_type": "code",
   "execution_count": 287,
   "metadata": {},
   "outputs": [],
   "source": [
    "#hp.matched_def"
   ]
  },
  {
   "cell_type": "markdown",
   "metadata": {},
   "source": [
    "### Employ HPO on sample text"
   ]
  },
  {
   "cell_type": "code",
   "execution_count": 288,
   "metadata": {},
   "outputs": [],
   "source": [
    "hp.matched_sents = [] \n",
    "hp.matched_hpo = []\n",
    "hp.matched_def = []"
   ]
  },
  {
   "cell_type": "code",
   "execution_count": 290,
   "metadata": {},
   "outputs": [
    {
     "name": "stdout",
     "output_type": "stream",
     "text": [
      "5471357220611380921 0\n",
      "4581928552930701085 1\n",
      "4581928552930701085 2\n",
      "4581928552930701085 3\n",
      "4628039181647357534 4\n",
      "945515856306630882 5\n",
      "4261437138745829640 6\n",
      "16949990724671758082 7\n",
      "16949990724671758082 8\n",
      "16152484463225494763 9\n",
      "3995578825471680814 10\n",
      "4628039181647357534 11\n",
      "98212013394016508 12\n",
      "8723878000737723424 13\n",
      "293286804905931729 14\n",
      "694094419883236909 15\n",
      "6201834650144109961 16\n",
      "166996708915989520 17\n",
      "11793750258293291190 18\n",
      "2821148264986309643 19\n",
      "10705396737648612811 20\n",
      "10705396737648612811 21\n",
      "14578597842821536426 22\n",
      "7481548655740655293 23\n",
      "10818950140088686257 24\n",
      "4368486485002224386 25\n",
      "12740591186763247024 26\n",
      "17751985521904005566 27\n",
      "18305696374267983467 28\n",
      "13574998172678904960 29\n",
      "13302105373301662617 30\n",
      "16574072320878246487 31\n",
      "11040745532205498480 32\n",
      "13141466298718664497 33\n",
      "11040745532205498480 34\n",
      "18266677547006962631 35\n",
      "6652361103653626040 36\n",
      "12053815203365963164 37\n",
      "13770341375261184734 38\n",
      "13434604808808148181 39\n",
      "11213222984457915974 40\n",
      "9239268030539539711 41\n",
      "16949990724671758082 42\n",
      "16949990724671758082 43\n",
      "16152484463225494763 44\n",
      "11253809124123223242 45\n",
      "14085268610131603970 46\n",
      "14085268610131603970 47\n",
      "14085268610131603970 48\n",
      "1709421823899811328 49\n",
      "14600593820367745189 50\n",
      "18406462590681817634 51\n",
      "18406462590681817634 52\n",
      "8365202600514049661 53\n",
      "8365202600514049661 54\n",
      "8365202600514049661 55\n",
      "990980781954066009 56\n",
      "1212315827203546359 57\n",
      "11149315827313204884 58\n",
      "1245018027206776997 59\n",
      "13223615461345687255 60\n",
      "16025805282163130657 61\n",
      "7534428465027601780 62\n",
      "1055485822481363163 63\n",
      "101813882315816345 64\n",
      "9937985302866147244 65\n",
      "691615963300637804 66\n",
      "1105985070856613486 67\n",
      "1105985070856613486 68\n",
      "7397746273746535308 69\n",
      "6986795007942760712 70\n",
      "1752216034439897034 71\n",
      "5702049285770817207 72\n",
      "16989722773497192791 73\n",
      "2821148264986309643 74\n",
      "18294883269860056671 75\n",
      "5062298102113117028 76\n",
      "6711496403645638113 77\n",
      "16279323307387845266 78\n",
      "6663794535489081278 79\n",
      "8342810590054598660 80\n",
      "16212031509081611953 81\n",
      "14147830188406843675 82\n",
      "16508192861100933808 83\n",
      "13668586476448779575 84\n",
      "17400430016017500486 85\n",
      "15608843434522650401 86\n",
      "10988717627215770710 87\n",
      "7301345946263859622 88\n",
      "7301345946263859622 89\n",
      "1739616089956071169 90\n",
      "1739616089956071169 91\n",
      "17309312923231646794 92\n",
      "16410924439883958946 93\n",
      "16410924439883958946 94\n",
      "4978984513915663990 95\n",
      "4978984513915663990 96\n",
      "4978984513915663990 97\n",
      "4978984513915663990 98\n",
      "2530774045321479604 99\n",
      "2530774045321479604 100\n",
      "2530774045321479604 101\n",
      "849750355842819147 102\n",
      "13177368955555968755 103\n",
      "16095253480980209383 104\n",
      "16964817589372350704 105\n",
      "5105760014715789641 106\n",
      "5105760014715789641 107\n",
      "16029788297156002977 108\n",
      "5015911153545112416 109\n",
      "17987720977185271991 110\n",
      "17406174041140816237 111\n",
      "17987720977185271991 112\n",
      "17406174041140816237 113\n",
      "9317001974969499024 114\n",
      "17168306528546022503 115\n",
      "8385110500644949272 116\n",
      "16152484463225494763 117\n",
      "16152484463225494763 118\n",
      "16152484463225494763 119\n",
      "7534428465027601780 120\n",
      "7534428465027601780 121\n",
      "37776661553098970 122\n",
      "11010686432120500740 123\n",
      "1892533682284577476 124\n",
      "1892533682284577476 125\n",
      "37776661553098970 126\n",
      "13403075362371964932 127\n",
      "15193587476313257995 128\n",
      "15193587476313257995 129\n",
      "11644782438034189448 130\n",
      "7894403041126628250 131\n",
      "17987720977185271991 132\n",
      "17987720977185271991 133\n",
      "17987720977185271991 134\n",
      "1526203333666910859 135\n",
      "16734330317014547290 136\n",
      "7894403041126628250 137\n",
      "14492345106995479242 138\n",
      "4553018080583663465 139\n",
      "9927882348560866524 140\n",
      "14561283310091922358 141\n",
      "4205843370583033192 142\n",
      "14557633847318572571 143\n",
      "13190958978802427490 144\n",
      "8954212962452151903 145\n",
      "9188640240659873803 146\n",
      "10114248836756866667 147\n",
      "15881516562713769124 148\n",
      "12440369481063733705 149\n",
      "5939395664625485086 150\n",
      "2475980137666888739 151\n",
      "4985389068337650324 152\n",
      "5066080263516476432 153\n",
      "5066080263516476432 154\n",
      "5066080263516476432 155\n"
     ]
    },
    {
     "data": {
      "text/plain": [
       "[(5471357220611380921, 3, 4),\n",
       " (4581928552930701085, 2, 5),\n",
       " (4581928552930701085, 2, 6),\n",
       " (4581928552930701085, 3, 6),\n",
       " (4628039181647357534, 4, 6),\n",
       " (945515856306630882, 6, 8),\n",
       " (4261437138745829640, 6, 8),\n",
       " (16949990724671758082, 9, 11),\n",
       " (16949990724671758082, 9, 12),\n",
       " (16152484463225494763, 10, 12),\n",
       " (3995578825471680814, 13, 14),\n",
       " (4628039181647357534, 15, 17),\n",
       " (98212013394016508, 20, 22),\n",
       " (8723878000737723424, 25, 27),\n",
       " (293286804905931729, 27, 29),\n",
       " (694094419883236909, 30, 31),\n",
       " (6201834650144109961, 32, 33),\n",
       " (166996708915989520, 34, 35),\n",
       " (11793750258293291190, 36, 37),\n",
       " (2821148264986309643, 38, 40),\n",
       " (10705396737648612811, 38, 41),\n",
       " (10705396737648612811, 39, 41),\n",
       " (14578597842821536426, 41, 42),\n",
       " (7481548655740655293, 43, 45),\n",
       " (10818950140088686257, 43, 45),\n",
       " (4368486485002224386, 44, 45),\n",
       " (12740591186763247024, 45, 46),\n",
       " (17751985521904005566, 46, 47),\n",
       " (18305696374267983467, 48, 49),\n",
       " (13574998172678904960, 57, 59),\n",
       " (13302105373301662617, 57, 59),\n",
       " (16574072320878246487, 60, 62),\n",
       " (11040745532205498480, 60, 63),\n",
       " (13141466298718664497, 60, 63),\n",
       " (11040745532205498480, 61, 63),\n",
       " (18266677547006962631, 64, 65),\n",
       " (6652361103653626040, 66, 68),\n",
       " (12053815203365963164, 66, 69),\n",
       " (13770341375261184734, 70, 72),\n",
       " (13434604808808148181, 72, 73),\n",
       " (11213222984457915974, 74, 76),\n",
       " (9239268030539539711, 76, 78),\n",
       " (16949990724671758082, 80, 82),\n",
       " (16949990724671758082, 80, 83),\n",
       " (16152484463225494763, 81, 83),\n",
       " (11253809124123223242, 85, 87),\n",
       " (14085268610131603970, 87, 89),\n",
       " (14085268610131603970, 87, 90),\n",
       " (14085268610131603970, 88, 90),\n",
       " (1709421823899811328, 90, 92),\n",
       " (14600593820367745189, 90, 92),\n",
       " (18406462590681817634, 92, 94),\n",
       " (18406462590681817634, 94, 95),\n",
       " (8365202600514049661, 101, 103),\n",
       " (8365202600514049661, 101, 104),\n",
       " (8365202600514049661, 102, 104),\n",
       " (990980781954066009, 104, 106),\n",
       " (1212315827203546359, 106, 108),\n",
       " (11149315827313204884, 109, 111),\n",
       " (1245018027206776997, 111, 113),\n",
       " (13223615461345687255, 113, 115),\n",
       " (16025805282163130657, 115, 117),\n",
       " (7534428465027601780, 117, 119),\n",
       " (1055485822481363163, 117, 119),\n",
       " (101813882315816345, 120, 122),\n",
       " (9937985302866147244, 120, 122),\n",
       " (691615963300637804, 122, 123),\n",
       " (1105985070856613486, 122, 124),\n",
       " (1105985070856613486, 124, 126),\n",
       " (7397746273746535308, 126, 127),\n",
       " (6986795007942760712, 127, 128),\n",
       " (1752216034439897034, 131, 133),\n",
       " (5702049285770817207, 133, 134),\n",
       " (16989722773497192791, 137, 138),\n",
       " (2821148264986309643, 138, 140),\n",
       " (18294883269860056671, 140, 142),\n",
       " (5062298102113117028, 140, 142),\n",
       " (6711496403645638113, 142, 144),\n",
       " (16279323307387845266, 145, 146),\n",
       " (6663794535489081278, 146, 148),\n",
       " (8342810590054598660, 151, 153),\n",
       " (16212031509081611953, 153, 155),\n",
       " (14147830188406843675, 161, 162),\n",
       " (16508192861100933808, 162, 163),\n",
       " (13668586476448779575, 163, 165),\n",
       " (17400430016017500486, 165, 166),\n",
       " (15608843434522650401, 166, 168),\n",
       " (10988717627215770710, 168, 170),\n",
       " (7301345946263859622, 169, 172),\n",
       " (7301345946263859622, 170, 172),\n",
       " (1739616089956071169, 173, 175),\n",
       " (1739616089956071169, 173, 176),\n",
       " (17309312923231646794, 174, 176),\n",
       " (16410924439883958946, 176, 178),\n",
       " (16410924439883958946, 176, 179),\n",
       " (4978984513915663990, 177, 179),\n",
       " (4978984513915663990, 179, 181),\n",
       " (4978984513915663990, 179, 182),\n",
       " (4978984513915663990, 180, 182),\n",
       " (2530774045321479604, 182, 184),\n",
       " (2530774045321479604, 182, 185),\n",
       " (2530774045321479604, 183, 185),\n",
       " (849750355842819147, 185, 187),\n",
       " (13177368955555968755, 185, 187),\n",
       " (16095253480980209383, 189, 191),\n",
       " (16964817589372350704, 191, 192),\n",
       " (5105760014715789641, 193, 195),\n",
       " (5105760014715789641, 193, 196),\n",
       " (16029788297156002977, 194, 196),\n",
       " (5015911153545112416, 196, 198),\n",
       " (17987720977185271991, 201, 202),\n",
       " (17406174041140816237, 201, 202),\n",
       " (17987720977185271991, 207, 208),\n",
       " (17406174041140816237, 207, 208),\n",
       " (9317001974969499024, 209, 210),\n",
       " (17168306528546022503, 217, 219),\n",
       " (8385110500644949272, 217, 219),\n",
       " (16152484463225494763, 219, 221),\n",
       " (16152484463225494763, 219, 222),\n",
       " (16152484463225494763, 220, 222),\n",
       " (7534428465027601780, 224, 226),\n",
       " (7534428465027601780, 224, 227),\n",
       " (37776661553098970, 225, 227),\n",
       " (11010686432120500740, 228, 230),\n",
       " (1892533682284577476, 230, 232),\n",
       " (1892533682284577476, 230, 233),\n",
       " (37776661553098970, 231, 233),\n",
       " (13403075362371964932, 234, 236),\n",
       " (15193587476313257995, 238, 240),\n",
       " (15193587476313257995, 238, 241),\n",
       " (11644782438034189448, 239, 241),\n",
       " (7894403041126628250, 243, 244),\n",
       " (17987720977185271991, 243, 245),\n",
       " (17987720977185271991, 243, 246),\n",
       " (17987720977185271991, 244, 246),\n",
       " (1526203333666910859, 252, 253),\n",
       " (16734330317014547290, 254, 255),\n",
       " (7894403041126628250, 259, 260),\n",
       " (14492345106995479242, 273, 275),\n",
       " (4553018080583663465, 275, 277),\n",
       " (9927882348560866524, 275, 277),\n",
       " (14561283310091922358, 278, 280),\n",
       " (4205843370583033192, 280, 281),\n",
       " (14557633847318572571, 281, 282),\n",
       " (13190958978802427490, 281, 283),\n",
       " (8954212962452151903, 281, 283),\n",
       " (9188640240659873803, 283, 284),\n",
       " (10114248836756866667, 285, 286),\n",
       " (15881516562713769124, 286, 287),\n",
       " (12440369481063733705, 287, 288),\n",
       " (5939395664625485086, 288, 289),\n",
       " (2475980137666888739, 289, 290),\n",
       " (4985389068337650324, 290, 291),\n",
       " (5066080263516476432, 291, 293),\n",
       " (5066080263516476432, 291, 294),\n",
       " (5066080263516476432, 292, 294)]"
      ]
     },
     "execution_count": 290,
     "metadata": {},
     "output_type": "execute_result"
    }
   ],
   "source": [
    "import re\n",
    "\n",
    "text = 'Intracranial bleeding High frequency hearing loss Short stature, wide nasal bridge,  microcephaly  hearing loss   ID Developmental delay (Global)  Motor Delay Speech delay  seizures  trigonocephaly  coloboma  hypertelorism  high arched eyebrows Hypertrichosis  congenital ptosis Epicanthus Telecanthus  pachygyria Other brain MRI abnormalities (i.e. brain atrophy, corpus callosum agenesis, hydrocephalus, white matter lesions, periventricular nodular heterotopias). Long eyelashes Deeply set eyes Broad/wide nasal bridge/ tip Bulbous nose Failure to thrive Feeding Difficulties Prominent eyes/proptosis Down slanting eyebrows Mid face hypoplasia Low set ears Dysplastic ears Small ears with overfolded helices/prominent helix Long philtrum Smooth philtrum Thin lips Pointed/small chin Pterygium colli/webbed neck Retrognathia/micrognathia Kypho/scoliotic posture Joint laxity Clinodactyly Tapering digits \\xa0Hernia High palate Cleft lip Cleft palate Transverse right palmar crease/deep oakmar creases Pectus excavatum/pectus deformity Radial abnormalities (fingers/toes) Hypotonia Dystonia Frontal bossing Scaphocephaly Bitemporal narrowing Prominence of metopic suture/ridge Large anterior fontanelle High anterior hairline Low anterior hairline Low posterior hairline Sparse eyebrows Flaired and straight eyebrows Synophris Upslanting/long palpebral fissures Heart defects (Other then ASD, VSD or PDA) ASD VSD Cardiomegaly Persistent Embryonic Structures Large squared nose tip upturned nose Prominent nasal root on profile Thin upper lip Large/wide mouth tented upper lip with downturned corners Thick/prominent/everted lower lip Prominent cheeks Autism Spectrum disorder ADHD/ADD Other Psychiatric diagnosis (schizophrenia, depression, other, not autism, or ADHD/ADD) Behavioral abnormalities (tantrums, auto mutulation) Horseshoe kidney Renal Cysts Other Renal abnormality Cryptorchidism Recurrent infections Photosensitivity Polyarthralgia Hepatomegaly Hypothyroidism Leukocytosis Thrombocytopenia Asthma Strabismus Growth hormone deficiency'\n",
    "\n",
    "# \n",
    "#doc = nlp(text.lower())\n",
    "#matches = matcher(doc)\n",
    "text = hp.simpleCleaning(text)\n",
    "hp.employ(text.lower())\n",
    "\n",
    "# Serve visualization of sentences containing match with displaCy\n",
    "# set manual=True to make displaCy render straight from a dictionary\n",
    "# (if you're not running the code within a Jupyer environment, you can\n",
    "# use displacy.serve instead)\n",
    "#displacy.render(matched_sents, style=\"ent\", options=options, manual=True)"
   ]
  },
  {
   "cell_type": "code",
   "execution_count": 291,
   "metadata": {},
   "outputs": [
    {
     "data": {
      "text/plain": [
       "{'text': 'intracranial bleeding high frequency hearing loss short stature  wide nasal bridge   microcephaly  hearing loss   id developmental delay  global   motor delay speech delay  seizures  trigonocephaly  coloboma  hypertelorism  high arched eyebrows hypertrichosis  congenital ptosis epicanthus telecanthus  pachygyria other brain mri abnormalities  i e  brain atrophy  corpus callosum agenesis  hydrocephalus  white matter lesions  periventricular nodular heterotopias   long eyelashes deeply set eyes broad wide nasal bridge  tip bulbous nose failure to thrive feeding difficulties prominent eyes proptosis down slanting eyebrows mid face hypoplasia low set ears dysplastic ears small ears with overfolded helices prominent helix long philtrum smooth philtrum thin lips pointed small chin pterygium colli webbed neck retrognathia micrognathia kypho scoliotic posture joint laxity clinodactyly tapering digits \\xa0hernia high palate cleft lip cleft palate transverse right palmar crease deep oakmar creases pectus excavatum pectus deformity radial abnormalities  fingers toes  hypotonia dystonia frontal bossing scaphocephaly bitemporal narrowing prominence of metopic suture ridge large anterior fontanelle high anterior hairline low anterior hairline low posterior hairline sparse eyebrows flaired and straight eyebrows synophris upslanting long palpebral fissures heart defects  other then asd  vsd or pda  asd vsd cardiomegaly persistent embryonic structures large squared nose tip upturned nose prominent nasal root on profile thin upper lip large wide mouth tented upper lip with downturned corners thick prominent everted lower lip prominent cheeks autism spectrum disorder adhd add other psychiatric diagnosis  schizophrenia  depression  other  not autism  or adhd add  behavioral abnormalities  tantrums  auto mutulation  horseshoe kidney renal cysts other renal abnormality cryptorchidism recurrent infections photosensitivity polyarthralgia hepatomegaly hypothyroidism leukocytosis thrombocytopenia asthma strabismus growth hormone deficiency',\n",
       " 'ents': [{'start': 22, 'end': 44, 'label': 'HP'}]}"
      ]
     },
     "execution_count": 291,
     "metadata": {},
     "output_type": "execute_result"
    }
   ],
   "source": [
    "hp.matched_sents[1]"
   ]
  },
  {
   "cell_type": "markdown",
   "metadata": {},
   "source": [
    "### Filter overlapping HPO's "
   ]
  },
  {
   "cell_type": "code",
   "execution_count": 292,
   "metadata": {},
   "outputs": [
    {
     "data": {
      "text/plain": [
       "156"
      ]
     },
     "execution_count": 292,
     "metadata": {},
     "output_type": "execute_result"
    }
   ],
   "source": [
    "len(hp.matched_def)"
   ]
  },
  {
   "cell_type": "code",
   "execution_count": 293,
   "metadata": {},
   "outputs": [],
   "source": [
    "def prune(matched_sents, matched_hpo):\n",
    "    remove_list = []\n",
    "    for i in matched_sents: \n",
    "        i_start = i['ents'][0]['start']\n",
    "        i_end = i['ents'][0]['end']\n",
    "        i_length = i_end - i_start\n",
    "        ix = 0\n",
    "        for j in matched_sents:\n",
    "            if i['text'] == j['text']:\n",
    "                j_start = j['ents'][0]['start']\n",
    "                j_end = j['ents'][0]['end']\n",
    "                j_length = j_end - j_start\n",
    "                if j not in remove_list and j_length < i_length: # don't do duplicates (not very clean)\n",
    "                    if j_start <= i_start and j_end >= i_start:\n",
    "                        remove_list.append(ix)\n",
    "                    elif j_start <= i_end and j_end >= i_end:\n",
    "                        remove_list.append(ix)\n",
    "                    elif j_start >= i_start and j_end <= i_end:\n",
    "                        remove_list.append(ix)\n",
    "            ix += 1\n",
    "        print(remove_list)\n",
    "        matched_sents = [i for j, i in enumerate(matched_sents) if j not in remove_list]\n",
    "        matched_hpo = [i for j, i in enumerate(matched_hpo) if j not in remove_list]\n",
    "    return matched_sents, matched_hpo\n",
    "\n",
    "#matched_sents, matched_hpo = prune(matched_sents, matched_hpo)\n",
    "hp.prune()\n",
    "colors = {\"HP\": \"linear-gradient(90deg, #aa9cfc, #fc9ce7)\"}\n",
    "options = {\"ents\": [\"HP\"], \"colors\": colors}\n",
    "#displacy.render(hp.matched_sents, style=\"ent\", options=options, manual=True)\n",
    "#displacy.serve(hp.matched_sents, style=\"ent\", options=options) # , style=\"ent\""
   ]
  },
  {
   "cell_type": "code",
   "execution_count": 281,
   "metadata": {},
   "outputs": [
    {
     "data": {
      "text/plain": [
       "97"
      ]
     },
     "execution_count": 281,
     "metadata": {},
     "output_type": "execute_result"
    }
   ],
   "source": [
    "len(hp.matched_def)"
   ]
  },
  {
   "cell_type": "code",
   "execution_count": 282,
   "metadata": {},
   "outputs": [
    {
     "data": {
      "text/plain": [
       "[{'start': 22, 'end': 49, 'label': 'HP'}]"
      ]
     },
     "execution_count": 282,
     "metadata": {},
     "output_type": "execute_result"
    }
   ],
   "source": [
    "hp.matched_sents[0]['ents']"
   ]
  },
  {
   "cell_type": "code",
   "execution_count": 294,
   "metadata": {},
   "outputs": [
    {
     "data": {
      "text/html": [
       "intracranial bleeding <span style=\"color:red\">high frequency hearing loss</span> <span style=\"color:red\">short stature</span>  <span style=\"color:red\">wide nasal bridge</span>   <span style=\"color:red\">microcephaly</span>  <span style=\"color:red\">hearing loss</span>   id <span style=\"color:red\">developmental delay</span>  global   <span style=\"color:red\">motor delay</span> <span style=\"color:red\">speech delay</span>  <span style=\"color:red\">seizures</span>  <span style=\"color:red\">trigonocephaly</span>  <span style=\"color:red\">coloboma</span>  <span style=\"color:red\">hypertelorism</span>  <span style=\"color:red\">high arched eyebrows</span> <span style=\"color:red\">hypertrichosis</span>  <span style=\"color:red\">congenital ptosis</span> <span style=\"color:red\">epicanthus</span> <span style=\"color:red\">telecanthus</span>  <span style=\"color:red\">pachygyria</span> other brain mri abnormalities  i e  <span style=\"color:red\">brain atrophy</span>  <span style=\"color:red\">corpus callosum agenesis</span>  <span style=\"color:red\">hydrocephalus</span>  <span style=\"color:red\">white matter lesions</span>  <span style=\"color:red\">periventricular nodular</span> <span style=\"color:red\">heterotopias</span>   <span style=\"color:red\">long eyelashes</span> <span style=\"color:red\">deeply set</span> eyes broad <span style=\"color:red\">wide nasal bridge</span>  tip <span style=\"color:red\">bulbous nose</span> <span style=\"color:red\">failure to thrive</span> <span style=\"color:red\">feeding difficulties</span> <span style=\"color:red\">prominent eyes</span> <span style=\"color:red\">proptosis</span> down slanting eyebrows mid face hypoplasia <span style=\"color:red\">low set ears</span> <span style=\"color:red\">dysplastic ears</span> <span style=\"color:red\">small ears</span> with <span style=\"color:red\">overfolded helices</span> <span style=\"color:red\">prominent helix</span> <span style=\"color:red\">long philtrum</span> <span style=\"color:red\">smooth philtrum</span> <span style=\"color:red\">thin lips</span> pointed <span style=\"color:red\">small chin</span> <span style=\"color:red\">pterygium colli</span> <span style=\"color:red\">webbed neck</span> <span style=\"color:red\">retrognathia</span> <span style=\"color:red\">micrognathia</span> kypho scoliotic posture <span style=\"color:red\">joint laxity</span> <span style=\"color:red\">clinodactyly</span> tapering digits  <span style=\"color:red\">hernia</span> <span style=\"color:red\">high palate</span> <span style=\"color:red\">cleft lip</span> <span style=\"color:red\">cleft palate</span> transverse <span style=\"color:red\">right</span> <span style=\"color:red\">palmar crease</span> deep oakmar creases <span style=\"color:red\">pectus excavatum</span> <span style=\"color:red\">pectus deformity</span> radial abnormalities  fingers toes  <span style=\"color:red\">hypotonia</span> <span style=\"color:red\">dystonia</span> <span style=\"color:red\">frontal bossing</span> <span style=\"color:red\">scaphocephaly</span> <span style=\"color:red\">bitemporal narrowing</span> prominence <span style=\"color:red\">of metopic suture</span> ridge <span style=\"color:red\">large anterior fontanelle</span> <span style=\"color:red\">high anterior hairline</span> <span style=\"color:red\">low anterior hairline</span> <span style=\"color:red\">low posterior hairline</span> <span style=\"color:red\">sparse eyebrows</span> flaired and <span style=\"color:red\">straight eyebrows</span> <span style=\"color:red\">synophris</span> upslanting <span style=\"color:red\">long palpebral fissures</span> <span style=\"color:red\">heart defects</span>  other then <span style=\"color:red\">asd</span>  vsd or pda  <span style=\"color:red\">asd</span> vsd <span style=\"color:red\">cardiomegaly</span> persistent embryonic structures large squared nose tip <span style=\"color:red\">upturned nose</span> <span style=\"color:red\">prominent nasal root</span> on profile <span style=\"color:red\">thin upper lip</span> large <span style=\"color:red\">wide mouth</span> <span style=\"color:red\">tented upper lip</span> with <span style=\"color:red\">downturned corners</span> thick prominent <span style=\"color:red\">everted lower lip</span> prominent cheeks <span style=\"color:red\">autism spectrum disorder</span> adhd add other psychiatric diagnosis  <span style=\"color:red\">schizophrenia</span>  <span style=\"color:red\">depression</span>  other  not <span style=\"color:red\">autism</span>  or adhd add  behavioral abnormalities  tantrums  auto mutulation  <span style=\"color:red\">horseshoe kidney</span> <span style=\"color:red\">renal cysts</span> other <span style=\"color:red\">renal abnormality</span> <span style=\"color:red\">cryptorchidism</span> <span style=\"color:red\">recurrent infections</span> <span style=\"color:red\">photosensitivity</span> polyarthralgia <span style=\"color:red\">hepatomegaly</span> <span style=\"color:red\">hypothyroidism</span> <span style=\"color:red\">leukocytosis</span> <span style=\"color:red\">thrombocytopenia</span> <span style=\"color:red\">asthma</span> <span style=\"color:red\">strabismus</span> <span style=\"color:red\">growth hormone deficiency</span>"
      ],
      "text/plain": [
       "<IPython.core.display.HTML object>"
      ]
     },
     "metadata": {},
     "output_type": "display_data"
    }
   ],
   "source": [
    "from IPython.display import display, HTML\n",
    "def show_marked_text(matched_sents):\n",
    "    matched_sents= matched_sents[::-1]\n",
    "    doc = []\n",
    "    current = matched_sents[0]['text']\n",
    "    markup = current\n",
    "    for i in range(len(matched_sents)):\n",
    "        if matched_sents[i]['text'] != current:\n",
    "            current = matched_sents[i]['text']\n",
    "            doc.append(markup)\n",
    "            markup = current\n",
    "        else :\n",
    "            end, start = matched_sents[i]['ents'][0]['end'], matched_sents[i]['ents'][0]['start']\n",
    "            start_str = '<span style=\"color:red\">'\n",
    "            end_str = '</span>'\n",
    "            markup = markup[:end] + end_str + markup[end:]\n",
    "            markup = markup[:start] + start_str + markup[start:]\n",
    "    return markup\n",
    "\n",
    "markup = show_marked_text(hp.matched_sents)\n",
    "\n",
    "#\n",
    "display(HTML(markup)) # ,colors = 'r', default_color=\"black\""
   ]
  },
  {
   "cell_type": "code",
   "execution_count": 265,
   "metadata": {},
   "outputs": [
    {
     "name": "stdout",
     "output_type": "stream",
     "text": [
      "high frequency hearing loss HP:0005101\n",
      "short stature HP:0003498\n",
      "wide nasal bridge HP:0000431\n",
      "microcephaly HP:0000252\n",
      "hearing loss HP:0000365\n",
      "developmental delay HP:0001263\n",
      "motor delay HP:0001270\n",
      "speech delay HP:0000750\n",
      "seizures HP:0001250\n",
      "trigonocephaly HP:0000243\n",
      "coloboma HP:0000589\n",
      "hypertelorism HP:0000316\n",
      "high arched eyebrows HP:0002553\n",
      "hypertrichosis HP:0000998\n",
      "congenital ptosis HP:0007911\n",
      "epicanthus HP:0000286\n",
      "telecanthus HP:0000506\n",
      "pachygyria HP:0001302\n",
      "brain atrophy HP:0002283\n",
      "corpus callosum agenesis HP:0001274\n",
      "hydrocephalus HP:0000238\n",
      "white matter lesions HP:0007042\n",
      "periventricular nodular HP:0032388\n",
      "heterotopias HP:0002282\n",
      "long eyelashes HP:0000527\n",
      "deeply set HP:0000490\n",
      "wide nasal bridge HP:0000431\n",
      "bulbous nose HP:0000414\n",
      "failure to thrive HP:0001508\n",
      "feeding difficulties HP:0008872\n",
      "prominent eyes HP:0000520\n",
      "proptosis HP:0000520\n",
      "low set ears HP:0000369\n",
      "dysplastic ears HP:0000377\n",
      "small ears HP:0008551\n",
      "overfolded helices HP:0000396\n",
      "prominent helix HP:0009904\n",
      "long philtrum HP:0000343\n",
      "smooth philtrum HP:0000319\n",
      "thin lips HP:0000219\n",
      "small chin HP:0000307\n",
      "pterygium colli HP:0000465\n",
      "webbed neck HP:0000465\n",
      "retrognathia HP:0000278\n",
      "micrognathia HP:0000347\n",
      "joint laxity HP:0001388\n",
      "clinodactyly HP:0030084\n",
      "hernia HP:0100790\n",
      "high palate HP:0000218\n",
      "cleft lip HP:0000161\n",
      "cleft palate HP:0000175\n",
      "right HP:0012834\n",
      "palmar crease HP:0000954\n",
      "pectus excavatum HP:0000767\n",
      "pectus deformity HP:0000766\n",
      "hypotonia HP:0001290\n",
      "dystonia HP:0001332\n",
      "frontal bossing HP:0002007\n",
      "scaphocephaly HP:0030799\n",
      "bitemporal narrowing HP:0000341\n",
      "of metopic suture HP:0005487\n",
      "large anterior fontanelle HP:0000260\n",
      "high anterior hairline HP:0009890\n",
      "low anterior hairline HP:0000294\n",
      "low posterior hairline HP:0002162\n",
      "sparse eyebrows HP:0000535\n",
      "straight eyebrows HP:0011228\n",
      "synophris HP:0000664\n",
      "long palpebral fissures HP:0000637\n",
      "heart defects HP:0001627\n",
      "asd HP:0000729\n",
      "asd HP:0000729\n",
      "cardiomegaly HP:0001640\n",
      "upturned nose HP:0000455\n",
      "prominent nasal root HP:0000426\n",
      "thin upper lip HP:0000219\n",
      "wide mouth HP:0000154\n",
      "tented upper lip HP:0010804\n",
      "downturned corners HP:0002714\n",
      "everted lower lip HP:0000232\n",
      "autism spectrum disorder HP:0000729\n",
      "depression HP:0000716\n",
      "autism HP:0000717\n",
      "horseshoe kidney HP:0000085\n",
      "renal cysts HP:0000107\n",
      "renal abnormality HP:0012211\n",
      "cryptorchidism HP:0000028\n",
      "recurrent infections HP:0001581\n",
      "photosensitivity HP:0000992\n",
      "hepatomegaly HP:0002240\n",
      "hypothyroidism HP:0000821\n",
      "leukocytosis HP:0001974\n",
      "thrombocytopenia HP:0001873\n",
      "asthma HP:0002099\n",
      "strabismus HP:0000486\n",
      "growth hormone deficiency HP:0000824\n"
     ]
    }
   ],
   "source": [
    "for ix in range(len(hp.matched_hpo)):\n",
    "    print(hp.matched_def[ix], hp.matched_hpo[ix])"
   ]
  },
  {
   "cell_type": "code",
   "execution_count": 14,
   "metadata": {},
   "outputs": [
    {
     "name": "stdout",
     "output_type": "stream",
     "text": [
      "'high frequency hearing loss' : 'HP:0005101'\n",
      "'short stature' : 'HP:0003498'\n",
      "'wide nasal bridge' : 'HP:0000431'\n",
      "'microcephaly' : 'HP:0000252'\n",
      "'hearing loss' : 'HP:0000365'\n",
      "'developmental delay' : 'HP:0001263'\n",
      "'motor delay' : 'HP:0001270'\n",
      "'speech delay' : 'HP:0000750'\n",
      "'seizures' : 'HP:0001250'\n",
      "'trigonocephaly' : 'HP:0000243'\n",
      "'coloboma' : 'HP:0000589'\n",
      "'hypertelorism' : 'HP:0000316'\n",
      "'high arched eyebrows' : 'HP:0002553'\n",
      "'hypertrichosis' : 'HP:0000998'\n",
      "'congenital ptosis' : 'HP:0007911'\n",
      "'epicanthus' : 'HP:0000286'\n",
      "'telecanthus' : 'HP:0000506'\n",
      "'pachygyria' : 'HP:0001302'\n",
      "'brain atrophy' : 'HP:0002283'\n",
      "'corpus callosum agenesis' : 'HP:0001274'\n",
      "'hydrocephalus' : 'HP:0000238'\n",
      "'white matter lesions' : 'HP:0007042'\n",
      "'periventricular nodular' : 'HP:0032388'\n",
      "'heterotopias' : 'HP:0002282'\n",
      "'long eyelashes' : 'HP:0000527'\n",
      "'deeply set' : 'HP:0000490'\n",
      "'wide nasal bridge' : 'HP:0000431'\n",
      "'bulbous nose' : 'HP:0000414'\n",
      "'failure to thrive' : 'HP:0001508'\n",
      "'feeding difficulties' : 'HP:0008872'\n",
      "'prominent eyes' : 'HP:0000520'\n",
      "'proptosis' : 'HP:0000520'\n",
      "'low set ears' : 'HP:0000369'\n",
      "'dysplastic ears' : 'HP:0000377'\n",
      "'small ears' : 'HP:0008551'\n",
      "'overfolded helices' : 'HP:0000396'\n",
      "'prominent helix' : 'HP:0009904'\n",
      "'long philtrum' : 'HP:0000343'\n",
      "'smooth philtrum' : 'HP:0000319'\n",
      "'thin lips' : 'HP:0000219'\n",
      "'small chin' : 'HP:0000307'\n",
      "'pterygium colli' : 'HP:0000465'\n",
      "'webbed neck' : 'HP:0000465'\n",
      "'retrognathia' : 'HP:0000278'\n",
      "'micrognathia' : 'HP:0000347'\n",
      "'joint laxity' : 'HP:0001388'\n",
      "'clinodactyly' : 'HP:0030084'\n",
      "'hernia' : 'HP:0100790'\n",
      "'high palate' : 'HP:0000218'\n",
      "'cleft lip' : 'HP:0000161'\n",
      "'cleft palate' : 'HP:0000175'\n",
      "'right' : 'HP:0012834'\n",
      "'palmar crease' : 'HP:0000954'\n",
      "'pectus excavatum' : 'HP:0000767'\n",
      "'pectus deformity' : 'HP:0000766'\n",
      "'hypotonia' : 'HP:0001290'\n",
      "'dystonia' : 'HP:0001332'\n",
      "'frontal bossing' : 'HP:0002007'\n",
      "'scaphocephaly' : 'HP:0030799'\n",
      "'bitemporal narrowing' : 'HP:0000341'\n",
      "'of metopic suture' : 'HP:0005487'\n",
      "'large anterior fontanelle' : 'HP:0000260'\n",
      "'high anterior hairline' : 'HP:0009890'\n",
      "'low anterior hairline' : 'HP:0000294'\n",
      "'low posterior hairline' : 'HP:0002162'\n",
      "'sparse eyebrows' : 'HP:0000535'\n",
      "'straight eyebrows' : 'HP:0011228'\n",
      "'synophris' : 'HP:0000664'\n",
      "'long palpebral fissures' : 'HP:0000637'\n",
      "'heart defects' : 'HP:0001627'\n",
      "'asd' : 'HP:0000729'\n",
      "'asd' : 'HP:0000729'\n",
      "'cardiomegaly' : 'HP:0001640'\n",
      "'upturned nose' : 'HP:0000455'\n",
      "'prominent nasal root' : 'HP:0000426'\n",
      "'thin upper lip' : 'HP:0000219'\n",
      "'wide mouth' : 'HP:0000154'\n",
      "'tented upper lip' : 'HP:0010804'\n",
      "'downturned corners' : 'HP:0002714'\n",
      "'everted lower lip' : 'HP:0000232'\n",
      "'autism spectrum disorder' : 'HP:0000729'\n",
      "'depression' : 'HP:0000716'\n",
      "'autism' : 'HP:0000717'\n",
      "'horseshoe kidney' : 'HP:0000085'\n",
      "'renal cysts' : 'HP:0000107'\n",
      "'renal abnormality' : 'HP:0012211'\n",
      "'cryptorchidism' : 'HP:0000028'\n",
      "'recurrent infections' : 'HP:0001581'\n",
      "'photosensitivity' : 'HP:0000992'\n",
      "'hepatomegaly' : 'HP:0002240'\n",
      "'hypothyroidism' : 'HP:0000821'\n",
      "'leukocytosis' : 'HP:0001974'\n",
      "'thrombocytopenia' : 'HP:0001873'\n",
      "'asthma' : 'HP:0002099'\n",
      "'strabismus' : 'HP:0000486'\n",
      "'growth hormone deficiency' : 'HP:0000824'\n"
     ]
    },
    {
     "ename": "IndexError",
     "evalue": "list index out of range",
     "output_type": "error",
     "traceback": [
      "\u001b[1;31m---------------------------------------------------------------------------\u001b[0m",
      "\u001b[1;31mIndexError\u001b[0m                                Traceback (most recent call last)",
      "\u001b[1;32m<ipython-input-14-4a025ee14bb2>\u001b[0m in \u001b[0;36m<module>\u001b[1;34m\u001b[0m\n\u001b[0;32m     99\u001b[0m     \u001b[1;31m#print(x)\u001b[0m\u001b[1;33m\u001b[0m\u001b[1;33m\u001b[0m\u001b[1;33m\u001b[0m\u001b[0m\n\u001b[0;32m    100\u001b[0m     \u001b[1;31m#print(x.split('HP:')[0])\u001b[0m\u001b[1;33m\u001b[0m\u001b[1;33m\u001b[0m\u001b[1;33m\u001b[0m\u001b[0m\n\u001b[1;32m--> 101\u001b[1;33m     \u001b[0mprint\u001b[0m\u001b[1;33m(\u001b[0m\u001b[1;34m\"'%s'\"\u001b[0m \u001b[1;33m%\u001b[0m \u001b[0mx\u001b[0m\u001b[1;33m.\u001b[0m\u001b[0msplit\u001b[0m\u001b[1;33m(\u001b[0m\u001b[1;34m' HP:'\u001b[0m\u001b[1;33m)\u001b[0m\u001b[1;33m[\u001b[0m\u001b[1;36m0\u001b[0m\u001b[1;33m]\u001b[0m\u001b[1;33m,\u001b[0m \u001b[1;34m\":\"\u001b[0m\u001b[1;33m,\u001b[0m \u001b[1;34m\"'HP:%s'\"\u001b[0m \u001b[1;33m%\u001b[0m \u001b[0mx\u001b[0m\u001b[1;33m.\u001b[0m\u001b[0msplit\u001b[0m\u001b[1;33m(\u001b[0m\u001b[1;34m' HP:'\u001b[0m\u001b[1;33m)\u001b[0m\u001b[1;33m[\u001b[0m\u001b[1;36m1\u001b[0m\u001b[1;33m]\u001b[0m\u001b[1;33m)\u001b[0m\u001b[1;33m\u001b[0m\u001b[1;33m\u001b[0m\u001b[0m\n\u001b[0m",
      "\u001b[1;31mIndexError\u001b[0m: list index out of range"
     ]
    }
   ],
   "source": [
    "txt  = \"\"\"high frequency hearing loss HP:0005101\n",
    "short stature HP:0003498\n",
    "wide nasal bridge HP:0000431\n",
    "microcephaly HP:0000252\n",
    "hearing loss HP:0000365\n",
    "developmental delay HP:0001263\n",
    "motor delay HP:0001270\n",
    "speech delay HP:0000750\n",
    "seizures HP:0001250\n",
    "trigonocephaly HP:0000243\n",
    "coloboma HP:0000589\n",
    "hypertelorism HP:0000316\n",
    "high arched eyebrows HP:0002553\n",
    "hypertrichosis HP:0000998\n",
    "congenital ptosis HP:0007911\n",
    "epicanthus HP:0000286\n",
    "telecanthus HP:0000506\n",
    "pachygyria HP:0001302\n",
    "brain atrophy HP:0002283\n",
    "corpus callosum agenesis HP:0001274\n",
    "hydrocephalus HP:0000238\n",
    "white matter lesions HP:0007042\n",
    "periventricular nodular HP:0032388\n",
    "heterotopias HP:0002282\n",
    "long eyelashes HP:0000527\n",
    "deeply set HP:0000490\n",
    "wide nasal bridge HP:0000431\n",
    "bulbous nose HP:0000414\n",
    "failure to thrive HP:0001508\n",
    "feeding difficulties HP:0008872\n",
    "prominent eyes HP:0000520\n",
    "proptosis HP:0000520\n",
    "low set ears HP:0000369\n",
    "dysplastic ears HP:0000377\n",
    "small ears HP:0008551\n",
    "overfolded helices HP:0000396\n",
    "prominent helix HP:0009904\n",
    "long philtrum HP:0000343\n",
    "smooth philtrum HP:0000319\n",
    "thin lips HP:0000219\n",
    "small chin HP:0000307\n",
    "pterygium colli HP:0000465\n",
    "webbed neck HP:0000465\n",
    "retrognathia HP:0000278\n",
    "micrognathia HP:0000347\n",
    "joint laxity HP:0001388\n",
    "clinodactyly HP:0030084\n",
    "hernia HP:0100790\n",
    "high palate HP:0000218\n",
    "cleft lip HP:0000161\n",
    "cleft palate HP:0000175\n",
    "right HP:0012834\n",
    "palmar crease HP:0000954\n",
    "pectus excavatum HP:0000767\n",
    "pectus deformity HP:0000766\n",
    "hypotonia HP:0001290\n",
    "dystonia HP:0001332\n",
    "frontal bossing HP:0002007\n",
    "scaphocephaly HP:0030799\n",
    "bitemporal narrowing HP:0000341\n",
    "of metopic suture HP:0005487\n",
    "large anterior fontanelle HP:0000260\n",
    "high anterior hairline HP:0009890\n",
    "low anterior hairline HP:0000294\n",
    "low posterior hairline HP:0002162\n",
    "sparse eyebrows HP:0000535\n",
    "straight eyebrows HP:0011228\n",
    "synophris HP:0000664\n",
    "long palpebral fissures HP:0000637\n",
    "heart defects HP:0001627\n",
    "asd HP:0000729\n",
    "asd HP:0000729\n",
    "cardiomegaly HP:0001640\n",
    "upturned nose HP:0000455\n",
    "prominent nasal root HP:0000426\n",
    "thin upper lip HP:0000219\n",
    "wide mouth HP:0000154\n",
    "tented upper lip HP:0010804\n",
    "downturned corners HP:0002714\n",
    "everted lower lip HP:0000232\n",
    "autism spectrum disorder HP:0000729\n",
    "depression HP:0000716\n",
    "autism HP:0000717\n",
    "horseshoe kidney HP:0000085\n",
    "renal cysts HP:0000107\n",
    "renal abnormality HP:0012211\n",
    "cryptorchidism HP:0000028\n",
    "recurrent infections HP:0001581\n",
    "photosensitivity HP:0000992\n",
    "hepatomegaly HP:0002240\n",
    "hypothyroidism HP:0000821\n",
    "leukocytosis HP:0001974\n",
    "thrombocytopenia HP:0001873\n",
    "asthma HP:0002099\n",
    "strabismus HP:0000486\n",
    "growth hormone deficiency HP:0000824\n",
    "\"\"\"\n",
    "for x in txt.split('\\n'):\n",
    "    #print(x)\n",
    "    #print(x.split('HP:')[0])\n",
    "    print(\"'%s'\" % x.split(' HP:')[0], \":\", \"'HP:%s'\" % x.split(' HP:')[1])"
   ]
  },
  {
   "cell_type": "markdown",
   "metadata": {},
   "source": [
    "## Employ HPOtool on table"
   ]
  },
  {
   "cell_type": "code",
   "execution_count": 299,
   "metadata": {},
   "outputs": [
    {
     "data": {
      "text/html": [
       "<div>\n",
       "<style scoped>\n",
       "    .dataframe tbody tr th:only-of-type {\n",
       "        vertical-align: middle;\n",
       "    }\n",
       "\n",
       "    .dataframe tbody tr th {\n",
       "        vertical-align: top;\n",
       "    }\n",
       "\n",
       "    .dataframe thead th {\n",
       "        text-align: right;\n",
       "    }\n",
       "</style>\n",
       "<table border=\"1\" class=\"dataframe\">\n",
       "  <thead>\n",
       "    <tr style=\"text-align: right;\">\n",
       "      <th></th>\n",
       "      <th>Case ID</th>\n",
       "      <th>Inheritance</th>\n",
       "      <th>Gender</th>\n",
       "      <th>Age (Years)</th>\n",
       "      <th>Prenatal and Neonatal History</th>\n",
       "      <th>PN Growth Retardation</th>\n",
       "      <th>Microcephaly</th>\n",
       "      <th>Motor Delay</th>\n",
       "      <th>Speech Delay</th>\n",
       "      <th>DD/ ID</th>\n",
       "      <th>Behavioral, Psychiatric, and Neurological Features</th>\n",
       "      <th>Malformations and Physical Anomalies</th>\n",
       "      <th>Additional Comments</th>\n",
       "    </tr>\n",
       "  </thead>\n",
       "  <tbody>\n",
       "    <tr>\n",
       "      <th>0</th>\n",
       "      <td>I</td>\n",
       "      <td>DN</td>\n",
       "      <td>M</td>\n",
       "      <td>4</td>\n",
       "      <td>SGA and feeding difficulties</td>\n",
       "      <td>Y</td>\n",
       "      <td>N</td>\n",
       "      <td>Y</td>\n",
       "      <td>Y</td>\n",
       "      <td>mod</td>\n",
       "      <td>possible absence and focal seizures</td>\n",
       "      <td>VSD with tortuous aortic arch, horseshoe kidne...</td>\n",
       "      <td>early-onset hypothyroidism, limitation of join...</td>\n",
       "    </tr>\n",
       "    <tr>\n",
       "      <th>1</th>\n",
       "      <td>II</td>\n",
       "      <td>DN</td>\n",
       "      <td>M</td>\n",
       "      <td>7</td>\n",
       "      <td>SGA and feeding difficulties</td>\n",
       "      <td>Y</td>\n",
       "      <td>N</td>\n",
       "      <td>Y</td>\n",
       "      <td>Y</td>\n",
       "      <td>mild</td>\n",
       "      <td>sociable, empathetic, hand flapping tendency a...</td>\n",
       "      <td>Rt pelvic kidney, Rt inguinal hernia and scoli...</td>\n",
       "      <td>GOR, asthma and allergies.</td>\n",
       "    </tr>\n",
       "    <tr>\n",
       "      <th>2</th>\n",
       "      <td>III</td>\n",
       "      <td>DN</td>\n",
       "      <td>M</td>\n",
       "      <td>7</td>\n",
       "      <td>SGA, polycythaemia, jaundice and hypoglycaemia...</td>\n",
       "      <td>Y</td>\n",
       "      <td>Y</td>\n",
       "      <td>N</td>\n",
       "      <td>Y</td>\n",
       "      <td>Mild</td>\n",
       "      <td>attention deficit, echolalia and tantrums.</td>\n",
       "      <td>inguinal hernia, cryptorchidism, proximally pl...</td>\n",
       "      <td>perineal and scalp abscesses, recurrent chest ...</td>\n",
       "    </tr>\n",
       "    <tr>\n",
       "      <th>3</th>\n",
       "      <td>IVa</td>\n",
       "      <td>Mat</td>\n",
       "      <td>F</td>\n",
       "      <td>32</td>\n",
       "      <td>SGA</td>\n",
       "      <td>Y</td>\n",
       "      <td>N</td>\n",
       "      <td>Y</td>\n",
       "      <td>Y</td>\n",
       "      <td>mod</td>\n",
       "      <td>empathetic personality.</td>\n",
       "      <td>scoliosis</td>\n",
       "      <td>glaucoma, asthma, and eczema</td>\n",
       "    </tr>\n",
       "    <tr>\n",
       "      <th>4</th>\n",
       "      <td>IVb</td>\n",
       "      <td>U</td>\n",
       "      <td>F</td>\n",
       "      <td>68</td>\n",
       "      <td>U</td>\n",
       "      <td>U</td>\n",
       "      <td>U</td>\n",
       "      <td>U</td>\n",
       "      <td>U</td>\n",
       "      <td>mild</td>\n",
       "      <td>U</td>\n",
       "      <td>horseshoe kidney with multiple cysts</td>\n",
       "      <td>hiatus hernia</td>\n",
       "    </tr>\n",
       "  </tbody>\n",
       "</table>\n",
       "</div>"
      ],
      "text/plain": [
       "  Case ID Inheritance Gender Age (Years)  \\\n",
       "0       I          DN      M           4   \n",
       "1      II          DN      M           7   \n",
       "2     III          DN      M           7   \n",
       "3     IVa         Mat      F          32   \n",
       "4     IVb           U      F          68   \n",
       "\n",
       "                       Prenatal and Neonatal History PN Growth Retardation  \\\n",
       "0                       SGA and feeding difficulties                     Y   \n",
       "1                       SGA and feeding difficulties                     Y   \n",
       "2  SGA, polycythaemia, jaundice and hypoglycaemia...                     Y   \n",
       "3                                                SGA                     Y   \n",
       "4                                                  U                     U   \n",
       "\n",
       "  Microcephaly Motor Delay Speech Delay DD/ ID  \\\n",
       "0            N           Y            Y    mod   \n",
       "1            N           Y            Y   mild   \n",
       "2            Y           N            Y   Mild   \n",
       "3            N           Y            Y    mod   \n",
       "4            U           U            U   mild   \n",
       "\n",
       "  Behavioral, Psychiatric, and Neurological Features  \\\n",
       "0                possible absence and focal seizures   \n",
       "1  sociable, empathetic, hand flapping tendency a...   \n",
       "2         attention deficit, echolalia and tantrums.   \n",
       "3                            empathetic personality.   \n",
       "4                                                  U   \n",
       "\n",
       "                Malformations and Physical Anomalies  \\\n",
       "0  VSD with tortuous aortic arch, horseshoe kidne...   \n",
       "1  Rt pelvic kidney, Rt inguinal hernia and scoli...   \n",
       "2  inguinal hernia, cryptorchidism, proximally pl...   \n",
       "3                                          scoliosis   \n",
       "4               horseshoe kidney with multiple cysts   \n",
       "\n",
       "                                 Additional Comments  \n",
       "0  early-onset hypothyroidism, limitation of join...  \n",
       "1                         GOR, asthma and allergies.  \n",
       "2  perineal and scalp abscesses, recurrent chest ...  \n",
       "3                       glaucoma, asthma, and eczema  \n",
       "4                                      hiatus hernia  "
      ]
     },
     "execution_count": 299,
     "metadata": {},
     "output_type": "execute_result"
    }
   ],
   "source": [
    "import pandas as pd\n",
    "df_table = pd.read_csv(r'data/TableExtraction.csv')\n",
    "df_table = df_table.fillna('')\n",
    "df_table.head()"
   ]
  },
  {
   "cell_type": "code",
   "execution_count": 397,
   "metadata": {},
   "outputs": [
    {
     "data": {
      "text/plain": [
       "0    [HP:0011968, HP:0007359, HP:0000085, HP:000002...\n",
       "1    [HP:0011968, HP:0012825, HP:0007018, HP:000012...\n",
       "2    [HP:0000952, HP:0001943, HP:0012825, HP:000701...\n",
       "3     [HP:0002650, HP:0000501, HP:0002099, HP:0000964]\n",
       "4                 [HP:0012825, HP:0000085, HP:0002036]\n",
       "dtype: object"
      ]
     },
     "execution_count": 397,
     "metadata": {},
     "output_type": "execute_result"
    }
   ],
   "source": [
    "def HPO_annotate(row):\n",
    "    list_hpo = []\n",
    "    for i in row:\n",
    "        text = i\n",
    "        hp.employ(text)\n",
    "        hp.prune()\n",
    "        list_hpo.extend(hp.matched_hpo)\n",
    "    return list_hpo\n",
    "    \n",
    "df_table['HPO'] = df_table.apply(lambda x: HPO_annotate(x), 1)"
   ]
  },
  {
   "cell_type": "markdown",
   "metadata": {},
   "source": [
    "## ISSUE = Acronyms are not recognized"
   ]
  },
  {
   "cell_type": "code",
   "execution_count": 410,
   "metadata": {},
   "outputs": [],
   "source": [
    "text = \"\"\"'Category Id Protein High frequency hearing loss Short stature  microcephaly  hearing loss   ID Developmental delay (Global)  Motor Delay Speech delay  seizures  trigonocephaly  coloboma  hypertelorism  high arched eyebrows Hypertrichosis  congenital ptosis Epicanthus Telecanthus  pachygyria Other brain MRI abnormalities (i.e. brain atrophy, corpus callosum agenesis, hydrocephalus, white matter leasions, periventricular nodular heterotopias). Long eyelashes Deeply set eyes Broad/wide nasal bridge/ tip Bulbous nose Failure to thrive Feeding Difficulties Prominent eyes/proptosis Down slanting eyebrows Mid face hypoplasia Low set ears Dysplastic ears Small ears with overfolded helices/prominent helix Long philtrum Smooth philtrum Thin lips Pointed/small chin Pterygium colli/webbed neck Retrognatia/micrognathia Kypho/scoliotic posture Joint laxity Clinodactyly Tapering digits \\xa0Hernia High palate Cleft lip Cleft palate Transverse right palmar crease/deep oakmar creases Pectus excavatum/pectus deformity Radial abnormalities (fingers/toes) Hypotonia Dystonia Frontal bossing Scaphocephaly Bitemporal narrowing Prominence of metopic suture/ridge Large anterior fontanelle High anterior hairline Low anterior hairline Low posterior hairline Sparse eyebrows Flaired and straight eyebrows Synophris Upslanting/long palpebral fissures Heart defects (Other then ASD, VSD or PDA) ASD VSD Cardiomegaly Persistent Embryonic Sructures Large squared nose tip upturned nose Prominent nasal root on profile Thin upper lip Large/wide mouth tented upper lip with downturned corners Thick/prominent/everted lower lip Prominent cheeks Autism Spectrum disorder ADHD/ADD Other Psychiatric diagnosis (shizofrenia, depression, other, not autism, or ADHD/ADD) Behavioral abnormalities (tantrums, auto mutulation) Horseshoe kidney Renal Cysts Other Renal abnormality Cryptorchidism Recurrent infections Photosensitivity Polyarthralgia Hepatomegaly Hypothyroidism Leukocytose Trombocytopenie Asthma Strabismus Growth hormone deficiency'\"\"\""
   ]
  },
  {
   "cell_type": "code",
   "execution_count": null,
   "metadata": {},
   "outputs": [],
   "source": [
    "#text = df_table[df_table['Case ID'] == 'XIXa']['Malformations and Physical Anomalies'].iloc[0]\n",
    "hp.employ(text)\n",
    "hp.prune()\n",
    "\n",
    "colors = {\"HP\": \"linear-gradient(90deg, #aa9cfc, #fc9ce7)\"}\n",
    "options = {\"ents\": [\"HP\"], \"colors\": colors}\n",
    "displacy.render(hp.matched_sents, style=\"ent\", options=options, manual=True)"
   ]
  },
  {
   "cell_type": "code",
   "execution_count": 401,
   "metadata": {},
   "outputs": [
    {
     "data": {
      "text/html": [
       "<div>\n",
       "<style scoped>\n",
       "    .dataframe tbody tr th:only-of-type {\n",
       "        vertical-align: middle;\n",
       "    }\n",
       "\n",
       "    .dataframe tbody tr th {\n",
       "        vertical-align: top;\n",
       "    }\n",
       "\n",
       "    .dataframe thead th {\n",
       "        text-align: right;\n",
       "    }\n",
       "</style>\n",
       "<table border=\"1\" class=\"dataframe\">\n",
       "  <thead>\n",
       "    <tr style=\"text-align: right;\">\n",
       "      <th></th>\n",
       "      <th>Case ID</th>\n",
       "      <th>HPO</th>\n",
       "    </tr>\n",
       "  </thead>\n",
       "  <tbody>\n",
       "    <tr>\n",
       "      <th>0</th>\n",
       "      <td>I</td>\n",
       "      <td>[HP:0011968, HP:0007359, HP:0000085, HP:000002...</td>\n",
       "    </tr>\n",
       "    <tr>\n",
       "      <th>1</th>\n",
       "      <td>II</td>\n",
       "      <td>[HP:0011968, HP:0012825, HP:0007018, HP:000012...</td>\n",
       "    </tr>\n",
       "    <tr>\n",
       "      <th>2</th>\n",
       "      <td>III</td>\n",
       "      <td>[HP:0000952, HP:0001943, HP:0012825, HP:000701...</td>\n",
       "    </tr>\n",
       "    <tr>\n",
       "      <th>3</th>\n",
       "      <td>IVa</td>\n",
       "      <td>[HP:0002650, HP:0000501, HP:0002099, HP:0000964]</td>\n",
       "    </tr>\n",
       "    <tr>\n",
       "      <th>4</th>\n",
       "      <td>IVb</td>\n",
       "      <td>[HP:0012825, HP:0000085, HP:0002036]</td>\n",
       "    </tr>\n",
       "    <tr>\n",
       "      <th>5</th>\n",
       "      <td>V</td>\n",
       "      <td>[HP:0011968, HP:0012825, HP:0002119, HP:003065...</td>\n",
       "    </tr>\n",
       "    <tr>\n",
       "      <th>6</th>\n",
       "      <td>VI</td>\n",
       "      <td>[HP:0012825, HP:0010809, HP:0010055, HP:000988...</td>\n",
       "    </tr>\n",
       "    <tr>\n",
       "      <th>7</th>\n",
       "      <td>VII</td>\n",
       "      <td>[HP:0001290, HP:0011968, HP:0001290, HP:003073...</td>\n",
       "    </tr>\n",
       "    <tr>\n",
       "      <th>8</th>\n",
       "      <td>VIII</td>\n",
       "      <td>[HP:0001290, HP:0011968, HP:0012825, HP:000228...</td>\n",
       "    </tr>\n",
       "    <tr>\n",
       "      <th>9</th>\n",
       "      <td>IX</td>\n",
       "      <td>[HP:0001290, HP:0011968, HP:0001631, HP:0000023]</td>\n",
       "    </tr>\n",
       "    <tr>\n",
       "      <th>10</th>\n",
       "      <td>X</td>\n",
       "      <td>[HP:0410030, HP:0001331, HP:0000238, HP:0000085]</td>\n",
       "    </tr>\n",
       "    <tr>\n",
       "      <th>11</th>\n",
       "      <td>XI</td>\n",
       "      <td>[HP:0001290, HP:0011968, HP:0000729, HP:000163...</td>\n",
       "    </tr>\n",
       "    <tr>\n",
       "      <th>12</th>\n",
       "      <td>XII</td>\n",
       "      <td>[HP:0012825, HP:0007018, HP:0012167, HP:000125...</td>\n",
       "    </tr>\n",
       "    <tr>\n",
       "      <th>13</th>\n",
       "      <td>XIII</td>\n",
       "      <td>[HP:0012825, HP:0001650]</td>\n",
       "    </tr>\n",
       "    <tr>\n",
       "      <th>14</th>\n",
       "      <td>XIV</td>\n",
       "      <td>[HP:0001290, HP:0011968, HP:0000729, HP:000163...</td>\n",
       "    </tr>\n",
       "    <tr>\n",
       "      <th>15</th>\n",
       "      <td>XV</td>\n",
       "      <td>[HP:0001276, HP:0000054, HP:0000278, HP:0000377]</td>\n",
       "    </tr>\n",
       "    <tr>\n",
       "      <th>16</th>\n",
       "      <td>XVI</td>\n",
       "      <td>[HP:0012825, HP:0000729, HP:0001631, HP:000230...</td>\n",
       "    </tr>\n",
       "    <tr>\n",
       "      <th>17</th>\n",
       "      <td>XVIIa</td>\n",
       "      <td>[HP:0001290, HP:0011968, HP:0012825, HP:000129...</td>\n",
       "    </tr>\n",
       "    <tr>\n",
       "      <th>18</th>\n",
       "      <td>XVIIb</td>\n",
       "      <td>[HP:0012825, HP:0011009, HP:0000709, HP:000701...</td>\n",
       "    </tr>\n",
       "    <tr>\n",
       "      <th>19</th>\n",
       "      <td>XVIII</td>\n",
       "      <td>[HP:0012825, HP:0000010]</td>\n",
       "    </tr>\n",
       "    <tr>\n",
       "      <th>20</th>\n",
       "      <td>XIXa</td>\n",
       "      <td>[HP:0002650]</td>\n",
       "    </tr>\n",
       "    <tr>\n",
       "      <th>21</th>\n",
       "      <td>XIXb</td>\n",
       "      <td>[HP:0012825, HP:0001631]</td>\n",
       "    </tr>\n",
       "    <tr>\n",
       "      <th>22</th>\n",
       "      <td>XIXc</td>\n",
       "      <td>[HP:0000085, HP:0000126, HP:0000486]</td>\n",
       "    </tr>\n",
       "    <tr>\n",
       "      <th>23</th>\n",
       "      <td>XIXd</td>\n",
       "      <td>[HP:0012825]</td>\n",
       "    </tr>\n",
       "    <tr>\n",
       "      <th>24</th>\n",
       "      <td>XXa twin I</td>\n",
       "      <td>[HP:0001562, HP:0001290, HP:0011968, HP:000701...</td>\n",
       "    </tr>\n",
       "    <tr>\n",
       "      <th>25</th>\n",
       "      <td>XXc</td>\n",
       "      <td>[HP:0012825, HP:0007018, HP:0001263, HP:0004322]</td>\n",
       "    </tr>\n",
       "    <tr>\n",
       "      <th>26</th>\n",
       "      <td>XXI</td>\n",
       "      <td>[HP:0011968, HP:0000729, HP:0001631, HP:0001290]</td>\n",
       "    </tr>\n",
       "    <tr>\n",
       "      <th>27</th>\n",
       "      <td>XXII</td>\n",
       "      <td>[HP:0001290, HP:0011968, HP:0000729, HP:000163...</td>\n",
       "    </tr>\n",
       "    <tr>\n",
       "      <th>28</th>\n",
       "      <td>XXIII</td>\n",
       "      <td>[HP:0011968, HP:0001943, HP:0100753, HP:000012...</td>\n",
       "    </tr>\n",
       "    <tr>\n",
       "      <th>29</th>\n",
       "      <td>XXIV</td>\n",
       "      <td>[HP:0011968, HP:0000752, HP:0001332, HP:000203...</td>\n",
       "    </tr>\n",
       "    <tr>\n",
       "      <th>30</th>\n",
       "      <td>XXV</td>\n",
       "      <td>[HP:0011968, HP:0012825, HP:0002697]</td>\n",
       "    </tr>\n",
       "    <tr>\n",
       "      <th>31</th>\n",
       "      <td>XXVI</td>\n",
       "      <td>[HP:0012825, HP:0001631, HP:0000766, HP:001283...</td>\n",
       "    </tr>\n",
       "  </tbody>\n",
       "</table>\n",
       "</div>"
      ],
      "text/plain": [
       "       Case ID                                                HPO\n",
       "0            I  [HP:0011968, HP:0007359, HP:0000085, HP:000002...\n",
       "1           II  [HP:0011968, HP:0012825, HP:0007018, HP:000012...\n",
       "2          III  [HP:0000952, HP:0001943, HP:0012825, HP:000701...\n",
       "3          IVa   [HP:0002650, HP:0000501, HP:0002099, HP:0000964]\n",
       "4          IVb               [HP:0012825, HP:0000085, HP:0002036]\n",
       "5            V  [HP:0011968, HP:0012825, HP:0002119, HP:003065...\n",
       "6           VI  [HP:0012825, HP:0010809, HP:0010055, HP:000988...\n",
       "7          VII  [HP:0001290, HP:0011968, HP:0001290, HP:003073...\n",
       "8         VIII  [HP:0001290, HP:0011968, HP:0012825, HP:000228...\n",
       "9           IX   [HP:0001290, HP:0011968, HP:0001631, HP:0000023]\n",
       "10           X   [HP:0410030, HP:0001331, HP:0000238, HP:0000085]\n",
       "11          XI  [HP:0001290, HP:0011968, HP:0000729, HP:000163...\n",
       "12         XII  [HP:0012825, HP:0007018, HP:0012167, HP:000125...\n",
       "13        XIII                           [HP:0012825, HP:0001650]\n",
       "14         XIV  [HP:0001290, HP:0011968, HP:0000729, HP:000163...\n",
       "15          XV   [HP:0001276, HP:0000054, HP:0000278, HP:0000377]\n",
       "16         XVI  [HP:0012825, HP:0000729, HP:0001631, HP:000230...\n",
       "17       XVIIa  [HP:0001290, HP:0011968, HP:0012825, HP:000129...\n",
       "18       XVIIb  [HP:0012825, HP:0011009, HP:0000709, HP:000701...\n",
       "19       XVIII                           [HP:0012825, HP:0000010]\n",
       "20        XIXa                                       [HP:0002650]\n",
       "21        XIXb                           [HP:0012825, HP:0001631]\n",
       "22        XIXc               [HP:0000085, HP:0000126, HP:0000486]\n",
       "23        XIXd                                       [HP:0012825]\n",
       "24  XXa twin I  [HP:0001562, HP:0001290, HP:0011968, HP:000701...\n",
       "25         XXc   [HP:0012825, HP:0007018, HP:0001263, HP:0004322]\n",
       "26         XXI   [HP:0011968, HP:0000729, HP:0001631, HP:0001290]\n",
       "27        XXII  [HP:0001290, HP:0011968, HP:0000729, HP:000163...\n",
       "28       XXIII  [HP:0011968, HP:0001943, HP:0100753, HP:000012...\n",
       "29        XXIV  [HP:0011968, HP:0000752, HP:0001332, HP:000203...\n",
       "30         XXV               [HP:0011968, HP:0012825, HP:0002697]\n",
       "31        XXVI  [HP:0012825, HP:0001631, HP:0000766, HP:001283..."
      ]
     },
     "execution_count": 401,
     "metadata": {},
     "output_type": "execute_result"
    }
   ],
   "source": [
    "df_table[['Case ID', 'HPO']]"
   ]
  },
  {
   "cell_type": "code",
   "execution_count": null,
   "metadata": {},
   "outputs": [],
   "source": [
    "import itertools, collections\n",
    "\n",
    "tweets = ['I went to work but got delayed at other work and got stuck in a traffic and I went to drink some coffee but got no money and asked for money from work',\n",
    "          'We went to get our car but the car was not ready. We tried to expedite our car but were told it is not ready']\n",
    "\n",
    "words = set(word.lower() for tweet in tweets for word in tweet.split())\n",
    "_pairs = list(itertools.permutations(words, 2))\n",
    "# We need to clean up similar pairs: sort words in each pair and then convert\n",
    "# them to tuple so we can convert whole list into set.\n",
    "pairs = set(map(tuple, map(sorted, _pairs)))\n",
    "\n",
    "c = collections.Counter()\n",
    "\n",
    "for tweet in tweets:\n",
    "    for pair in pairs:\n",
    "        if pair[0] in tweet and pair[1] in tweet:\n",
    "            c.update({pair: 1})\n",
    "\n",
    "print c.most_common(10)"
   ]
  },
  {
   "cell_type": "code",
   "execution_count": 245,
   "metadata": {},
   "outputs": [
    {
     "data": {
      "text/plain": [
       "('Feeding difficulties',\n",
       " ['\"Feeding difficulties\" EXACT layperson []',\n",
       "  '\"Feeding problems\" EXACT layperson []',\n",
       "  '\"Poor feeding\" EXACT layperson []'])"
      ]
     },
     "execution_count": 245,
     "metadata": {},
     "output_type": "execute_result"
    }
   ],
   "source": [
    "cond = 'Feeding difficulties'\n",
    "graph.nodes[name_to_id[cond]]['name'], graph.nodes[name_to_id[cond]]['synonym']"
   ]
  },
  {
   "cell_type": "code",
   "execution_count": 16,
   "metadata": {},
   "outputs": [
    {
     "name": "stdout",
     "output_type": "stream",
     "text": [
      "['Focal', 'white', 'matter', 'lesions']\n",
      "['white', 'matter', 'lesions']\n",
      "['Focal', 'white', 'matter', 'lesions']\n",
      "['Focal', 'matter', 'lesions']\n",
      "['Focal', 'white', 'matter', 'lesions']\n",
      "['Focal', 'white', 'lesions']\n",
      "['Focal', 'white', 'matter', 'lesions']\n",
      "['Focal', 'white', 'matter']\n",
      "['white matter lesions', 'Focal matter lesions', 'Focal white lesions', 'Focal white matter']\n"
     ]
    }
   ],
   "source": [
    "cond = 'Focal white matter lesions'\n",
    "mixup = []\n",
    "for i in range(len(graph.nodes[name_to_id[cond]]['name'].split(' '))):\n",
    "    l_cond = graph.nodes[name_to_id[cond]]['name'].split(' ')\n",
    "    print(l_cond)\n",
    "    del l_cond[i]\n",
    "    print(l_cond)\n",
    "    mixup.append(' '.join(l_cond))\n",
    "print(mixup)"
   ]
  },
  {
   "cell_type": "code",
   "execution_count": null,
   "metadata": {},
   "outputs": [],
   "source": [
    "Intellectual disability"
   ]
  },
  {
   "cell_type": "markdown",
   "metadata": {},
   "source": [
    "## Find parent or child relationships"
   ]
  },
  {
   "cell_type": "code",
   "execution_count": 27,
   "metadata": {},
   "outputs": [
    {
     "name": "stdout",
     "output_type": "stream",
     "text": [
      "• Intellectual disability ⟶ is_a ⟶ Abnormality of higher mental function\n",
      "• Intellectual disability ⟶ is_a ⟶ Neurodevelopmental abnormality\n"
     ]
    }
   ],
   "source": [
    "cond = 'Intellectual disability'\n",
    "node = name_to_id[cond]\n",
    "for child, parent, key in graph.out_edges(node, keys=True):\n",
    "    print(f'• {id_to_name[child]} ⟶ {key} ⟶ {id_to_name[parent]}')"
   ]
  },
  {
   "cell_type": "markdown",
   "metadata": {},
   "source": [
    "### Find all superterms of Disproportionate tall stature"
   ]
  },
  {
   "cell_type": "code",
   "execution_count": 30,
   "metadata": {},
   "outputs": [
    {
     "data": {
      "text/plain": [
       "['Abnormality of body height',\n",
       " 'All',\n",
       " 'Growth abnormality',\n",
       " 'Phenotypic abnormality',\n",
       " 'Tall stature']"
      ]
     },
     "execution_count": 30,
     "metadata": {},
     "output_type": "execute_result"
    }
   ],
   "source": [
    "sorted(id_to_name[superterm] for superterm in networkx.descendants(graph, 'HP:0001519'))"
   ]
  },
  {
   "cell_type": "markdown",
   "metadata": {},
   "source": [
    "#### superterms of synovitus"
   ]
  },
  {
   "cell_type": "code",
   "execution_count": 38,
   "metadata": {},
   "outputs": [
    {
     "data": {
      "text/plain": [
       "['Abnormal joint morphology',\n",
       " 'Abnormality of skeletal morphology',\n",
       " 'Abnormality of the skeletal system',\n",
       " 'Abnormality of the synovia',\n",
       " 'All',\n",
       " 'Phenotypic abnormality']"
      ]
     },
     "execution_count": 38,
     "metadata": {},
     "output_type": "execute_result"
    }
   ],
   "source": [
    "sorted(id_to_name[superterm] for superterm in networkx.descendants(graph, 'HP:0100769'))"
   ]
  },
  {
   "cell_type": "markdown",
   "metadata": {},
   "source": [
    "### Find all subterms of abnormal pigmentation of the oral mucosa"
   ]
  },
  {
   "cell_type": "code",
   "execution_count": 41,
   "metadata": {},
   "outputs": [
    {
     "data": {
      "text/plain": [
       "['Intra-oral hyperpigmentation',\n",
       " 'Oral melanoacanthoma',\n",
       " 'Oral melanotic macule',\n",
       " 'Reticulate pigmentation of oral mucosa',\n",
       " 'White oral mucosal macule']"
      ]
     },
     "execution_count": 41,
     "metadata": {},
     "output_type": "execute_result"
    }
   ],
   "source": [
    "sorted(id_to_name[subterm] for subterm in networkx.ancestors(graph, 'HP:0100669'))"
   ]
  },
  {
   "cell_type": "code",
   "execution_count": 64,
   "metadata": {},
   "outputs": [
    {
     "data": {
      "text/plain": [
       "['Abnormality of blood and blood-forming tissues',\n",
       " 'All',\n",
       " 'Phenotypic abnormality']"
      ]
     },
     "execution_count": 64,
     "metadata": {},
     "output_type": "execute_result"
    }
   ],
   "source": [
    "\n",
    "sorted(id_to_name[subterm] for subterm in networkx.descendants(graph, name_to_id['Abnormal erythrocyte morphology']))"
   ]
  },
  {
   "cell_type": "markdown",
   "metadata": {},
   "source": [
    "## Find all paths to the root"
   ]
  },
  {
   "cell_type": "code",
   "execution_count": 5,
   "metadata": {},
   "outputs": [
    {
     "name": "stdout",
     "output_type": "stream",
     "text": [
      "• Reduced alpha/beta synthesis ratio ⟶ Imbalanced hemoglobin synthesis ⟶ Abnormal hemoglobin ⟶ Abnormal erythrocyte morphology ⟶ Abnormality of blood and blood-forming tissues ⟶ Phenotypic abnormality ⟶ All\n"
     ]
    }
   ],
   "source": [
    "paths = networkx.all_simple_paths(\n",
    "    graph,\n",
    "    source=name_to_id['Reduced alpha/beta synthesis ratio'],\n",
    "    target=name_to_id['All']\n",
    ")\n",
    "for path in paths:\n",
    "    print('•', ' ⟶ '.join(id_to_name[node] for node in path))"
   ]
  },
  {
   "cell_type": "code",
   "execution_count": null,
   "metadata": {},
   "outputs": [],
   "source": []
  }
 ],
 "metadata": {
  "kernelspec": {
   "display_name": "my_env",
   "language": "python",
   "name": "my_env"
  },
  "language_info": {
   "codemirror_mode": {
    "name": "ipython",
    "version": 3
   },
   "file_extension": ".py",
   "mimetype": "text/x-python",
   "name": "python",
   "nbconvert_exporter": "python",
   "pygments_lexer": "ipython3",
   "version": "3.6.10"
  }
 },
 "nbformat": 4,
 "nbformat_minor": 4
}
