{
 "cells": [
  {
   "cell_type": "markdown",
   "metadata": {},
   "source": [
    "## 1. Import data\n",
    "\n",
    "ToDo:\n",
    "- also create a makePCA_Cluster function"
   ]
  },
  {
   "cell_type": "code",
   "execution_count": 2,
   "metadata": {},
   "outputs": [],
   "source": [
    "import pandas as pd\n",
    "import numpy as np\n",
    "import DeepPhenotyping_functions as func\n",
    "import matplotlib.pyplot as plt"
   ]
  },
  {
   "cell_type": "code",
   "execution_count": 3,
   "metadata": {},
   "outputs": [
    {
     "data": {
      "text/plain": [
       "<module 'DeepPhenotyping_functions' from 'C:\\\\Users\\\\levrex\\\\Desktop\\\\DeepPhenotypingHPO\\\\DeepPhenotyping_functions.py'>"
      ]
     },
     "execution_count": 3,
     "metadata": {},
     "output_type": "execute_result"
    }
   ],
   "source": [
    "import importlib as imp\n",
    "\n",
    "imp.reload(func)"
   ]
  },
  {
   "cell_type": "markdown",
   "metadata": {},
   "source": [
    "###  Add NAT6"
   ]
  },
  {
   "cell_type": "code",
   "execution_count": 3,
   "metadata": {},
   "outputs": [
    {
     "data": {
      "text/html": [
       "<div>\n",
       "<style scoped>\n",
       "    .dataframe tbody tr th:only-of-type {\n",
       "        vertical-align: middle;\n",
       "    }\n",
       "\n",
       "    .dataframe tbody tr th {\n",
       "        vertical-align: top;\n",
       "    }\n",
       "\n",
       "    .dataframe thead th {\n",
       "        text-align: right;\n",
       "    }\n",
       "</style>\n",
       "<table border=\"1\" class=\"dataframe\">\n",
       "  <thead>\n",
       "    <tr style=\"text-align: right;\">\n",
       "      <th></th>\n",
       "      <th>Category</th>\n",
       "      <th>Id</th>\n",
       "      <th>Protein</th>\n",
       "      <th>High frequency hearing loss</th>\n",
       "      <th>Short stature</th>\n",
       "      <th>microcephaly</th>\n",
       "      <th>hearing loss</th>\n",
       "      <th>ID</th>\n",
       "      <th>Developmental delay (Global)</th>\n",
       "      <th>Motor Delay</th>\n",
       "      <th>...</th>\n",
       "      <th>Recurrent infections</th>\n",
       "      <th>Photosensitivity</th>\n",
       "      <th>Polyarthralgia</th>\n",
       "      <th>Hepatomegaly</th>\n",
       "      <th>Hypothyroidism</th>\n",
       "      <th>Leukocytose</th>\n",
       "      <th>Trombocytopenie</th>\n",
       "      <th>Asthma</th>\n",
       "      <th>Strabismus</th>\n",
       "      <th>Growth hormone deficiency</th>\n",
       "    </tr>\n",
       "  </thead>\n",
       "  <tbody>\n",
       "    <tr>\n",
       "      <th>0</th>\n",
       "      <td>NAT6</td>\n",
       "      <td>Man</td>\n",
       "      <td>L130P</td>\n",
       "      <td>1</td>\n",
       "      <td>0</td>\n",
       "      <td>1</td>\n",
       "      <td>1</td>\n",
       "      <td>1</td>\n",
       "      <td>1</td>\n",
       "      <td>1</td>\n",
       "      <td>...</td>\n",
       "      <td>0</td>\n",
       "      <td>0.0</td>\n",
       "      <td>0.0</td>\n",
       "      <td>0.0</td>\n",
       "      <td>0</td>\n",
       "      <td>0</td>\n",
       "      <td>0</td>\n",
       "      <td>0</td>\n",
       "      <td>1</td>\n",
       "      <td>0</td>\n",
       "    </tr>\n",
       "    <tr>\n",
       "      <th>1</th>\n",
       "      <td>NAT6</td>\n",
       "      <td>Ant</td>\n",
       "      <td>L130P</td>\n",
       "      <td>1</td>\n",
       "      <td>0</td>\n",
       "      <td>1</td>\n",
       "      <td>1</td>\n",
       "      <td>1</td>\n",
       "      <td>1</td>\n",
       "      <td>1</td>\n",
       "      <td>...</td>\n",
       "      <td>0</td>\n",
       "      <td>0.0</td>\n",
       "      <td>0.0</td>\n",
       "      <td>0.0</td>\n",
       "      <td>0</td>\n",
       "      <td>0</td>\n",
       "      <td>0</td>\n",
       "      <td>0</td>\n",
       "      <td>0</td>\n",
       "      <td>0</td>\n",
       "    </tr>\n",
       "  </tbody>\n",
       "</table>\n",
       "<p>2 rows × 96 columns</p>\n",
       "</div>"
      ],
      "text/plain": [
       "  Category   Id Protein High frequency hearing loss Short stature  \\\n",
       "0     NAT6  Man   L130P                           1             0   \n",
       "1     NAT6  Ant   L130P                           1             0   \n",
       "\n",
       "   microcephaly  hearing loss   ID Developmental delay (Global)  Motor Delay  \\\n",
       "0             1             1    1                            1            1   \n",
       "1             1             1    1                            1            1   \n",
       "\n",
       "   ... Recurrent infections Photosensitivity Polyarthralgia Hepatomegaly  \\\n",
       "0  ...                    0              0.0            0.0          0.0   \n",
       "1  ...                    0              0.0            0.0          0.0   \n",
       "\n",
       "  Hypothyroidism Leukocytose Trombocytopenie Asthma Strabismus  \\\n",
       "0              0           0               0      0          1   \n",
       "1              0           0               0      0          0   \n",
       "\n",
       "   Growth hormone deficiency  \n",
       "0                          0  \n",
       "1                          0  \n",
       "\n",
       "[2 rows x 96 columns]"
      ]
     },
     "execution_count": 3,
     "metadata": {},
     "output_type": "execute_result"
    }
   ],
   "source": [
    "df_clust_nat6 = pd.read_csv(r'data/ACTB_ACTG1_NAT6.csv', sep=';', header=0, encoding = \"ISO-8859-1\")\n",
    "\n",
    "df_clust_nat6 = df_clust_nat6.rename(columns={\"Unnamed: 0\" : \"Annotatie\", \"Unnamed: 1\" : \"Category\", \"Unnamed: 2\": \"Id\", \"Unnamed: 3\" : \"Protein\"})\n",
    "\n",
    "df_clust_nat6 = df_clust_nat6[df_clust_nat6['Id'].isin(['Man', 'Ant'])]\n",
    "df_clust_nat6 = df_clust_nat6.reset_index(drop=True)\n",
    "df_clust_nat6 = df_clust_nat6.drop(['Unnamed: 97', 'Unnamed: 98', 'Unnamed: 99'], axis=1)\n",
    "df_clust_nat6['Category'] = pd.Series(['NAT6', 'NAT6'])\n",
    "df_clust_nat6 = df_clust_nat6.fillna(0)\n",
    "df_clust_nat6 = df_clust_nat6.drop(['Annotatie'], axis=1)\n",
    "df_clust_nat6.to_csv(r'data/NAT6_data.csv', index=False)\n",
    "df_clust_nat6.head()"
   ]
  },
  {
   "cell_type": "code",
   "execution_count": 15,
   "metadata": {},
   "outputs": [
    {
     "data": {
      "text/html": [
       "<div>\n",
       "<style scoped>\n",
       "    .dataframe tbody tr th:only-of-type {\n",
       "        vertical-align: middle;\n",
       "    }\n",
       "\n",
       "    .dataframe tbody tr th {\n",
       "        vertical-align: top;\n",
       "    }\n",
       "\n",
       "    .dataframe thead th {\n",
       "        text-align: right;\n",
       "    }\n",
       "</style>\n",
       "<table border=\"1\" class=\"dataframe\">\n",
       "  <thead>\n",
       "    <tr style=\"text-align: right;\">\n",
       "      <th></th>\n",
       "      <th>Unnamed: 0</th>\n",
       "      <th>Gain Of Function</th>\n",
       "      <th>Unnamed: 2</th>\n",
       "      <th>Unnamed: 3</th>\n",
       "      <th>High frequency hearing loss</th>\n",
       "      <th>Short stature</th>\n",
       "      <th>microcephaly</th>\n",
       "      <th>hearing loss</th>\n",
       "      <th>ID</th>\n",
       "      <th>Developmental delay (Global)</th>\n",
       "      <th>...</th>\n",
       "      <th>Hepatomegaly</th>\n",
       "      <th>Hypothyroidism</th>\n",
       "      <th>Leukocytose</th>\n",
       "      <th>Trombocytopenie</th>\n",
       "      <th>Asthma</th>\n",
       "      <th>Strabismus</th>\n",
       "      <th>Growth hormone deficiency</th>\n",
       "      <th>Unnamed: 97</th>\n",
       "      <th>Unnamed: 98</th>\n",
       "      <th>Unnamed: 99</th>\n",
       "    </tr>\n",
       "  </thead>\n",
       "  <tbody>\n",
       "    <tr>\n",
       "      <th>0</th>\n",
       "      <td>NaN</td>\n",
       "      <td>1</td>\n",
       "      <td>61456</td>\n",
       "      <td>p.Arg196Cys</td>\n",
       "      <td>NaN</td>\n",
       "      <td>0</td>\n",
       "      <td>NaN</td>\n",
       "      <td>0</td>\n",
       "      <td>0</td>\n",
       "      <td>NaN</td>\n",
       "      <td>...</td>\n",
       "      <td>NaN</td>\n",
       "      <td>NaN</td>\n",
       "      <td>NaN</td>\n",
       "      <td>NaN</td>\n",
       "      <td>NaN</td>\n",
       "      <td>NaN</td>\n",
       "      <td>NaN</td>\n",
       "      <td>NaN</td>\n",
       "      <td>NaN</td>\n",
       "      <td>NaN</td>\n",
       "    </tr>\n",
       "    <tr>\n",
       "      <th>1</th>\n",
       "      <td>NaN</td>\n",
       "      <td>2</td>\n",
       "      <td>58248</td>\n",
       "      <td>p.Arg196His</td>\n",
       "      <td>NaN</td>\n",
       "      <td>0</td>\n",
       "      <td>0</td>\n",
       "      <td>0</td>\n",
       "      <td>1</td>\n",
       "      <td>1</td>\n",
       "      <td>...</td>\n",
       "      <td>NaN</td>\n",
       "      <td>NaN</td>\n",
       "      <td>NaN</td>\n",
       "      <td>NaN</td>\n",
       "      <td>NaN</td>\n",
       "      <td>NaN</td>\n",
       "      <td>NaN</td>\n",
       "      <td>NaN</td>\n",
       "      <td>NaN</td>\n",
       "      <td>NaN</td>\n",
       "    </tr>\n",
       "    <tr>\n",
       "      <th>2</th>\n",
       "      <td>NaN</td>\n",
       "      <td>3</td>\n",
       "      <td>59169</td>\n",
       "      <td>p.Arg196His</td>\n",
       "      <td>NaN</td>\n",
       "      <td>1</td>\n",
       "      <td>1</td>\n",
       "      <td>0</td>\n",
       "      <td>1</td>\n",
       "      <td>NaN</td>\n",
       "      <td>...</td>\n",
       "      <td>NaN</td>\n",
       "      <td>NaN</td>\n",
       "      <td>NaN</td>\n",
       "      <td>NaN</td>\n",
       "      <td>NaN</td>\n",
       "      <td>NaN</td>\n",
       "      <td>NaN</td>\n",
       "      <td>NaN</td>\n",
       "      <td>NaN</td>\n",
       "      <td>NaN</td>\n",
       "    </tr>\n",
       "    <tr>\n",
       "      <th>3</th>\n",
       "      <td>NaN</td>\n",
       "      <td>4</td>\n",
       "      <td>LR04-173</td>\n",
       "      <td>p.Arg196His</td>\n",
       "      <td>NaN</td>\n",
       "      <td>1</td>\n",
       "      <td>1</td>\n",
       "      <td>1</td>\n",
       "      <td>1</td>\n",
       "      <td>NaN</td>\n",
       "      <td>...</td>\n",
       "      <td>NaN</td>\n",
       "      <td>NaN</td>\n",
       "      <td>NaN</td>\n",
       "      <td>NaN</td>\n",
       "      <td>NaN</td>\n",
       "      <td>NaN</td>\n",
       "      <td>NaN</td>\n",
       "      <td>NaN</td>\n",
       "      <td>NaN</td>\n",
       "      <td>NaN</td>\n",
       "    </tr>\n",
       "    <tr>\n",
       "      <th>4</th>\n",
       "      <td>NaN</td>\n",
       "      <td>5</td>\n",
       "      <td>LR09-079</td>\n",
       "      <td>p.Arg196His</td>\n",
       "      <td>NaN</td>\n",
       "      <td>1</td>\n",
       "      <td>1</td>\n",
       "      <td>0</td>\n",
       "      <td>1</td>\n",
       "      <td>NaN</td>\n",
       "      <td>...</td>\n",
       "      <td>NaN</td>\n",
       "      <td>NaN</td>\n",
       "      <td>NaN</td>\n",
       "      <td>NaN</td>\n",
       "      <td>NaN</td>\n",
       "      <td>NaN</td>\n",
       "      <td>NaN</td>\n",
       "      <td>NaN</td>\n",
       "      <td>NaN</td>\n",
       "      <td>NaN</td>\n",
       "    </tr>\n",
       "  </tbody>\n",
       "</table>\n",
       "<p>5 rows × 100 columns</p>\n",
       "</div>"
      ],
      "text/plain": [
       "  Unnamed: 0 Gain Of Function Unnamed: 2   Unnamed: 3  \\\n",
       "0        NaN                1      61456  p.Arg196Cys   \n",
       "1        NaN                2      58248  p.Arg196His   \n",
       "2        NaN                3      59169  p.Arg196His   \n",
       "3        NaN                4   LR04-173  p.Arg196His   \n",
       "4        NaN                5   LR09-079  p.Arg196His   \n",
       "\n",
       "  High frequency hearing loss Short stature  microcephaly  hearing loss   ID  \\\n",
       "0                         NaN             0           NaN             0    0   \n",
       "1                         NaN             0             0             0    1   \n",
       "2                         NaN             1             1             0    1   \n",
       "3                         NaN             1             1             1    1   \n",
       "4                         NaN             1             1             0    1   \n",
       "\n",
       "  Developmental delay (Global)  ... Hepatomegaly Hypothyroidism Leukocytose  \\\n",
       "0                          NaN  ...          NaN            NaN         NaN   \n",
       "1                            1  ...          NaN            NaN         NaN   \n",
       "2                          NaN  ...          NaN            NaN         NaN   \n",
       "3                          NaN  ...          NaN            NaN         NaN   \n",
       "4                          NaN  ...          NaN            NaN         NaN   \n",
       "\n",
       "  Trombocytopenie Asthma Strabismus Growth hormone deficiency Unnamed: 97  \\\n",
       "0             NaN    NaN        NaN                       NaN         NaN   \n",
       "1             NaN    NaN        NaN                       NaN         NaN   \n",
       "2             NaN    NaN        NaN                       NaN         NaN   \n",
       "3             NaN    NaN        NaN                       NaN         NaN   \n",
       "4             NaN    NaN        NaN                       NaN         NaN   \n",
       "\n",
       "  Unnamed: 98 Unnamed: 99  \n",
       "0         NaN         NaN  \n",
       "1         NaN         NaN  \n",
       "2         NaN         NaN  \n",
       "3         NaN         NaN  \n",
       "4         NaN         NaN  \n",
       "\n",
       "[5 rows x 100 columns]"
      ]
     },
     "execution_count": 15,
     "metadata": {},
     "output_type": "execute_result"
    }
   ],
   "source": [
    "df_clust = pd.read_csv(r'data/ACTB_and_ACTY_genetic_variants.csv', sep=';', header=0, encoding = \"ISO-8859-1\")\n",
    "df_clust.head()"
   ]
  },
  {
   "cell_type": "markdown",
   "metadata": {},
   "source": [
    "### 1.1 process data"
   ]
  },
  {
   "cell_type": "code",
   "execution_count": 16,
   "metadata": {},
   "outputs": [
    {
     "data": {
      "text/html": [
       "<div>\n",
       "<style scoped>\n",
       "    .dataframe tbody tr th:only-of-type {\n",
       "        vertical-align: middle;\n",
       "    }\n",
       "\n",
       "    .dataframe tbody tr th {\n",
       "        vertical-align: top;\n",
       "    }\n",
       "\n",
       "    .dataframe thead th {\n",
       "        text-align: right;\n",
       "    }\n",
       "</style>\n",
       "<table border=\"1\" class=\"dataframe\">\n",
       "  <thead>\n",
       "    <tr style=\"text-align: right;\">\n",
       "      <th></th>\n",
       "      <th>Annotatie</th>\n",
       "      <th>Gain Of Function</th>\n",
       "      <th>Id</th>\n",
       "      <th>Protein</th>\n",
       "      <th>High frequency hearing loss</th>\n",
       "      <th>Short stature</th>\n",
       "      <th>microcephaly</th>\n",
       "      <th>hearing loss</th>\n",
       "      <th>ID</th>\n",
       "      <th>Developmental delay (Global)</th>\n",
       "      <th>...</th>\n",
       "      <th>Hepatomegaly</th>\n",
       "      <th>Hypothyroidism</th>\n",
       "      <th>Leukocytose</th>\n",
       "      <th>Trombocytopenie</th>\n",
       "      <th>Asthma</th>\n",
       "      <th>Strabismus</th>\n",
       "      <th>Growth hormone deficiency</th>\n",
       "      <th>Unnamed: 97</th>\n",
       "      <th>Unnamed: 98</th>\n",
       "      <th>Unnamed: 99</th>\n",
       "    </tr>\n",
       "  </thead>\n",
       "  <tbody>\n",
       "    <tr>\n",
       "      <th>0</th>\n",
       "      <td>NaN</td>\n",
       "      <td>Gain Of Function</td>\n",
       "      <td></td>\n",
       "      <td>NaN</td>\n",
       "      <td>NaN</td>\n",
       "      <td>NaN</td>\n",
       "      <td>NaN</td>\n",
       "      <td>NaN</td>\n",
       "      <td>NaN</td>\n",
       "      <td>NaN</td>\n",
       "      <td>...</td>\n",
       "      <td>NaN</td>\n",
       "      <td>NaN</td>\n",
       "      <td>NaN</td>\n",
       "      <td>NaN</td>\n",
       "      <td>NaN</td>\n",
       "      <td>NaN</td>\n",
       "      <td>NaN</td>\n",
       "      <td>NaN</td>\n",
       "      <td>NaN</td>\n",
       "      <td>NaN</td>\n",
       "    </tr>\n",
       "    <tr>\n",
       "      <th>1</th>\n",
       "      <td>NaN</td>\n",
       "      <td>1</td>\n",
       "      <td>61456</td>\n",
       "      <td>p.Arg196Cys</td>\n",
       "      <td>NaN</td>\n",
       "      <td>0</td>\n",
       "      <td>NaN</td>\n",
       "      <td>0</td>\n",
       "      <td>0</td>\n",
       "      <td>NaN</td>\n",
       "      <td>...</td>\n",
       "      <td>NaN</td>\n",
       "      <td>NaN</td>\n",
       "      <td>NaN</td>\n",
       "      <td>NaN</td>\n",
       "      <td>NaN</td>\n",
       "      <td>NaN</td>\n",
       "      <td>NaN</td>\n",
       "      <td>NaN</td>\n",
       "      <td>NaN</td>\n",
       "      <td>NaN</td>\n",
       "    </tr>\n",
       "    <tr>\n",
       "      <th>2</th>\n",
       "      <td>NaN</td>\n",
       "      <td>2</td>\n",
       "      <td>58248</td>\n",
       "      <td>p.Arg196His</td>\n",
       "      <td>NaN</td>\n",
       "      <td>0</td>\n",
       "      <td>0</td>\n",
       "      <td>0</td>\n",
       "      <td>1</td>\n",
       "      <td>1</td>\n",
       "      <td>...</td>\n",
       "      <td>NaN</td>\n",
       "      <td>NaN</td>\n",
       "      <td>NaN</td>\n",
       "      <td>NaN</td>\n",
       "      <td>NaN</td>\n",
       "      <td>NaN</td>\n",
       "      <td>NaN</td>\n",
       "      <td>NaN</td>\n",
       "      <td>NaN</td>\n",
       "      <td>NaN</td>\n",
       "    </tr>\n",
       "    <tr>\n",
       "      <th>3</th>\n",
       "      <td>NaN</td>\n",
       "      <td>3</td>\n",
       "      <td>59169</td>\n",
       "      <td>p.Arg196His</td>\n",
       "      <td>NaN</td>\n",
       "      <td>1</td>\n",
       "      <td>1</td>\n",
       "      <td>0</td>\n",
       "      <td>1</td>\n",
       "      <td>NaN</td>\n",
       "      <td>...</td>\n",
       "      <td>NaN</td>\n",
       "      <td>NaN</td>\n",
       "      <td>NaN</td>\n",
       "      <td>NaN</td>\n",
       "      <td>NaN</td>\n",
       "      <td>NaN</td>\n",
       "      <td>NaN</td>\n",
       "      <td>NaN</td>\n",
       "      <td>NaN</td>\n",
       "      <td>NaN</td>\n",
       "    </tr>\n",
       "    <tr>\n",
       "      <th>4</th>\n",
       "      <td>NaN</td>\n",
       "      <td>4</td>\n",
       "      <td>LR04-173</td>\n",
       "      <td>p.Arg196His</td>\n",
       "      <td>NaN</td>\n",
       "      <td>1</td>\n",
       "      <td>1</td>\n",
       "      <td>1</td>\n",
       "      <td>1</td>\n",
       "      <td>NaN</td>\n",
       "      <td>...</td>\n",
       "      <td>NaN</td>\n",
       "      <td>NaN</td>\n",
       "      <td>NaN</td>\n",
       "      <td>NaN</td>\n",
       "      <td>NaN</td>\n",
       "      <td>NaN</td>\n",
       "      <td>NaN</td>\n",
       "      <td>NaN</td>\n",
       "      <td>NaN</td>\n",
       "      <td>NaN</td>\n",
       "    </tr>\n",
       "  </tbody>\n",
       "</table>\n",
       "<p>5 rows × 100 columns</p>\n",
       "</div>"
      ],
      "text/plain": [
       "  Annotatie  Gain Of Function        Id      Protein  \\\n",
       "0       NaN  Gain Of Function                    NaN   \n",
       "1       NaN                 1     61456  p.Arg196Cys   \n",
       "2       NaN                 2     58248  p.Arg196His   \n",
       "3       NaN                 3     59169  p.Arg196His   \n",
       "4       NaN                 4  LR04-173  p.Arg196His   \n",
       "\n",
       "  High frequency hearing loss Short stature  microcephaly  hearing loss   ID  \\\n",
       "0                         NaN           NaN           NaN           NaN  NaN   \n",
       "1                         NaN             0           NaN             0    0   \n",
       "2                         NaN             0             0             0    1   \n",
       "3                         NaN             1             1             0    1   \n",
       "4                         NaN             1             1             1    1   \n",
       "\n",
       "  Developmental delay (Global)  ... Hepatomegaly Hypothyroidism Leukocytose  \\\n",
       "0                          NaN  ...          NaN            NaN         NaN   \n",
       "1                          NaN  ...          NaN            NaN         NaN   \n",
       "2                            1  ...          NaN            NaN         NaN   \n",
       "3                          NaN  ...          NaN            NaN         NaN   \n",
       "4                          NaN  ...          NaN            NaN         NaN   \n",
       "\n",
       "  Trombocytopenie Asthma Strabismus Growth hormone deficiency Unnamed: 97  \\\n",
       "0             NaN    NaN        NaN                       NaN         NaN   \n",
       "1             NaN    NaN        NaN                       NaN         NaN   \n",
       "2             NaN    NaN        NaN                       NaN         NaN   \n",
       "3             NaN    NaN        NaN                       NaN         NaN   \n",
       "4             NaN    NaN        NaN                       NaN         NaN   \n",
       "\n",
       "  Unnamed: 98 Unnamed: 99  \n",
       "0         NaN         NaN  \n",
       "1         NaN         NaN  \n",
       "2         NaN         NaN  \n",
       "3         NaN         NaN  \n",
       "4         NaN         NaN  \n",
       "\n",
       "[5 rows x 100 columns]"
      ]
     },
     "execution_count": 16,
     "metadata": {},
     "output_type": "execute_result"
    }
   ],
   "source": [
    "df_pat = df_clust[((df_clust['Unnamed: 2']!='Percentages') & (df_clust['Unnamed: 2']!='Percentage')) ]\n",
    "\n",
    "data = []\n",
    "data.insert(0, {'Unnamed: 0': np.nan, 'Gain Of Function': 'Gain Of Function'})\n",
    "df_pat = pd.concat([pd.DataFrame(data), df_pat], ignore_index=True)\n",
    "df_pat['Unnamed: 2'] = df_pat['Unnamed: 2'].fillna('')\n",
    "df_pat = df_pat[~df_pat['Unnamed: 2'].str.contains('Total')]\n",
    "df_pat = df_pat.rename(columns={\"Unnamed: 0\" : \"Annotatie\", \"Unnamed: 1\" : \"Category\", \"Unnamed: 2\": \"Id\", \"Unnamed: 3\" : \"Protein\"})\n",
    "df_pat = df_pat.reset_index(drop=True)\n",
    "df_pat.head()"
   ]
  },
  {
   "cell_type": "markdown",
   "metadata": {},
   "source": [
    "### 1.2 Partition data - 2 categories"
   ]
  },
  {
   "cell_type": "code",
   "execution_count": 3,
   "metadata": {},
   "outputs": [],
   "source": [
    "df_actb = df_pat.iloc[list(iter(range(df_pat[df_pat['Category']=='ACTG1'].index[0])))]\n",
    "df_actg1 = df_pat.iloc[list(iter(range(df_pat[df_pat['Category']=='ACTG1'].index[0], len(df_pat))))]\n",
    "df_actg1 = df_actg1.reset_index(drop=True)"
   ]
  },
  {
   "cell_type": "markdown",
   "metadata": {},
   "source": [
    "### 1.3 Categorize data"
   ]
  },
  {
   "cell_type": "code",
   "execution_count": 4,
   "metadata": {},
   "outputs": [
    {
     "name": "stderr",
     "output_type": "stream",
     "text": [
      "C:\\Users\\levrex\\Anaconda3\\envs\\my_env\\lib\\site-packages\\ipykernel_launcher.py:17: SettingWithCopyWarning: \n",
      "A value is trying to be set on a copy of a slice from a DataFrame.\n",
      "Try using .loc[row_indexer,col_indexer] = value instead\n",
      "\n",
      "See the caveats in the documentation: https://pandas.pydata.org/pandas-docs/stable/user_guide/indexing.html#returning-a-view-versus-a-copy\n"
     ]
    },
    {
     "data": {
      "text/html": [
       "<div>\n",
       "<style scoped>\n",
       "    .dataframe tbody tr th:only-of-type {\n",
       "        vertical-align: middle;\n",
       "    }\n",
       "\n",
       "    .dataframe tbody tr th {\n",
       "        vertical-align: top;\n",
       "    }\n",
       "\n",
       "    .dataframe thead th {\n",
       "        text-align: right;\n",
       "    }\n",
       "</style>\n",
       "<table border=\"1\" class=\"dataframe\">\n",
       "  <thead>\n",
       "    <tr style=\"text-align: right;\">\n",
       "      <th></th>\n",
       "      <th>Annotatie</th>\n",
       "      <th>Category</th>\n",
       "      <th>Id</th>\n",
       "      <th>Protein</th>\n",
       "      <th>High frequency hearing loss</th>\n",
       "      <th>Short stature</th>\n",
       "      <th>microcephaly</th>\n",
       "      <th>hearing loss</th>\n",
       "      <th>ID</th>\n",
       "      <th>Developmental delay (Global)</th>\n",
       "      <th>...</th>\n",
       "      <th>Hepatomegaly</th>\n",
       "      <th>Hypothyroidism</th>\n",
       "      <th>Leukocytose</th>\n",
       "      <th>Trombocytopenie</th>\n",
       "      <th>Asthma</th>\n",
       "      <th>Strabismus</th>\n",
       "      <th>Growth hormone deficiency</th>\n",
       "      <th>Unnamed: 97</th>\n",
       "      <th>Unnamed: 98</th>\n",
       "      <th>Unnamed: 99</th>\n",
       "    </tr>\n",
       "  </thead>\n",
       "  <tbody>\n",
       "    <tr>\n",
       "      <th>0</th>\n",
       "      <td>NaN</td>\n",
       "      <td></td>\n",
       "      <td></td>\n",
       "      <td>NaN</td>\n",
       "      <td>NaN</td>\n",
       "      <td>NaN</td>\n",
       "      <td>NaN</td>\n",
       "      <td>NaN</td>\n",
       "      <td>NaN</td>\n",
       "      <td>NaN</td>\n",
       "      <td>...</td>\n",
       "      <td>NaN</td>\n",
       "      <td>NaN</td>\n",
       "      <td>NaN</td>\n",
       "      <td>NaN</td>\n",
       "      <td>NaN</td>\n",
       "      <td>NaN</td>\n",
       "      <td>NaN</td>\n",
       "      <td>NaN</td>\n",
       "      <td>NaN</td>\n",
       "      <td>NaN</td>\n",
       "    </tr>\n",
       "    <tr>\n",
       "      <th>1</th>\n",
       "      <td>NaN</td>\n",
       "      <td>Gain Of Function</td>\n",
       "      <td></td>\n",
       "      <td>NaN</td>\n",
       "      <td>NaN</td>\n",
       "      <td>NaN</td>\n",
       "      <td>NaN</td>\n",
       "      <td>NaN</td>\n",
       "      <td>NaN</td>\n",
       "      <td>NaN</td>\n",
       "      <td>...</td>\n",
       "      <td>NaN</td>\n",
       "      <td>NaN</td>\n",
       "      <td>NaN</td>\n",
       "      <td>NaN</td>\n",
       "      <td>NaN</td>\n",
       "      <td>NaN</td>\n",
       "      <td>NaN</td>\n",
       "      <td>NaN</td>\n",
       "      <td>NaN</td>\n",
       "      <td>NaN</td>\n",
       "    </tr>\n",
       "    <tr>\n",
       "      <th>2</th>\n",
       "      <td>NaN</td>\n",
       "      <td>Gain Of Function</td>\n",
       "      <td>LR04-298</td>\n",
       "      <td>p.Ser155Phe</td>\n",
       "      <td>NaN</td>\n",
       "      <td>0</td>\n",
       "      <td>0</td>\n",
       "      <td>NaN</td>\n",
       "      <td>NaN</td>\n",
       "      <td>NaN</td>\n",
       "      <td>...</td>\n",
       "      <td>NaN</td>\n",
       "      <td>NaN</td>\n",
       "      <td>NaN</td>\n",
       "      <td>NaN</td>\n",
       "      <td>NaN</td>\n",
       "      <td>NaN</td>\n",
       "      <td>NaN</td>\n",
       "      <td>NaN</td>\n",
       "      <td>NaN</td>\n",
       "      <td>NaN</td>\n",
       "    </tr>\n",
       "    <tr>\n",
       "      <th>3</th>\n",
       "      <td>NaN</td>\n",
       "      <td>Gain Of Function</td>\n",
       "      <td>LP98-096</td>\n",
       "      <td>p.Ser155Phe</td>\n",
       "      <td>NaN</td>\n",
       "      <td>1</td>\n",
       "      <td>1</td>\n",
       "      <td>0</td>\n",
       "      <td>1</td>\n",
       "      <td>NaN</td>\n",
       "      <td>...</td>\n",
       "      <td>NaN</td>\n",
       "      <td>NaN</td>\n",
       "      <td>NaN</td>\n",
       "      <td>NaN</td>\n",
       "      <td>NaN</td>\n",
       "      <td>NaN</td>\n",
       "      <td>NaN</td>\n",
       "      <td>NaN</td>\n",
       "      <td>NaN</td>\n",
       "      <td>NaN</td>\n",
       "    </tr>\n",
       "    <tr>\n",
       "      <th>4</th>\n",
       "      <td>NaN</td>\n",
       "      <td>Gain Of Function</td>\n",
       "      <td>11-10857</td>\n",
       "      <td>p.Ser155Phe</td>\n",
       "      <td>NaN</td>\n",
       "      <td>NaN</td>\n",
       "      <td>NaN</td>\n",
       "      <td>NaN</td>\n",
       "      <td>NaN</td>\n",
       "      <td>NaN</td>\n",
       "      <td>...</td>\n",
       "      <td>NaN</td>\n",
       "      <td>NaN</td>\n",
       "      <td>NaN</td>\n",
       "      <td>NaN</td>\n",
       "      <td>NaN</td>\n",
       "      <td>NaN</td>\n",
       "      <td>NaN</td>\n",
       "      <td>NaN</td>\n",
       "      <td>NaN</td>\n",
       "      <td>NaN</td>\n",
       "    </tr>\n",
       "  </tbody>\n",
       "</table>\n",
       "<p>5 rows × 100 columns</p>\n",
       "</div>"
      ],
      "text/plain": [
       "  Annotatie          Category        Id      Protein  \\\n",
       "0       NaN                                      NaN   \n",
       "1       NaN  Gain Of Function                    NaN   \n",
       "2       NaN  Gain Of Function  LR04-298  p.Ser155Phe   \n",
       "3       NaN  Gain Of Function  LP98-096  p.Ser155Phe   \n",
       "4       NaN  Gain Of Function  11-10857  p.Ser155Phe   \n",
       "\n",
       "  High frequency hearing loss Short stature  microcephaly  hearing loss   ID  \\\n",
       "0                         NaN           NaN           NaN           NaN  NaN   \n",
       "1                         NaN           NaN           NaN           NaN  NaN   \n",
       "2                         NaN             0             0           NaN  NaN   \n",
       "3                         NaN             1             1             0    1   \n",
       "4                         NaN           NaN           NaN           NaN  NaN   \n",
       "\n",
       "  Developmental delay (Global)  ... Hepatomegaly Hypothyroidism Leukocytose  \\\n",
       "0                          NaN  ...          NaN            NaN         NaN   \n",
       "1                          NaN  ...          NaN            NaN         NaN   \n",
       "2                          NaN  ...          NaN            NaN         NaN   \n",
       "3                          NaN  ...          NaN            NaN         NaN   \n",
       "4                          NaN  ...          NaN            NaN         NaN   \n",
       "\n",
       "  Trombocytopenie Asthma Strabismus Growth hormone deficiency Unnamed: 97  \\\n",
       "0             NaN    NaN        NaN                       NaN         NaN   \n",
       "1             NaN    NaN        NaN                       NaN         NaN   \n",
       "2             NaN    NaN        NaN                       NaN         NaN   \n",
       "3             NaN    NaN        NaN                       NaN         NaN   \n",
       "4             NaN    NaN        NaN                       NaN         NaN   \n",
       "\n",
       "  Unnamed: 98 Unnamed: 99  \n",
       "0         NaN         NaN  \n",
       "1         NaN         NaN  \n",
       "2         NaN         NaN  \n",
       "3         NaN         NaN  \n",
       "4         NaN         NaN  \n",
       "\n",
       "[5 rows x 100 columns]"
      ]
     },
     "execution_count": 4,
     "metadata": {},
     "output_type": "execute_result"
    }
   ],
   "source": [
    "l_categories=['Gain Of Function', 'Other', 'N-terminus', 'Loss of function', 'Other/Fimbrin binding', 'Other/Myosin binding']\n",
    "\n",
    "def categorizeColumn(col, l_categories):\n",
    "    \"\"\"\n",
    "    Assign categories to all rows to facilitate analysis\n",
    "    (becomes easy to color on category)\n",
    "    \"\"\"\n",
    "    new_col = []\n",
    "    category= ''\n",
    "    for val in col: \n",
    "        if val in l_categories:\n",
    "            category = val\n",
    "        new_col.append(category)\n",
    "    return new_col\n",
    "\n",
    "df_actg1['Category'] = categorizeColumn(df_actg1['Category'], l_categories)\n",
    "df_actb['Category'] = categorizeColumn(df_actb['Category'], l_categories)    \n",
    "df_actg1.head()"
   ]
  },
  {
   "cell_type": "markdown",
   "metadata": {},
   "source": [
    "### 1.4 Early Data Exploration"
   ]
  },
  {
   "cell_type": "markdown",
   "metadata": {},
   "source": [
    "#### ACTG1"
   ]
  },
  {
   "cell_type": "code",
   "execution_count": 6,
   "metadata": {},
   "outputs": [],
   "source": [
    "df_actg1 = df_actg1[df_actg1['Category']!='']\n",
    "df_actg1 = df_actg1.dropna(thresh=3)\n",
    "df_actb = df_actb.dropna(thresh=3)"
   ]
  },
  {
   "cell_type": "code",
   "execution_count": 7,
   "metadata": {},
   "outputs": [
    {
     "name": "stdout",
     "output_type": "stream",
     "text": [
      "(3, 1, 1, 31, 2, 1)\n"
     ]
    },
    {
     "data": {
      "image/png": "[encoded data removed]",
      "text/plain": [
       "<Figure size 360x360 with 1 Axes>"
      ]
     },
     "metadata": {
      "needs_background": "light"
     },
     "output_type": "display_data"
    }
   ],
   "source": [
    "from collections import Counter\n",
    "\n",
    "labels, values = zip(*Counter(df_actg1['Category']).items())\n",
    "print(values)\n",
    "df = pd.DataFrame({'section':labels, 'frequency':values})\n",
    "ax = df.plot(kind='bar',  title =\"Categories Variable\", figsize=(5, 5), x='section', legend=True, fontsize=12, rot=90)"
   ]
  },
  {
   "cell_type": "code",
   "execution_count": 8,
   "metadata": {},
   "outputs": [
    {
     "name": "stdout",
     "output_type": "stream",
     "text": [
      "(11, 11, 7, 45)\n"
     ]
    },
    {
     "data": {
      "image/png": "[encoded data removed]",
      "text/plain": [
       "<Figure size 360x360 with 1 Axes>"
      ]
     },
     "metadata": {
      "needs_background": "light"
     },
     "output_type": "display_data"
    }
   ],
   "source": [
    "from collections import Counter\n",
    "\n",
    "labels, values = zip(*Counter(df_actb['Category']).items())\n",
    "print(values)\n",
    "df = pd.DataFrame({'section':labels, 'frequency':values})\n",
    "ax = df.plot(kind='bar',  title =\"Categories Variable\", figsize=(5, 5), x='section', legend=True, fontsize=12, rot=90)"
   ]
  },
  {
   "cell_type": "code",
   "execution_count": 108,
   "metadata": {},
   "outputs": [
    {
     "data": {
      "image/png": "[encoded data removed]",
      "text/plain": [
       "<Figure size 432x288 with 1 Axes>"
      ]
     },
     "metadata": {
      "needs_background": "light"
     },
     "output_type": "display_data"
    }
   ],
   "source": [
    "import seaborn as sns\n",
    "\n",
    "heatmap = sns.heatmap(df_actb.isnull(), cbar=False)\n",
    "heatmap.figure.savefig(\"figures/ACTB_missingness.png\")"
   ]
  },
  {
   "cell_type": "markdown",
   "metadata": {},
   "source": [
    "### 1.5 Replace Na with 0"
   ]
  },
  {
   "cell_type": "code",
   "execution_count": 9,
   "metadata": {},
   "outputs": [],
   "source": [
    "df_actb = df_actb.fillna(0)\n",
    "df_actb = df_actb.drop(['Annotatie'], axis=1)\n",
    "df_actb = df_actb[(~df_actb['Protein'].isin(['Total', 'Percentage']))]\n",
    "df_actg1 = df_actg1.fillna(0)\n",
    "df_actg1 = df_actg1.drop(['Annotatie'], axis=1)"
   ]
  },
  {
   "cell_type": "code",
   "execution_count": 12,
   "metadata": {},
   "outputs": [],
   "source": [
    "cols = list(df_actb.loc[:, ~df_actb.columns.isin(['Category', 'Id', 'Protein', 'Origin'])].columns)\n",
    "for col in cols:\n",
    "    df_actb[col] = pd.to_numeric(df_actb[col], errors='coerce')"
   ]
  },
  {
   "cell_type": "markdown",
   "metadata": {},
   "source": [
    "### 1.6 artefact in ACTG1\n",
    "High palate should only contain numeric values but contains a string"
   ]
  },
  {
   "cell_type": "code",
   "execution_count": 5,
   "metadata": {},
   "outputs": [
    {
     "name": "stdout",
     "output_type": "stream",
     "text": [
      "Category\n",
      "Id\n",
      "Protein\n",
      "High palate\n",
      "\n",
      "Apparently \"High palate\" consists of string values, lets see what goes wrong:\n"
     ]
    },
    {
     "data": {
      "text/plain": [
       "4    NA \n",
       "Name: High palate, dtype: object"
      ]
     },
     "execution_count": 5,
     "metadata": {},
     "output_type": "execute_result"
    }
   ],
   "source": [
    "for col in list(df_actg1.columns):\n",
    "    if df_actg1[col].dtype=='object':\n",
    "        print(col)\n",
    "print('\\nApparently \"High palate\" consists of string values, lets see what goes wrong:')\n",
    "df_actg1[~(df_actg1['High palate'].isin(['0','1']))]['High palate']"
   ]
  },
  {
   "cell_type": "markdown",
   "metadata": {},
   "source": [
    "#### replace remaining Nan"
   ]
  },
  {
   "cell_type": "code",
   "execution_count": 6,
   "metadata": {},
   "outputs": [],
   "source": [
    "df_actg1[\"High palate\"].replace({'0': 0, '1': 1, 'NA ': 0}, inplace=True) # "
   ]
  },
  {
   "cell_type": "markdown",
   "metadata": {},
   "source": [
    "### 1.6 Write to csv"
   ]
  },
  {
   "cell_type": "code",
   "execution_count": 7,
   "metadata": {},
   "outputs": [],
   "source": [
    "df_actb = df_actb.drop(['Unnamed: 97', 'Unnamed: 98', 'Unnamed: 99'], axis=1)\n",
    "df_actg1 = df_actg1.drop(['Unnamed: 97', 'Unnamed: 98', 'Unnamed: 99'], axis=1)\n",
    "#df_actb.to_csv(r'data/ACTB_data.csv', index=False)\n",
    "#df_actg1.to_csv(r'data/ACTG1_data.csv', index=False)"
   ]
  },
  {
   "cell_type": "markdown",
   "metadata": {},
   "source": [
    "### 1.7 Read csv"
   ]
  },
  {
   "cell_type": "code",
   "execution_count": 2,
   "metadata": {},
   "outputs": [
    {
     "data": {
      "text/html": [
       "<div>\n",
       "<style scoped>\n",
       "    .dataframe tbody tr th:only-of-type {\n",
       "        vertical-align: middle;\n",
       "    }\n",
       "\n",
       "    .dataframe tbody tr th {\n",
       "        vertical-align: top;\n",
       "    }\n",
       "\n",
       "    .dataframe thead th {\n",
       "        text-align: right;\n",
       "    }\n",
       "</style>\n",
       "<table border=\"1\" class=\"dataframe\">\n",
       "  <thead>\n",
       "    <tr style=\"text-align: right;\">\n",
       "      <th></th>\n",
       "      <th>Category</th>\n",
       "      <th>Id</th>\n",
       "      <th>Protein</th>\n",
       "      <th>High frequency hearing loss</th>\n",
       "      <th>Short stature</th>\n",
       "      <th>microcephaly</th>\n",
       "      <th>hearing loss</th>\n",
       "      <th>ID</th>\n",
       "      <th>Developmental delay (Global)</th>\n",
       "      <th>Motor Delay</th>\n",
       "      <th>...</th>\n",
       "      <th>Recurrent infections</th>\n",
       "      <th>Photosensitivity</th>\n",
       "      <th>Polyarthralgia</th>\n",
       "      <th>Hepatomegaly</th>\n",
       "      <th>Hypothyroidism</th>\n",
       "      <th>Leukocytose</th>\n",
       "      <th>Trombocytopenie</th>\n",
       "      <th>Asthma</th>\n",
       "      <th>Strabismus</th>\n",
       "      <th>Growth hormone deficiency</th>\n",
       "    </tr>\n",
       "  </thead>\n",
       "  <tbody>\n",
       "    <tr>\n",
       "      <th>0</th>\n",
       "      <td>NAT6</td>\n",
       "      <td>Man</td>\n",
       "      <td>L130P</td>\n",
       "      <td>1</td>\n",
       "      <td>0</td>\n",
       "      <td>1</td>\n",
       "      <td>1</td>\n",
       "      <td>1</td>\n",
       "      <td>1</td>\n",
       "      <td>1</td>\n",
       "      <td>...</td>\n",
       "      <td>0</td>\n",
       "      <td>0.0</td>\n",
       "      <td>0.0</td>\n",
       "      <td>0.0</td>\n",
       "      <td>0</td>\n",
       "      <td>0</td>\n",
       "      <td>0</td>\n",
       "      <td>0</td>\n",
       "      <td>1</td>\n",
       "      <td>0</td>\n",
       "    </tr>\n",
       "    <tr>\n",
       "      <th>1</th>\n",
       "      <td>NAT6</td>\n",
       "      <td>Ant</td>\n",
       "      <td>L130P</td>\n",
       "      <td>1</td>\n",
       "      <td>0</td>\n",
       "      <td>1</td>\n",
       "      <td>1</td>\n",
       "      <td>1</td>\n",
       "      <td>1</td>\n",
       "      <td>1</td>\n",
       "      <td>...</td>\n",
       "      <td>0</td>\n",
       "      <td>0.0</td>\n",
       "      <td>0.0</td>\n",
       "      <td>0.0</td>\n",
       "      <td>0</td>\n",
       "      <td>0</td>\n",
       "      <td>0</td>\n",
       "      <td>0</td>\n",
       "      <td>0</td>\n",
       "      <td>0</td>\n",
       "    </tr>\n",
       "  </tbody>\n",
       "</table>\n",
       "<p>2 rows × 96 columns</p>\n",
       "</div>"
      ],
      "text/plain": [
       "  Category   Id Protein  High frequency hearing loss  Short stature  \\\n",
       "0     NAT6  Man   L130P                            1              0   \n",
       "1     NAT6  Ant   L130P                            1              0   \n",
       "\n",
       "    microcephaly   hearing loss    ID  Developmental delay (Global)  \\\n",
       "0              1              1     1                             1   \n",
       "1              1              1     1                             1   \n",
       "\n",
       "    Motor Delay  ...  Recurrent infections  Photosensitivity  Polyarthralgia  \\\n",
       "0             1  ...                     0               0.0             0.0   \n",
       "1             1  ...                     0               0.0             0.0   \n",
       "\n",
       "   Hepatomegaly  Hypothyroidism  Leukocytose  Trombocytopenie  Asthma  \\\n",
       "0           0.0               0            0                0       0   \n",
       "1           0.0               0            0                0       0   \n",
       "\n",
       "   Strabismus  Growth hormone deficiency  \n",
       "0           1                          0  \n",
       "1           0                          0  \n",
       "\n",
       "[2 rows x 96 columns]"
      ]
     },
     "execution_count": 2,
     "metadata": {},
     "output_type": "execute_result"
    }
   ],
   "source": [
    "df_actb = pd.read_csv(r'data/ACTB_data.csv', sep=',', header=0)\n",
    "df_actg1 = pd.read_csv(r'data/ACTG1_data.csv', sep=',', header=0)\n",
    "df_nat6 = pd.read_csv(r'data/NAT6_data.csv', sep=',', header=0)\n",
    "df_nat6.head()"
   ]
  },
  {
   "cell_type": "markdown",
   "metadata": {},
   "source": [
    "### 1.7 Distance metrics"
   ]
  },
  {
   "cell_type": "code",
   "execution_count": 6,
   "metadata": {},
   "outputs": [
    {
     "data": {
      "text/plain": [
       "1.0"
      ]
     },
     "execution_count": 6,
     "metadata": {},
     "output_type": "execute_result"
    }
   ],
   "source": [
    "from scipy.spatial import distance\n",
    "distance.dice(np.array(list1), np.array(list2))"
   ]
  },
  {
   "cell_type": "markdown",
   "metadata": {},
   "source": [
    "### Hierarchy"
   ]
  },
  {
   "cell_type": "code",
   "execution_count": 4,
   "metadata": {},
   "outputs": [],
   "source": [
    "from sklearn.cluster import AgglomerativeClustering\n",
    "import scipy.cluster.hierarchy as sch"
   ]
  },
  {
   "cell_type": "code",
   "execution_count": 34,
   "metadata": {},
   "outputs": [
    {
     "data": {
      "image/png": "[encoded data removed]",
      "text/plain": [
       "<Figure size 432x288 with 1 Axes>"
      ]
     },
     "metadata": {
      "needs_background": "light"
     },
     "output_type": "display_data"
    }
   ],
   "source": [
    "cols = list(df_actg1.loc[:, ~df_actg1.columns.isin(['Category', 'Id', 'Protein'])].columns)\n",
    "# can i color on category? for the dendogram\n",
    "X = df_actb.loc[:, cols].values # actg1\n",
    "#dendrogram = sch.dendrogram(sch.linkage(X, method='ward'))\n",
    "dendrogram = sch.dendrogram(sch.linkage(X, metric='hamming'))"
   ]
  },
  {
   "cell_type": "markdown",
   "metadata": {},
   "source": [
    "### PCA"
   ]
  },
  {
   "cell_type": "code",
   "execution_count": 60,
   "metadata": {},
   "outputs": [
    {
     "name": "stdout",
     "output_type": "stream",
     "text": [
      "Explained PCA:\tPC1= 0.1525808108972224 \tPC2= 0.1368347541419692\n",
      "PCA figure saved under location: PCA/phenoMap_pca_All.html\n"
     ]
    }
   ],
   "source": [
    "from bokeh.palettes import Spectral11\n",
    "\n",
    "X = df_all.loc[:, cols].values\n",
    "func.makePCA(X, df_all['Id'], df_all['Category'], title='All', pal=Spectral11, seed=1234)"
   ]
  },
  {
   "cell_type": "code",
   "execution_count": 55,
   "metadata": {},
   "outputs": [
    {
     "name": "stdout",
     "output_type": "stream",
     "text": [
      "Explained PCA:\tPC1= 0.42816090857553657 \tPC2= 0.154240353322886\n",
      "PCA figure saved under location: PCA/phenoMap_pca_ACTG1.html\n"
     ]
    }
   ],
   "source": [
    "from bokeh.palettes import Spectral6\n",
    "\n",
    "X = df_actg1.loc[:, cols].values\n",
    "func.makePCA(X, df_actg1['Id'], df_actg1['Category'], title='ACTG1', pal=Spectral6, seed=1234)"
   ]
  },
  {
   "cell_type": "code",
   "execution_count": 57,
   "metadata": {},
   "outputs": [
    {
     "name": "stdout",
     "output_type": "stream",
     "text": [
      "Explained PCA:\tPC1= 0.15434521073158977 \tPC2= 0.09377883376897167\n",
      "PCA figure saved under location: PCA/phenoMap_pca_ACTB.html\n"
     ]
    }
   ],
   "source": [
    "from bokeh.palettes import Spectral4\n",
    "\n",
    "X = df_actb.loc[:, cols].values\n",
    "func.makePCA(X, df_actb['Id'], df_actb['Category'], title='ACTB', pal=Spectral4, seed=1234)"
   ]
  },
  {
   "cell_type": "markdown",
   "metadata": {},
   "source": [
    "### Merge all data"
   ]
  },
  {
   "cell_type": "code",
   "execution_count": 3,
   "metadata": {},
   "outputs": [],
   "source": [
    "#df_actg1['Category'] = df_actg1['Category'] + ' (ACTG1)'\n",
    "#df_actb['Category'] = df_actb['Category'] + ' (ACTB)'\n",
    "df_actb['Origin'] = 'ACTB'\n",
    "df_actg1['Origin'] = 'ACTG1'\n",
    "df_nat6['Origin'] = 'NAT6'"
   ]
  },
  {
   "cell_type": "code",
   "execution_count": 4,
   "metadata": {},
   "outputs": [],
   "source": [
    "cols = list(df_actg1.loc[:, ~df_actg1.columns.isin(['Category', 'Id', 'Protein', 'Origin'])].columns)\n",
    "df_all = pd.concat([df_actg1, df_nat6], ignore_index=True)\n",
    "df_all = pd.concat([df_all, df_actb], ignore_index=True)"
   ]
  },
  {
   "cell_type": "code",
   "execution_count": 244,
   "metadata": {},
   "outputs": [],
   "source": [
    "#df_all.head()"
   ]
  },
  {
   "cell_type": "code",
   "execution_count": 59,
   "metadata": {},
   "outputs": [],
   "source": [
    "df_freq = df_all[l_cols].groupby('Category')[cols].apply(lambda x: x.sum() / len(x))\n",
    "df_freq = df_freq.reset_index()\n",
    "df_freq.to_csv(r'data/freq_ALL_data.csv', index=False)"
   ]
  },
  {
   "cell_type": "code",
   "execution_count": 68,
   "metadata": {},
   "outputs": [
    {
     "name": "stdout",
     "output_type": "stream",
     "text": [
      "[t-SNE] Computing 10 nearest neighbors...\n",
      "[t-SNE] Indexed 11 samples in 0.000s...\n",
      "[t-SNE] Computed neighbors for 11 samples in 0.002s...\n",
      "[t-SNE] Computed conditional probabilities for sample 11 / 11\n",
      "[t-SNE] Mean sigma: 1125899906842624.000000\n",
      "[t-SNE] KL divergence after 250 iterations with early exaggeration: 60.104851\n",
      "[t-SNE] KL divergence after 1000 iterations: 0.268364\n",
      "\n",
      "TSNE figure saved under location: TSNE/phenoMap_tsne_All_freq.html\n"
     ]
    }
   ],
   "source": [
    "from bokeh.palettes import Spectral11\n",
    "from bokeh.palettes import Spectral4\n",
    "\n",
    "\n",
    "X = df_freq.loc[:, cols].values\n",
    "func.makeTSNE(X, df_freq['Category'], df_freq['Category'], title='All_freq', pal=Spectral11, perp=50)"
   ]
  },
  {
   "cell_type": "code",
   "execution_count": 7,
   "metadata": {},
   "outputs": [
    {
     "name": "stdout",
     "output_type": "stream",
     "text": [
      "[t-SNE] Computing 38 nearest neighbors...\n",
      "[t-SNE] Indexed 39 samples in 0.000s...\n",
      "[t-SNE] Computed neighbors for 39 samples in 0.076s...\n",
      "[t-SNE] Computed conditional probabilities for sample 39 / 39\n",
      "[t-SNE] Mean sigma: 2.005173\n",
      "[t-SNE] KL divergence after 250 iterations with early exaggeration: 47.219994\n",
      "[t-SNE] KL divergence after 1000 iterations: 0.399437\n"
     ]
    },
    {
     "name": "stderr",
     "output_type": "stream",
     "text": [
      "C:\\Users\\levrex\\Anaconda3\\envs\\my_env\\lib\\site-packages\\bokeh\\models\\mappers.py:147: UserWarning: Palette length does not match number of factors. ['Loss of function'] will be assigned to `nan_color` gray\n",
      "  warnings.warn(\"Palette length does not match number of factors. %s will be assigned to `nan_color` %s\" % (extra_factors, self.nan_color))\n"
     ]
    },
    {
     "name": "stdout",
     "output_type": "stream",
     "text": [
      "\n",
      "TSNE figure saved under location: TSNE/phenoMap_tsne_ACTG1.html\n"
     ]
    }
   ],
   "source": [
    "from bokeh.palettes import Spectral6\n",
    "from bokeh.palettes import Spectral4\n",
    "\n",
    "X = df_actg1.loc[:, cols].values \n",
    "func.makeTSNE(X, df_actg1['Id'], df_actg1['Category'], title='ACTG1', pal=Spectral6)"
   ]
  },
  {
   "cell_type": "code",
   "execution_count": 135,
   "metadata": {},
   "outputs": [
    {
     "name": "stdout",
     "output_type": "stream",
     "text": [
      "[t-SNE] Computing 38 nearest neighbors...\n",
      "[t-SNE] Indexed 39 samples in 0.000s...\n",
      "[t-SNE] Computed neighbors for 39 samples in 0.002s...\n",
      "[t-SNE] Computed conditional probabilities for sample 39 / 39\n",
      "[t-SNE] Mean sigma: 2.005173\n",
      "[t-SNE] KL divergence after 250 iterations with early exaggeration: 49.074551\n",
      "[t-SNE] KL divergence after 1000 iterations: 0.393585\n",
      "\n",
      "TSNE figure saved under location: TSNE/phenoMap_tsne_ACTG1.html\n"
     ]
    }
   ],
   "source": [
    "from bokeh.palettes import Spectral6\n",
    "X = df_actg1.loc[:, cols].values\n",
    "func.makeTSNE(X, df_actg1['Id'], df_actg1['Category'], title='ACTG1', pal=Spectral6)"
   ]
  },
  {
   "cell_type": "code",
   "execution_count": 321,
   "metadata": {},
   "outputs": [
    {
     "name": "stdout",
     "output_type": "stream",
     "text": [
      "Explained PCA:\tPC1= 0.7177082623407349 \tPC2= 0.13022653723290842\n",
      "PCA figure saved under location: PCA/phenoMap_pca_All.html\n"
     ]
    }
   ],
   "source": []
  },
  {
   "cell_type": "markdown",
   "metadata": {},
   "source": [
    "## 2. Hierarchical Agglomerative Clustering"
   ]
  },
  {
   "cell_type": "code",
   "execution_count": 118,
   "metadata": {},
   "outputs": [
    {
     "name": "stderr",
     "output_type": "stream",
     "text": [
      "C:\\Users\\levrex\\Anaconda3\\envs\\my_env\\lib\\site-packages\\ipykernel_launcher.py:5: ClusterWarning: scipy.cluster: The symmetric non-negative hollow observation matrix looks suspiciously like an uncondensed distance matrix\n",
      "  \"\"\"\n"
     ]
    },
    {
     "data": {
      "image/png": "[encoded data removed]",
      "text/plain": [
       "<Figure size 432x288 with 1 Axes>"
      ]
     },
     "metadata": {
      "needs_background": "light"
     },
     "output_type": "display_data"
    }
   ],
   "source": [
    "from scipy.cluster.hierarchy import linkage, fcluster, dendrogram\n",
    "from sklearn.datasets import make_blobs\n",
    "# n_features=2, \n",
    "Z = linkage(X_trans, method='ward')\n",
    "\n",
    "plt.figure()\n",
    "dendrogram(Z)\n",
    "plt.show()"
   ]
  },
  {
   "cell_type": "code",
   "execution_count": 12,
   "metadata": {},
   "outputs": [
    {
     "data": {
      "image/png": "[encoded data removed]",
      "text/plain": [
       "<Figure size 432x288 with 1 Axes>"
      ]
     },
     "metadata": {
      "needs_background": "light"
     },
     "output_type": "display_data"
    }
   ],
   "source": [
    "from scipy.cluster.hierarchy import linkage, fcluster, dendrogram\n",
    "from sklearn.datasets import make_blobs\n",
    "import matplotlib.pyplot as plt\n",
    "# n_features=2, \n",
    "X, cl = make_blobs(n_samples=20, centers=4, cluster_std=0.5, random_state=0)\n",
    "Z = linkage(X, method='ward')\n",
    "\n",
    "plt.figure()\n",
    "dendrogram(Z)\n",
    "plt.show()"
   ]
  },
  {
   "cell_type": "markdown",
   "metadata": {},
   "source": [
    "## Perform PCA or TSNE prior to clustering"
   ]
  },
  {
   "cell_type": "code",
   "execution_count": 406,
   "metadata": {},
   "outputs": [
    {
     "name": "stdout",
     "output_type": "stream",
     "text": [
      "Nr of components:  9\n"
     ]
    }
   ],
   "source": [
    "from sklearn.decomposition import PCA\n",
    "\n",
    "pca = PCA(.95) # , svd_solver='full' \n",
    "X = df_actg1.loc[:, cols].values # df_actg1.loc[:, cols].values # \n",
    "X_trans = pca.fit_transform(X)\n",
    "print('Nr of components: ', pca.n_components_)\n",
    "#X_trans"
   ]
  },
  {
   "cell_type": "code",
   "execution_count": 23,
   "metadata": {},
   "outputs": [
    {
     "name": "stdout",
     "output_type": "stream",
     "text": [
      "[t-SNE] Computing 71 nearest neighbors...\n",
      "[t-SNE] Indexed 72 samples in 0.001s...\n",
      "[t-SNE] Computed neighbors for 72 samples in 0.002s...\n",
      "[t-SNE] Computed conditional probabilities for sample 72 / 72\n",
      "[t-SNE] Mean sigma: 1.532536\n",
      "[t-SNE] KL divergence after 250 iterations with early exaggeration: 62.980831\n",
      "[t-SNE] KL divergence after 1000 iterations: 0.490948\n",
      "KMeans(n_clusters=4, random_state=0)\n",
      "\n",
      "TSNE figure saved under location: TSNE/Kmeans_phenoMap_tsne_ACTB.html\n"
     ]
    }
   ],
   "source": [
    "#import importlib\n",
    "#importlib.reload(func)\n",
    "X = df_actb.loc[:, cols].values\n",
    "func.makeTSNE_Cluster(X, df_actb['Id'], df_actb['Category'], title='ACTB', clusters=4, pal=Spectral4)"
   ]
  },
  {
   "cell_type": "code",
   "execution_count": 30,
   "metadata": {},
   "outputs": [
    {
     "name": "stdout",
     "output_type": "stream",
     "text": [
      "[t-SNE] Computing 91 nearest neighbors...\n",
      "[t-SNE] Indexed 113 samples in 0.000s...\n",
      "[t-SNE] Computed neighbors for 113 samples in 0.002s...\n",
      "[t-SNE] Computed conditional probabilities for sample 113 / 113\n",
      "[t-SNE] Mean sigma: 1.252527\n",
      "[t-SNE] KL divergence after 250 iterations with early exaggeration: 61.845528\n",
      "[t-SNE] KL divergence after 900 iterations: 0.306842\n",
      "KMeans(n_clusters=10, random_state=0)\n",
      "\n",
      "TSNE figure saved under location: TSNE/Kmeans_phenoMap_tsne_All.html\n"
     ]
    },
    {
     "name": "stderr",
     "output_type": "stream",
     "text": [
      "C:\\Users\\levrex\\Anaconda3\\envs\\my_env\\lib\\site-packages\\bokeh\\models\\mappers.py:147: UserWarning: Palette length does not match number of factors. ['Loss of function (ACTB)'] will be assigned to `nan_color` gray\n",
      "  warnings.warn(\"Palette length does not match number of factors. %s will be assigned to `nan_color` %s\" % (extra_factors, self.nan_color))\n"
     ]
    }
   ],
   "source": [
    "X = df_all.loc[:, cols].values\n",
    "func.makeTSNE_Cluster(X, df_all['Id'], df_all['Category'], title='All', clusters=10, pal=Spectral10)"
   ]
  },
  {
   "cell_type": "code",
   "execution_count": 24,
   "metadata": {},
   "outputs": [
    {
     "name": "stdout",
     "output_type": "stream",
     "text": [
      "[t-SNE] Computing 38 nearest neighbors...\n",
      "[t-SNE] Indexed 39 samples in 0.000s...\n",
      "[t-SNE] Computed neighbors for 39 samples in 0.002s...\n",
      "[t-SNE] Computed conditional probabilities for sample 39 / 39\n",
      "[t-SNE] Mean sigma: 2.005173\n",
      "[t-SNE] KL divergence after 250 iterations with early exaggeration: 47.219994\n",
      "[t-SNE] KL divergence after 1000 iterations: 0.399437\n",
      "KMeans(n_clusters=6, random_state=0)\n",
      "\n",
      "TSNE figure saved under location: TSNE/Kmeans_phenoMap_tsne_ACTG1.html\n"
     ]
    }
   ],
   "source": [
    "X = df_actg1.loc[:, cols].values\n",
    "func.makeTSNE_Cluster(X, df_actg1['Id'], df_actg1['Category'], title='ACTG1', clusters=6, pal=Spectral6)"
   ]
  },
  {
   "cell_type": "markdown",
   "metadata": {},
   "source": [
    "## Decide nr of clusters"
   ]
  },
  {
   "cell_type": "code",
   "execution_count": 68,
   "metadata": {},
   "outputs": [],
   "source": [
    "from scipy.spatial.distance import pdist\n",
    "from scipy.spatial.distance import squareform\n",
    "\n",
    "cols = list(df_actb.loc[:, ~df_actb.columns.isin(['Category', 'Id', 'Protein', 'Origin'])].columns)\n",
    "\n",
    "bool_dist = ['rogerstanimoto', 'hamming', 'jaccard', 'dice', 'kulsinski']\n",
    "\n",
    "distance = bool_dist[2]\n",
    "\n",
    "df = df_all.copy()\n",
    "df = df.sample(frac=1)\n",
    "pairwise = pd.DataFrame(\n",
    "    squareform(pdist(df[cols], metric=distance)),\n",
    "    columns = df['Id'],\n",
    "    index = df['Id']\n",
    ")\n",
    "\n",
    "X_trans = pairwise.values "
   ]
  },
  {
   "cell_type": "code",
   "execution_count": 60,
   "metadata": {},
   "outputs": [],
   "source": [
    "#from bokeh.palettes import Spectral8\n",
    "#X_trans = df_actg1.loc[:, cols].values\n",
    "#func.makePCA(X_trans, df_all['Id'], df_all['Category'], title='All', pal=Spectral8)"
   ]
  },
  {
   "cell_type": "code",
   "execution_count": 69,
   "metadata": {},
   "outputs": [
    {
     "data": {
      "image/png": "[encoded data removed]",
      "text/plain": [
       "<Figure size 864x432 with 2 Axes>"
      ]
     },
     "metadata": {
      "needs_background": "light"
     },
     "output_type": "display_data"
    },
    {
     "name": "stdout",
     "output_type": "stream",
     "text": [
      "Nr of clusters = 4\n"
     ]
    }
   ],
   "source": [
    "k = func.elbowMethod(X_trans, method='kmeans', n=30)\n",
    "print('Nr of clusters = %s' % (k))"
   ]
  },
  {
   "cell_type": "code",
   "execution_count": 70,
   "metadata": {},
   "outputs": [
    {
     "data": {
      "image/png": "[encoded data removed]",
      "text/plain": [
       "<Figure size 432x288 with 1 Axes>"
      ]
     },
     "metadata": {
      "needs_background": "light"
     },
     "output_type": "display_data"
    }
   ],
   "source": [
    "from sklearn.cluster import KMeans\n",
    "\n",
    "kmeans = KMeans(n_clusters=k, init='k-means++', max_iter=300, n_init=10, random_state=0)\n",
    "pred_y = kmeans.fit_predict(X_trans)\n",
    "plt.scatter(X_trans[:,0], X_trans[:,1])\n",
    "plt.scatter(kmeans.cluster_centers_[:, 0], kmeans.cluster_centers_[:, 1], s=300, c='red')\n",
    "plt.show()\n",
    "\n",
    "df['cluster'] = kmeans.fit_predict(X_trans)"
   ]
  },
  {
   "cell_type": "code",
   "execution_count": 63,
   "metadata": {},
   "outputs": [
    {
     "data": {
      "image/png": "[encoded data removed]",
      "text/plain": [
       "<Figure size 432x288 with 1 Axes>"
      ]
     },
     "metadata": {
      "needs_background": "light"
     },
     "output_type": "display_data"
    }
   ],
   "source": [
    "import skfuzzy as fuzz\n",
    "#k = 7\n",
    "cntr_trained, u, u0, d, jm, p, fpc  = fuzz.cluster.cmeans(\n",
    "        X_trans, k, 2, error=0.005, maxiter=1000, init=None, seed=123)\n",
    "u, u0, d, jm, p, fpc = fuzz.cluster.cmeans_predict(X_trans, cntr_trained, 2, error=0.005, maxiter=1000, init=None, seed=123)\n",
    "cluster_membership = np.argmax(u, axis=0)\n",
    "\n",
    "fig3, ax3 = plt.subplots()\n",
    "ax3.set_title('Random points classifed according to known centers')\n",
    "for j in range(k):\n",
    "    ax3.plot(X_trans[cluster_membership == j, 1],\n",
    "             X_trans[cluster_membership == j, 2], 'o',\n",
    "             label='series ' + str(j))\n",
    "ax3.legend()\n",
    "\n",
    "plt.show()\n",
    "\n",
    "df['cluster'] = cluster_membership"
   ]
  },
  {
   "cell_type": "code",
   "execution_count": 71,
   "metadata": {},
   "outputs": [
    {
     "data": {
      "text/plain": [
       "<matplotlib.axes._subplots.AxesSubplot at 0x2113b17e9e8>"
      ]
     },
     "execution_count": 71,
     "metadata": {},
     "output_type": "execute_result"
    },
    {
     "data": {
      "image/png": "[encoded data removed]",
      "text/plain": [
       "<Figure size 1080x504 with 1 Axes>"
      ]
     },
     "metadata": {
      "needs_background": "light"
     },
     "output_type": "display_data"
    }
   ],
   "source": [
    "import matplotlib.pyplot as plt\n",
    "#X = df_actg1.loc[:, cols].values # df_actg1.loc[:, cols].values # \n",
    "#X_trans = pca.fit_transform(X)\n",
    "\n",
    "\n",
    "d = {'cat': df['Category'], 'cluster': df['cluster']}\n",
    "df_bar = pd.DataFrame(data=d)\n",
    "fig, ax = plt.subplots(figsize=(15,7))\n",
    "df_bar.groupby(['cluster', 'cat']).size().unstack().plot(ax=ax, kind = 'bar') "
   ]
  },
  {
   "cell_type": "code",
   "execution_count": 72,
   "metadata": {},
   "outputs": [
    {
     "data": {
      "text/plain": [
       "<matplotlib.axes._subplots.AxesSubplot at 0x2113b0dd320>"
      ]
     },
     "execution_count": 72,
     "metadata": {},
     "output_type": "execute_result"
    },
    {
     "data": {
      "image/png": "[encoded data removed]",
      "text/plain": [
       "<Figure size 1080x504 with 1 Axes>"
      ]
     },
     "metadata": {
      "needs_background": "light"
     },
     "output_type": "display_data"
    }
   ],
   "source": [
    "d = {'Origin': df['Origin'], 'cluster': df['cluster']}\n",
    "df_bar = pd.DataFrame(data=d)\n",
    "fig, ax = plt.subplots(figsize=(15,7))\n",
    "df_bar.groupby(['cluster', 'Origin']).size().unstack().plot(ax=ax, kind = 'bar') "
   ]
  },
  {
   "cell_type": "code",
   "execution_count": 73,
   "metadata": {},
   "outputs": [],
   "source": [
    "sub_df = df[list(df.loc[:, ~df.columns.isin(['Protein'])].columns)] # remove protein -> prevents crash\n",
    "sub_df = sub_df.sort_values('cluster')\n",
    "sub_df = sub_df[list(sub_df.loc[:, ~sub_df.columns.isin(['cluster', 'Origin'])].columns)]\n",
    "func.makeDistanceHeatmap(sub_df, col_id='Id', col_label='Category', dist=distance, title='All')"
   ]
  },
  {
   "cell_type": "markdown",
   "metadata": {},
   "source": [
    "### Heatmap"
   ]
  },
  {
   "cell_type": "code",
   "execution_count": 246,
   "metadata": {},
   "outputs": [],
   "source": [
    "from scipy.spatial.distance import pdist\n",
    "from scipy.spatial.distance import squareform\n",
    "\n",
    "sub_df = df\n",
    "sub_df.sort_values('cluster')\n",
    "pairwise = pd.DataFrame(\n",
    "    squareform(pdist(sub_df[cols], metric='hamming')),\n",
    "    columns = sub_df['Id'],\n",
    "    index = sub_df['Id']\n",
    ")"
   ]
  },
  {
   "cell_type": "code",
   "execution_count": 248,
   "metadata": {},
   "outputs": [
    {
     "name": "stderr",
     "output_type": "stream",
     "text": [
      "C:\\Users\\levrex\\Anaconda3\\envs\\my_env\\lib\\site-packages\\seaborn\\matrix.py:649: UserWarning: Clustering large matrix with scipy. Installing `fastcluster` may give better performance.\n",
      "  warnings.warn(msg)\n",
      "C:\\Users\\levrex\\Anaconda3\\envs\\my_env\\lib\\site-packages\\seaborn\\matrix.py:620: ClusterWarning: scipy.cluster: The symmetric non-negative hollow observation matrix looks suspiciously like an uncondensed distance matrix\n",
      "  metric=self.metric)\n"
     ]
    },
    {
     "data": {
      "text/plain": [
       "<seaborn.matrix.ClusterGrid at 0x18d0d3669e8>"
      ]
     },
     "execution_count": 248,
     "metadata": {},
     "output_type": "execute_result"
    },
    {
     "data": {
      "text/plain": [
       "<Figure size 1440x1440 with 0 Axes>"
      ]
     },
     "metadata": {},
     "output_type": "display_data"
    },
    {
     "data": {
      "image/png": "[encoded data removed]",
      "text/plain": [
       "<Figure size 720x720 with 4 Axes>"
      ]
     },
     "metadata": {
      "needs_background": "light"
     },
     "output_type": "display_data"
    }
   ],
   "source": [
    "import seaborn as sns\n",
    "import matplotlib.pyplot as plt\n",
    "plt.figure(figsize=(20,20))\n",
    "sns.clustermap(\n",
    "    pairwise,\n",
    "    metric='hamming',\n",
    "    cmap='OrRd'\n",
    ")"
   ]
  },
  {
   "cell_type": "code",
   "execution_count": 202,
   "metadata": {},
   "outputs": [],
   "source": [
    "sub_df = df_all[list(df_all.loc[:, ~df_all.columns.isin(['Protein'])].columns)] # remove protein -> prevents crash\n",
    "func.makeDistanceHeatmap(sub_df, col_id='Id', col_label='Category', dist='dice', title='All')"
   ]
  },
  {
   "cell_type": "code",
   "execution_count": 212,
   "metadata": {},
   "outputs": [],
   "source": [
    "sub_df = df_actb[list(df_actb.loc[:, ~df_actb.columns.isin(['Protein'])].columns)] # remove protein -> prevents crash\n",
    "func.makeDistanceHeatmap(sub_df, col_id='Id', col_label='Category', dist='jaccard', title='ACTB')"
   ]
  },
  {
   "cell_type": "code",
   "execution_count": 211,
   "metadata": {},
   "outputs": [],
   "source": [
    "sub_df = df_actg1[list(df_actg1.loc[:, ~df_actg1.columns.isin(['Protein'])].columns)] # remove protein -> prevents crash\n",
    "func.makeDistanceHeatmap(sub_df, col_id='Id', col_label='Category', dist='jaccard', title='ACTG1')"
   ]
  },
  {
   "cell_type": "code",
   "execution_count": 82,
   "metadata": {},
   "outputs": [],
   "source": [
    "#pairwise"
   ]
  },
  {
   "cell_type": "markdown",
   "metadata": {},
   "source": [
    "## Hierarchical data (UPGMA)"
   ]
  },
  {
   "cell_type": "code",
   "execution_count": 145,
   "metadata": {},
   "outputs": [],
   "source": [
    "# library\n",
    "from bokehheat import heat, jheat\n",
    "from bokeh.io import show\n",
    "from bokeh.palettes import Reds9, RdBu11, YlGn8, Colorblind8\n",
    "import numpy as np\n",
    "import pandas as pd"
   ]
  },
  {
   "cell_type": "code",
   "execution_count": 493,
   "metadata": {},
   "outputs": [
    {
     "data": {
      "text/plain": [
       "array([[0.        , 0.27777778, 0.19417476, ..., 0.27777778, 0.24528302,\n",
       "        0.14      ],\n",
       "       [0.27777778, 0.        , 0.14      , ..., 0.22857143, 0.19417476,\n",
       "        0.19417476],\n",
       "       [0.19417476, 0.14      , 0.        , ..., 0.17647059, 0.14      ,\n",
       "        0.14      ],\n",
       "       ...,\n",
       "       [0.27777778, 0.22857143, 0.17647059, ..., 0.        , 0.04210526,\n",
       "        0.22857143],\n",
       "       [0.24528302, 0.19417476, 0.14      , ..., 0.04210526, 0.        ,\n",
       "        0.19417476],\n",
       "       [0.14      , 0.19417476, 0.14      , ..., 0.22857143, 0.19417476,\n",
       "        0.        ]])"
      ]
     },
     "execution_count": 493,
     "metadata": {},
     "output_type": "execute_result"
    }
   ],
   "source": [
    "X_trans"
   ]
  },
  {
   "cell_type": "markdown",
   "metadata": {},
   "source": [
    "## After clustering"
   ]
  },
  {
   "cell_type": "code",
   "execution_count": 80,
   "metadata": {},
   "outputs": [],
   "source": [
    "from bokehheat import heat\n",
    "from scipy.spatial.distance import pdist\n",
    "from scipy.spatial.distance import squareform\n",
    "\n",
    "df = df.sort_values('cluster') \n",
    "\n",
    "#distance = 'hamming'\n",
    "\n",
    "pairwise = pd.DataFrame(\n",
    "    squareform(pdist(df[cols], metric=distance)), # df[cols]\n",
    "    columns = df['Id'],\n",
    "    index = df['Id']\n",
    ")\n",
    "\n",
    "#X_trans = pairwise.values \n",
    "\n",
    "# generate test data\n",
    "ls_sample = df['Id']\n",
    "ls_variable = df['Id']\n",
    "\n",
    "\n",
    "df_matrix = pd.DataFrame(pairwise.values)\n",
    "df_matrix.index = ls_variable\n",
    "df_matrix.columns = ls_sample\n",
    "df_matrix.index.name = 'y'\n",
    "df_matrix.columns.name = 'x'\n"
   ]
  },
  {
   "cell_type": "code",
   "execution_count": 81,
   "metadata": {},
   "outputs": [],
   "source": [
    "#from bokeh.palettes import Spectral8\n",
    "from bokeh.palettes import viridis\n",
    "col_list2= viridis(len(list(df['cluster'].unique())))\n"
   ]
  },
  {
   "cell_type": "code",
   "execution_count": 82,
   "metadata": {},
   "outputs": [],
   "source": [
    "colors = ['Cyan','Green', 'Red','Yellow', 'Silver','Magenta','Orange', 'ForestGreen', 'Darkblue', 'Lime', 'Gray', 'Gold']\n",
    "color_list = [col_list2[list(df['cluster'].unique()).index(i)] for i in df['cluster']]\n",
    "color_list2 = [colors[list(df['Category'].unique()).index(i)] for i in df['Category']]\n",
    "color_list3 = [['Pink', 'Purple', 'Blue'][list(df['Origin'].unique()).index(i)] for i in df['Origin']]\n",
    "#color_list"
   ]
  },
  {
   "cell_type": "code",
   "execution_count": 83,
   "metadata": {},
   "outputs": [
    {
     "data": {
      "text/plain": [
       "(113, 113, 113)"
      ]
     },
     "execution_count": 83,
     "metadata": {},
     "output_type": "execute_result"
    }
   ],
   "source": [
    "len(df['Origin']), len(df['Category']), len(df['Id'])"
   ]
  },
  {
   "cell_type": "code",
   "execution_count": 84,
   "metadata": {},
   "outputs": [],
   "source": [
    "# generate some gene annotation\n",
    "df_variable = pd.DataFrame({\n",
    "    'y': ls_variable,\n",
    "    'category': list(df['Category']),\n",
    "    'cluster': list(df['cluster'].astype(str)),\n",
    "    'origin' : list(df['Origin']),\n",
    "    'cluster_color': color_list,\n",
    "    'category_color':color_list2,\n",
    "    'origin_color': color_list3,\n",
    "})\n",
    "df_variable.index = df_variable.y\n",
    "\n",
    "# generate some sample annotation\n",
    "df_sample = pd.DataFrame({\n",
    "    'x': ls_sample,\n",
    "    'category': list(df['Category']),\n",
    "    'cluster': list(df['cluster'].astype(str)),\n",
    "    'origin' : list(df['Origin']),\n",
    "    'cluster_color':color_list,\n",
    "    'category_color':color_list2,\n",
    "    'origin_color': color_list3,\n",
    "})\n",
    "df_sample.index = df_sample.x\n"
   ]
  },
  {
   "cell_type": "code",
   "execution_count": 85,
   "metadata": {},
   "outputs": [
    {
     "name": "stderr",
     "output_type": "stream",
     "text": [
      "C:\\Users\\levrex\\Anaconda3\\envs\\my_env\\lib\\site-packages\\bokehheat\\heat.py:112: ClusterWarning: scipy.cluster: The symmetric non-negative hollow observation matrix looks suspiciously like an uncondensed distance matrix\n",
      "  optimal_ordering=b_optimal_ordering,\n"
     ]
    },
    {
     "name": "stdout",
     "output_type": "stream",
     "text": [
      "ds_xcolor: {'#440154': {'0'}, '#30678D': {'1'}, '#35B778': {'2'}, '#FDE724': {'3'}, 'Cyan': {'N-terminus'}, 'Green': {'Loss of function'}, 'Red': {'Other'}, 'Yellow': {'Gain Of Function'}, 'Silver': {'NAT6'}, 'Magenta': {'Other/Myosin binding'}, 'Orange': {'Other/Fimbrin binding'}, 'Pink': {'ACTB'}, 'Purple': {'ACTG1'}, 'Blue': {'NAT6'}}\n",
      "ds_ycolor: {'#440154': {'0'}, '#30678D': {'1'}, '#35B778': {'2'}, '#FDE724': {'3'}, 'Cyan': {'N-terminus'}, 'Green': {'Loss of function'}, 'Red': {'Other'}, 'Yellow': {'Gain Of Function'}, 'Silver': {'NAT6'}, 'Magenta': {'Other/Myosin binding'}, 'Orange': {'Other/Fimbrin binding'}, 'Pink': {'ACTB'}, 'Purple': {'ACTG1'}, 'Blue': {'NAT6'}}\n"
     ]
    }
   ],
   "source": [
    "#t_yboole = (df_variable,['geneboole'],'Red','Maroon') # True, False\n",
    "t_ycat = (df_variable, ['cluster'], ['cluster_color'])\n",
    "t_zcat = (df_variable, ['origin'], ['origin_color'])\n",
    "#t_yquant = (df_variable, ['genereal'], [0], [k], [Colorblind8][::-1])\n",
    "#t_xboole = (df_sample,['sampleboole'],'Red','Maroon') # True, False\n",
    "t_xcat = (df_sample, ['category'], ['category_color'])\n",
    "#t_xquant = (df_sample, ['age_year'], [0], [k], [YlGn8][::-1])\n",
    "tt_boolecatquant = (t_ycat, t_xcat, t_zcat) # (t_ycat, t_yquant, t_xcat, t_xquant)\n",
    "\n",
    "s_file = \"clusterheatmap/heatmap_%s_All.html\" % (str(distance))  # or \"theclustermap.png\"\n",
    "o_clustermap, ls_xaxis, ls_yaxis = heat.clustermap(\n",
    "    df_matrix = df_matrix,\n",
    "    ls_color_palette = 'Magma256',\n",
    "    r_low = 0,\n",
    "    r_high = df_matrix.values.max(),\n",
    "    s_z = \"log2\",\n",
    "    tt_axis_annot = tt_boolecatquant,\n",
    "    b_ydendo = True,\n",
    "    b_xdendo = True,\n",
    "    #s_method= 'ward', #'average',\n",
    "    #s_metric= 'euclidean', #distance,\n",
    "    s_method= 'ward', #'average',\n",
    "    s_metric= 'euclidean', #distance,\n",
    "    b_optimal_ordering=True,\n",
    "    #i_px = 64,\n",
    "    #i_height = 12,\n",
    "    #i_width = 12,\n",
    "    #i_min_border_px = 128,\n",
    "    s_filename=s_file,\n",
    "    s_filetitel=\"the Clustermap\",\n",
    ")\n"
   ]
  },
  {
   "cell_type": "markdown",
   "metadata": {},
   "source": [
    "## Collabarative Filtering"
   ]
  },
  {
   "cell_type": "code",
   "execution_count": 86,
   "metadata": {},
   "outputs": [],
   "source": [
    "#df_all"
   ]
  },
  {
   "cell_type": "code",
   "execution_count": 38,
   "metadata": {},
   "outputs": [],
   "source": [
    "from scipy.spatial.distance import pdist\n",
    "from scipy.spatial.distance import squareform\n",
    "\n",
    "distance='jaccard'\n",
    "pairwise = pd.DataFrame(\n",
    "    squareform(pdist(df_all[cols], metric=distance)), # df[cols]\n",
    "    columns = df_all['Id'],\n",
    "    index = df_all['Id']\n",
    ")\n",
    "#pairwise.head()"
   ]
  },
  {
   "cell_type": "code",
   "execution_count": 48,
   "metadata": {},
   "outputs": [
    {
     "data": {
      "text/plain": [
       "array([0.94871795, 0.87804878, 0.92105263, 0.94871795, 0.75609756,\n",
       "       0.87179487, 0.87804878, 0.8974359 , 0.84615385, 0.85      ,\n",
       "       0.87179487, 0.94444444, 0.94444444, 0.94444444, 0.94444444,\n",
       "       0.94444444, 0.94444444, 0.94444444, 0.94444444, 0.94444444,\n",
       "       0.94444444, 0.94444444, 0.94444444, 0.86111111, 0.94444444,\n",
       "       0.94444444, 0.97297297, 0.87179487, 0.76744186, 0.75555556,\n",
       "       0.97222222, 0.94444444, 0.94444444, 0.94444444, 0.94444444,\n",
       "       0.94444444, 0.94444444, 0.94444444, 0.94444444, 0.        ,\n",
       "       0.37209302, 0.92307692, 0.825     , 0.87179487, 0.85365854,\n",
       "       0.87804878, 0.87804878, 0.8974359 , 0.86842105, 0.8974359 ,\n",
       "       0.875     , 0.86666667, 0.76086957, 0.76190476, 0.78571429,\n",
       "       1.        , 0.8974359 , 0.86486486, 0.88636364, 0.97435897,\n",
       "       0.7804878 , 0.84615385, 0.7826087 , 0.9       , 0.87804878,\n",
       "       0.85      , 0.97674419, 0.7804878 , 0.8       , 0.8372093 ,\n",
       "       0.93478261, 0.87804878, 0.89189189, 0.89189189, 0.925     ,\n",
       "       0.95      , 0.9       , 0.88888889, 0.86842105, 0.89130435,\n",
       "       0.88372093, 0.87804878, 0.9047619 , 1.        , 0.8       ,\n",
       "       0.87179487, 0.775     , 0.8       , 0.825     , 0.94736842,\n",
       "       0.81395349, 0.86842105, 0.91891892, 0.92682927, 0.82051282,\n",
       "       0.8974359 , 0.81578947, 0.9047619 , 0.86486486, 0.86486486,\n",
       "       0.97222222, 0.84615385, 0.81395349, 0.92105263, 0.9       ,\n",
       "       0.97368421, 0.87179487, 0.84210526, 0.81578947, 0.76315789,\n",
       "       0.76315789, 0.86842105, 0.89473684])"
      ]
     },
     "execution_count": 48,
     "metadata": {},
     "output_type": "execute_result"
    }
   ],
   "source": [
    "inp=df_show[df_show['Id']==user_inp].index.tolist()\n",
    "inp=inp[0]\n",
    "pairwise.iloc[inp].values"
   ]
  },
  {
   "cell_type": "code",
   "execution_count": 50,
   "metadata": {},
   "outputs": [
    {
     "name": "stdout",
     "output_type": "stream",
     "text": [
      "Phenotypes of  Ant : \n",
      "      Id Category Protein Origin  jaccard\n",
      "40  Ant     NAT6   L130P   NAT6      0.0 \n",
      "\n",
      "\n",
      "Phenotypes similar to Ant : \n",
      "              Id          Category              Protein Origin   jaccard\n",
      "39          Man              NAT6                L130P   NAT6  0.372093\n",
      "4      LR16?163        N-terminus           p.Asn12Asp  ACTG1  0.675676\n",
      "52          B31             Other          p.Glu117Lys   ACTB  0.720930\n",
      "28   Patient O1             Other           p.GLn59Arg  ACTG1  0.756098\n",
      "29   Patient O2             Other          p.Thr203Met  ACTG1  0.772727\n",
      "62     LP98-085        N-terminus           p.Asn12Asp   ACTB  0.772727\n",
      "54   Patient S1             Other           p.Pro70Ala   ACTB  0.775000\n",
      "110         XXa  Loss of function  7: 5492967-5864851    ACTB  0.783784\n",
      "109         XIV  Loss of function   7: 5151474-6296948   ACTB  0.783784\n"
     ]
    },
    {
     "name": "stderr",
     "output_type": "stream",
     "text": [
      "C:\\Users\\levrex\\Anaconda3\\envs\\my_env\\lib\\site-packages\\ipykernel_launcher.py:8: SettingWithCopyWarning: \n",
      "A value is trying to be set on a copy of a slice from a DataFrame.\n",
      "Try using .loc[row_indexer,col_indexer] = value instead\n",
      "\n",
      "See the caveats in the documentation: https://pandas.pydata.org/pandas-docs/stable/user_guide/indexing.html#returning-a-view-versus-a-copy\n",
      "  \n"
     ]
    }
   ],
   "source": [
    "df_show = df_all[['Id', 'Category', 'Protein', 'Origin']]\n",
    "user_inp=\"Ant\"\n",
    "\n",
    "try:\n",
    "    inp=df_show[df_show['Id']==user_inp].index.tolist()\n",
    "    inp=inp[0]\n",
    "    \n",
    "    df_show[distance] = pairwise.iloc[inp].values\n",
    "    df_show.head(5)\n",
    "    \n",
    "except:\n",
    "    print(\"Sorry, the patient is not in the cohort!\")\n",
    "    \n",
    "print(\"Phenotypes of \",user_inp ,\": \\n\", df_show[df_show['Id']==user_inp], '\\n\\n')\n",
    "print(\"Phenotypes similar to\",user_inp ,\": \\n\", df_show.sort_values( [distance], ascending = True )[1:10])"
   ]
  },
  {
   "cell_type": "code",
   "execution_count": null,
   "metadata": {},
   "outputs": [],
   "source": []
  }
 ],
 "metadata": {
  "kernelspec": {
   "display_name": "my_env",
   "language": "python",
   "name": "my_env"
  },
  "language_info": {
   "codemirror_mode": {
    "name": "ipython",
    "version": 3
   },
   "file_extension": ".py",
   "mimetype": "text/x-python",
   "name": "python",
   "nbconvert_exporter": "python",
   "pygments_lexer": "ipython3",
   "version": "3.6.10"
  }
 },
 "nbformat": 4,
 "nbformat_minor": 4
}
