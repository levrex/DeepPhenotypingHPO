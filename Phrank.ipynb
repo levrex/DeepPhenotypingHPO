{
 "cells": [
  {
   "cell_type": "code",
   "execution_count": 31,
   "metadata": {},
   "outputs": [
    {
     "name": "stdout",
     "output_type": "stream",
     "text": [
      "C:\\Users\\levrex\\Desktop\\DeepPhenotypingHPO\n",
      "C:\\Users\\levrex\\Anaconda3\\envs\\my_env\\lib\\site-packages\\clinphen_src\\data\\hpo_synonyms.txt\n"
     ]
    },
    {
     "name": "stderr",
     "output_type": "stream",
     "text": [
      "2020-12-21 21:15:04,173 - txt2hpo - INFO - txt2hpo 0.2.2\n",
      "2020-12-21 21:15:04,239 - txt2hpo - INFO - Using configuration file: \\Users\\levrex\\.txt2hpo\\txt2hpo.ini\n",
      "2020-12-21 21:15:05,271 - phenopy - INFO - checking if config file exists: \\Users\\levrex\\.phenopy\n",
      "2020-12-21 21:15:05,285 - phenopy - INFO - phenopy 0.4.2\n",
      "2020-12-21 21:15:05,314 - phenopy - INFO - Using configuration file: \\Users\\levrex\\.phenopy\\phenopy.ini\n",
      "2020-12-21 21:15:33,668 - txt2hpo - INFO - Using scispaCy language model\n",
      "\n"
     ]
    },
    {
     "data": {
      "text/plain": [
       "<module 'DeepPhenotyping_functions' from 'src\\\\DeepPhenotyping_functions.py'>"
      ]
     },
     "execution_count": 31,
     "metadata": {},
     "output_type": "execute_result"
    }
   ],
   "source": [
    "import sys\n",
    "sys.path.append('src/') # add source with all scripts\n",
    "\n",
    "import pandas as pd\n",
    "import DeepPhenotyping_functions as func\n",
    "from bs4 import BeautifulSoup\n",
    "import importlib as imp\n",
    "imp.reload(func)"
   ]
  },
  {
   "cell_type": "code",
   "execution_count": 1,
   "metadata": {},
   "outputs": [
    {
     "ename": "ImportError",
     "evalue": "cannot import name '__version__'",
     "output_type": "error",
     "traceback": [
      "\u001b[1;31m---------------------------------------------------------------------------\u001b[0m",
      "\u001b[1;31mImportError\u001b[0m                               Traceback (most recent call last)",
      "\u001b[1;32m<ipython-input-1-b5137d30abf0>\u001b[0m in \u001b[0;36m<module>\u001b[1;34m\u001b[0m\n\u001b[1;32m----> 1\u001b[1;33m \u001b[1;32mfrom\u001b[0m \u001b[0mphrank\u001b[0m\u001b[1;33m.\u001b[0m\u001b[0mphrank\u001b[0m \u001b[1;32mimport\u001b[0m \u001b[0m__version__\u001b[0m\u001b[1;33m\u001b[0m\u001b[1;33m\u001b[0m\u001b[0m\n\u001b[0m\u001b[0;32m      2\u001b[0m \u001b[0mprint\u001b[0m\u001b[1;33m(\u001b[0m\u001b[0m__version__\u001b[0m\u001b[1;33m)\u001b[0m \u001b[1;31m# alabaster==0.7.10\u001b[0m\u001b[1;33m\u001b[0m\u001b[1;33m\u001b[0m\u001b[0m\n",
      "\u001b[1;31mImportError\u001b[0m: cannot import name '__version__'"
     ]
    }
   ],
   "source": [
    "from phrank.phrank import __version__\n",
    "print(__version__) # alabaster==0.7.10"
   ]
  },
  {
   "cell_type": "markdown",
   "metadata": {},
   "source": [
    "# Dataset #1 IARS"
   ]
  },
  {
   "cell_type": "code",
   "execution_count": 59,
   "metadata": {},
   "outputs": [],
   "source": [
    "d_IARS_valid = {\n",
    "    'All' : ['validation/021020_1758_HPODP_proj7_art92_pat69-export.html',\n",
    "                            'validation/021020_1758_HPODP_proj7_art92_pat70-export.html',\n",
    "                            'validation/021020_1758_HPODP_proj7_art92_pat71-export.html',\n",
    "                            'validation/021020_1758_HPODP_proj7_art103_pat72-export.html', \n",
    "                            'validation/021020_1758_HPODP_proj7_art103_pat73-export.html', \n",
    "                            'validation/021020_1758_HPODP_proj7_art103_pat74-export.html', \n",
    "                            'validation/021020_1758_HPODP_proj7_art103_pat75-export.html',\n",
    "                            'validation/021020_1757_HPODP_proj7_art113_pat67-export.html',\n",
    "                            'validation/021020_1757_HPODP_proj7_art93_pat68-export.html'\n",
    "                              ],\n",
    "}\n",
    "\n",
    "dataset = 'IARS'"
   ]
  },
  {
   "cell_type": "code",
   "execution_count": 60,
   "metadata": {},
   "outputs": [
    {
     "name": "stdout",
     "output_type": "stream",
     "text": [
      "Patient  #65269 (ID: 69)  File Name validation/021020_1758_HPODP_proj7_art92_pat69-export.html\n",
      "Patient  #85880 (ID: 70)  File Name validation/021020_1758_HPODP_proj7_art92_pat70-export.html\n",
      "Patient  #83921 (ID: 71)  File Name validation/021020_1758_HPODP_proj7_art92_pat71-export.html\n",
      "Patient  Family 1-III:4 (ID: 72)  File Name validation/021020_1758_HPODP_proj7_art103_pat72-export.html\n",
      "Patient  Family 1-III:10 (ID: 73)  File Name validation/021020_1758_HPODP_proj7_art103_pat73-export.html\n",
      "Patient  Family 1-III:9 (ID: 74)  File Name validation/021020_1758_HPODP_proj7_art103_pat74-export.html\n",
      "Patient  Family 1-III:11 (ID: 75)  File Name validation/021020_1758_HPODP_proj7_art103_pat75-export.html\n",
      "Patient  Index patient (ID: 67)  File Name validation/021020_1757_HPODP_proj7_art113_pat67-export.html\n",
      "Patient  Index patient (ID: 68)  File Name validation/021020_1757_HPODP_proj7_art93_pat68-export.html\n"
     ]
    },
    {
     "data": {
      "text/html": [
       "<div>\n",
       "<style scoped>\n",
       "    .dataframe tbody tr th:only-of-type {\n",
       "        vertical-align: middle;\n",
       "    }\n",
       "\n",
       "    .dataframe tbody tr th {\n",
       "        vertical-align: top;\n",
       "    }\n",
       "\n",
       "    .dataframe thead th {\n",
       "        text-align: right;\n",
       "    }\n",
       "</style>\n",
       "<table border=\"1\" class=\"dataframe\">\n",
       "  <thead>\n",
       "    <tr style=\"text-align: right;\">\n",
       "      <th></th>\n",
       "      <th>Patient</th>\n",
       "      <th>ix</th>\n",
       "      <th>HPO-id</th>\n",
       "      <th>Description</th>\n",
       "      <th>assoc genes</th>\n",
       "    </tr>\n",
       "  </thead>\n",
       "  <tbody>\n",
       "    <tr>\n",
       "      <th>0</th>\n",
       "      <td>#65269 (ID: 69)</td>\n",
       "      <td>1</td>\n",
       "      <td>HP:0000152</td>\n",
       "      <td>Abnormality of head or neck</td>\n",
       "      <td>2727</td>\n",
       "    </tr>\n",
       "    <tr>\n",
       "      <th>1</th>\n",
       "      <td>#65269 (ID: 69)</td>\n",
       "      <td>2</td>\n",
       "      <td>HP:0000234</td>\n",
       "      <td>Abnormality of the head</td>\n",
       "      <td>2705</td>\n",
       "    </tr>\n",
       "    <tr>\n",
       "      <th>2</th>\n",
       "      <td>#65269 (ID: 69)</td>\n",
       "      <td>3</td>\n",
       "      <td>HP:0000929</td>\n",
       "      <td>Abnormality of the skull</td>\n",
       "      <td>1887</td>\n",
       "    </tr>\n",
       "    <tr>\n",
       "      <th>3</th>\n",
       "      <td>#65269 (ID: 69)</td>\n",
       "      <td>4</td>\n",
       "      <td>HP:0000240</td>\n",
       "      <td>Abnormality of skull size</td>\n",
       "      <td>1267</td>\n",
       "    </tr>\n",
       "    <tr>\n",
       "      <th>4</th>\n",
       "      <td>#65269 (ID: 69)</td>\n",
       "      <td>5</td>\n",
       "      <td>HP:0040195</td>\n",
       "      <td>Decreased head circumference</td>\n",
       "      <td>1026</td>\n",
       "    </tr>\n",
       "  </tbody>\n",
       "</table>\n",
       "</div>"
      ],
      "text/plain": [
       "           Patient ix      HPO-id                   Description assoc genes\n",
       "0  #65269 (ID: 69)  1  HP:0000152   Abnormality of head or neck        2727\n",
       "1  #65269 (ID: 69)  2  HP:0000234       Abnormality of the head        2705\n",
       "2  #65269 (ID: 69)  3  HP:0000929      Abnormality of the skull        1887\n",
       "3  #65269 (ID: 69)  4  HP:0000240     Abnormality of skull size        1267\n",
       "4  #65269 (ID: 69)  5  HP:0040195  Decreased head circumference        1026"
      ]
     },
     "execution_count": 60,
     "metadata": {},
     "output_type": "execute_result"
    }
   ],
   "source": [
    "\n",
    "case_study = 'All' # 'Orenstein et al, 2016' 'Musante et al, 2017' 'Kopajtich et al, 2016'\n",
    "\n",
    "columns = ['Patient', 'ix', 'HPO-id', 'Description', 'assoc genes']\n",
    "df_valid = pd.DataFrame(columns=columns)\n",
    "\n",
    "for file_name in d_IARS_valid[case_study]:\n",
    "    \n",
    "    with open('Phenotool/' + file_name, 'r') as f:\n",
    "        contents = f.read()\n",
    "\n",
    "        soup = BeautifulSoup(contents, 'lxml')\n",
    "\n",
    "        tables = soup.findAll(\"table\")\n",
    "\n",
    "        cnt = 0\n",
    "        for table in tables:\n",
    "            if table.findParent(\"table\") is None:\n",
    "                cnt += 1\n",
    "        ths = soup.find_all('td')\n",
    "        pat_id = ths[4].text\n",
    "        #pat_id = pat_id.split(' ')[0]\n",
    "        df1 = func.parseTable(table)\n",
    "        df1.columns = ['ix', 'HPO-id', 'Description', 'assoc genes']\n",
    "        #print(df1)\n",
    "        print('Patient ', pat_id, ' File Name', file_name)\n",
    "        df1['Patient'] = [pat_id for i in range(len(df1))]\n",
    "        #print(df1)\n",
    "        df_valid = pd.concat([df_valid, df1])\n",
    "\n",
    "## Ignore entity linking for now!! \n",
    "#df_valid['Patient'] = df_valid['Patient'].apply(lambda x : 'all')\n",
    "df_valid.head()"
   ]
  },
  {
   "cell_type": "code",
   "execution_count": 61,
   "metadata": {},
   "outputs": [
    {
     "data": {
      "text/html": [
       "<div>\n",
       "<style scoped>\n",
       "    .dataframe tbody tr th:only-of-type {\n",
       "        vertical-align: middle;\n",
       "    }\n",
       "\n",
       "    .dataframe tbody tr th {\n",
       "        vertical-align: top;\n",
       "    }\n",
       "\n",
       "    .dataframe thead th {\n",
       "        text-align: right;\n",
       "    }\n",
       "</style>\n",
       "<table border=\"1\" class=\"dataframe\">\n",
       "  <thead>\n",
       "    <tr style=\"text-align: right;\">\n",
       "      <th></th>\n",
       "      <th>Patient</th>\n",
       "      <th>ix</th>\n",
       "      <th>HPO-id</th>\n",
       "      <th>Description</th>\n",
       "      <th>assoc genes</th>\n",
       "    </tr>\n",
       "  </thead>\n",
       "  <tbody>\n",
       "  </tbody>\n",
       "</table>\n",
       "</div>"
      ],
      "text/plain": [
       "Empty DataFrame\n",
       "Columns: [Patient, ix, HPO-id, Description, assoc genes]\n",
       "Index: []"
      ]
     },
     "execution_count": 61,
     "metadata": {},
     "output_type": "execute_result"
    }
   ],
   "source": [
    "df_valid[df_valid['Description'].str.contains('ILD')]"
   ]
  },
  {
   "cell_type": "markdown",
   "metadata": {},
   "source": [
    "## Convert HTML table to PhenoTable\n",
    "Long table needs to be translated to a wide table with HPO codes as header"
   ]
  },
  {
   "cell_type": "code",
   "execution_count": 62,
   "metadata": {},
   "outputs": [
    {
     "data": {
      "text/html": [
       "<div>\n",
       "<style scoped>\n",
       "    .dataframe tbody tr th:only-of-type {\n",
       "        vertical-align: middle;\n",
       "    }\n",
       "\n",
       "    .dataframe tbody tr th {\n",
       "        vertical-align: top;\n",
       "    }\n",
       "\n",
       "    .dataframe thead th {\n",
       "        text-align: right;\n",
       "    }\n",
       "</style>\n",
       "<table border=\"1\" class=\"dataframe\">\n",
       "  <thead>\n",
       "    <tr style=\"text-align: right;\">\n",
       "      <th></th>\n",
       "      <th>Id</th>\n",
       "      <th>HP:0040195</th>\n",
       "      <th>HP:0008067</th>\n",
       "      <th>HP:0012758</th>\n",
       "      <th>HP:0410042</th>\n",
       "      <th>HP:0031075</th>\n",
       "      <th>HP:0031703</th>\n",
       "      <th>HP:0002492</th>\n",
       "      <th>HP:0000234</th>\n",
       "      <th>HP:0001250</th>\n",
       "      <th>...</th>\n",
       "      <th>HP:0003256</th>\n",
       "      <th>HP:0006579</th>\n",
       "      <th>HP:0002012</th>\n",
       "      <th>HP:0011923</th>\n",
       "      <th>HP:0025032</th>\n",
       "      <th>HP:0004322</th>\n",
       "      <th>HP:0011297</th>\n",
       "      <th>HP:0025031</th>\n",
       "      <th>HP:0000359</th>\n",
       "      <th>HP:0011471</th>\n",
       "    </tr>\n",
       "  </thead>\n",
       "  <tbody>\n",
       "    <tr>\n",
       "      <th>0</th>\n",
       "      <td>#65269 (ID: 69)</td>\n",
       "      <td>1</td>\n",
       "      <td>0</td>\n",
       "      <td>1</td>\n",
       "      <td>0</td>\n",
       "      <td>0</td>\n",
       "      <td>0</td>\n",
       "      <td>1</td>\n",
       "      <td>1</td>\n",
       "      <td>0</td>\n",
       "      <td>...</td>\n",
       "      <td>0</td>\n",
       "      <td>0</td>\n",
       "      <td>0</td>\n",
       "      <td>1</td>\n",
       "      <td>1</td>\n",
       "      <td>0</td>\n",
       "      <td>0</td>\n",
       "      <td>1</td>\n",
       "      <td>0</td>\n",
       "      <td>1</td>\n",
       "    </tr>\n",
       "    <tr>\n",
       "      <th>1</th>\n",
       "      <td>#85880 (ID: 70)</td>\n",
       "      <td>1</td>\n",
       "      <td>0</td>\n",
       "      <td>1</td>\n",
       "      <td>1</td>\n",
       "      <td>0</td>\n",
       "      <td>1</td>\n",
       "      <td>0</td>\n",
       "      <td>1</td>\n",
       "      <td>0</td>\n",
       "      <td>...</td>\n",
       "      <td>1</td>\n",
       "      <td>0</td>\n",
       "      <td>1</td>\n",
       "      <td>1</td>\n",
       "      <td>0</td>\n",
       "      <td>0</td>\n",
       "      <td>0</td>\n",
       "      <td>1</td>\n",
       "      <td>1</td>\n",
       "      <td>0</td>\n",
       "    </tr>\n",
       "    <tr>\n",
       "      <th>2</th>\n",
       "      <td>#83921 (ID: 71)</td>\n",
       "      <td>1</td>\n",
       "      <td>0</td>\n",
       "      <td>0</td>\n",
       "      <td>1</td>\n",
       "      <td>0</td>\n",
       "      <td>0</td>\n",
       "      <td>0</td>\n",
       "      <td>1</td>\n",
       "      <td>0</td>\n",
       "      <td>...</td>\n",
       "      <td>0</td>\n",
       "      <td>0</td>\n",
       "      <td>1</td>\n",
       "      <td>1</td>\n",
       "      <td>1</td>\n",
       "      <td>0</td>\n",
       "      <td>0</td>\n",
       "      <td>1</td>\n",
       "      <td>0</td>\n",
       "      <td>1</td>\n",
       "    </tr>\n",
       "    <tr>\n",
       "      <th>3</th>\n",
       "      <td>Family 1-III:4 (ID: 72)</td>\n",
       "      <td>1</td>\n",
       "      <td>0</td>\n",
       "      <td>1</td>\n",
       "      <td>0</td>\n",
       "      <td>0</td>\n",
       "      <td>0</td>\n",
       "      <td>0</td>\n",
       "      <td>1</td>\n",
       "      <td>1</td>\n",
       "      <td>...</td>\n",
       "      <td>0</td>\n",
       "      <td>0</td>\n",
       "      <td>0</td>\n",
       "      <td>0</td>\n",
       "      <td>0</td>\n",
       "      <td>1</td>\n",
       "      <td>0</td>\n",
       "      <td>0</td>\n",
       "      <td>0</td>\n",
       "      <td>0</td>\n",
       "    </tr>\n",
       "    <tr>\n",
       "      <th>4</th>\n",
       "      <td>Family 1-III:10 (ID: 73)</td>\n",
       "      <td>1</td>\n",
       "      <td>0</td>\n",
       "      <td>1</td>\n",
       "      <td>0</td>\n",
       "      <td>0</td>\n",
       "      <td>0</td>\n",
       "      <td>0</td>\n",
       "      <td>1</td>\n",
       "      <td>1</td>\n",
       "      <td>...</td>\n",
       "      <td>0</td>\n",
       "      <td>0</td>\n",
       "      <td>0</td>\n",
       "      <td>0</td>\n",
       "      <td>0</td>\n",
       "      <td>1</td>\n",
       "      <td>0</td>\n",
       "      <td>0</td>\n",
       "      <td>0</td>\n",
       "      <td>0</td>\n",
       "    </tr>\n",
       "    <tr>\n",
       "      <th>5</th>\n",
       "      <td>Family 1-III:9 (ID: 74)</td>\n",
       "      <td>1</td>\n",
       "      <td>0</td>\n",
       "      <td>1</td>\n",
       "      <td>0</td>\n",
       "      <td>0</td>\n",
       "      <td>0</td>\n",
       "      <td>0</td>\n",
       "      <td>1</td>\n",
       "      <td>1</td>\n",
       "      <td>...</td>\n",
       "      <td>0</td>\n",
       "      <td>0</td>\n",
       "      <td>0</td>\n",
       "      <td>0</td>\n",
       "      <td>0</td>\n",
       "      <td>1</td>\n",
       "      <td>0</td>\n",
       "      <td>0</td>\n",
       "      <td>0</td>\n",
       "      <td>0</td>\n",
       "    </tr>\n",
       "    <tr>\n",
       "      <th>6</th>\n",
       "      <td>Family 1-III:11 (ID: 75)</td>\n",
       "      <td>1</td>\n",
       "      <td>0</td>\n",
       "      <td>1</td>\n",
       "      <td>0</td>\n",
       "      <td>0</td>\n",
       "      <td>0</td>\n",
       "      <td>0</td>\n",
       "      <td>1</td>\n",
       "      <td>1</td>\n",
       "      <td>...</td>\n",
       "      <td>0</td>\n",
       "      <td>0</td>\n",
       "      <td>0</td>\n",
       "      <td>0</td>\n",
       "      <td>0</td>\n",
       "      <td>0</td>\n",
       "      <td>0</td>\n",
       "      <td>0</td>\n",
       "      <td>0</td>\n",
       "      <td>0</td>\n",
       "    </tr>\n",
       "    <tr>\n",
       "      <th>7</th>\n",
       "      <td>Index patient (ID: 67)</td>\n",
       "      <td>1</td>\n",
       "      <td>0</td>\n",
       "      <td>0</td>\n",
       "      <td>1</td>\n",
       "      <td>0</td>\n",
       "      <td>0</td>\n",
       "      <td>0</td>\n",
       "      <td>1</td>\n",
       "      <td>0</td>\n",
       "      <td>...</td>\n",
       "      <td>0</td>\n",
       "      <td>0</td>\n",
       "      <td>1</td>\n",
       "      <td>0</td>\n",
       "      <td>1</td>\n",
       "      <td>0</td>\n",
       "      <td>1</td>\n",
       "      <td>1</td>\n",
       "      <td>0</td>\n",
       "      <td>0</td>\n",
       "    </tr>\n",
       "    <tr>\n",
       "      <th>8</th>\n",
       "      <td>Index patient (ID: 68)</td>\n",
       "      <td>1</td>\n",
       "      <td>1</td>\n",
       "      <td>1</td>\n",
       "      <td>1</td>\n",
       "      <td>1</td>\n",
       "      <td>0</td>\n",
       "      <td>0</td>\n",
       "      <td>1</td>\n",
       "      <td>0</td>\n",
       "      <td>...</td>\n",
       "      <td>0</td>\n",
       "      <td>1</td>\n",
       "      <td>1</td>\n",
       "      <td>0</td>\n",
       "      <td>1</td>\n",
       "      <td>0</td>\n",
       "      <td>1</td>\n",
       "      <td>1</td>\n",
       "      <td>0</td>\n",
       "      <td>0</td>\n",
       "    </tr>\n",
       "  </tbody>\n",
       "</table>\n",
       "<p>9 rows × 279 columns</p>\n",
       "</div>"
      ],
      "text/plain": [
       "                         Id HP:0040195 HP:0008067 HP:0012758 HP:0410042  \\\n",
       "0           #65269 (ID: 69)          1          0          1          0   \n",
       "1           #85880 (ID: 70)          1          0          1          1   \n",
       "2           #83921 (ID: 71)          1          0          0          1   \n",
       "3   Family 1-III:4 (ID: 72)          1          0          1          0   \n",
       "4  Family 1-III:10 (ID: 73)          1          0          1          0   \n",
       "5   Family 1-III:9 (ID: 74)          1          0          1          0   \n",
       "6  Family 1-III:11 (ID: 75)          1          0          1          0   \n",
       "7    Index patient (ID: 67)          1          0          0          1   \n",
       "8    Index patient (ID: 68)          1          1          1          1   \n",
       "\n",
       "  HP:0031075 HP:0031703 HP:0002492 HP:0000234 HP:0001250  ... HP:0003256  \\\n",
       "0          0          0          1          1          0  ...          0   \n",
       "1          0          1          0          1          0  ...          1   \n",
       "2          0          0          0          1          0  ...          0   \n",
       "3          0          0          0          1          1  ...          0   \n",
       "4          0          0          0          1          1  ...          0   \n",
       "5          0          0          0          1          1  ...          0   \n",
       "6          0          0          0          1          1  ...          0   \n",
       "7          0          0          0          1          0  ...          0   \n",
       "8          1          0          0          1          0  ...          0   \n",
       "\n",
       "  HP:0006579 HP:0002012 HP:0011923 HP:0025032 HP:0004322 HP:0011297  \\\n",
       "0          0          0          1          1          0          0   \n",
       "1          0          1          1          0          0          0   \n",
       "2          0          1          1          1          0          0   \n",
       "3          0          0          0          0          1          0   \n",
       "4          0          0          0          0          1          0   \n",
       "5          0          0          0          0          1          0   \n",
       "6          0          0          0          0          0          0   \n",
       "7          0          1          0          1          0          1   \n",
       "8          1          1          0          1          0          1   \n",
       "\n",
       "  HP:0025031 HP:0000359 HP:0011471  \n",
       "0          1          0          1  \n",
       "1          1          1          0  \n",
       "2          1          0          1  \n",
       "3          0          0          0  \n",
       "4          0          0          0  \n",
       "5          0          0          0  \n",
       "6          0          0          0  \n",
       "7          1          0          0  \n",
       "8          1          0          0  \n",
       "\n",
       "[9 rows x 279 columns]"
      ]
     },
     "execution_count": 62,
     "metadata": {},
     "output_type": "execute_result"
    }
   ],
   "source": [
    "def generate_pheno_profiles(df_valid):\n",
    "    d_pat = {}\n",
    "    for pat in df_valid['Patient'].unique():\n",
    "        d_pat[pat] = df_valid[df_valid['Patient']==pat]['HPO-id'].unique()\n",
    "    return d_pat\n",
    "\n",
    "d_pat = generate_pheno_profiles(df_valid)\n",
    "df_pheno = func.getPatientProfileTable(d_pat)\n",
    "df_pheno.index = df_pheno.index.set_names(['Id'])\n",
    "df_pheno = df_pheno.reset_index()\n",
    "df_pheno"
   ]
  },
  {
   "cell_type": "markdown",
   "metadata": {},
   "source": [
    "## infer HPO"
   ]
  },
  {
   "cell_type": "code",
   "execution_count": 63,
   "metadata": {},
   "outputs": [],
   "source": [
    "import columns_linked_to_hpo\n",
    "\n",
    "\n",
    "def infer_HPO_translate(row, column_to_hpo):\n",
    "    hpo_list = []\n",
    "    cols = list(row.index)\n",
    "    for i in cols:\n",
    "        val = row[i]\n",
    "        #print(val)\n",
    "        if val == 1:\n",
    "            col = i.lower().strip()\n",
    "            if (col in column_to_hpo.keys()) == False :\n",
    "                print(col, col in column_to_hpo.keys())\n",
    "            if col in column_to_hpo.keys():\n",
    "                if type(column_to_hpo[col]) == list:\n",
    "                    hpo_list.extend(column_to_hpo[col])\n",
    "                else :\n",
    "                    hpo_list.append(column_to_hpo[col])\n",
    "    return hpo_list\n",
    "\n",
    "def infer_HPO(row):\n",
    "    hpo_list = []\n",
    "    cols = list(row.index)\n",
    "    for i in cols:\n",
    "        val = row[i]\n",
    "        if val == 1:\n",
    "            hpo_list.append(i)\n",
    "    return hpo_list\n",
    "\n",
    "if dataset == 'IARS':\n",
    "    hp_patients = list(df_pheno.apply(lambda x: infer_HPO(x) , axis= 1))\n",
    "else :\n",
    "    hp_patients = list(df_all.apply(lambda x: infer_HPO_translate(x, columns_linked_to_hpo.column_to_hpo) , axis= 1))\n",
    "#hp_patients"
   ]
  },
  {
   "cell_type": "markdown",
   "metadata": {},
   "source": [
    "# CLUSTERING 1 : HRSS clustering"
   ]
  },
  {
   "cell_type": "code",
   "execution_count": 33,
   "metadata": {},
   "outputs": [],
   "source": [
    "import os\n",
    "from phenopy import generate_annotated_hpo_network\n",
    "from phenopy.score import Scorer\n",
    "\n",
    "# data directory\n",
    "phenopy_data_directory = os.path.join(os.getenv('HOMEPATH'), '.phenopy\\\\data')\n",
    "\n",
    "# files used in building the annotated HPO network\n",
    "obo_file = os.path.join(phenopy_data_directory, 'hp.obo')\n",
    "disease_to_phenotype_file = os.path.join(phenopy_data_directory, 'phenotype.hpoa')\n",
    "\n",
    "# if you have a custom ages_distribution_file, you can set it here.\n",
    "#ages_distribution_file = os.path.join(phenopy_data_directory, 'xa_age_stats_oct052019.tsv')\n",
    "\n",
    "hpo_network, alt2prim, disease_records = \\\n",
    "    generate_annotated_hpo_network(obo_file,\n",
    "                                   disease_to_phenotype_file,\n",
    "                                   #ages_distribution_file=ages_distribution_file\n",
    "                                   )\n",
    "\n",
    "scorer = Scorer(hpo_network)\n"
   ]
  },
  {
   "cell_type": "code",
   "execution_count": 9,
   "metadata": {},
   "outputs": [],
   "source": [
    "import obonet\n",
    "\n",
    "url = 'phenopy_mod/.phenopy/data/hp.obo'\n",
    "graph = obonet.read_obo(url)\n",
    "\n",
    "id_to_name = {id_: data.get('name') for id_, data in graph.nodes(data=True)}\n",
    "name_to_id = {data['name']: id_ for id_, data in graph.nodes(data=True) if 'name' in data}"
   ]
  },
  {
   "cell_type": "markdown",
   "metadata": {},
   "source": [
    "## Assess whether phenotypic specificity is best way foreward"
   ]
  },
  {
   "cell_type": "code",
   "execution_count": 13,
   "metadata": {},
   "outputs": [
    {
     "name": "stdout",
     "output_type": "stream",
     "text": [
      "{'name': 'All', 'comment': 'Root of all terms in the Human Phenotype Ontology.', 'xref': ['UMLS:C0444868'], 'ic': 0.0, 'disease_weights': {}, 'depth': 0}\n",
      "IC= 0.0\n",
      "{'name': 'Abnormality of body height', 'def': '\"Deviation from the norm of height with respect to that which is expected according to age and gender norms.\" [HPO:probinson]', 'synonym': ['\"Abnormality of body height\" EXACT layperson []'], 'xref': ['UMLS:C4025901'], 'is_a': ['HP:0001507'], 'created_by': 'peter', 'creation_date': '2008-02-27T02:20:00Z', 'ic': 1.8958170531054654, 'disease_weights': {}, 'depth': 3, 'synonyms': ['Abnormality of body height']}\n",
      "IC= 1.8958170531054654\n"
     ]
    }
   ],
   "source": [
    "cnt = 0\n",
    "for id_, data in hpo_network.nodes(data=True):\n",
    "    #print(data.get('name'))\n",
    "    print(hpo_network.nodes[id_])\n",
    "    if 'ic' in hpo_network.nodes[id_]:\n",
    "        ic = hpo_network.nodes[id_]['ic']\n",
    "        print('IC=', ic)\n",
    "        if ic != 0:\n",
    "            break\n",
    "            #l_synonyms_new.append(str(name_to_id[data.get('name')]) + '\\t' + syn)\n",
    "            #break\n",
    "    cnt +=1\n",
    "    #break\n",
    "    if cnt == 500:\n",
    "        break\n",
    "    \n",
    "    #print(id_)\n",
    "    "
   ]
  },
  {
   "cell_type": "markdown",
   "metadata": {},
   "source": [
    "#### Positive control"
   ]
  },
  {
   "cell_type": "code",
   "execution_count": 34,
   "metadata": {},
   "outputs": [
    {
     "name": "stdout",
     "output_type": "stream",
     "text": [
      "0.0\n"
     ]
    }
   ],
   "source": [
    "terms_a = ['HP:0000377']# wide nasal bridge  #hp_patients[0]\n",
    "terms_b = ['HP:0000153']# abnormality #hp_patients[1]\n",
    "\n",
    "print(scorer.score_term_sets_basic(terms_a, terms_b))"
   ]
  },
  {
   "cell_type": "markdown",
   "metadata": {},
   "source": [
    "## Construct distance matrix with HRSS "
   ]
  },
  {
   "cell_type": "code",
   "execution_count": 65,
   "metadata": {},
   "outputs": [
    {
     "data": {
      "text/plain": [
       "(9, 'IARS')"
      ]
     },
     "execution_count": 65,
     "metadata": {},
     "output_type": "execute_result"
    }
   ],
   "source": [
    "len(hp_patients), dataset"
   ]
  },
  {
   "cell_type": "code",
   "execution_count": 27,
   "metadata": {},
   "outputs": [],
   "source": [
    "l_datasets = ['ACTB', 'ACTB_ACTG1', 'ACTG1']\n",
    "dataset = l_datasets[1]"
   ]
  },
  {
   "cell_type": "code",
   "execution_count": 35,
   "metadata": {},
   "outputs": [
    {
     "name": "stderr",
     "output_type": "stream",
     "text": [
      "C:\\Users\\levrex\\Anaconda3\\envs\\my_env\\lib\\site-packages\\numpy\\lib\\function_base.py:380: RuntimeWarning: Mean of empty slice.\n",
      "  avg = a.mean(axis)\n",
      "C:\\Users\\levrex\\Anaconda3\\envs\\my_env\\lib\\site-packages\\numpy\\core\\_methods.py:170: RuntimeWarning: invalid value encountered in double_scalars\n",
      "  ret = ret.dtype.type(ret / rcount)\n"
     ]
    }
   ],
   "source": [
    "l = []\n",
    "for j in range(len(hp_patients)):\n",
    "    for i in range(len(hp_patients)):\n",
    "        l.append(scorer.score_term_sets_basic(hp_patients[i], hp_patients[j]))\n",
    "\n",
    "l_cleaned = [x if str(x) != 'nan' else 0 for x in l ]\n",
    "\n",
    "l2 = []\n",
    "n = len(hp_patients)\n",
    "for j in range(len(hp_patients)):\n",
    "    l2.append(l_cleaned[n*j:n+n*j])\n",
    "df_hrss = pd.DataFrame(l2)\n",
    "df_hrss.to_csv('data/deepdata/distance_matrix_%s_hrss.csv' % (dataset)) # Save distance matrix"
   ]
  },
  {
   "cell_type": "markdown",
   "metadata": {},
   "source": [
    "## Perform K-means clustering\n",
    "\n",
    "### plain binary metric"
   ]
  },
  {
   "cell_type": "code",
   "execution_count": 200,
   "metadata": {},
   "outputs": [],
   "source": [
    "from scipy.spatial.distance import pdist\n",
    "from scipy.spatial.distance import squareform\n",
    "\n",
    "dataset = 'hamming'\n",
    "cols = list(df_all.loc[:, ~df_all.columns.isin(['Category', 'Id', 'Protein', 'Origin'])].columns)\n",
    "\n",
    "bool_dist = ['hamming', 'jaccard', 'dice', 'euclidean']\n",
    "\n",
    "distance = bool_dist[1]\n",
    "\n",
    "df = df_all.copy()\n",
    "pairwise = pd.DataFrame(\n",
    "    squareform(pdist(df[cols], metric=distance)),\n",
    "    columns = df['Id'],\n",
    "    index = df['Id']\n",
    "    \n",
    ")\n",
    "df_hrss = df[cols].copy()\n",
    "X_trans = pairwise.values "
   ]
  },
  {
   "cell_type": "markdown",
   "metadata": {},
   "source": [
    "### HRSS"
   ]
  },
  {
   "cell_type": "code",
   "execution_count": 11,
   "metadata": {},
   "outputs": [],
   "source": [
    "l_datasets = ['ACTB', 'ACTB_ACTG1', 'ACTB_ACTG1_NAT6', 'ACTG1', 'IARS']\n",
    "dataset = l_datasets[4]\n",
    "df_hrss = pd.read_csv('data/deepdata/distance_matrix_%s_hrss.csv'  % (dataset), index_col=0)\n",
    "#df_hrss\n",
    "#df_pheno = df_actg1.copy()"
   ]
  },
  {
   "cell_type": "markdown",
   "metadata": {},
   "source": [
    "### Decide nr of clusters with elbow method"
   ]
  },
  {
   "cell_type": "code",
   "execution_count": 24,
   "metadata": {},
   "outputs": [
    {
     "name": "stdout",
     "output_type": "stream",
     "text": [
      "lalala.py\n"
     ]
    }
   ],
   "source": [
    "import re\n",
    "\n",
    "m = re.search('([^/]*\\.py$)', 'eth/te22ij/lalala.py')\n",
    "print(m.group(1))"
   ]
  },
  {
   "cell_type": "code",
   "execution_count": 32,
   "metadata": {},
   "outputs": [
    {
     "data": {
      "image/png": "[encoded data removed]",
      "text/plain": [
       "<Figure size 864x432 with 2 Axes>"
      ]
     },
     "metadata": {
      "needs_background": "light"
     },
     "output_type": "display_data"
    },
    {
     "name": "stdout",
     "output_type": "stream",
     "text": [
      "Nr of clusters = 3\n"
     ]
    }
   ],
   "source": [
    "if dataset in l_datasets:\n",
    "    X_trans = df_hrss[df_hrss.columns[:111]]\n",
    "elif dataset=='IARS':\n",
    "    X_trans = df_hrss\n",
    "k = func.elbowMethod(X_trans, method='kmeans', n=9)\n",
    "print('Nr of clusters = %s' % (k))"
   ]
  },
  {
   "cell_type": "markdown",
   "metadata": {},
   "source": [
    "### Perform K-means"
   ]
  },
  {
   "cell_type": "code",
   "execution_count": 49,
   "metadata": {},
   "outputs": [],
   "source": [
    "from sklearn.cluster import KMeans\n",
    "import matplotlib.pyplot as plt\n",
    "k =4\n",
    "kmeans = KMeans(n_clusters=k, init='k-means++', max_iter=300, n_init=10, random_state=0)\n",
    "pred_y = kmeans.fit_predict(X_trans)\n",
    "#plt.scatter(X_trans.values[:,0], X_trans.values[:,1])\n",
    "#plt.scatter(kmeans.cluster_centers_[:, 0], kmeans.cluster_centers_[:, 1], s=300, c='red')\n",
    "plt.show()\n",
    "\n",
    "df_hrss['cluster'] = kmeans.fit_predict(X_trans)"
   ]
  },
  {
   "cell_type": "markdown",
   "metadata": {},
   "source": [
    "### Visualize clusters"
   ]
  },
  {
   "cell_type": "code",
   "execution_count": 38,
   "metadata": {},
   "outputs": [
    {
     "name": "stdout",
     "output_type": "stream",
     "text": [
      "[t-SNE] Computing 91 nearest neighbors...\n",
      "[t-SNE] Indexed 111 samples in 0.001s...\n",
      "[t-SNE] Computed neighbors for 111 samples in 0.173s...\n",
      "[t-SNE] Computed conditional probabilities for sample 111 / 111\n",
      "[t-SNE] Mean sigma: 0.689691\n",
      "[t-SNE] KL divergence after 250 iterations with early exaggeration: 53.045925\n",
      "[t-SNE] KL divergence after 1000 iterations: 0.135361\n",
      "KMeans(n_clusters=4, random_state=15)\n",
      "\n",
      "TSNE figure saved under location: TSNE/Kmeans_phenoMap_tsne_All_Jaccard.html\n"
     ]
    }
   ],
   "source": [
    "from bokeh.palettes import Colorblind8\n",
    "from bokeh.palettes import Spectral10\n",
    "#import importlib as imp\n",
    "#imp.reload(func)\n",
    "\n",
    "l_order = ['Gain Of Function (ACTG1)', 'Loss of function (ACTG1)', 'Other (ACTG1)', 'Gain Of Function (ACTB)', 'Loss of function (ACTB)', 'Other (ACTB)']\n",
    "#func.makePCA(X_trans, df_all['Id'],   df_all['Category'], title='_Euclidean', pal=Colorblind8, l_order=l_order, radius=1, seed=2)\n",
    "\n",
    "# X_trans df_hrss[df_hrss.columns[:111]].values\n",
    "func.makeTSNE_Cluster2(X_trans, df_all['Id'],  df_hrss['cluster'].astype(str), df_all['Category'], l_order=l_order,\n",
    "                      title='All_Jaccard', clusters=4, pal=[Colorblind8, Colorblind8], seed=15, color_on_spot=False)"
   ]
  },
  {
   "cell_type": "markdown",
   "metadata": {},
   "source": [
    "### alternative UMAP\n",
    "You have to first download umap!"
   ]
  },
  {
   "cell_type": "code",
   "execution_count": 146,
   "metadata": {},
   "outputs": [],
   "source": [
    "import umap\n",
    "import matplotlib.pyplot as plt\n",
    "\n",
    "standard_embedding = umap.UMAP(random_state=42, n_neighbors=30, min_dist=0.3, metric='euclidean').fit_transform(df_hrss[df_hrss.columns[:111]].values)\n",
    "\n",
    "plt.figure(figsize=(15,10))\n",
    "plt.scatter(standard_embedding[:, 0], standard_embedding[:, 1], c= list(pd.Categorical(df_all['Category']).codes), s=100, cmap='Spectral') # c=mnist.target.astype(int),\n",
    "plt.legend(['Gain Of Function (ACTB)', 'Gain Of Function (ACTG1)', 'Loss of function (ACTB)', 'Loss of function (ACTG1)', 'Other (ACTB)', 'Other (ACTG1)'])"
   ]
  },
  {
   "cell_type": "markdown",
   "metadata": {},
   "source": [
    "## Explore Clusters\n",
    "### Plot cluster membership"
   ]
  },
  {
   "cell_type": "code",
   "execution_count": 51,
   "metadata": {},
   "outputs": [
    {
     "data": {
      "text/plain": [
       "<matplotlib.legend.Legend at 0x2551103c470>"
      ]
     },
     "execution_count": 51,
     "metadata": {},
     "output_type": "execute_result"
    },
    {
     "data": {
      "image/png": "[encoded data removed]",
      "text/plain": [
       "<Figure size 1080x504 with 1 Axes>"
      ]
     },
     "metadata": {
      "needs_background": "light"
     },
     "output_type": "display_data"
    }
   ],
   "source": [
    "import matplotlib.pyplot as plt\n",
    "#X = df_actg1.loc[:, cols].values # df_actg1.loc[:, cols].values # \n",
    "#X_trans = pca.fit_transform(X)\n",
    "plt.rcParams.update({'font.size': 20})\n",
    "\n",
    "\n",
    "\n",
    "d = {'cat': df_all['Category'], 'cluster': df_hrss['cluster']}\n",
    "df_bar = pd.DataFrame(data=d)\n",
    "#df_bar = df_bar.sample(frac=1)\n",
    "fig, ax = plt.subplots(figsize=(15,7))\n",
    "df_bar.groupby(['cluster', 'cat']).size().unstack().plot(ax=ax, kind = 'bar') \n",
    "plt.legend(loc=1, prop={'size': 16})"
   ]
  },
  {
   "cell_type": "markdown",
   "metadata": {},
   "source": [
    "### Rank phenotypes"
   ]
  },
  {
   "cell_type": "code",
   "execution_count": 52,
   "metadata": {},
   "outputs": [],
   "source": [
    "explore_df =  pd.concat([df_pheno, df_hrss['cluster'].astype(str)], axis=1) #  pd.Series([1 for i in range(len(df_pheno))], name='cluster')\n",
    "l_ignore = ['Category', 'Id', 'Protein', 'Origin'] # , 'cluster'\n",
    "columns = list(explore_df.loc[:, ~explore_df.columns.isin(l_ignore)])\n",
    "\n",
    "l_ignore.append('cluster')\n",
    "columns_raw = list(explore_df.loc[:, ~explore_df.columns.isin(l_ignore)])\n",
    "#explore_df.head()"
   ]
  },
  {
   "cell_type": "markdown",
   "metadata": {},
   "source": [
    "#### Rank by occurrence"
   ]
  },
  {
   "cell_type": "code",
   "execution_count": 75,
   "metadata": {},
   "outputs": [],
   "source": [
    "import obonet\n",
    "\n",
    "url = 'phenopy_mod/.phenopy/data/hp.obo'\n",
    "graph = obonet.read_obo(url)\n",
    "\n",
    "id_to_name = {id_: data.get('name') for id_, data in graph.nodes(data=True)}\n",
    "name_to_id = {data['name']: id_ for id_, data in graph.nodes(data=True) if 'name' in data}"
   ]
  },
  {
   "cell_type": "code",
   "execution_count": 76,
   "metadata": {},
   "outputs": [],
   "source": [
    "if dataset == 'IARS':\n",
    "    lbls = {col : id_to_name[col] for col in columns_raw }\n",
    "else :\n",
    "    lbls = columns_raw\n",
    "#lbls"
   ]
  },
  {
   "cell_type": "markdown",
   "metadata": {},
   "source": [
    "### Create HPO2Gene file"
   ]
  },
  {
   "cell_type": "code",
   "execution_count": 141,
   "metadata": {},
   "outputs": [],
   "source": [
    "#df_hpoa[['HPO_ID', 'DiseaseName']].to_csv(\"hpo/disease_2_pheno.txt\", sep='\\t', header=False, index=False)\n",
    "df_hpo[['#Format: HPO-id', 'entrez-gene-symbol']].to_csv(\"hpo/pheno_2_gene.txt\", sep='\\t', header=False, index=False)\n",
    "#annotated_table.to_csv(\"results/%s/2_phenotypes/Table_%s_%s_%s.csv\" % (title, str(index), pheno, title), sep='|', index=False)\n",
    "#explore_df = explore_df.loc[:, (explore_df==0).mean() < .8]"
   ]
  },
  {
   "cell_type": "markdown",
   "metadata": {},
   "source": [
    "### Import table that links phenotypes to genes"
   ]
  },
  {
   "cell_type": "code",
   "execution_count": 44,
   "metadata": {},
   "outputs": [],
   "source": [
    "## Load HPO to Genes file\n",
    "df_hpo = pd.read_table(r'hpo/util/annotation/phenotype_to_genes.txt', sep='\\t|<tab>', engine='python') # phenotype_to_genes.txt"
   ]
  },
  {
   "cell_type": "markdown",
   "metadata": {},
   "source": [
    "### Calculate weight (nr of associated genes)"
   ]
  },
  {
   "cell_type": "code",
   "execution_count": 45,
   "metadata": {},
   "outputs": [
    {
     "name": "stdout",
     "output_type": "stream",
     "text": [
      "persistent embryonic sructures not found\n",
      "polyarthralgia not found\n"
     ]
    }
   ],
   "source": [
    "import columns_linked_to_hpo\n",
    "#imp.reload(func)\n",
    "\n",
    "## Calculate Weights\n",
    "l_cols = df_pheno.columns\n",
    "\n",
    "if dataset == 'IARS':\n",
    "    #columns_raw = columns_raw[:-1]\n",
    "    weight_list = func.getNumberOfGenes(df_pheno[columns_raw].columns, df_hpo=df_hpo)\n",
    "else : \n",
    "    weight_list = func.getNumberOfGenesTranslation(df_pheno[columns_raw].columns, col2hpo=columns_linked_to_hpo.column_to_hpo, df_hpo=df_hpo)\n",
    "    "
   ]
  },
  {
   "cell_type": "markdown",
   "metadata": {},
   "source": [
    "### How many patients \n",
    "- to assess the fraction of patients"
   ]
  },
  {
   "cell_type": "code",
   "execution_count": 124,
   "metadata": {},
   "outputs": [],
   "source": [
    "#l_cols"
   ]
  },
  {
   "cell_type": "code",
   "execution_count": 79,
   "metadata": {},
   "outputs": [
    {
     "data": {
      "image/png": "[encoded data removed]",
      "text/plain": [
       "<Figure size 864x432 with 2 Axes>"
      ]
     },
     "metadata": {
      "needs_background": "light"
     },
     "output_type": "display_data"
    },
    {
     "name": "stdout",
     "output_type": "stream",
     "text": [
      "3\n"
     ]
    }
   ],
   "source": [
    "import numpy as np\n",
    "import matplotlib.pyplot as plt\n",
    "from numpy.linalg import norm \n",
    "imp.reload(func)\n",
    "\n",
    "name='IARS'\n",
    "\n",
    "n = len(explore_df)\n",
    "\n",
    "\n",
    "df = explore_df[columns].copy()\n",
    "    \n",
    "k = func.defineOptimalNrOfPatients(df, 10)\n",
    "\n",
    "print(k)\n",
    "#plt.xlim((0,40))"
   ]
  },
  {
   "cell_type": "code",
   "execution_count": 82,
   "metadata": {},
   "outputs": [
    {
     "data": {
      "text/plain": [
       "(0.0, 9.0)"
      ]
     },
     "execution_count": 82,
     "metadata": {},
     "output_type": "execute_result"
    },
    {
     "data": {
      "image/png": "[encoded data removed]",
      "text/plain": [
       "<Figure size 432x288 with 1 Axes>"
      ]
     },
     "metadata": {
      "needs_background": "light"
     },
     "output_type": "display_data"
    }
   ],
   "source": [
    "l_y = func.plotPhenotypesPatients(explore_df[columns], name=dataset)\n",
    "plt.xlim(0,9)"
   ]
  },
  {
   "cell_type": "code",
   "execution_count": 61,
   "metadata": {},
   "outputs": [
    {
     "data": {
      "text/html": [
       "<div>\n",
       "<style scoped>\n",
       "    .dataframe tbody tr th:only-of-type {\n",
       "        vertical-align: middle;\n",
       "    }\n",
       "\n",
       "    .dataframe tbody tr th {\n",
       "        vertical-align: top;\n",
       "    }\n",
       "\n",
       "    .dataframe thead th {\n",
       "        text-align: right;\n",
       "    }\n",
       "</style>\n",
       "<table border=\"1\" class=\"dataframe\">\n",
       "  <thead>\n",
       "    <tr style=\"text-align: right;\">\n",
       "      <th></th>\n",
       "      <th>Category</th>\n",
       "      <th>Id</th>\n",
       "      <th>Protein</th>\n",
       "      <th>High frequency hearing loss</th>\n",
       "      <th>Short stature</th>\n",
       "      <th>microcephaly</th>\n",
       "      <th>hearing loss</th>\n",
       "      <th>ID</th>\n",
       "      <th>Developmental delay (Global)</th>\n",
       "      <th>Motor Delay</th>\n",
       "      <th>...</th>\n",
       "      <th>Polyarthralgia</th>\n",
       "      <th>Hepatomegaly</th>\n",
       "      <th>Hypothyroidism</th>\n",
       "      <th>Leukocytosis</th>\n",
       "      <th>thrombocytopenia</th>\n",
       "      <th>Asthma</th>\n",
       "      <th>Strabismus</th>\n",
       "      <th>Growth hormone deficiency</th>\n",
       "      <th>Origin</th>\n",
       "      <th>cluster</th>\n",
       "    </tr>\n",
       "  </thead>\n",
       "  <tbody>\n",
       "    <tr>\n",
       "      <th>11</th>\n",
       "      <td>Other (ACTG1)</td>\n",
       "      <td>Patient B</td>\n",
       "      <td>p.Pro32Ser</td>\n",
       "      <td>1</td>\n",
       "      <td>0</td>\n",
       "      <td>0</td>\n",
       "      <td>1</td>\n",
       "      <td>0</td>\n",
       "      <td>0</td>\n",
       "      <td>0</td>\n",
       "      <td>...</td>\n",
       "      <td>0.0</td>\n",
       "      <td>0.0</td>\n",
       "      <td>0</td>\n",
       "      <td>0</td>\n",
       "      <td>0</td>\n",
       "      <td>0</td>\n",
       "      <td>0</td>\n",
       "      <td>0</td>\n",
       "      <td>ACTG1</td>\n",
       "      <td>1</td>\n",
       "    </tr>\n",
       "    <tr>\n",
       "      <th>12</th>\n",
       "      <td>Other (ACTG1)</td>\n",
       "      <td>Family 6</td>\n",
       "      <td>p.Pro264Leu</td>\n",
       "      <td>1</td>\n",
       "      <td>0</td>\n",
       "      <td>0</td>\n",
       "      <td>1</td>\n",
       "      <td>0</td>\n",
       "      <td>0</td>\n",
       "      <td>0</td>\n",
       "      <td>...</td>\n",
       "      <td>0.0</td>\n",
       "      <td>0.0</td>\n",
       "      <td>0</td>\n",
       "      <td>0</td>\n",
       "      <td>0</td>\n",
       "      <td>0</td>\n",
       "      <td>0</td>\n",
       "      <td>0</td>\n",
       "      <td>ACTG1</td>\n",
       "      <td>1</td>\n",
       "    </tr>\n",
       "    <tr>\n",
       "      <th>13</th>\n",
       "      <td>Other (ACTG1)</td>\n",
       "      <td>Chinese family 1</td>\n",
       "      <td>p.Ile122Val</td>\n",
       "      <td>1</td>\n",
       "      <td>0</td>\n",
       "      <td>0</td>\n",
       "      <td>1</td>\n",
       "      <td>0</td>\n",
       "      <td>0</td>\n",
       "      <td>0</td>\n",
       "      <td>...</td>\n",
       "      <td>0.0</td>\n",
       "      <td>0.0</td>\n",
       "      <td>0</td>\n",
       "      <td>0</td>\n",
       "      <td>0</td>\n",
       "      <td>0</td>\n",
       "      <td>0</td>\n",
       "      <td>0</td>\n",
       "      <td>ACTG1</td>\n",
       "      <td>1</td>\n",
       "    </tr>\n",
       "    <tr>\n",
       "      <th>14</th>\n",
       "      <td>Other (ACTG1)</td>\n",
       "      <td>Chinese family 2</td>\n",
       "      <td>p.Lys213Arg</td>\n",
       "      <td>1</td>\n",
       "      <td>0</td>\n",
       "      <td>0</td>\n",
       "      <td>1</td>\n",
       "      <td>0</td>\n",
       "      <td>0</td>\n",
       "      <td>0</td>\n",
       "      <td>...</td>\n",
       "      <td>0.0</td>\n",
       "      <td>0.0</td>\n",
       "      <td>0</td>\n",
       "      <td>0</td>\n",
       "      <td>0</td>\n",
       "      <td>0</td>\n",
       "      <td>0</td>\n",
       "      <td>0</td>\n",
       "      <td>ACTG1</td>\n",
       "      <td>1</td>\n",
       "    </tr>\n",
       "    <tr>\n",
       "      <th>15</th>\n",
       "      <td>Other (ACTG1)</td>\n",
       "      <td>Family #1</td>\n",
       "      <td>p.Ile34Met</td>\n",
       "      <td>1</td>\n",
       "      <td>0</td>\n",
       "      <td>0</td>\n",
       "      <td>1</td>\n",
       "      <td>0</td>\n",
       "      <td>0</td>\n",
       "      <td>0</td>\n",
       "      <td>...</td>\n",
       "      <td>0.0</td>\n",
       "      <td>0.0</td>\n",
       "      <td>0</td>\n",
       "      <td>0</td>\n",
       "      <td>0</td>\n",
       "      <td>0</td>\n",
       "      <td>0</td>\n",
       "      <td>0</td>\n",
       "      <td>ACTG1</td>\n",
       "      <td>1</td>\n",
       "    </tr>\n",
       "    <tr>\n",
       "      <th>16</th>\n",
       "      <td>Other (ACTG1)</td>\n",
       "      <td>Family #2</td>\n",
       "      <td>p.Arg37His</td>\n",
       "      <td>1</td>\n",
       "      <td>0</td>\n",
       "      <td>0</td>\n",
       "      <td>1</td>\n",
       "      <td>0</td>\n",
       "      <td>0</td>\n",
       "      <td>0</td>\n",
       "      <td>...</td>\n",
       "      <td>0.0</td>\n",
       "      <td>0.0</td>\n",
       "      <td>0</td>\n",
       "      <td>0</td>\n",
       "      <td>0</td>\n",
       "      <td>0</td>\n",
       "      <td>0</td>\n",
       "      <td>0</td>\n",
       "      <td>ACTG1</td>\n",
       "      <td>1</td>\n",
       "    </tr>\n",
       "    <tr>\n",
       "      <th>17</th>\n",
       "      <td>Other (ACTG1)</td>\n",
       "      <td>Family #4</td>\n",
       "      <td>p.Met82Ile</td>\n",
       "      <td>1</td>\n",
       "      <td>0</td>\n",
       "      <td>0</td>\n",
       "      <td>1</td>\n",
       "      <td>0</td>\n",
       "      <td>0</td>\n",
       "      <td>0</td>\n",
       "      <td>...</td>\n",
       "      <td>0.0</td>\n",
       "      <td>0.0</td>\n",
       "      <td>0</td>\n",
       "      <td>0</td>\n",
       "      <td>0</td>\n",
       "      <td>0</td>\n",
       "      <td>0</td>\n",
       "      <td>0</td>\n",
       "      <td>ACTG1</td>\n",
       "      <td>1</td>\n",
       "    </tr>\n",
       "    <tr>\n",
       "      <th>18</th>\n",
       "      <td>Other (ACTG1)</td>\n",
       "      <td>Family #8</td>\n",
       "      <td>p.Ile165Val</td>\n",
       "      <td>1</td>\n",
       "      <td>0</td>\n",
       "      <td>0</td>\n",
       "      <td>1</td>\n",
       "      <td>0</td>\n",
       "      <td>0</td>\n",
       "      <td>0</td>\n",
       "      <td>...</td>\n",
       "      <td>0.0</td>\n",
       "      <td>0.0</td>\n",
       "      <td>0</td>\n",
       "      <td>0</td>\n",
       "      <td>0</td>\n",
       "      <td>0</td>\n",
       "      <td>0</td>\n",
       "      <td>0</td>\n",
       "      <td>ACTG1</td>\n",
       "      <td>1</td>\n",
       "    </tr>\n",
       "    <tr>\n",
       "      <th>19</th>\n",
       "      <td>Other (ACTG1)</td>\n",
       "      <td>Family #11</td>\n",
       "      <td>p.His275Tyr</td>\n",
       "      <td>1</td>\n",
       "      <td>0</td>\n",
       "      <td>0</td>\n",
       "      <td>1</td>\n",
       "      <td>0</td>\n",
       "      <td>0</td>\n",
       "      <td>0</td>\n",
       "      <td>...</td>\n",
       "      <td>0.0</td>\n",
       "      <td>0.0</td>\n",
       "      <td>0</td>\n",
       "      <td>0</td>\n",
       "      <td>0</td>\n",
       "      <td>0</td>\n",
       "      <td>0</td>\n",
       "      <td>0</td>\n",
       "      <td>ACTG1</td>\n",
       "      <td>1</td>\n",
       "    </tr>\n",
       "    <tr>\n",
       "      <th>20</th>\n",
       "      <td>Other (ACTG1)</td>\n",
       "      <td>Family #14/#15</td>\n",
       "      <td>p.Pro332Ser</td>\n",
       "      <td>1</td>\n",
       "      <td>0</td>\n",
       "      <td>0</td>\n",
       "      <td>1</td>\n",
       "      <td>0</td>\n",
       "      <td>0</td>\n",
       "      <td>0</td>\n",
       "      <td>...</td>\n",
       "      <td>0.0</td>\n",
       "      <td>0.0</td>\n",
       "      <td>0</td>\n",
       "      <td>0</td>\n",
       "      <td>0</td>\n",
       "      <td>0</td>\n",
       "      <td>0</td>\n",
       "      <td>0</td>\n",
       "      <td>ACTG1</td>\n",
       "      <td>1</td>\n",
       "    </tr>\n",
       "    <tr>\n",
       "      <th>21</th>\n",
       "      <td>Other (ACTG1)</td>\n",
       "      <td>Japanese family 1</td>\n",
       "      <td>p.Gly48Arg</td>\n",
       "      <td>1</td>\n",
       "      <td>0</td>\n",
       "      <td>0</td>\n",
       "      <td>1</td>\n",
       "      <td>0</td>\n",
       "      <td>0</td>\n",
       "      <td>0</td>\n",
       "      <td>...</td>\n",
       "      <td>0.0</td>\n",
       "      <td>0.0</td>\n",
       "      <td>0</td>\n",
       "      <td>0</td>\n",
       "      <td>0</td>\n",
       "      <td>0</td>\n",
       "      <td>0</td>\n",
       "      <td>0</td>\n",
       "      <td>ACTG1</td>\n",
       "      <td>1</td>\n",
       "    </tr>\n",
       "    <tr>\n",
       "      <th>22</th>\n",
       "      <td>Other (ACTG1)</td>\n",
       "      <td>Japanese family 2/3</td>\n",
       "      <td>p.Lys118Met</td>\n",
       "      <td>1</td>\n",
       "      <td>0</td>\n",
       "      <td>0</td>\n",
       "      <td>1</td>\n",
       "      <td>0</td>\n",
       "      <td>0</td>\n",
       "      <td>0</td>\n",
       "      <td>...</td>\n",
       "      <td>0.0</td>\n",
       "      <td>0.0</td>\n",
       "      <td>0</td>\n",
       "      <td>0</td>\n",
       "      <td>0</td>\n",
       "      <td>0</td>\n",
       "      <td>0</td>\n",
       "      <td>0</td>\n",
       "      <td>ACTG1</td>\n",
       "      <td>1</td>\n",
       "    </tr>\n",
       "    <tr>\n",
       "      <th>23</th>\n",
       "      <td>Other (ACTG1)</td>\n",
       "      <td>Japanese family 4</td>\n",
       "      <td>p.Glu241Lys</td>\n",
       "      <td>1</td>\n",
       "      <td>0</td>\n",
       "      <td>0</td>\n",
       "      <td>1</td>\n",
       "      <td>1</td>\n",
       "      <td>1</td>\n",
       "      <td>0</td>\n",
       "      <td>...</td>\n",
       "      <td>0.0</td>\n",
       "      <td>0.0</td>\n",
       "      <td>0</td>\n",
       "      <td>0</td>\n",
       "      <td>0</td>\n",
       "      <td>0</td>\n",
       "      <td>0</td>\n",
       "      <td>0</td>\n",
       "      <td>ACTG1</td>\n",
       "      <td>1</td>\n",
       "    </tr>\n",
       "    <tr>\n",
       "      <th>24</th>\n",
       "      <td>Other (ACTG1)</td>\n",
       "      <td>Japanese family 5</td>\n",
       "      <td>p.Leu299Val</td>\n",
       "      <td>1</td>\n",
       "      <td>0</td>\n",
       "      <td>0</td>\n",
       "      <td>1</td>\n",
       "      <td>0</td>\n",
       "      <td>0</td>\n",
       "      <td>0</td>\n",
       "      <td>...</td>\n",
       "      <td>0.0</td>\n",
       "      <td>0.0</td>\n",
       "      <td>0</td>\n",
       "      <td>0</td>\n",
       "      <td>0</td>\n",
       "      <td>0</td>\n",
       "      <td>0</td>\n",
       "      <td>0</td>\n",
       "      <td>ACTG1</td>\n",
       "      <td>1</td>\n",
       "    </tr>\n",
       "    <tr>\n",
       "      <th>25</th>\n",
       "      <td>Other (ACTG1)</td>\n",
       "      <td>Scandinavian family</td>\n",
       "      <td>p.Val370Ala</td>\n",
       "      <td>1</td>\n",
       "      <td>0</td>\n",
       "      <td>0</td>\n",
       "      <td>1</td>\n",
       "      <td>0</td>\n",
       "      <td>0</td>\n",
       "      <td>0</td>\n",
       "      <td>...</td>\n",
       "      <td>0.0</td>\n",
       "      <td>0.0</td>\n",
       "      <td>0</td>\n",
       "      <td>0</td>\n",
       "      <td>0</td>\n",
       "      <td>0</td>\n",
       "      <td>0</td>\n",
       "      <td>0</td>\n",
       "      <td>ACTG1</td>\n",
       "      <td>1</td>\n",
       "    </tr>\n",
       "    <tr>\n",
       "      <th>31</th>\n",
       "      <td>Other (ACTG1)</td>\n",
       "      <td>Dutch family 1</td>\n",
       "      <td>p.Thr278Ile</td>\n",
       "      <td>1</td>\n",
       "      <td>0</td>\n",
       "      <td>0</td>\n",
       "      <td>1</td>\n",
       "      <td>0</td>\n",
       "      <td>0</td>\n",
       "      <td>0</td>\n",
       "      <td>...</td>\n",
       "      <td>0.0</td>\n",
       "      <td>0.0</td>\n",
       "      <td>0</td>\n",
       "      <td>0</td>\n",
       "      <td>0</td>\n",
       "      <td>0</td>\n",
       "      <td>0</td>\n",
       "      <td>0</td>\n",
       "      <td>ACTG1</td>\n",
       "      <td>1</td>\n",
       "    </tr>\n",
       "    <tr>\n",
       "      <th>32</th>\n",
       "      <td>Other (ACTG1)</td>\n",
       "      <td>Dutch family 2</td>\n",
       "      <td>p.Asp51Asn</td>\n",
       "      <td>1</td>\n",
       "      <td>0</td>\n",
       "      <td>0</td>\n",
       "      <td>1</td>\n",
       "      <td>0</td>\n",
       "      <td>0</td>\n",
       "      <td>0</td>\n",
       "      <td>...</td>\n",
       "      <td>0.0</td>\n",
       "      <td>0.0</td>\n",
       "      <td>0</td>\n",
       "      <td>0</td>\n",
       "      <td>0</td>\n",
       "      <td>0</td>\n",
       "      <td>0</td>\n",
       "      <td>0</td>\n",
       "      <td>ACTG1</td>\n",
       "      <td>1</td>\n",
       "    </tr>\n",
       "    <tr>\n",
       "      <th>33</th>\n",
       "      <td>Other (ACTG1)</td>\n",
       "      <td>Family S840</td>\n",
       "      <td>p.Lys118Asn</td>\n",
       "      <td>1</td>\n",
       "      <td>0</td>\n",
       "      <td>0</td>\n",
       "      <td>1</td>\n",
       "      <td>0</td>\n",
       "      <td>0</td>\n",
       "      <td>0</td>\n",
       "      <td>...</td>\n",
       "      <td>0.0</td>\n",
       "      <td>0.0</td>\n",
       "      <td>0</td>\n",
       "      <td>0</td>\n",
       "      <td>0</td>\n",
       "      <td>0</td>\n",
       "      <td>0</td>\n",
       "      <td>0</td>\n",
       "      <td>ACTG1</td>\n",
       "      <td>1</td>\n",
       "    </tr>\n",
       "    <tr>\n",
       "      <th>34</th>\n",
       "      <td>Other (ACTG1)</td>\n",
       "      <td>Family S582</td>\n",
       "      <td>p.Glu241Lys</td>\n",
       "      <td>1</td>\n",
       "      <td>0</td>\n",
       "      <td>0</td>\n",
       "      <td>1</td>\n",
       "      <td>0</td>\n",
       "      <td>0</td>\n",
       "      <td>0</td>\n",
       "      <td>...</td>\n",
       "      <td>0.0</td>\n",
       "      <td>0.0</td>\n",
       "      <td>0</td>\n",
       "      <td>0</td>\n",
       "      <td>0</td>\n",
       "      <td>0</td>\n",
       "      <td>0</td>\n",
       "      <td>0</td>\n",
       "      <td>ACTG1</td>\n",
       "      <td>1</td>\n",
       "    </tr>\n",
       "    <tr>\n",
       "      <th>35</th>\n",
       "      <td>Other (ACTG1)</td>\n",
       "      <td>Family KNUF21</td>\n",
       "      <td>p.Asp187His</td>\n",
       "      <td>1</td>\n",
       "      <td>0</td>\n",
       "      <td>0</td>\n",
       "      <td>1</td>\n",
       "      <td>0</td>\n",
       "      <td>0</td>\n",
       "      <td>0</td>\n",
       "      <td>...</td>\n",
       "      <td>0.0</td>\n",
       "      <td>0.0</td>\n",
       "      <td>0</td>\n",
       "      <td>0</td>\n",
       "      <td>0</td>\n",
       "      <td>0</td>\n",
       "      <td>0</td>\n",
       "      <td>0</td>\n",
       "      <td>ACTG1</td>\n",
       "      <td>1</td>\n",
       "    </tr>\n",
       "    <tr>\n",
       "      <th>36</th>\n",
       "      <td>Other (ACTG1)</td>\n",
       "      <td>Family MSUDF1</td>\n",
       "      <td>p.Thr89Ile</td>\n",
       "      <td>1</td>\n",
       "      <td>0</td>\n",
       "      <td>0</td>\n",
       "      <td>1</td>\n",
       "      <td>0</td>\n",
       "      <td>0</td>\n",
       "      <td>0</td>\n",
       "      <td>...</td>\n",
       "      <td>0.0</td>\n",
       "      <td>0.0</td>\n",
       "      <td>0</td>\n",
       "      <td>0</td>\n",
       "      <td>0</td>\n",
       "      <td>0</td>\n",
       "      <td>0</td>\n",
       "      <td>0</td>\n",
       "      <td>ACTG1</td>\n",
       "      <td>1</td>\n",
       "    </tr>\n",
       "    <tr>\n",
       "      <th>37</th>\n",
       "      <td>Other (ACTG1)</td>\n",
       "      <td>Family 1250</td>\n",
       "      <td>p.Lys118Met</td>\n",
       "      <td>1</td>\n",
       "      <td>0</td>\n",
       "      <td>0</td>\n",
       "      <td>1</td>\n",
       "      <td>0</td>\n",
       "      <td>0</td>\n",
       "      <td>0</td>\n",
       "      <td>...</td>\n",
       "      <td>0.0</td>\n",
       "      <td>0.0</td>\n",
       "      <td>0</td>\n",
       "      <td>0</td>\n",
       "      <td>0</td>\n",
       "      <td>0</td>\n",
       "      <td>0</td>\n",
       "      <td>0</td>\n",
       "      <td>ACTG1</td>\n",
       "      <td>1</td>\n",
       "    </tr>\n",
       "    <tr>\n",
       "      <th>38</th>\n",
       "      <td>Other (ACTG1)</td>\n",
       "      <td>Family 1320</td>\n",
       "      <td>p.Pro332Ala</td>\n",
       "      <td>1</td>\n",
       "      <td>0</td>\n",
       "      <td>0</td>\n",
       "      <td>1</td>\n",
       "      <td>0</td>\n",
       "      <td>0</td>\n",
       "      <td>0</td>\n",
       "      <td>...</td>\n",
       "      <td>0.0</td>\n",
       "      <td>0.0</td>\n",
       "      <td>0</td>\n",
       "      <td>0</td>\n",
       "      <td>0</td>\n",
       "      <td>0</td>\n",
       "      <td>0</td>\n",
       "      <td>0</td>\n",
       "      <td>ACTG1</td>\n",
       "      <td>1</td>\n",
       "    </tr>\n",
       "  </tbody>\n",
       "</table>\n",
       "<p>23 rows × 98 columns</p>\n",
       "</div>"
      ],
      "text/plain": [
       "         Category                   Id      Protein  \\\n",
       "11  Other (ACTG1)            Patient B   p.Pro32Ser   \n",
       "12  Other (ACTG1)             Family 6  p.Pro264Leu   \n",
       "13  Other (ACTG1)     Chinese family 1  p.Ile122Val   \n",
       "14  Other (ACTG1)     Chinese family 2  p.Lys213Arg   \n",
       "15  Other (ACTG1)            Family #1   p.Ile34Met   \n",
       "16  Other (ACTG1)            Family #2   p.Arg37His   \n",
       "17  Other (ACTG1)            Family #4   p.Met82Ile   \n",
       "18  Other (ACTG1)            Family #8  p.Ile165Val   \n",
       "19  Other (ACTG1)           Family #11  p.His275Tyr   \n",
       "20  Other (ACTG1)       Family #14/#15  p.Pro332Ser   \n",
       "21  Other (ACTG1)    Japanese family 1   p.Gly48Arg   \n",
       "22  Other (ACTG1)  Japanese family 2/3  p.Lys118Met   \n",
       "23  Other (ACTG1)    Japanese family 4  p.Glu241Lys   \n",
       "24  Other (ACTG1)    Japanese family 5  p.Leu299Val   \n",
       "25  Other (ACTG1)  Scandinavian family  p.Val370Ala   \n",
       "31  Other (ACTG1)       Dutch family 1  p.Thr278Ile   \n",
       "32  Other (ACTG1)       Dutch family 2   p.Asp51Asn   \n",
       "33  Other (ACTG1)          Family S840  p.Lys118Asn   \n",
       "34  Other (ACTG1)          Family S582  p.Glu241Lys   \n",
       "35  Other (ACTG1)        Family KNUF21  p.Asp187His   \n",
       "36  Other (ACTG1)        Family MSUDF1   p.Thr89Ile   \n",
       "37  Other (ACTG1)          Family 1250  p.Lys118Met   \n",
       "38  Other (ACTG1)          Family 1320  p.Pro332Ala   \n",
       "\n",
       "    High frequency hearing loss  Short stature   microcephaly   hearing loss  \\\n",
       "11                            1              0              0              1   \n",
       "12                            1              0              0              1   \n",
       "13                            1              0              0              1   \n",
       "14                            1              0              0              1   \n",
       "15                            1              0              0              1   \n",
       "16                            1              0              0              1   \n",
       "17                            1              0              0              1   \n",
       "18                            1              0              0              1   \n",
       "19                            1              0              0              1   \n",
       "20                            1              0              0              1   \n",
       "21                            1              0              0              1   \n",
       "22                            1              0              0              1   \n",
       "23                            1              0              0              1   \n",
       "24                            1              0              0              1   \n",
       "25                            1              0              0              1   \n",
       "31                            1              0              0              1   \n",
       "32                            1              0              0              1   \n",
       "33                            1              0              0              1   \n",
       "34                            1              0              0              1   \n",
       "35                            1              0              0              1   \n",
       "36                            1              0              0              1   \n",
       "37                            1              0              0              1   \n",
       "38                            1              0              0              1   \n",
       "\n",
       "      ID  Developmental delay (Global)   Motor Delay  ...  Polyarthralgia  \\\n",
       "11     0                             0             0  ...             0.0   \n",
       "12     0                             0             0  ...             0.0   \n",
       "13     0                             0             0  ...             0.0   \n",
       "14     0                             0             0  ...             0.0   \n",
       "15     0                             0             0  ...             0.0   \n",
       "16     0                             0             0  ...             0.0   \n",
       "17     0                             0             0  ...             0.0   \n",
       "18     0                             0             0  ...             0.0   \n",
       "19     0                             0             0  ...             0.0   \n",
       "20     0                             0             0  ...             0.0   \n",
       "21     0                             0             0  ...             0.0   \n",
       "22     0                             0             0  ...             0.0   \n",
       "23     1                             1             0  ...             0.0   \n",
       "24     0                             0             0  ...             0.0   \n",
       "25     0                             0             0  ...             0.0   \n",
       "31     0                             0             0  ...             0.0   \n",
       "32     0                             0             0  ...             0.0   \n",
       "33     0                             0             0  ...             0.0   \n",
       "34     0                             0             0  ...             0.0   \n",
       "35     0                             0             0  ...             0.0   \n",
       "36     0                             0             0  ...             0.0   \n",
       "37     0                             0             0  ...             0.0   \n",
       "38     0                             0             0  ...             0.0   \n",
       "\n",
       "    Hepatomegaly  Hypothyroidism  Leukocytosis  thrombocytopenia  Asthma  \\\n",
       "11           0.0               0             0                 0       0   \n",
       "12           0.0               0             0                 0       0   \n",
       "13           0.0               0             0                 0       0   \n",
       "14           0.0               0             0                 0       0   \n",
       "15           0.0               0             0                 0       0   \n",
       "16           0.0               0             0                 0       0   \n",
       "17           0.0               0             0                 0       0   \n",
       "18           0.0               0             0                 0       0   \n",
       "19           0.0               0             0                 0       0   \n",
       "20           0.0               0             0                 0       0   \n",
       "21           0.0               0             0                 0       0   \n",
       "22           0.0               0             0                 0       0   \n",
       "23           0.0               0             0                 0       0   \n",
       "24           0.0               0             0                 0       0   \n",
       "25           0.0               0             0                 0       0   \n",
       "31           0.0               0             0                 0       0   \n",
       "32           0.0               0             0                 0       0   \n",
       "33           0.0               0             0                 0       0   \n",
       "34           0.0               0             0                 0       0   \n",
       "35           0.0               0             0                 0       0   \n",
       "36           0.0               0             0                 0       0   \n",
       "37           0.0               0             0                 0       0   \n",
       "38           0.0               0             0                 0       0   \n",
       "\n",
       "    Strabismus  Growth hormone deficiency  Origin  cluster  \n",
       "11           0                          0   ACTG1        1  \n",
       "12           0                          0   ACTG1        1  \n",
       "13           0                          0   ACTG1        1  \n",
       "14           0                          0   ACTG1        1  \n",
       "15           0                          0   ACTG1        1  \n",
       "16           0                          0   ACTG1        1  \n",
       "17           0                          0   ACTG1        1  \n",
       "18           0                          0   ACTG1        1  \n",
       "19           0                          0   ACTG1        1  \n",
       "20           0                          0   ACTG1        1  \n",
       "21           0                          0   ACTG1        1  \n",
       "22           0                          0   ACTG1        1  \n",
       "23           0                          0   ACTG1        1  \n",
       "24           0                          0   ACTG1        1  \n",
       "25           0                          0   ACTG1        1  \n",
       "31           0                          0   ACTG1        1  \n",
       "32           0                          0   ACTG1        1  \n",
       "33           0                          0   ACTG1        1  \n",
       "34           0                          0   ACTG1        1  \n",
       "35           0                          0   ACTG1        1  \n",
       "36           0                          0   ACTG1        1  \n",
       "37           0                          0   ACTG1        1  \n",
       "38           0                          0   ACTG1        1  \n",
       "\n",
       "[23 rows x 98 columns]"
      ]
     },
     "execution_count": 61,
     "metadata": {},
     "output_type": "execute_result"
    }
   ],
   "source": [
    "explore_df[explore_df['cluster']=='1']"
   ]
  },
  {
   "cell_type": "markdown",
   "metadata": {},
   "source": [
    "### calculate Phenotypic Specificity"
   ]
  },
  {
   "cell_type": "code",
   "execution_count": 65,
   "metadata": {},
   "outputs": [
    {
     "data": {
      "image/png": "[encoded data removed]",
      "text/plain": [
       "<Figure size 648x648 with 1 Axes>"
      ]
     },
     "metadata": {
      "needs_background": "light"
     },
     "output_type": "display_data"
    }
   ],
   "source": [
    "import matplotlib.pyplot as plt\n",
    "imp.reload(func)\n",
    "\n",
    "cluster = 3\n",
    "N = len(explore_df[explore_df['cluster']==str(cluster)])\n",
    "\n",
    "prob = func.PhenotypicSpecifictyOccurrence(explore_df[columns], weights=weight_list, cluster=str(cluster), topN=10, pat_frac=1, rename=False, divide_occurrence=True) # labels=lbls, \n",
    "pheno_ACTG = list(prob.index) # topN=10, \n",
    "\n",
    "prob.plot(kind='barh',figsize=(9,9), title='Most specific phenotypic features in Cluster %s (n=%s)' % (cluster, str(N)))\n",
    "plt.show()"
   ]
  },
  {
   "cell_type": "code",
   "execution_count": null,
   "metadata": {},
   "outputs": [],
   "source": []
  },
  {
   "cell_type": "code",
   "execution_count": 106,
   "metadata": {},
   "outputs": [],
   "source": [
    "#prob.to_csv(\"hpo/disease_2_pheno.txt\", sep='\\t', header=False, index=False)\n",
    "#pheno_ACTG\n",
    "\n",
    "def translateToHPO(l_cols, col2hpo):\n",
    "    \"\"\"\n",
    "    l_cols = column names (written phenotypes)\n",
    "    \"\"\"\n",
    "    hpo_list = []\n",
    "    for val in l_cols:\n",
    "        col = val.lower().strip()\n",
    "        #print(col)\n",
    "        if col in col2hpo.keys():\n",
    "            if type(col2hpo[col]) == list:\n",
    "                hpo_list.extend([hpo for hpo in col2hpo[col]])\n",
    "            else :\n",
    "                hpo_list.append(col2hpo[col])\n",
    "        #print(hpo)\n",
    "    return hpo_list\n",
    "\n",
    "col2hpo = columns_linked_to_hpo.column_to_hpo\n",
    "\n",
    "hpo_list = translateToHPO(pheno_ACTG, col2hpo) # pheno_ACTG (filtered) or df_pheno.columns\n",
    "#hpo_list"
   ]
  },
  {
   "cell_type": "markdown",
   "metadata": {},
   "source": [
    "## Explore pathophysiology"
   ]
  },
  {
   "cell_type": "markdown",
   "metadata": {},
   "source": [
    "### load HPOA"
   ]
  },
  {
   "cell_type": "code",
   "execution_count": 88,
   "metadata": {},
   "outputs": [
    {
     "name": "stdout",
     "output_type": "stream",
     "text": [
      "Nr of HPO codes: 199197\n"
     ]
    },
    {
     "name": "stderr",
     "output_type": "stream",
     "text": [
      "C:\\Users\\levrex\\Anaconda3\\envs\\my_env\\lib\\site-packages\\IPython\\core\\interactiveshell.py:3063: DtypeWarning: Columns (6,8,9) have mixed types.Specify dtype option on import or set low_memory=False.\n",
      "  interactivity=interactivity, compiler=compiler, result=result)\n"
     ]
    },
    {
     "data": {
      "text/html": [
       "<div>\n",
       "<style scoped>\n",
       "    .dataframe tbody tr th:only-of-type {\n",
       "        vertical-align: middle;\n",
       "    }\n",
       "\n",
       "    .dataframe tbody tr th {\n",
       "        vertical-align: top;\n",
       "    }\n",
       "\n",
       "    .dataframe thead th {\n",
       "        text-align: right;\n",
       "    }\n",
       "</style>\n",
       "<table border=\"1\" class=\"dataframe\">\n",
       "  <thead>\n",
       "    <tr style=\"text-align: right;\">\n",
       "      <th></th>\n",
       "      <th>#DatabaseID</th>\n",
       "      <th>DiseaseName</th>\n",
       "      <th>Qualifier</th>\n",
       "      <th>HPO_ID</th>\n",
       "      <th>Reference</th>\n",
       "      <th>Evidence</th>\n",
       "      <th>Onset</th>\n",
       "      <th>Frequency</th>\n",
       "      <th>Sex</th>\n",
       "      <th>Modifier</th>\n",
       "      <th>Aspect</th>\n",
       "      <th>Biocuration</th>\n",
       "    </tr>\n",
       "  </thead>\n",
       "  <tbody>\n",
       "    <tr>\n",
       "      <th>0</th>\n",
       "      <td>OMIM:210100</td>\n",
       "      <td>BETA-AMINOISOBUTYRIC ACID, URINARY EXCRETION OF</td>\n",
       "      <td>NaN</td>\n",
       "      <td>HP:0000007</td>\n",
       "      <td>OMIM:210100</td>\n",
       "      <td>IEA</td>\n",
       "      <td>NaN</td>\n",
       "      <td>NaN</td>\n",
       "      <td>NaN</td>\n",
       "      <td>NaN</td>\n",
       "      <td>I</td>\n",
       "      <td>HPO:iea[2009-02-17]</td>\n",
       "    </tr>\n",
       "    <tr>\n",
       "      <th>1</th>\n",
       "      <td>OMIM:210100</td>\n",
       "      <td>BETA-AMINOISOBUTYRIC ACID, URINARY EXCRETION OF</td>\n",
       "      <td>NaN</td>\n",
       "      <td>HP:0003355</td>\n",
       "      <td>OMIM:210100</td>\n",
       "      <td>IEA</td>\n",
       "      <td>NaN</td>\n",
       "      <td>NaN</td>\n",
       "      <td>NaN</td>\n",
       "      <td>NaN</td>\n",
       "      <td>P</td>\n",
       "      <td>HPO:skoehler[2009-02-17]</td>\n",
       "    </tr>\n",
       "    <tr>\n",
       "      <th>2</th>\n",
       "      <td>OMIM:163600</td>\n",
       "      <td>NIPPLES INVERTED</td>\n",
       "      <td>NaN</td>\n",
       "      <td>HP:0000006</td>\n",
       "      <td>OMIM:163600</td>\n",
       "      <td>IEA</td>\n",
       "      <td>NaN</td>\n",
       "      <td>NaN</td>\n",
       "      <td>NaN</td>\n",
       "      <td>NaN</td>\n",
       "      <td>I</td>\n",
       "      <td>HPO:iea[2009-02-17]</td>\n",
       "    </tr>\n",
       "    <tr>\n",
       "      <th>3</th>\n",
       "      <td>OMIM:163600</td>\n",
       "      <td>NIPPLES INVERTED</td>\n",
       "      <td>NaN</td>\n",
       "      <td>HP:0003186</td>\n",
       "      <td>OMIM:163600</td>\n",
       "      <td>IEA</td>\n",
       "      <td>NaN</td>\n",
       "      <td>NaN</td>\n",
       "      <td>NaN</td>\n",
       "      <td>NaN</td>\n",
       "      <td>P</td>\n",
       "      <td>HPO:iea[2009-02-17]</td>\n",
       "    </tr>\n",
       "    <tr>\n",
       "      <th>4</th>\n",
       "      <td>OMIM:615763</td>\n",
       "      <td>#615763 CORTICAL DYSPLASIA, COMPLEX, WITH OTHE...</td>\n",
       "      <td>NaN</td>\n",
       "      <td>HP:0002365</td>\n",
       "      <td>OMIM:615763</td>\n",
       "      <td>TAS</td>\n",
       "      <td>NaN</td>\n",
       "      <td>HP:0040283</td>\n",
       "      <td>NaN</td>\n",
       "      <td>NaN</td>\n",
       "      <td>P</td>\n",
       "      <td>HPO:skoehler[2014-08-24]</td>\n",
       "    </tr>\n",
       "  </tbody>\n",
       "</table>\n",
       "</div>"
      ],
      "text/plain": [
       "   #DatabaseID                                        DiseaseName Qualifier  \\\n",
       "0  OMIM:210100    BETA-AMINOISOBUTYRIC ACID, URINARY EXCRETION OF       NaN   \n",
       "1  OMIM:210100    BETA-AMINOISOBUTYRIC ACID, URINARY EXCRETION OF       NaN   \n",
       "2  OMIM:163600                                   NIPPLES INVERTED       NaN   \n",
       "3  OMIM:163600                                   NIPPLES INVERTED       NaN   \n",
       "4  OMIM:615763  #615763 CORTICAL DYSPLASIA, COMPLEX, WITH OTHE...       NaN   \n",
       "\n",
       "       HPO_ID    Reference Evidence Onset   Frequency  Sex Modifier Aspect  \\\n",
       "0  HP:0000007  OMIM:210100      IEA   NaN         NaN  NaN      NaN      I   \n",
       "1  HP:0003355  OMIM:210100      IEA   NaN         NaN  NaN      NaN      P   \n",
       "2  HP:0000006  OMIM:163600      IEA   NaN         NaN  NaN      NaN      I   \n",
       "3  HP:0003186  OMIM:163600      IEA   NaN         NaN  NaN      NaN      P   \n",
       "4  HP:0002365  OMIM:615763      TAS   NaN  HP:0040283  NaN      NaN      P   \n",
       "\n",
       "                Biocuration  \n",
       "0       HPO:iea[2009-02-17]  \n",
       "1  HPO:skoehler[2009-02-17]  \n",
       "2       HPO:iea[2009-02-17]  \n",
       "3       HPO:iea[2009-02-17]  \n",
       "4  HPO:skoehler[2014-08-24]  "
      ]
     },
     "execution_count": 88,
     "metadata": {},
     "output_type": "execute_result"
    }
   ],
   "source": [
    "df_hpoa = pd.read_table(r'hpo/phenotype.hpoa', sep='\\t', header=4, encoding = \"ISO-8859-1\")\n",
    "print('Nr of HPO codes:', len(df_hpoa))\n",
    "df_hpoa.head()"
   ]
  },
  {
   "cell_type": "markdown",
   "metadata": {},
   "source": [
    "### Convert Entrez to Ensemble [ OLD FUNCTION ]"
   ]
  },
  {
   "cell_type": "code",
   "execution_count": null,
   "metadata": {},
   "outputs": [],
   "source": [
    "#import sys\n",
    "#import mygene\n",
    "#def translateEnsembl(genes):\n",
    "#    l_val = []\n",
    "#    for gene in genes:\n",
    "#        result = mg.query(gene, scopes=\"symbol\", fields=[\"ensembl\"], species=\"human\", verbose=False)\n",
    "#        hgnc_name = gene\n",
    "#\n",
    "#        for hit in result[\"hits\"]:\n",
    "#            if \"ensembl\" in hit and \"gene\" in hit[\"ensembl\"]:\n",
    "#                print(\"%s\\t%s\\n\" % (hgnc_name, hit[\"ensembl\"][\"gene\"]))\n",
    "#                l_val.append(hit[\"ensembl\"][\"gene\"])\n",
    "#    return l_val\n",
    "#\n",
    "#\n",
    "#l_ensembl = translateEnsembl(genes)"
   ]
  },
  {
   "cell_type": "markdown",
   "metadata": {},
   "source": [
    "### Employ PHRANK"
   ]
  },
  {
   "cell_type": "code",
   "execution_count": 89,
   "metadata": {},
   "outputs": [],
   "source": [
    "from phrank.phrank import Phrank\n",
    "from phrank.phrank import utils as phrank_utils\n",
    "\n",
    "# hpo/pheno_2_gene.txt\n",
    "DAG=\"phrank/demo/data/hpodag.txt\"\n",
    "DISEASE_TO_PHENO=\"phrank/demo/data/disease_to_pheno.build127.txt\"\n",
    "DISEASE_TO_GENE=\"phrank/demo/data/gene_to_disease.build127.txt\"\n",
    "GENE_TO_PHENO=\"phrank/demo/data/gene_to_pheno.amelie.txt\"\n",
    "GENE_TO_PHENO='hpo/pheno_2_gene.txt'\n",
    "p_hpo = Phrank(DAG, geneannotationsfile=GENE_TO_PHENO) # diseaseannotationsfile=DISEASE_TO_PHENO, diseasegenefile=DISEASE_TO_GENE"
   ]
  },
  {
   "cell_type": "markdown",
   "metadata": {},
   "source": [
    "### Get assoc genes upon providing a phenotype"
   ]
  },
  {
   "cell_type": "code",
   "execution_count": 136,
   "metadata": {},
   "outputs": [],
   "source": [
    "def get_assoc_genes(hpo_id, df_hpo, df_hpoa):\n",
    "    \"\"\"\n",
    "    Get genes that correspond to the provided phenotype (HPO)\n",
    "    \"\"\"\n",
    "    \n",
    "    output_genes = list(df_hpo[df_hpo['#Format: HPO-id']==hpo_id]['entrez-gene-symbol'].unique())\n",
    "    #l_diseases = list(df_hpo[df_hpo['#Format: HPO-id']==hpo_id]['disease-ID for link'].unique())\n",
    "    #output_diseases = list(df_hpoa[df_hpoa['Reference'].isin(l_diseases)]['DiseaseName'].unique())\n",
    "    #output_genes = list(df_hpo[df_hpo['Reference'].isin(l_diseases)]['entrez-gene-symbol'].unique())\n",
    "    # output_diseases, \n",
    "    #pd.DataFrame(output_genes,columns=['Gene'])\n",
    "    \n",
    "    return pd.DataFrame.from_dict({'Gene': output_genes, 'HPO' : [hpo_id for i in range(len(output_genes))]})\n",
    "\n",
    "#hpo_id = pheno_IARS[0] # hpo_list \n",
    "df_genes = pd.DataFrame()\n",
    "for hpo_id in pheno_IARS: # pheno_ACTG # pheno_IARS\n",
    "    df_genes2 = get_assoc_genes(hpo_id, df_hpo, df_hpoa)\n",
    "    df_genes = df_genes.append(df_genes2, ignore_index=True)"
   ]
  },
  {
   "cell_type": "markdown",
   "metadata": {},
   "source": [
    "### Defining patient genes and phenotypes"
   ]
  },
  {
   "cell_type": "code",
   "execution_count": 135,
   "metadata": {},
   "outputs": [],
   "source": [
    "pheno_IARS = pheno_ACTG[-10:]"
   ]
  },
  {
   "cell_type": "code",
   "execution_count": 139,
   "metadata": {},
   "outputs": [
    {
     "data": {
      "text/plain": [
       "True"
      ]
     },
     "execution_count": 139,
     "metadata": {},
     "output_type": "execute_result"
    }
   ],
   "source": [
    "'IARS1' in genes"
   ]
  },
  {
   "cell_type": "code",
   "execution_count": 138,
   "metadata": {},
   "outputs": [],
   "source": [
    "patient_phenotypes = pheno_IARS #  #  pheno_IARS\n",
    "genes = list(df_genes['Gene'].unique())\n",
    "patient_genes = set(genes) # genes"
   ]
  },
  {
   "cell_type": "code",
   "execution_count": 140,
   "metadata": {},
   "outputs": [
    {
     "name": "stdout",
     "output_type": "stream",
     "text": [
      "101 10\n"
     ]
    }
   ],
   "source": [
    "print(len(genes), len(patient_phenotypes)) #  pheno_ACTG"
   ]
  },
  {
   "cell_type": "markdown",
   "metadata": {},
   "source": [
    "### Rank genes"
   ]
  },
  {
   "cell_type": "code",
   "execution_count": 174,
   "metadata": {
    "scrolled": false
   },
   "outputs": [
    {
     "name": "stdout",
     "output_type": "stream",
     "text": [
      "\n",
      "Gene ranking\n"
     ]
    },
    {
     "data": {
      "text/html": [
       "<div>\n",
       "<style scoped>\n",
       "    .dataframe tbody tr th:only-of-type {\n",
       "        vertical-align: middle;\n",
       "    }\n",
       "\n",
       "    .dataframe tbody tr th {\n",
       "        vertical-align: top;\n",
       "    }\n",
       "\n",
       "    .dataframe thead th {\n",
       "        text-align: right;\n",
       "    }\n",
       "</style>\n",
       "<table border=\"1\" class=\"dataframe\">\n",
       "  <thead>\n",
       "    <tr style=\"text-align: right;\">\n",
       "      <th></th>\n",
       "      <th>Gene ID</th>\n",
       "      <th>Similarity Score</th>\n",
       "    </tr>\n",
       "  </thead>\n",
       "  <tbody>\n",
       "    <tr>\n",
       "      <th>0</th>\n",
       "      <td>TGFB1</td>\n",
       "      <td>34.329135</td>\n",
       "    </tr>\n",
       "    <tr>\n",
       "      <th>1</th>\n",
       "      <td>COL7A1</td>\n",
       "      <td>28.194166</td>\n",
       "    </tr>\n",
       "    <tr>\n",
       "      <th>2</th>\n",
       "      <td>ATP6V0A2</td>\n",
       "      <td>28.127676</td>\n",
       "    </tr>\n",
       "    <tr>\n",
       "      <th>3</th>\n",
       "      <td>FH</td>\n",
       "      <td>27.654747</td>\n",
       "    </tr>\n",
       "    <tr>\n",
       "      <th>4</th>\n",
       "      <td>MMP1</td>\n",
       "      <td>27.354597</td>\n",
       "    </tr>\n",
       "    <tr>\n",
       "      <th>...</th>\n",
       "      <td>...</td>\n",
       "      <td>...</td>\n",
       "    </tr>\n",
       "    <tr>\n",
       "      <th>4197</th>\n",
       "      <td>ADAMTS18</td>\n",
       "      <td>0.001610</td>\n",
       "    </tr>\n",
       "    <tr>\n",
       "      <th>4198</th>\n",
       "      <td>ADAM9</td>\n",
       "      <td>0.001610</td>\n",
       "    </tr>\n",
       "    <tr>\n",
       "      <th>4199</th>\n",
       "      <td>ADAM22</td>\n",
       "      <td>0.001610</td>\n",
       "    </tr>\n",
       "    <tr>\n",
       "      <th>4200</th>\n",
       "      <td>ACE</td>\n",
       "      <td>0.001610</td>\n",
       "    </tr>\n",
       "    <tr>\n",
       "      <th>4201</th>\n",
       "      <td>ABCA7</td>\n",
       "      <td>0.001610</td>\n",
       "    </tr>\n",
       "  </tbody>\n",
       "</table>\n",
       "<p>4202 rows × 2 columns</p>\n",
       "</div>"
      ],
      "text/plain": [
       "       Gene ID  Similarity Score\n",
       "0        TGFB1         34.329135\n",
       "1       COL7A1         28.194166\n",
       "2     ATP6V0A2         28.127676\n",
       "3           FH         27.654747\n",
       "4         MMP1         27.354597\n",
       "...        ...               ...\n",
       "4197  ADAMTS18          0.001610\n",
       "4198     ADAM9          0.001610\n",
       "4199    ADAM22          0.001610\n",
       "4200       ACE          0.001610\n",
       "4201     ABCA7          0.001610\n",
       "\n",
       "[4202 rows x 2 columns]"
      ]
     },
     "execution_count": 174,
     "metadata": {},
     "output_type": "execute_result"
    }
   ],
   "source": [
    "# sorting the genes by best match\n",
    "df_phrank = pd.DataFrame(columns=['Gene ID','Similarity Score'])\n",
    "\n",
    "gene_ranking = p_hpo.rank_genes(patient_genes, patient_phenotypes)\n",
    "\n",
    "print (\"\\nGene ranking\")\n",
    "for ix, gene_info in enumerate(gene_ranking):\n",
    "    #print (\"ensembl gene id: %s\\tsimilarity score: %.2f\"%(gene_info[1],gene_info[0]))\n",
    "    df_phrank.loc[ix] = [gene_info[1], gene_info[0]]\n",
    "df_phrank"
   ]
  },
  {
   "cell_type": "code",
   "execution_count": 143,
   "metadata": {},
   "outputs": [],
   "source": [
    "#df_phrank.head(20)"
   ]
  },
  {
   "cell_type": "markdown",
   "metadata": {},
   "source": [
    "## Evaluate How much better than Random"
   ]
  },
  {
   "cell_type": "code",
   "execution_count": 67,
   "metadata": {},
   "outputs": [
    {
     "data": {
      "text/plain": [
       "51"
      ]
     },
     "execution_count": 67,
     "metadata": {},
     "output_type": "execute_result"
    }
   ],
   "source": [
    "gene = 'COG7'\n",
    "\n",
    "col2hpo = columns_linked_to_hpo.column_to_hpo\n",
    "\n",
    "hpo_list = translateToHPO(pheno_ACTG, col2hpo)\n",
    "\n",
    "#[df_phrank['Gene ID']==gene]"
   ]
  },
  {
   "cell_type": "markdown",
   "metadata": {},
   "source": [
    "### Random permutations\n",
    "- Provide 100 random phenotypic set"
   ]
  },
  {
   "cell_type": "code",
   "execution_count": 173,
   "metadata": {},
   "outputs": [
    {
     "data": {
      "text/html": [
       "<div>\n",
       "<style scoped>\n",
       "    .dataframe tbody tr th:only-of-type {\n",
       "        vertical-align: middle;\n",
       "    }\n",
       "\n",
       "    .dataframe tbody tr th {\n",
       "        vertical-align: top;\n",
       "    }\n",
       "\n",
       "    .dataframe thead th {\n",
       "        text-align: right;\n",
       "    }\n",
       "</style>\n",
       "<table border=\"1\" class=\"dataframe\">\n",
       "  <thead>\n",
       "    <tr style=\"text-align: right;\">\n",
       "      <th></th>\n",
       "      <th>Gene ID</th>\n",
       "      <th>Similarity Score</th>\n",
       "    </tr>\n",
       "  </thead>\n",
       "  <tbody>\n",
       "    <tr>\n",
       "      <th>0</th>\n",
       "      <td>VPS13A</td>\n",
       "      <td>23.370278</td>\n",
       "    </tr>\n",
       "    <tr>\n",
       "      <th>1</th>\n",
       "      <td>NSMCE2</td>\n",
       "      <td>19.361794</td>\n",
       "    </tr>\n",
       "    <tr>\n",
       "      <th>2</th>\n",
       "      <td>TKFC</td>\n",
       "      <td>18.535729</td>\n",
       "    </tr>\n",
       "    <tr>\n",
       "      <th>3</th>\n",
       "      <td>TCF4</td>\n",
       "      <td>17.492435</td>\n",
       "    </tr>\n",
       "    <tr>\n",
       "      <th>4</th>\n",
       "      <td>SUCLG1</td>\n",
       "      <td>16.968603</td>\n",
       "    </tr>\n",
       "    <tr>\n",
       "      <th>5</th>\n",
       "      <td>SLC2A1</td>\n",
       "      <td>16.652866</td>\n",
       "    </tr>\n",
       "    <tr>\n",
       "      <th>6</th>\n",
       "      <td>GBA</td>\n",
       "      <td>16.563006</td>\n",
       "    </tr>\n",
       "    <tr>\n",
       "      <th>7</th>\n",
       "      <td>TP53</td>\n",
       "      <td>15.469064</td>\n",
       "    </tr>\n",
       "    <tr>\n",
       "      <th>8</th>\n",
       "      <td>TERT</td>\n",
       "      <td>15.469064</td>\n",
       "    </tr>\n",
       "    <tr>\n",
       "      <th>9</th>\n",
       "      <td>SDHD</td>\n",
       "      <td>15.469064</td>\n",
       "    </tr>\n",
       "  </tbody>\n",
       "</table>\n",
       "</div>"
      ],
      "text/plain": [
       "  Gene ID  Similarity Score\n",
       "0  VPS13A         23.370278\n",
       "1  NSMCE2         19.361794\n",
       "2    TKFC         18.535729\n",
       "3    TCF4         17.492435\n",
       "4  SUCLG1         16.968603\n",
       "5  SLC2A1         16.652866\n",
       "6     GBA         16.563006\n",
       "7    TP53         15.469064\n",
       "8    TERT         15.469064\n",
       "9    SDHD         15.469064"
      ]
     },
     "execution_count": 173,
     "metadata": {},
     "output_type": "execute_result"
    }
   ],
   "source": [
    "df_phrank.head(10)"
   ]
  },
  {
   "cell_type": "code",
   "execution_count": 166,
   "metadata": {},
   "outputs": [
    {
     "data": {
      "text/plain": [
       "4202"
      ]
     },
     "execution_count": 166,
     "metadata": {},
     "output_type": "execute_result"
    }
   ],
   "source": [
    "#hpo_list# = pheno_ACTG\n",
    "#patient_genes\n",
    "len(df_phrank)"
   ]
  },
  {
   "cell_type": "code",
   "execution_count": 159,
   "metadata": {},
   "outputs": [
    {
     "name": "stdout",
     "output_type": "stream",
     "text": [
      "Time elapsed on working...\n",
      "Iteration: 0\n",
      "Iteration: 5\n",
      "855\n",
      "Iteration: 10\n",
      "623\n",
      "Iteration: 15\n",
      "702\n",
      "Iteration: 20\n",
      "746\n",
      "Iteration: 25\n",
      "803\n",
      "Iteration: 30\n",
      "78\n",
      "Iteration: 35\n",
      "589\n",
      "Iteration: 40\n",
      "85\n",
      "Iteration: 45\n",
      "258\n",
      "Iteration: 50\n",
      "1070\n",
      "Iteration: 55\n",
      "65\n",
      "Iteration: 60\n",
      "320\n",
      "Iteration: 65\n",
      "104\n",
      "Iteration: 70\n",
      "866\n",
      "Iteration: 75\n",
      "528\n",
      "Iteration: 80\n",
      "184\n",
      "Iteration: 85\n",
      "620\n",
      "Iteration: 90\n",
      "354\n",
      "Iteration: 95\n",
      "99\n",
      "Time consumed in working:  4542.6522743701935\n"
     ]
    }
   ],
   "source": [
    "import random\n",
    "import time\n",
    "#imp.reload(func)\n",
    "\n",
    "start = time.time()\n",
    "print(\"Time elapsed on working...\")\n",
    "\n",
    "\n",
    "list_pos_genes = []\n",
    "\n",
    "gene = 'ACTB'\n",
    "\n",
    "SEED = 448\n",
    "random.seed(SEED)\n",
    "for i in range(100): \n",
    "    \n",
    "    \n",
    "    random_hpo_list = random.sample(pheno_ACTG, 10)\n",
    "    #print(i, random_hpo_list)\n",
    "    #continue \n",
    "    #hpo_id = pheno_IARS[0]\n",
    "    df_genes = pd.DataFrame()\n",
    "    #print(hpo_list)\n",
    "    for hpo_id in hpo_list: # pheno_ACTG # pheno_IARS\n",
    "        df_genes2 = get_assoc_genes(hpo_id, df_hpo, df_hpoa)\n",
    "        df_genes = df_genes.append(df_genes2, ignore_index=True)\n",
    "\n",
    "    ## Define all Input Parameters\n",
    "    #patient_phenotypes = hpo_list #  #  pheno_IARS\n",
    "    genes = list(df_genes['Gene'].unique())\n",
    "    patient_genes = set(genes) # genes\n",
    "\n",
    "    df_phrank = pd.DataFrame(columns=['Gene ID','Similarity Score'])\n",
    "\n",
    "    gene_ranking = p_hpo.rank_genes(patient_genes, random_hpo_list)\n",
    "    \n",
    "    if i % 5 == 0:\n",
    "        print('Iteration:', i)\n",
    "        if list_pos_genes != []:\n",
    "            print(list_pos_genes[-1])\n",
    "    #print (\"\\nGene ranking\")\n",
    "    for ix, gene_info in enumerate(gene_ranking):\n",
    "        #print (\"ensembl gene id: %s\\tsimilarity score: %.2f\"%(gene_info[1],gene_info[0]))\n",
    "        df_phrank.loc[ix] = [gene_info[1], gene_info[0]]\n",
    "        \n",
    "    try :\n",
    "        position_gene = df_phrank.index[df_phrank['Gene ID'] == gene].values[0]\n",
    "        list_pos_genes.append(position_gene)\n",
    "    except:  # not found in list -> then be gracious -> put it on the end of the list. (could be even lower)\n",
    "        list_pos_genes.append(len(df_phrank))\n",
    "    #df_phrank.head()\n",
    "end = time.time()\n",
    "print(\"Time consumed in working: \",end - start)"
   ]
  },
  {
   "cell_type": "code",
   "execution_count": 167,
   "metadata": {},
   "outputs": [
    {
     "name": "stdout",
     "output_type": "stream",
     "text": [
      "11\n"
     ]
    }
   ],
   "source": [
    "thresh=100\n",
    "l_within = [i <= thresh-1 for i in list_pos_genes]\n",
    "print(l_within.count(True))"
   ]
  },
  {
   "cell_type": "code",
   "execution_count": 163,
   "metadata": {},
   "outputs": [
    {
     "data": {
      "text/plain": [
       "(1628, 13, 550.31)"
      ]
     },
     "execution_count": 163,
     "metadata": {},
     "output_type": "execute_result"
    }
   ],
   "source": [
    "import numpy as np\n",
    "max(list_pos_genes), min(list_pos_genes), np.mean(list_pos_genes)"
   ]
  },
  {
   "cell_type": "code",
   "execution_count": 171,
   "metadata": {},
   "outputs": [
    {
     "data": {
      "text/plain": [
       "'745,820,1270,142,855,294,657,197,1434,623,214,185,1099,611,702,701,537,740,95,746,1006,992,674,969,803,408,64,258,520,78,846,130,462,419,589,1628,184,156,51,85,556,115,439,116,258,158,97,1209,714,1070,416,557,418,321,65,264,274,256,1502,320,167,525,595,958,104,303,318,347,839,866,321,1133,42,883,528,538,795,718,468,184,478,1062,654,903,620,1332,241,269,85,354,327,1043,916,646,99,1234,903,13,368,738'"
      ]
     },
     "execution_count": 171,
     "metadata": {},
     "output_type": "execute_result"
    }
   ],
   "source": [
    "','.join([str(i) for i in list_pos_genes])"
   ]
  },
  {
   "cell_type": "code",
   "execution_count": 21,
   "metadata": {},
   "outputs": [
    {
     "data": {
      "text/plain": [
       "Text(0.5, 0, 'Position ACTB in Phrank list')"
      ]
     },
     "execution_count": 21,
     "metadata": {},
     "output_type": "execute_result"
    },
    {
     "data": {
      "image/png": "[encoded data removed]",
      "text/plain": [
       "<Figure size 432x288 with 1 Axes>"
      ]
     },
     "metadata": {
      "needs_background": "light"
     },
     "output_type": "display_data"
    }
   ],
   "source": [
    "import seaborn as sns\n",
    "\n",
    "\n",
    "ax = sns.boxplot(x=l_ACTB)\n",
    "ax.tick_params(labelsize=12)\n",
    "ax.set_xlabel(\"Position ACTB in Phrank list\",fontsize=15)"
   ]
  },
  {
   "cell_type": "code",
   "execution_count": null,
   "metadata": {},
   "outputs": [],
   "source": [
    "l_ACTB = [200,42,15,32,8,124,43,21,7,10,278,385,44,57,35,235,50,211,6,161,146,42,22,75,8,11,26,74,8,15,3,70,102,195,59,17,58,42,18,43,55,81,162,30,90,77,17,61,7,151,8,16,244,3,0,9,191,114,24,2,27,41,27,145,163,38,3,15,134,0,74,61,68,0,74,75,0,115,117,262,80,1,94,213,0,279,2,343,2,16,4,20,0,18,17,55,40,179,13,33]"
   ]
  },
  {
   "cell_type": "code",
   "execution_count": 11,
   "metadata": {},
   "outputs": [],
   "source": [
    "l_ACTG1 = [79,3,43,21,42,213,5,0,31,15,99,16,211,10,6,0,9,1,96,51,23,61,120,3,76,1,8,3,96,1,5,14,1,6,57,11,54,43,22,163,4,4,38,28,73,37,2,2,4,43,52,15,14,41,24,28,15,2,2,66,373,64,144,112,4,44,2,1,0,3,268,32,2,6,6,12,4,15,2,8,33,9,1,7,0,12,15,2,10,29,2,6,23,8,78,0,53,13,2,10]\n",
    "l_ACTB = [200,42,15,32,8,124,43,21,7,10,278,385,44,57,35,235,50,211,6,161,146,42,22,75,8,11,26,74,8,15,3,70,102,195,59,17,58,42,18,43,55,81,162,30,90,77,17,61,7,151,8,16,244,3,0,9,191,114,24,2,27,41,27,145,163,38,3,15,134,0,74,61,68,0,74,75,0,115,117,262,80,1,94,213,0,279,2,343,2,16,4,20,0,18,17,55,40,179,13,33]\n",
    "l_IARS = [745,820,1270,142,855,294,657,197,1434,623,214,185,1099,611,702,701,537,740,95,746,1006,992,674,969,803,408,64,258,520,78,846,130,462,419,589,1628,184,156,51,85,556,115,439,116,258,158,97,1209,714,1070,416,557,418,321,65,264,274,256,1502,320,167,525,595,958,104,303,318,347,839,866,321,1133,42,883,528,538,795,718,468,184,478,1062,654,903,620,1332,241,269,85,354,327,1043,916,646,99,1234,903,13,368,738]"
   ]
  },
  {
   "cell_type": "markdown",
   "metadata": {},
   "source": [
    "## Plot histogram ACTG1"
   ]
  },
  {
   "cell_type": "code",
   "execution_count": 105,
   "metadata": {},
   "outputs": [
    {
     "data": {
      "text/plain": [
       "(array([70., 16.,  6.,  3.,  1.,  2.,  0.,  1.,  0.,  1.]),\n",
       " array([  0. ,  37.3,  74.6, 111.9, 149.2, 186.5, 223.8, 261.1, 298.4,\n",
       "        335.7, 373. ]),\n",
       " <a list of 10 Patch objects>)"
      ]
     },
     "execution_count": 105,
     "metadata": {},
     "output_type": "execute_result"
    },
    {
     "data": {
      "image/png": "[encoded data removed]",
      "text/plain": [
       "<Figure size 432x288 with 1 Axes>"
      ]
     },
     "metadata": {
      "needs_background": "light"
     },
     "output_type": "display_data"
    }
   ],
   "source": [
    "import matplotlib.pyplot as plt\n",
    "n_bins = 10\n",
    "\n",
    "\n",
    "plt.hist(list_pos_genes, bins=n_bins)\n"
   ]
  },
  {
   "cell_type": "markdown",
   "metadata": {},
   "source": [
    "# Dataset #2 ACTG / ACTB"
   ]
  },
  {
   "cell_type": "code",
   "execution_count": 4,
   "metadata": {},
   "outputs": [],
   "source": [
    "non_null_columns = [col for col in df_actb.columns if (df_actb.loc[:, col]==1).any()]"
   ]
  },
  {
   "cell_type": "code",
   "execution_count": 7,
   "metadata": {},
   "outputs": [
    {
     "data": {
      "text/plain": [
       "(92, 97)"
      ]
     },
     "execution_count": 7,
     "metadata": {},
     "output_type": "execute_result"
    }
   ],
   "source": [
    "len(non_null_columns), len(df_actb.columns)"
   ]
  },
  {
   "cell_type": "code",
   "execution_count": 23,
   "metadata": {},
   "outputs": [
    {
     "data": {
      "text/html": [
       "<div>\n",
       "<style scoped>\n",
       "    .dataframe tbody tr th:only-of-type {\n",
       "        vertical-align: middle;\n",
       "    }\n",
       "\n",
       "    .dataframe tbody tr th {\n",
       "        vertical-align: top;\n",
       "    }\n",
       "\n",
       "    .dataframe thead th {\n",
       "        text-align: right;\n",
       "    }\n",
       "</style>\n",
       "<table border=\"1\" class=\"dataframe\">\n",
       "  <thead>\n",
       "    <tr style=\"text-align: right;\">\n",
       "      <th></th>\n",
       "      <th>Category</th>\n",
       "      <th>Id</th>\n",
       "      <th>Protein</th>\n",
       "      <th>High frequency hearing loss</th>\n",
       "      <th>Short stature</th>\n",
       "      <th>microcephaly</th>\n",
       "      <th>hearing loss</th>\n",
       "      <th>ID</th>\n",
       "      <th>Developmental delay (Global)</th>\n",
       "      <th>Motor Delay</th>\n",
       "      <th>...</th>\n",
       "      <th>Recurrent infections</th>\n",
       "      <th>Photosensitivity</th>\n",
       "      <th>Polyarthralgia</th>\n",
       "      <th>Hepatomegaly</th>\n",
       "      <th>Hypothyroidism</th>\n",
       "      <th>Leukocytose</th>\n",
       "      <th>Trombocytopenie</th>\n",
       "      <th>Asthma</th>\n",
       "      <th>Strabismus</th>\n",
       "      <th>Growth hormone deficiency</th>\n",
       "    </tr>\n",
       "  </thead>\n",
       "  <tbody>\n",
       "    <tr>\n",
       "      <th>0</th>\n",
       "      <td>Gain Of Function</td>\n",
       "      <td>61456</td>\n",
       "      <td>p.Arg196Cys</td>\n",
       "      <td>0</td>\n",
       "      <td>0</td>\n",
       "      <td>0</td>\n",
       "      <td>0</td>\n",
       "      <td>0</td>\n",
       "      <td>0</td>\n",
       "      <td>0</td>\n",
       "      <td>...</td>\n",
       "      <td>0</td>\n",
       "      <td>0.0</td>\n",
       "      <td>0.0</td>\n",
       "      <td>0.0</td>\n",
       "      <td>0</td>\n",
       "      <td>0</td>\n",
       "      <td>0</td>\n",
       "      <td>0</td>\n",
       "      <td>0</td>\n",
       "      <td>0</td>\n",
       "    </tr>\n",
       "    <tr>\n",
       "      <th>1</th>\n",
       "      <td>Gain Of Function</td>\n",
       "      <td>58248</td>\n",
       "      <td>p.Arg196His</td>\n",
       "      <td>0</td>\n",
       "      <td>0</td>\n",
       "      <td>0</td>\n",
       "      <td>0</td>\n",
       "      <td>1</td>\n",
       "      <td>1</td>\n",
       "      <td>0</td>\n",
       "      <td>...</td>\n",
       "      <td>0</td>\n",
       "      <td>0.0</td>\n",
       "      <td>0.0</td>\n",
       "      <td>0.0</td>\n",
       "      <td>0</td>\n",
       "      <td>0</td>\n",
       "      <td>0</td>\n",
       "      <td>0</td>\n",
       "      <td>0</td>\n",
       "      <td>0</td>\n",
       "    </tr>\n",
       "    <tr>\n",
       "      <th>2</th>\n",
       "      <td>Gain Of Function</td>\n",
       "      <td>59169</td>\n",
       "      <td>p.Arg196His</td>\n",
       "      <td>0</td>\n",
       "      <td>1</td>\n",
       "      <td>1</td>\n",
       "      <td>0</td>\n",
       "      <td>1</td>\n",
       "      <td>0</td>\n",
       "      <td>0</td>\n",
       "      <td>...</td>\n",
       "      <td>0</td>\n",
       "      <td>0.0</td>\n",
       "      <td>0.0</td>\n",
       "      <td>0.0</td>\n",
       "      <td>0</td>\n",
       "      <td>0</td>\n",
       "      <td>0</td>\n",
       "      <td>0</td>\n",
       "      <td>0</td>\n",
       "      <td>0</td>\n",
       "    </tr>\n",
       "    <tr>\n",
       "      <th>3</th>\n",
       "      <td>Gain Of Function</td>\n",
       "      <td>LR04-173</td>\n",
       "      <td>p.Arg196His</td>\n",
       "      <td>0</td>\n",
       "      <td>1</td>\n",
       "      <td>1</td>\n",
       "      <td>1</td>\n",
       "      <td>1</td>\n",
       "      <td>0</td>\n",
       "      <td>0</td>\n",
       "      <td>...</td>\n",
       "      <td>0</td>\n",
       "      <td>0.0</td>\n",
       "      <td>0.0</td>\n",
       "      <td>0.0</td>\n",
       "      <td>0</td>\n",
       "      <td>0</td>\n",
       "      <td>0</td>\n",
       "      <td>0</td>\n",
       "      <td>0</td>\n",
       "      <td>0</td>\n",
       "    </tr>\n",
       "    <tr>\n",
       "      <th>4</th>\n",
       "      <td>Gain Of Function</td>\n",
       "      <td>LR09-079</td>\n",
       "      <td>p.Arg196His</td>\n",
       "      <td>0</td>\n",
       "      <td>1</td>\n",
       "      <td>1</td>\n",
       "      <td>0</td>\n",
       "      <td>1</td>\n",
       "      <td>0</td>\n",
       "      <td>0</td>\n",
       "      <td>...</td>\n",
       "      <td>0</td>\n",
       "      <td>0.0</td>\n",
       "      <td>0.0</td>\n",
       "      <td>0.0</td>\n",
       "      <td>0</td>\n",
       "      <td>0</td>\n",
       "      <td>0</td>\n",
       "      <td>0</td>\n",
       "      <td>0</td>\n",
       "      <td>0</td>\n",
       "    </tr>\n",
       "  </tbody>\n",
       "</table>\n",
       "<p>5 rows × 96 columns</p>\n",
       "</div>"
      ],
      "text/plain": [
       "           Category        Id      Protein  High frequency hearing loss  \\\n",
       "0  Gain Of Function     61456  p.Arg196Cys                            0   \n",
       "1  Gain Of Function     58248  p.Arg196His                            0   \n",
       "2  Gain Of Function     59169  p.Arg196His                            0   \n",
       "3  Gain Of Function  LR04-173  p.Arg196His                            0   \n",
       "4  Gain Of Function  LR09-079  p.Arg196His                            0   \n",
       "\n",
       "   Short stature   microcephaly   hearing loss    ID  \\\n",
       "0              0              0              0     0   \n",
       "1              0              0              0     1   \n",
       "2              1              1              0     1   \n",
       "3              1              1              1     1   \n",
       "4              1              1              0     1   \n",
       "\n",
       "   Developmental delay (Global)   Motor Delay  ...  Recurrent infections  \\\n",
       "0                             0             0  ...                     0   \n",
       "1                             1             0  ...                     0   \n",
       "2                             0             0  ...                     0   \n",
       "3                             0             0  ...                     0   \n",
       "4                             0             0  ...                     0   \n",
       "\n",
       "   Photosensitivity  Polyarthralgia  Hepatomegaly  Hypothyroidism  \\\n",
       "0               0.0             0.0           0.0               0   \n",
       "1               0.0             0.0           0.0               0   \n",
       "2               0.0             0.0           0.0               0   \n",
       "3               0.0             0.0           0.0               0   \n",
       "4               0.0             0.0           0.0               0   \n",
       "\n",
       "   Leukocytose  Trombocytopenie  Asthma  Strabismus  Growth hormone deficiency  \n",
       "0            0                0       0           0                          0  \n",
       "1            0                0       0           0                          0  \n",
       "2            0                0       0           0                          0  \n",
       "3            0                0       0           0                          0  \n",
       "4            0                0       0           0                          0  \n",
       "\n",
       "[5 rows x 96 columns]"
      ]
     },
     "execution_count": 23,
     "metadata": {},
     "output_type": "execute_result"
    }
   ],
   "source": [
    "import pandas as pd\n",
    "df_actb = pd.read_csv(r'data/ACTB/ACTB_data.csv', sep=',', header=0)\n",
    "df_actg1 = pd.read_csv(r'data/ACTG1/ACTG1_data.csv', sep=',', header=0)\n",
    "df_nat6 = pd.read_csv(r'data/NAT6/NAT6_data.csv', sep=',', header=0)\n",
    "df_actb.head()"
   ]
  },
  {
   "cell_type": "code",
   "execution_count": 24,
   "metadata": {},
   "outputs": [],
   "source": [
    "df_actg1['Category'] = df_actg1['Category'] + ' (ACTG1)'\n",
    "df_actb['Category'] = df_actb['Category'] + ' (ACTB)'\n",
    "df_actb['Origin'] = 'ACTB'\n",
    "df_actg1['Origin'] = 'ACTG1'\n",
    "#df_nat6['Origin'] = 'NAT6'"
   ]
  },
  {
   "cell_type": "markdown",
   "metadata": {},
   "source": [
    "### Fix typo's and create new category names"
   ]
  },
  {
   "cell_type": "code",
   "execution_count": 25,
   "metadata": {},
   "outputs": [],
   "source": [
    "cols = list(df_actg1.loc[:, ~df_actg1.columns.isin(['Category', 'Id', 'Protein', 'Origin'])].columns)\n",
    "\n",
    "#df_all = df_actg1.copy() \n",
    "df_all = pd.concat([df_actg1, df_actb], ignore_index=True) # df_actg1.copy() \n",
    "df_all = pd.concat([df_all, df_nat6], ignore_index=True) # \n",
    "df_all = df_all.rename(columns={\"Retrognatia/micrognathia\" : \"Retrognathia/micrognathia\", \"Leukocytose\": \"Leukocytosis\", \"Trombocytopenie\": \"thrombocytopenia\", \"Other Psychiatric diagnosis (shizofrenia, depression, other, not autism, or ADHD/ADD)\" : \"Other Psychiatric diagnosis (schizophrenia, depression, other, not autism, or ADHD/ADD)\", \"Mid face hypoplasia\": \"Midface hypoplasia\"})\n",
    "df_all['Category'] = df_all['Category'].replace({'Other/Myosin binding (ACTG1)': 'Other (ACTG1)', 'Other/Fimbrin binding (ACTG1)': 'Other (ACTG1)', 'N-terminus (ACTG1)': 'Other (ACTG1)', 'N-terminus (ACTB)': 'Other (ACTB)'})\n",
    "\n",
    "df_pheno = df_all.copy()"
   ]
  },
  {
   "cell_type": "markdown",
   "metadata": {},
   "source": [
    "## 2.3 Translate headers\n",
    "In order to calculate the HRSS it is important to translate the headers to the corresponding HPO-codes!"
   ]
  },
  {
   "cell_type": "code",
   "execution_count": 26,
   "metadata": {},
   "outputs": [
    {
     "name": "stdout",
     "output_type": "stream",
     "text": [
      "persistent embryonic sructures False\n",
      "persistent embryonic sructures False\n",
      "persistent embryonic sructures False\n",
      "polyarthralgia False\n",
      "persistent embryonic sructures False\n",
      "persistent embryonic sructures False\n"
     ]
    }
   ],
   "source": [
    "import columns_linked_to_hpo\n",
    "def infer_HPO(row, column_to_hpo):\n",
    "    hpo_list = []\n",
    "    cols = list(row.index)\n",
    "    for i in cols:\n",
    "        val = row[i]\n",
    "        #print(val)\n",
    "        if val == 1:\n",
    "            col = i.lower().strip()\n",
    "            if (col in column_to_hpo.keys()) == False :\n",
    "                print(col, col in column_to_hpo.keys())\n",
    "            if col in column_to_hpo.keys():\n",
    "                if type(column_to_hpo[col]) == list:\n",
    "                    hpo_list.extend(column_to_hpo[col])\n",
    "                else :\n",
    "                    hpo_list.append(column_to_hpo[col])\n",
    "    return hpo_list\n",
    "\n",
    "hp_patients = list(df_all.apply(lambda x: infer_HPO(x, columns_linked_to_hpo.column_to_hpo) , axis= 1))"
   ]
  },
  {
   "cell_type": "markdown",
   "metadata": {},
   "source": [
    "### Save PhenoTable to file"
   ]
  },
  {
   "cell_type": "code",
   "execution_count": 69,
   "metadata": {},
   "outputs": [],
   "source": [
    "with open('data/deepdata/actg_patpheno.csv', 'w') as f:\n",
    "    cnt = 0\n",
    "    for pat in df_all['Id']:\n",
    "        f.write(str(pat) + ',' + ','.join(hp_patients[cnt]) + '\\n')\n",
    "        cnt +=1"
   ]
  },
  {
   "cell_type": "markdown",
   "metadata": {},
   "source": [
    "# Dataset #3 COG"
   ]
  },
  {
   "cell_type": "code",
   "execution_count": 37,
   "metadata": {},
   "outputs": [
    {
     "data": {
      "text/html": [
       "<div>\n",
       "<style scoped>\n",
       "    .dataframe tbody tr th:only-of-type {\n",
       "        vertical-align: middle;\n",
       "    }\n",
       "\n",
       "    .dataframe tbody tr th {\n",
       "        vertical-align: top;\n",
       "    }\n",
       "\n",
       "    .dataframe thead th {\n",
       "        text-align: right;\n",
       "    }\n",
       "</style>\n",
       "<table border=\"1\" class=\"dataframe\">\n",
       "  <thead>\n",
       "    <tr style=\"text-align: right;\">\n",
       "      <th></th>\n",
       "      <th>Index</th>\n",
       "      <th>Superclass</th>\n",
       "      <th>Clinical feature</th>\n",
       "      <th>HPO code</th>\n",
       "      <th>COG1</th>\n",
       "      <th>COG2</th>\n",
       "      <th>COG4</th>\n",
       "      <th>COG5</th>\n",
       "      <th>COG6</th>\n",
       "      <th>COG7</th>\n",
       "      <th>COG8</th>\n",
       "      <th>All</th>\n",
       "      <th>Ass. genes</th>\n",
       "      <th>Occ. ratio</th>\n",
       "      <th>Unnamed: 14</th>\n",
       "    </tr>\n",
       "  </thead>\n",
       "  <tbody>\n",
       "    <tr>\n",
       "      <th>0</th>\n",
       "      <td>1</td>\n",
       "      <td>1</td>\n",
       "      <td>Abnormality of blood or blood-forming tissues</td>\n",
       "      <td>HP:0001871</td>\n",
       "      <td>1</td>\n",
       "      <td>1</td>\n",
       "      <td>2</td>\n",
       "      <td>1</td>\n",
       "      <td>9</td>\n",
       "      <td>2</td>\n",
       "      <td>1</td>\n",
       "      <td>17</td>\n",
       "      <td>944</td>\n",
       "      <td>0.018</td>\n",
       "      <td>NaN</td>\n",
       "    </tr>\n",
       "    <tr>\n",
       "      <th>1</th>\n",
       "      <td>2</td>\n",
       "      <td>2</td>\n",
       "      <td>Abnormal bleeding</td>\n",
       "      <td>HP:0001892</td>\n",
       "      <td>0</td>\n",
       "      <td>0</td>\n",
       "      <td>0</td>\n",
       "      <td>0</td>\n",
       "      <td>4</td>\n",
       "      <td>1</td>\n",
       "      <td>1</td>\n",
       "      <td>6</td>\n",
       "      <td>340</td>\n",
       "      <td>0.018</td>\n",
       "      <td>NaN</td>\n",
       "    </tr>\n",
       "    <tr>\n",
       "      <th>2</th>\n",
       "      <td>3</td>\n",
       "      <td>3</td>\n",
       "      <td>Gingival bleeding</td>\n",
       "      <td>HP:0000225</td>\n",
       "      <td>0</td>\n",
       "      <td>0</td>\n",
       "      <td>0</td>\n",
       "      <td>0</td>\n",
       "      <td>1</td>\n",
       "      <td>0</td>\n",
       "      <td>0</td>\n",
       "      <td>1</td>\n",
       "      <td>27</td>\n",
       "      <td>0.037</td>\n",
       "      <td>NaN</td>\n",
       "    </tr>\n",
       "    <tr>\n",
       "      <th>3</th>\n",
       "      <td>4</td>\n",
       "      <td>3</td>\n",
       "      <td>Epistaxis</td>\n",
       "      <td>HP:0000421</td>\n",
       "      <td>0</td>\n",
       "      <td>0</td>\n",
       "      <td>0</td>\n",
       "      <td>0</td>\n",
       "      <td>1</td>\n",
       "      <td>0</td>\n",
       "      <td>0</td>\n",
       "      <td>1</td>\n",
       "      <td>60</td>\n",
       "      <td>0.017</td>\n",
       "      <td>NaN</td>\n",
       "    </tr>\n",
       "    <tr>\n",
       "      <th>4</th>\n",
       "      <td>5</td>\n",
       "      <td>4</td>\n",
       "      <td>Spontaneous, recurrent epistaxis</td>\n",
       "      <td>HP:0004406</td>\n",
       "      <td>0</td>\n",
       "      <td>0</td>\n",
       "      <td>0</td>\n",
       "      <td>0</td>\n",
       "      <td>1</td>\n",
       "      <td>0</td>\n",
       "      <td>0</td>\n",
       "      <td>1</td>\n",
       "      <td>4</td>\n",
       "      <td>0.250</td>\n",
       "      <td>NaN</td>\n",
       "    </tr>\n",
       "  </tbody>\n",
       "</table>\n",
       "</div>"
      ],
      "text/plain": [
       "   Index  Superclass                               Clinical feature  \\\n",
       "0      1           1  Abnormality of blood or blood-forming tissues   \n",
       "1      2           2                              Abnormal bleeding   \n",
       "2      3           3                              Gingival bleeding   \n",
       "3      4           3                                      Epistaxis   \n",
       "4      5           4               Spontaneous, recurrent epistaxis   \n",
       "\n",
       "     HPO code  COG1  COG2  COG4  COG5  COG6  COG7  COG8  All  Ass. genes  \\\n",
       "0  HP:0001871     1     1     2     1     9     2     1   17         944   \n",
       "1  HP:0001892     0     0     0     0     4     1     1    6         340   \n",
       "2  HP:0000225     0     0     0     0     1     0     0    1          27   \n",
       "3  HP:0000421     0     0     0     0     1     0     0    1          60   \n",
       "4  HP:0004406     0     0     0     0     1     0     0    1           4   \n",
       "\n",
       "   Occ. ratio  Unnamed: 14  \n",
       "0       0.018          NaN  \n",
       "1       0.018          NaN  \n",
       "2       0.037          NaN  \n",
       "3       0.017          NaN  \n",
       "4       0.250          NaN  "
      ]
     },
     "execution_count": 37,
     "metadata": {},
     "output_type": "execute_result"
    }
   ],
   "source": [
    "import pandas as pd\n",
    "df_cog_all = pd.read_csv(r'data/COG/COG.csv', sep=';', header=0)\n",
    "#df_nat6 = pd.read_csv(r'data/NAT6/NAT6_data.csv', sep=',', header=0)\n",
    "df_cog_all.head()"
   ]
  },
  {
   "cell_type": "markdown",
   "metadata": {},
   "source": [
    "### Option 1: all COGs"
   ]
  },
  {
   "cell_type": "code",
   "execution_count": 38,
   "metadata": {},
   "outputs": [],
   "source": [
    "hpo_list = df_cog_all.sort_values('Occ. ratio', ascending=False).head(10)['HPO code'].values"
   ]
  },
  {
   "cell_type": "markdown",
   "metadata": {},
   "source": [
    "### Option 2: Per COG subgroup"
   ]
  },
  {
   "cell_type": "code",
   "execution_count": 2,
   "metadata": {},
   "outputs": [],
   "source": [
    "import pandas as pd\n",
    "df_cog_split = pd.read_csv(r'data/COG/JMID_split_patients.csv', sep=';', header=0,index_col=0)\n",
    "df_cog_split = df_cog_split.apply(lambda x: x.str.replace(',','.'))"
   ]
  },
  {
   "cell_type": "code",
   "execution_count": null,
   "metadata": {},
   "outputs": [],
   "source": [
    "df_cog_split.sort_values('COG2', axis=1, ascending=False)"
   ]
  },
  {
   "cell_type": "code",
   "execution_count": 66,
   "metadata": {
    "scrolled": true
   },
   "outputs": [],
   "source": [
    "hpo_list = df_cog_split.sort_values('COG8', axis=1, ascending=False).columns[:10].values"
   ]
  },
  {
   "cell_type": "code",
   "execution_count": 7,
   "metadata": {},
   "outputs": [
    {
     "data": {
      "text/plain": [
       "HPOcode\n",
       "COG1    0.0000011\n",
       "COG2      0.00106\n",
       "COG4      0.00212\n",
       "COG5       0.0011\n",
       "COG6       0.0095\n",
       "COG7       0.0021\n",
       "COG8       0.0011\n",
       "Name: HP:0001871, dtype: object"
      ]
     },
     "execution_count": 7,
     "metadata": {},
     "output_type": "execute_result"
    }
   ],
   "source": [
    "df_cog_split['HP:0001871']"
   ]
  },
  {
   "cell_type": "code",
   "execution_count": 28,
   "metadata": {},
   "outputs": [
    {
     "data": {
      "text/html": [
       "<div>\n",
       "<style scoped>\n",
       "    .dataframe tbody tr th:only-of-type {\n",
       "        vertical-align: middle;\n",
       "    }\n",
       "\n",
       "    .dataframe tbody tr th {\n",
       "        vertical-align: top;\n",
       "    }\n",
       "\n",
       "    .dataframe thead th {\n",
       "        text-align: right;\n",
       "    }\n",
       "</style>\n",
       "<table border=\"1\" class=\"dataframe\">\n",
       "  <thead>\n",
       "    <tr style=\"text-align: right;\">\n",
       "      <th></th>\n",
       "      <th>Id</th>\n",
       "      <th>0</th>\n",
       "      <th>1</th>\n",
       "      <th>2</th>\n",
       "      <th>3</th>\n",
       "      <th>4</th>\n",
       "      <th>5</th>\n",
       "      <th>6</th>\n",
       "      <th>7</th>\n",
       "      <th>8</th>\n",
       "    </tr>\n",
       "  </thead>\n",
       "  <tbody>\n",
       "    <tr>\n",
       "      <th>0</th>\n",
       "      <td>0</td>\n",
       "      <td>0.422868</td>\n",
       "      <td>0.155740</td>\n",
       "      <td>0.250735</td>\n",
       "      <td>0.103815</td>\n",
       "      <td>0.103815</td>\n",
       "      <td>0.096273</td>\n",
       "      <td>0.090208</td>\n",
       "      <td>0.131889</td>\n",
       "      <td>0.111612</td>\n",
       "    </tr>\n",
       "    <tr>\n",
       "      <th>1</th>\n",
       "      <td>1</td>\n",
       "      <td>0.155740</td>\n",
       "      <td>0.386267</td>\n",
       "      <td>0.231097</td>\n",
       "      <td>0.108952</td>\n",
       "      <td>0.108952</td>\n",
       "      <td>0.102197</td>\n",
       "      <td>0.095203</td>\n",
       "      <td>0.136614</td>\n",
       "      <td>0.133293</td>\n",
       "    </tr>\n",
       "    <tr>\n",
       "      <th>2</th>\n",
       "      <td>2</td>\n",
       "      <td>0.250735</td>\n",
       "      <td>0.231097</td>\n",
       "      <td>0.431094</td>\n",
       "      <td>0.088773</td>\n",
       "      <td>0.088773</td>\n",
       "      <td>0.082023</td>\n",
       "      <td>0.075700</td>\n",
       "      <td>0.151009</td>\n",
       "      <td>0.185922</td>\n",
       "    </tr>\n",
       "    <tr>\n",
       "      <th>3</th>\n",
       "      <td>3</td>\n",
       "      <td>0.103815</td>\n",
       "      <td>0.108952</td>\n",
       "      <td>0.088773</td>\n",
       "      <td>0.254624</td>\n",
       "      <td>0.254624</td>\n",
       "      <td>0.214028</td>\n",
       "      <td>0.201439</td>\n",
       "      <td>0.075983</td>\n",
       "      <td>0.064385</td>\n",
       "    </tr>\n",
       "    <tr>\n",
       "      <th>4</th>\n",
       "      <td>4</td>\n",
       "      <td>0.103815</td>\n",
       "      <td>0.108952</td>\n",
       "      <td>0.088773</td>\n",
       "      <td>0.254624</td>\n",
       "      <td>0.254624</td>\n",
       "      <td>0.214028</td>\n",
       "      <td>0.201439</td>\n",
       "      <td>0.075983</td>\n",
       "      <td>0.064385</td>\n",
       "    </tr>\n",
       "    <tr>\n",
       "      <th>5</th>\n",
       "      <td>5</td>\n",
       "      <td>0.096273</td>\n",
       "      <td>0.102197</td>\n",
       "      <td>0.082023</td>\n",
       "      <td>0.214028</td>\n",
       "      <td>0.214028</td>\n",
       "      <td>0.230756</td>\n",
       "      <td>0.222643</td>\n",
       "      <td>0.064439</td>\n",
       "      <td>0.053277</td>\n",
       "    </tr>\n",
       "    <tr>\n",
       "      <th>6</th>\n",
       "      <td>6</td>\n",
       "      <td>0.090208</td>\n",
       "      <td>0.095203</td>\n",
       "      <td>0.075700</td>\n",
       "      <td>0.201439</td>\n",
       "      <td>0.201439</td>\n",
       "      <td>0.222643</td>\n",
       "      <td>0.235013</td>\n",
       "      <td>0.060575</td>\n",
       "      <td>0.047861</td>\n",
       "    </tr>\n",
       "    <tr>\n",
       "      <th>7</th>\n",
       "      <td>7</td>\n",
       "      <td>0.131889</td>\n",
       "      <td>0.136614</td>\n",
       "      <td>0.151009</td>\n",
       "      <td>0.075983</td>\n",
       "      <td>0.075983</td>\n",
       "      <td>0.064439</td>\n",
       "      <td>0.060575</td>\n",
       "      <td>0.411942</td>\n",
       "      <td>0.116681</td>\n",
       "    </tr>\n",
       "    <tr>\n",
       "      <th>8</th>\n",
       "      <td>8</td>\n",
       "      <td>0.111612</td>\n",
       "      <td>0.133293</td>\n",
       "      <td>0.185922</td>\n",
       "      <td>0.064385</td>\n",
       "      <td>0.064385</td>\n",
       "      <td>0.053277</td>\n",
       "      <td>0.047861</td>\n",
       "      <td>0.116681</td>\n",
       "      <td>0.461902</td>\n",
       "    </tr>\n",
       "  </tbody>\n",
       "</table>\n",
       "</div>"
      ],
      "text/plain": [
       "   Id         0         1         2         3         4         5         6  \\\n",
       "0   0  0.422868  0.155740  0.250735  0.103815  0.103815  0.096273  0.090208   \n",
       "1   1  0.155740  0.386267  0.231097  0.108952  0.108952  0.102197  0.095203   \n",
       "2   2  0.250735  0.231097  0.431094  0.088773  0.088773  0.082023  0.075700   \n",
       "3   3  0.103815  0.108952  0.088773  0.254624  0.254624  0.214028  0.201439   \n",
       "4   4  0.103815  0.108952  0.088773  0.254624  0.254624  0.214028  0.201439   \n",
       "5   5  0.096273  0.102197  0.082023  0.214028  0.214028  0.230756  0.222643   \n",
       "6   6  0.090208  0.095203  0.075700  0.201439  0.201439  0.222643  0.235013   \n",
       "7   7  0.131889  0.136614  0.151009  0.075983  0.075983  0.064439  0.060575   \n",
       "8   8  0.111612  0.133293  0.185922  0.064385  0.064385  0.053277  0.047861   \n",
       "\n",
       "          7         8  \n",
       "0  0.131889  0.111612  \n",
       "1  0.136614  0.133293  \n",
       "2  0.151009  0.185922  \n",
       "3  0.075983  0.064385  \n",
       "4  0.075983  0.064385  \n",
       "5  0.064439  0.053277  \n",
       "6  0.060575  0.047861  \n",
       "7  0.411942  0.116681  \n",
       "8  0.116681  0.461902  "
      ]
     },
     "execution_count": 28,
     "metadata": {},
     "output_type": "execute_result"
    }
   ],
   "source": [
    "df_hrss = df_hrss.rename_axis('Id').reset_index()"
   ]
  }
 ],
 "metadata": {
  "kernelspec": {
   "display_name": "my_env",
   "language": "python",
   "name": "my_env"
  },
  "language_info": {
   "codemirror_mode": {
    "name": "ipython",
    "version": 3
   },
   "file_extension": ".py",
   "mimetype": "text/x-python",
   "name": "python",
   "nbconvert_exporter": "python",
   "pygments_lexer": "ipython3",
   "version": "3.6.10"
  }
 },
 "nbformat": 4,
 "nbformat_minor": 4
}
